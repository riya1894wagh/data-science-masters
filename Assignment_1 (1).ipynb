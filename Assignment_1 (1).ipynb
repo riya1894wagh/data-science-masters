{
 "cells": [
  {
   "attachments": {},
   "cell_type": "markdown",
   "id": "ebcb0307",
   "metadata": {},
   "source": [
    "#### Data Science Master's \n",
    "##### Assignment-1\n",
    "###### 29th january 2023\n"
   ]
  },
  {
   "attachments": {},
   "cell_type": "markdown",
   "id": "89d5f558",
   "metadata": {},
   "source": [
    "### 1. Who developed the python programming language?\n",
    " Ans: Guido Van Rossum developed python programming language.\n"
   ]
  },
  {
   "attachments": {},
   "cell_type": "markdown",
   "id": "8eb45c13",
   "metadata": {},
   "source": [
    "### 2. Which type of programming does python support?\n",
    "Ans: python supports object oriented programming and structured programming.\n"
   ]
  },
  {
   "attachments": {},
   "cell_type": "markdown",
   "id": "9bd08faa",
   "metadata": {},
   "source": [
    "### 3. Is python case sensitive when dealing with identifiers?\n",
    "\n",
    "Ans: Yes python is case sensitive when dealing with identifiers.\n"
   ]
  },
  {
   "attachments": {},
   "cell_type": "markdown",
   "id": "b4b2802d",
   "metadata": {},
   "source": [
    "### 4. What is the correct extension of the python file?\n",
    "\n",
    "Ans:  .py is the correct extension of the python file.\n"
   ]
  },
  {
   "attachments": {},
   "cell_type": "markdown",
   "id": "c32fa01d",
   "metadata": {},
   "source": [
    "### 5. Is python code compiled or interpreted?\n",
    "\n",
    "Ans: Yes python code compiled or interpreted.\n"
   ]
  },
  {
   "attachments": {},
   "cell_type": "markdown",
   "id": "fb4b3912",
   "metadata": {},
   "source": [
    "### 6. Name a few blocks of code used to define in the python language?\n",
    "\n",
    "Ans: \n"
   ]
  },
  {
   "cell_type": "code",
   "execution_count": 5,
   "id": "7f390071",
   "metadata": {},
   "outputs": [
    {
     "name": "stdout",
     "output_type": "stream",
     "text": [
      "*  \n",
      "\n",
      "*  *  \n",
      "\n",
      "*  *  *  \n",
      "\n",
      "*  *  *  *  \n",
      "\n",
      "*  *  *  *  *  \n",
      "\n",
      "*  *  *  *  *  *  \n",
      "\n",
      "*  *  *  *  *  *  *  \n",
      "\n",
      "*  *  *  *  *  *  *  *  \n",
      "\n",
      "*  *  *  *  *  *  *  *  *  \n",
      "\n",
      "*  *  *  *  *  *  *  *  *  *  \n",
      "\n"
     ]
    }
   ],
   "source": [
    "n=10\n",
    "\n",
    "for i in range(0,n):\n",
    "    for j in range(0,i+1):\n",
    "        print(\"*\",end=\"  \")\n",
    "    print(\"\\n\")"
   ]
  },
  {
   "attachments": {},
   "cell_type": "markdown",
   "id": "ecc759d7",
   "metadata": {},
   "source": [
    "### 7.State a character used to give single line comments in python?\n",
    "\n",
    "Ans: In python, the # character is used to start a comment.\n"
   ]
  },
  {
   "attachments": {},
   "cell_type": "markdown",
   "id": "e83332d3",
   "metadata": {},
   "source": [
    "### 8. Mention function which can help us to find the version of python that we are currently working on?\n",
    "\n",
    "Ans: The function sys.version can help us to find the version of python that we are currently working on.\n",
    "\n"
   ]
  },
  {
   "attachments": {},
   "cell_type": "markdown",
   "id": "52c44768",
   "metadata": {},
   "source": [
    "### 9. Python support the creation of anonymous function at runtime, using a construct called _______\n",
    "\n",
    "Ans:  Python supports the creation of anonymous functions at runtime, using a construct called “Lambda”.\n",
    "\n"
   ]
  },
  {
   "attachments": {},
   "cell_type": "markdown",
   "id": "016f22bd",
   "metadata": {},
   "source": [
    "### 10. What does pip stand for python?\n",
    "\n",
    "Ans: pip stands for “Preferred installer program” .\n"
   ]
  },
  {
   "attachments": {},
   "cell_type": "markdown",
   "id": "593e2f6f",
   "metadata": {},
   "source": [
    "### 11. Mention a few built-in functions in python?\n",
    "\n",
    "Ans:  \n",
    "print() function\n",
    "\n",
    "type() function\n",
    "\n",
    "input() function\n",
    "\n",
    "abs() function\n",
    "\n",
    "pow() function\n",
    "\n",
    "dir() function\n",
    "\n",
    "sorted() function\n",
    "\n",
    "max() function\n",
    "\n",
    "round() function \n",
    "\n",
    "divmod() function \n",
    "\n",
    "id() function\n",
    "\n",
    "ord() function \n",
    "\n",
    "len() function\n",
    "\n",
    "sum() function\n",
    "\n",
    "help() function\n",
    "\n"
   ]
  },
  {
   "attachments": {},
   "cell_type": "markdown",
   "id": "3e909276",
   "metadata": {},
   "source": [
    "### 12. What is the maximum possible length of an identifier in python?\n",
    "\n",
    "Ans: An identifier can have a maximum length of 79 characters in python.\n",
    "\n"
   ]
  },
  {
   "attachments": {},
   "cell_type": "markdown",
   "id": "4438902b",
   "metadata": {},
   "source": [
    "### 13. What are the benefits of using python?\n",
    "\n",
    "Ans: \n",
    "\n",
    "Simple to use and understand\n",
    "\n",
    "Free and open source\n",
    "\n",
    "Productivity has increased\n",
    "\n",
    "Interpreted language\n",
    "\n",
    "Extensive library\n",
    "\n",
    "Dynamically typed\n",
    "\n",
    "Portability\n",
    "\n",
    "Supportive community\n",
    "\n"
   ]
  },
  {
   "attachments": {},
   "cell_type": "markdown",
   "id": "406a57f3",
   "metadata": {},
   "source": [
    "### 14. How is memory managed in python?\n",
    "\n",
    "Ans: memory in python is managed by python private heap space. All python objects and data structures are located in a private heap. The private heap is taken care of by the python interpreter itself, and a programmer doesn’t have access to this private heap.\n",
    "\n"
   ]
  },
  {
   "attachments": {},
   "cell_type": "markdown",
   "id": "d394498b",
   "metadata": {},
   "source": [
    "### 15. How to install python on windows and set path variables? \n",
    "\n",
    "Ans:  Install python from the link https://www.python.org/downloads/ . After this, install it on your PC. Look for the location where PYTHON has been installed on your PC using the following command on your command prompt: cmd python.\n",
    "Then as PYTHON_NAME and paste the copied path.\n",
    "Then look for the path variable, select its value and select edit add a semicolon towards the end of the value if it’s not present and type %PYTHON_HOME%.\n"
   ]
  }
 ],
 "metadata": {
  "kernelspec": {
   "display_name": "Python 3",
   "language": "python",
   "name": "python3"
  },
  "language_info": {
   "codemirror_mode": {
    "name": "ipython",
    "version": 3
   },
   "file_extension": ".py",
   "mimetype": "text/x-python",
   "name": "python",
   "nbconvert_exporter": "python",
   "pygments_lexer": "ipython3",
   "version": "3.10.4"
  },
  "vscode": {
   "interpreter": {
    "hash": "3ad933181bd8a04b432d3370b9dc3b0662ad032c4dfaa4e4f1596c548f763858"
   }
  }
 },
 "nbformat": 4,
 "nbformat_minor": 5
}
