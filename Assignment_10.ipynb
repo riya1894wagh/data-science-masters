{
 "cells": [
  {
   "cell_type": "markdown",
   "id": "ddc3bbf3-4248-42ef-aa17-5cf8e95c6734",
   "metadata": {},
   "source": [
    "#### Data Science Master's \n",
    "##### Assignment-10\n",
    "###### 10th feb 2023\n",
    "\n"
   ]
  },
  {
   "cell_type": "markdown",
   "id": "a931e428-fcae-406d-80ec-1164436ad159",
   "metadata": {},
   "source": [
    "### Q1. Which function is used to open a file? What are the different modes of opening a file? Explain each mode  of file opening. \n",
    "\n",
    "**Ans** : \n",
    "\n",
    "In Python we use open() method to open file."
   ]
  },
  {
   "cell_type": "code",
   "execution_count": 151,
   "id": "e365dd99-3bbf-4b60-a0b3-a28aeb33cc6c",
   "metadata": {},
   "outputs": [],
   "source": [
    "file1 = open(\"text.txt\")\n"
   ]
  },
  {
   "cell_type": "markdown",
   "id": "1537bdb5-0264-4175-ac6f-19b56bcb90d9",
   "metadata": {},
   "source": [
    "By default, the files are open in read mode (cannot be modified). The code above is equivalent to"
   ]
  },
  {
   "cell_type": "code",
   "execution_count": 152,
   "id": "0e824e43-e95d-4656-83f9-a6cbd549b4de",
   "metadata": {},
   "outputs": [],
   "source": [
    "file1 = open(\"text.txt\", \"r\")\n"
   ]
  },
  {
   "cell_type": "markdown",
   "id": "69abcc50-31b9-4021-8a32-fd30bb4e15bd",
   "metadata": {},
   "source": [
    "Here, we have explicitly specified the mode by passing the \"r\" argument which means file is opened for reading."
   ]
  },
  {
   "cell_type": "markdown",
   "id": "504b4bc3-6eef-4e21-8534-aa09b1fce157",
   "metadata": {},
   "source": [
    "#### different Modes of opening a file\n",
    "\n",
    "\n",
    "\n",
    "(**r**) **read**\tOpen a file for reading. (default)\n",
    "\n",
    "(**w**)\t**wtite** Open a file for writing. Creates a new file if it does not exist or truncates the file if it exists.\n",
    "\n",
    "(**x**)\tOpen a file for exclusive creation. If the file already exists, the operation fails.\n",
    "\n",
    "(**a**) **append**\tOpen a file for appending at the end of the file without truncating it. Creates a new file if it does not exist.\n",
    "\n",
    "(**t**)\t**create** Open in text mode. (default)\n",
    "\n",
    "(**b**)\tOpen in binary mode.\n",
    "\n",
    "(**+**)\tOpen a file for updating (reading and writing)"
   ]
  },
  {
   "cell_type": "markdown",
   "id": "75b5e489-ef36-4e75-9412-f7335103ea30",
   "metadata": {},
   "source": [
    "You can return one line by using the readline() method:"
   ]
  },
  {
   "cell_type": "code",
   "execution_count": 153,
   "id": "3e58b49d-96e3-47a3-98aa-1af60a06ec7c",
   "metadata": {},
   "outputs": [],
   "source": [
    "f = open(\"text.txt\",\"r\")"
   ]
  },
  {
   "cell_type": "code",
   "execution_count": 154,
   "id": "fa4a0e64-6fa9-4966-9638-83895ede41ee",
   "metadata": {},
   "outputs": [
    {
     "name": "stdout",
     "output_type": "stream",
     "text": [
      "pwskills\n"
     ]
    }
   ],
   "source": [
    "print(f.readline())"
   ]
  },
  {
   "cell_type": "code",
   "execution_count": 155,
   "id": "67478ba7-a965-4e54-9d2e-b4dc5de06f97",
   "metadata": {},
   "outputs": [
    {
     "data": {
      "text/plain": [
       "''"
      ]
     },
     "execution_count": 155,
     "metadata": {},
     "output_type": "execute_result"
    }
   ],
   "source": [
    "f.read()"
   ]
  },
  {
   "cell_type": "code",
   "execution_count": 156,
   "id": "ed81e379-efef-4b61-a5a4-37e5cd5d92bc",
   "metadata": {},
   "outputs": [
    {
     "data": {
      "text/plain": [
       "0"
      ]
     },
     "execution_count": 156,
     "metadata": {},
     "output_type": "execute_result"
    }
   ],
   "source": [
    "f.seek(0)"
   ]
  },
  {
   "cell_type": "code",
   "execution_count": 157,
   "id": "df7a9e48-7a90-48e2-998b-9afa156d4d6b",
   "metadata": {},
   "outputs": [
    {
     "data": {
      "text/plain": [
       "'pwskills'"
      ]
     },
     "execution_count": 157,
     "metadata": {},
     "output_type": "execute_result"
    }
   ],
   "source": [
    "f.read()"
   ]
  },
  {
   "cell_type": "code",
   "execution_count": 158,
   "id": "e32f50e3-e153-4684-9803-4438b079ea7f",
   "metadata": {},
   "outputs": [],
   "source": [
    "f = open(\"text.txt\",\"w\")"
   ]
  },
  {
   "cell_type": "code",
   "execution_count": 159,
   "id": "bd22f1c8-047b-47dc-943e-2401e3264ae0",
   "metadata": {},
   "outputs": [
    {
     "data": {
      "text/plain": [
       "29"
      ]
     },
     "execution_count": 159,
     "metadata": {},
     "output_type": "execute_result"
    }
   ],
   "source": [
    "f.write(\"hello this is my second line.\")"
   ]
  },
  {
   "cell_type": "code",
   "execution_count": 160,
   "id": "fa237f46-8602-457b-bb5f-bc19685d1954",
   "metadata": {},
   "outputs": [],
   "source": [
    "f = open(\"text.txt\",\"r\")"
   ]
  },
  {
   "cell_type": "code",
   "execution_count": 161,
   "id": "8a03516e-5da4-47c4-898d-04fcf835da59",
   "metadata": {},
   "outputs": [
    {
     "data": {
      "text/plain": [
       "'hello this is my second line.'"
      ]
     },
     "execution_count": 161,
     "metadata": {},
     "output_type": "execute_result"
    }
   ],
   "source": [
    "f.read()"
   ]
  },
  {
   "cell_type": "code",
   "execution_count": 162,
   "id": "011ad727-4319-4683-a4d5-8e531f10748b",
   "metadata": {},
   "outputs": [],
   "source": [
    "f.close()"
   ]
  },
  {
   "cell_type": "code",
   "execution_count": 163,
   "id": "56e71e2c-d9fa-4e8e-9e40-eb7d219fa6ba",
   "metadata": {},
   "outputs": [],
   "source": [
    "f = open(\"text.txt\",\"r\")"
   ]
  },
  {
   "cell_type": "code",
   "execution_count": 164,
   "id": "a77c875d-7962-4db1-b9e8-1a7c6bd90d75",
   "metadata": {},
   "outputs": [
    {
     "data": {
      "text/plain": [
       "0"
      ]
     },
     "execution_count": 164,
     "metadata": {},
     "output_type": "execute_result"
    }
   ],
   "source": [
    "f.seek(0)"
   ]
  },
  {
   "cell_type": "code",
   "execution_count": 165,
   "id": "c8fdf26c-3620-4b00-9995-ce1154ddaa50",
   "metadata": {},
   "outputs": [
    {
     "data": {
      "text/plain": [
       "'hello this is my second line.'"
      ]
     },
     "execution_count": 165,
     "metadata": {},
     "output_type": "execute_result"
    }
   ],
   "source": [
    "f.read()"
   ]
  },
  {
   "cell_type": "markdown",
   "id": "316fb08c-b0e1-4a46-b879-130cf391ff3f",
   "metadata": {},
   "source": [
    "### Q2. Why close() function is used? Why is it important to close a file? \n",
    "\n",
    "Ans:\n",
    "\n",
    "The close() method closes an open file.\n",
    "\n",
    "**Syntax**\n",
    "\n",
    "file.close()\n",
    "\n",
    "**Parameter Values**\n",
    "\n",
    "No parameters\n",
    "\n",
    "**Return Value**\n",
    "\n",
    "This method does not return any value.\n"
   ]
  },
  {
   "cell_type": "markdown",
   "id": "4b91cc5c-0fae-4a2e-be00-d832583f904b",
   "metadata": {},
   "source": [
    "It is important to call the close() method on files in Python to ensure that any resources used by the file are released back to the system. If a file is not closed properly, it can result in memory leaks or other issues that can impact the performance of your program.\n",
    "\n",
    "When a file is opened in Python, the operating system allocates resources to it such as a file descriptor. If a file is not closed properly, these resources may not be released immediately, and they will remain allocated until the program terminates or the system runs out of resources. This can lead to issues like \"too many open files\" errors or performance degradation.\n",
    "\n",
    "Calling close() on a file in Python releases any resources associated with the file, so it is good practice to always close files after you are done using them. You can also use the with statement in Python to automatically close the file after you are done with it, without having to call close() explicitly.\n",
    "\n",
    "\n",
    "\n",
    "\n"
   ]
  },
  {
   "cell_type": "markdown",
   "id": "318d3ed3-c536-4a74-b2da-22792c498c00",
   "metadata": {},
   "source": [
    "### Q3. Write a python program to create a text file. Write ‘I want to become a Data Scientist’ in that file. Then  close the file. Open this file and read the content of the file.   \n",
    "\n",
    "Ans:"
   ]
  },
  {
   "cell_type": "code",
   "execution_count": 166,
   "id": "3da9c90b-b805-42dd-81a2-6c4d8b3947d3",
   "metadata": {},
   "outputs": [],
   "source": [
    "f = open(\"text.txt\",\"w\")"
   ]
  },
  {
   "cell_type": "code",
   "execution_count": 167,
   "id": "59173d04-e49b-470e-85aa-aa1ceb39fc87",
   "metadata": {},
   "outputs": [
    {
     "data": {
      "text/plain": [
       "33"
      ]
     },
     "execution_count": 167,
     "metadata": {},
     "output_type": "execute_result"
    }
   ],
   "source": [
    "f.write(\"I want to become a Data Scientist\")"
   ]
  },
  {
   "cell_type": "code",
   "execution_count": 168,
   "id": "c206bd7a-e883-4a68-bd78-48c21c6faa8c",
   "metadata": {},
   "outputs": [],
   "source": [
    "f.close()"
   ]
  },
  {
   "cell_type": "code",
   "execution_count": 169,
   "id": "f64e7252-b632-4b15-871b-f2afb1db9f46",
   "metadata": {},
   "outputs": [],
   "source": [
    "f = open(\"text.txt\",\"r\")"
   ]
  },
  {
   "cell_type": "code",
   "execution_count": 170,
   "id": "442567cd-6a5c-4785-bb79-52c12afde128",
   "metadata": {},
   "outputs": [
    {
     "data": {
      "text/plain": [
       "'I want to become a Data Scientist'"
      ]
     },
     "execution_count": 170,
     "metadata": {},
     "output_type": "execute_result"
    }
   ],
   "source": [
    "f.read()"
   ]
  },
  {
   "cell_type": "markdown",
   "id": "534a20de-f0f4-4a36-b2ad-8daa73a652f7",
   "metadata": {},
   "source": [
    "### Q4. Explain the following with python code: read(), readline() and readlines(). \n",
    "\n",
    "Ans:\n",
    "\n",
    "**read()**\n",
    "\n",
    "The read() method returns the specified number of bytes from the file. Default is -1 which means the whole file.\n",
    "\n",
    " "
   ]
  },
  {
   "cell_type": "code",
   "execution_count": 171,
   "id": "3b82608e-cae0-4475-b62d-eed1caca377b",
   "metadata": {},
   "outputs": [
    {
     "name": "stdout",
     "output_type": "stream",
     "text": [
      "i want to became a data scientist.i am learning new skills now i am learning python.\n"
     ]
    },
    {
     "data": {
      "text/plain": [
       "0"
      ]
     },
     "execution_count": 171,
     "metadata": {},
     "output_type": "execute_result"
    }
   ],
   "source": [
    "f = open(\"text.txt\",\"w\")\n",
    "f.write(\"i want to became a data scientist.\")\n",
    "f.write(\"i am learning new skills\")\n",
    "f.write(\" now i am learning python.\")\n",
    "f = open(\"text.txt\",\"r\")\n",
    "print(f.read())\n",
    "f.seek(0)"
   ]
  },
  {
   "cell_type": "markdown",
   "id": "6d336c66-50cb-476e-90de-5e3ba586a111",
   "metadata": {},
   "source": [
    "**readline()**\n",
    "\n",
    "The readline() method returns one line from the file.\n",
    "\n"
   ]
  },
  {
   "cell_type": "code",
   "execution_count": 172,
   "id": "0bf4da8a-d4fc-4c28-8557-b65b3e12e469",
   "metadata": {},
   "outputs": [
    {
     "name": "stdout",
     "output_type": "stream",
     "text": [
      "i want to became a data scientist.i am learning new skills now i am learning python.\n",
      "i want to became a data scientist.i am learning new skills now i am learning python.\n"
     ]
    }
   ],
   "source": [
    "print(f.readline())\n",
    "f.seek(0)\n",
    "print(f.readline())"
   ]
  },
  {
   "cell_type": "markdown",
   "id": "e2ae82b4-98d0-49bb-bee8-93d02fbd6b0a",
   "metadata": {},
   "source": [
    "**readlines()**\n",
    "\n",
    "The readlines() method returns a list containing each line in the file as a list item.\n",
    "\n"
   ]
  },
  {
   "cell_type": "code",
   "execution_count": 173,
   "id": "0d2123a6-5b9f-4150-9281-e140b34927ab",
   "metadata": {},
   "outputs": [
    {
     "name": "stdout",
     "output_type": "stream",
     "text": [
      "['i want to became a data scientist.i am learning new skills now i am learning python.']\n",
      "['i want to became a data scientist.i am learning new skills now i am learning python.']\n"
     ]
    }
   ],
   "source": [
    "f.seek(0)\n",
    "print(f.readlines())\n",
    "f.seek(0)\n",
    "print(f.readlines())"
   ]
  },
  {
   "cell_type": "markdown",
   "id": "61935b5f-188b-436c-9649-cd52bd347e61",
   "metadata": {},
   "source": [
    "### Q5. Explain why with statement is used with open(). What is the advantage of using with statement and  open() together? \n",
    "\n",
    "Ans:\n",
    "\n",
    "In Python, with statement is used in  handling to make the code cleaner and much more readable. It simplifies the management of common resources like file streams. Observe the following code example on how the use of with statement makes code cleaner. "
   ]
  },
  {
   "cell_type": "code",
   "execution_count": 174,
   "id": "b194fc2d-d3a7-4321-8f24-a41d05baf3ca",
   "metadata": {},
   "outputs": [
    {
     "data": {
      "text/plain": [
       "'pwskills'"
      ]
     },
     "execution_count": 174,
     "metadata": {},
     "output_type": "execute_result"
    }
   ],
   "source": [
    "# without using with statement\n",
    "\n",
    "f = open(\"text.txt\",\"w\")\n",
    "f.write(\"pwskills\")\n",
    "f = open(\"text.txt\",\"r\")\n",
    "f.read()"
   ]
  },
  {
   "cell_type": "code",
   "execution_count": 185,
   "id": "8851d27f-28b5-4c0a-a87c-44ecaf2e90f8",
   "metadata": {},
   "outputs": [
    {
     "name": "stdout",
     "output_type": "stream",
     "text": [
      "pwskills\n"
     ]
    }
   ],
   "source": [
    "# with using with statement\n",
    "\n",
    "with open(\"text.txt\" , \"w\") as f:\n",
    "    f.write(\"pwskills\")\n",
    "# with using with statement\n",
    "\n",
    "with open(\"text.txt\" , \"r\") as f:\n",
    "     print(f.read())"
   ]
  },
  {
   "cell_type": "markdown",
   "id": "cd508766-1ca8-439e-a186-64d5a63ad68d",
   "metadata": {},
   "source": [
    "### Q6. Explain the write() and writelines() functions. Give a suitable example. \n",
    "\n",
    "Ans:"
   ]
  },
  {
   "cell_type": "markdown",
   "id": "7a6a204f-bafa-4d64-9cc0-eeaf825b867a",
   "metadata": {},
   "source": [
    "#### write()\n",
    "\n",
    "Python file method write() writes a string str to the file. There is no return value. Due to buffering, the string may not actually show up in the file until the flush() or close() method is called.\n",
    "\n",
    "**Syntax**\n",
    "\n",
    "fileObject.write( str )\n",
    "\n",
    "**Parameters**\n",
    "\n",
    "str − This is the String to be written in the file.\n",
    "\n",
    "**Return Value**\n",
    "\n",
    "This method does not return any value.\n"
   ]
  },
  {
   "cell_type": "code",
   "execution_count": 186,
   "id": "7167e4ef-f81d-4b2b-8b2f-0b67fb5ef9ea",
   "metadata": {},
   "outputs": [
    {
     "data": {
      "text/plain": [
       "'pwskills'"
      ]
     },
     "execution_count": 186,
     "metadata": {},
     "output_type": "execute_result"
    }
   ],
   "source": [
    "f = open(\"text.txt\",\"w\")\n",
    "f.write(\"pwskills\")\n",
    "f = open(\"text.txt\",\"r\")\n",
    "f.read()"
   ]
  },
  {
   "cell_type": "markdown",
   "id": "71c65796-8ed9-486e-a008-91fa3c2f7263",
   "metadata": {},
   "source": [
    "#### writelines()\n",
    "\n",
    "The writelines() method writes the items of a list to the file.\n",
    "\n",
    "\"a\":  The texts will be inserted at the current file stream position, default at the end of the file.\n",
    "\n",
    "\"w\": The file will be emptied before the texts will be inserted at the current file stream position, default 0.\n",
    "\n",
    "**Syntax**\n",
    "\n",
    "file.writelines(list)"
   ]
  },
  {
   "cell_type": "code",
   "execution_count": 188,
   "id": "7d60b09c-48d2-4aae-a06e-575486c9b54f",
   "metadata": {},
   "outputs": [
    {
     "name": "stdout",
     "output_type": "stream",
     "text": [
      "pwskills\n",
      "See you soon!\n",
      "Over and out.\n"
     ]
    }
   ],
   "source": [
    "f = open(\"text.txt\", \"a\")\n",
    "f.writelines([\"\\nSee you soon!\", \"\\nOver and out.\"])\n",
    "f.close()\n",
    "\n",
    "#open and read the file after the appending:\n",
    "f = open(\"text.txt\", \"r\")\n",
    "print(f.read())"
   ]
  },
  {
   "cell_type": "code",
   "execution_count": null,
   "id": "804e5cb1-834e-4927-bc93-2117179e23e7",
   "metadata": {},
   "outputs": [],
   "source": []
  }
 ],
 "metadata": {
  "kernelspec": {
   "display_name": "Python 3 (ipykernel)",
   "language": "python",
   "name": "python3"
  },
  "language_info": {
   "codemirror_mode": {
    "name": "ipython",
    "version": 3
   },
   "file_extension": ".py",
   "mimetype": "text/x-python",
   "name": "python",
   "nbconvert_exporter": "python",
   "pygments_lexer": "ipython3",
   "version": "3.10.8"
  }
 },
 "nbformat": 4,
 "nbformat_minor": 5
}
