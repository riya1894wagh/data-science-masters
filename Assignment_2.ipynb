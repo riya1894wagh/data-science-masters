{
 "cells": [
  {
   "cell_type": "markdown",
   "id": "c58155d8-8560-4850-a8e4-1e5c16740107",
   "metadata": {},
   "source": [
    " ### 1. Write a program to accept percentage from the user and display the grade according to the following \n",
    "### criteria: \n",
    "\n",
    "|marks|grade|\n",
    "|-|-|\n",
    "|**>90**|***a is b***|\n",
    "|**>80 and <=90**|***a is not b***|\n",
    "|**>80 and <=90**|***a == b***|\n",
    "|**Below 60**|***a != b***|\n",
    "\n",
    "Ans:"
   ]
  },
  {
   "cell_type": "code",
   "execution_count": 1,
   "id": "3ac3e102-a06a-4954-a1f4-86156481af01",
   "metadata": {},
   "outputs": [
    {
     "name": "stdin",
     "output_type": "stream",
     "text": [
      "enter your marks 50\n"
     ]
    },
    {
     "name": "stdout",
     "output_type": "stream",
     "text": [
      "D\n"
     ]
    }
   ],
   "source": [
    "\n",
    "marks=int(input(\"enter your marks\"))\n",
    "if marks>90:\n",
    "    print(\"A\")\n",
    "elif marks>80 and marks<=90:\n",
    "    print(\"B\")\n",
    "elif marks>=60 and marks<=80:\n",
    "    print(\"C\")\n",
    "else:\n",
    "    print(\"D\")\n"
   ]
  },
  {
   "cell_type": "markdown",
   "id": "a40d580f-2668-4745-a5db-f57953a4a8e4",
   "metadata": {},
   "source": [
    "### 2. Write a program to accept the cost price of a bike and display the road tax to be paid according to the Following\n",
    "### criteria: \n",
    "\n",
    "|tax|Cost price(in Rs)|\n",
    "|-|-|\n",
    "|**15%**|***>100000***|\n",
    "|**10%**|***50000 and <= 100000***|\n",
    "|**5%**|***<=50000***|\n",
    "\n",
    "\n",
    "Ans:"
   ]
  },
  {
   "cell_type": "markdown",
   "id": "30f6d28c-7d19-4ec0-9b33-e164a3768817",
   "metadata": {},
   "source": [
    " \n",
    "cost = int(input(\"What is the Price of the bike? \\n\"))\n",
    "\n",
    "if cost > 100000:\n",
    "    print(f\"Raod Tax : {cost * 0.15}\")\n",
    "elif cost > 50000 and cost <= 100000 :\n",
    "    print(f\"Raod Tax : {cost * 0.1}\")\n",
    "else: \n",
    "    print(f\"Raod Tax : {cost * 0.05}\")"
   ]
  },
  {
   "cell_type": "markdown",
   "id": "662774f9-efef-4d52-9392-e2e6a1489878",
   "metadata": {},
   "source": [
    "### 3. Accept any city from the user and display monuments of that city. \n",
    "### criteria: \n",
    "\n",
    "|tax|Cost price(in Rs)|\n",
    "|-|-|\n",
    "|**Delhi**|***Red Fort***|\n",
    "|**Agra**|***Taj Mahal***|\n",
    "|**Jaipur**|***Jal Mahal***|\n",
    "\n",
    "\n",
    "Ans:\n",
    "\n"
   ]
  },
  {
   "cell_type": "code",
   "execution_count": 16,
   "id": "6d37a49e-ae65-4aab-b694-de9dde6913c5",
   "metadata": {},
   "outputs": [
    {
     "name": "stdin",
     "output_type": "stream",
     "text": [
      " Select a city from below list: \n",
      "Delhi , Agra, Jaipur \n",
      "City:  Delhi\n"
     ]
    },
    {
     "name": "stdout",
     "output_type": "stream",
     "text": [
      "The famous monument in Delhi is Red Fort.\n"
     ]
    }
   ],
   "source": [
    " city = input(''' Select a city from below list: \n",
    " Delhi , Agra, Jaipur \n",
    " City: ''')\n",
    "\n",
    "if city == \"Delhi\":\n",
    "    print(f\"The famous monument in {city} is Red Fort.\")\n",
    "elif city == \"Agra\":\n",
    "    print(f\"The famous monument in {city} is Red Fort.\")\n",
    "elif city == \"Jaipur\":\n",
    "    print(f\"The famous monument in {city} is Red Fort.\")\n",
    "else:\n",
    "    print(\"Enter City name from the above list.\")"
   ]
  },
  {
   "cell_type": "markdown",
   "id": "d09d163c-e1ff-4072-9fc8-e4e87a0ed976",
   "metadata": {},
   "source": [
    "### 4. Check how many times a given number can be divided by 3 before it is less than or equal to 10. \n",
    "Ans:\n"
   ]
  },
  {
   "cell_type": "code",
   "execution_count": 22,
   "id": "2de9595a-6f79-435a-b21e-6f60da320870",
   "metadata": {},
   "outputs": [
    {
     "name": "stdin",
     "output_type": "stream",
     "text": [
      "enter a number 45\n"
     ]
    },
    {
     "name": "stdout",
     "output_type": "stream",
     "text": [
      "2\n"
     ]
    }
   ],
   "source": [
    "n = int(input('''enter a number'''))\n",
    "count=1\n",
    "if(n%3==0 and n!=10):\n",
    "     count=count+1\n",
    "print(count)\n",
    "\n"
   ]
  },
  {
   "cell_type": "markdown",
   "id": "7952b308-1440-4a76-b23f-6a9571831f09",
   "metadata": {},
   "source": [
    "### 5. Why and When to Use while Loop in Python give a detailed description with example \n",
    "Ans:\n",
    " A while loop in python allows a part of the code to be executed repeatedly as long as a given condition is true. The while loop in python is also called a pre-tested loop. It is typically used when the number of iterations is not known.\n",
    " A python while loop expression condition consists of three parts:\n",
    "1. A piece of code that needs to be repeated over and over\n",
    "2. The while keyword\n",
    "3. A condition that translates to either true or false\n"
   ]
  },
  {
   "cell_type": "markdown",
   "id": "611598cf-c6c8-4e0b-9e6c-56d6b30ba5c7",
   "metadata": {},
   "source": [
    "### 6. Use nested while loop to print 3 different patterns. \n",
    "Ans:"
   ]
  },
  {
   "cell_type": "code",
   "execution_count": 26,
   "id": "da2525de-6f55-476c-9151-d79056100865",
   "metadata": {},
   "outputs": [
    {
     "name": "stdin",
     "output_type": "stream",
     "text": [
      "enter a number 5\n"
     ]
    },
    {
     "name": "stdout",
     "output_type": "stream",
     "text": [
      "* \n",
      "* * \n",
      "* * * \n",
      "* * * * \n",
      "* * * * * \n"
     ]
    }
   ],
   "source": [
    "n = int(input('''enter a number'''))\n",
    "i = 1\n",
    "while i <= n :\n",
    "    j = 1\n",
    "    while j <= i:\n",
    "        print(\"*\", end = \" \")\n",
    "        j += 1\n",
    "    print()\n",
    "    i += 1\n"
   ]
  },
  {
   "cell_type": "code",
   "execution_count": 37,
   "id": "b3460d77-f3c9-4506-b8e3-4d70d1a098a0",
   "metadata": {},
   "outputs": [
    {
     "name": "stdin",
     "output_type": "stream",
     "text": [
      "enter a number 5\n"
     ]
    },
    {
     "name": "stdout",
     "output_type": "stream",
     "text": [
      "1 \n",
      "2 2 \n",
      "3 3 3 \n",
      "4 4 4 4 \n",
      "5 5 5 5 5 \n"
     ]
    }
   ],
   "source": [
    "n = int(input('''enter a number'''))\n",
    "i = 1\n",
    "while i <= n :\n",
    "    j = 1\n",
    "    while j <= i:\n",
    "        print(i, end = \" \")\n",
    "        j += 1\n",
    "    print()\n",
    "    i += 1\n"
   ]
  },
  {
   "cell_type": "code",
   "execution_count": 44,
   "id": "85f13fb0-f0de-4831-8aed-5bcfc8224245",
   "metadata": {},
   "outputs": [
    {
     "name": "stdin",
     "output_type": "stream",
     "text": [
      "enter a number 5\n"
     ]
    },
    {
     "name": "stdout",
     "output_type": "stream",
     "text": [
      "1 \n",
      "2 3 \n",
      "3 4 5 \n",
      "4 5 6 7 \n",
      "5 6 7 8 9 \n"
     ]
    }
   ],
   "source": [
    "n = int(input('''enter a number'''))\n",
    "i = 1\n",
    "while i <= n :\n",
    "    j = 0\n",
    "    while j < i:\n",
    "        print(i+j, end = \" \")\n",
    "        j += 1\n",
    "    print()\n",
    "    i += 1\n"
   ]
  },
  {
   "cell_type": "markdown",
   "id": "f446cd1b-4468-40b6-aaa2-2bb850d45b8f",
   "metadata": {},
   "source": [
    "### 7. Reverse a while loop to display numbers from 10 to 1. \n",
    "Ans:"
   ]
  },
  {
   "cell_type": "code",
   "execution_count": 32,
   "id": "fe3264a6-e21e-479e-81b5-ce86672a9a6e",
   "metadata": {},
   "outputs": [
    {
     "name": "stdout",
     "output_type": "stream",
     "text": [
      "10 9 8 7 6 5 4 3 2 1 "
     ]
    }
   ],
   "source": [
    " i = 10\n",
    "while i >= 1:\n",
    "    print(i, end = \" \")\n",
    "    i -= 1"
   ]
  },
  {
   "cell_type": "markdown",
   "id": "e19001a5-e77d-4c33-aab6-275908a2c205",
   "metadata": {},
   "source": [
    "### 8. Reverse a while loop to display numbers from 10 to 1. \n",
    "Ans:"
   ]
  },
  {
   "cell_type": "code",
   "execution_count": 33,
   "id": "e4a99b4d-9df6-44e1-a53e-738390838ce6",
   "metadata": {},
   "outputs": [
    {
     "name": "stdout",
     "output_type": "stream",
     "text": [
      "10 9 8 7 6 5 4 3 2 1 "
     ]
    }
   ],
   "source": [
    "i = 10\n",
    "while i >= 1:\n",
    "    print(i, end = \" \")\n",
    "    i -= 1"
   ]
  }
 ],
 "metadata": {
  "kernelspec": {
   "display_name": "Python 3 (ipykernel)",
   "language": "python",
   "name": "python3"
  },
  "language_info": {
   "codemirror_mode": {
    "name": "ipython",
    "version": 3
   },
   "file_extension": ".py",
   "mimetype": "text/x-python",
   "name": "python",
   "nbconvert_exporter": "python",
   "pygments_lexer": "ipython3",
   "version": "3.10.8"
  }
 },
 "nbformat": 4,
 "nbformat_minor": 5
}
