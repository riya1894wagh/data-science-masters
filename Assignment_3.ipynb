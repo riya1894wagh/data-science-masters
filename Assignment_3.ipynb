{
 "cells": [
  {
   "cell_type": "markdown",
   "id": "2eb01ef0-41ef-459e-91ec-e72b2d072c00",
   "metadata": {},
   "source": [
    "#### Data Science Master's \n",
    "##### Assignment-3\n",
    "###### Tuple, Set & Dict \n",
    "\n",
    "\n"
   ]
  },
  {
   "cell_type": "markdown",
   "id": "c6accdf3-b83a-4176-a912-8ba21e73aa14",
   "metadata": {},
   "source": [
    "### Q1. What are the characteristics of the tuples? Is tuple immutable? \n"
   ]
  },
  {
   "cell_type": "markdown",
   "id": "a40d979e-0a86-4d84-a3ce-5b9bdbdb352a",
   "metadata": {},
   "source": [
    "Ans:  \n",
    "Tuples are ordered, indexed collections of data. Similar to string indices, the first value in the tuple will have the index [0], the second value [1], and so on. \n",
    " 1. Tuples can store duplicate values.\n",
    " 2. Once data is assigned to a tuple, the values cannot be changed.\n",
    " 3. Tuples allow you to store several data items in one variable. You can choose to store     only one kind of data in a tuple or mix it up as needed.\n",
    " 4. Yes, tuples are immutable.\n"
   ]
  },
  {
   "cell_type": "markdown",
   "id": "79384214-8b4b-4b38-a6d9-7e4dd4c00ad4",
   "metadata": {},
   "source": [
    "### Q2. What are the two tuple methods in python? Give an example of each method. Give a reason why  tuples have only two in-built methods as compared to Lists. \n"
   ]
  },
  {
   "cell_type": "markdown",
   "id": "0fc3f9d1-4b03-4151-923d-5c9b182c3a4c",
   "metadata": {},
   "source": [
    "Ans: In Python, tuples are immutables. Meaning, you cannot change items of a tuple once it is assigned. There are only two tuple methods count() and index() that a tuple object can call.\n",
    "\n",
    "1. The count() method returns the number of times the specified element appears in the tuple\n",
    "  \n",
    "Example:\n"
   ]
  },
  {
   "cell_type": "code",
   "execution_count": 21,
   "id": "b068ffe8-0dc0-4c46-a91c-1684f2601c52",
   "metadata": {},
   "outputs": [
    {
     "name": "stdout",
     "output_type": "stream",
     "text": [
      "4\n"
     ]
    }
   ],
   "source": [
    "a=(1,8,9,6,2,7,6,3,7,6,6,4,8)\n",
    "print(a.count(6))\n"
   ]
  },
  {
   "cell_type": "markdown",
   "id": "d2319931-89c3-4982-8909-ad0f2b30da1f",
   "metadata": {},
   "source": [
    "2. The index() method returns the index of the specified element in the tuple.\n",
    "\n",
    "Example:\n"
   ]
  },
  {
   "cell_type": "code",
   "execution_count": 22,
   "id": "dcb6c118-af39-4c01-aef3-e52c709cb615",
   "metadata": {},
   "outputs": [
    {
     "name": "stdout",
     "output_type": "stream",
     "text": [
      "3\n"
     ]
    }
   ],
   "source": [
    "a=(1,8,9,6,2,7,6,3,7,6,6,4,8)\n",
    "print(a.index(6))\n"
   ]
  },
  {
   "cell_type": "markdown",
   "id": "f09feb03-ce5a-408b-98cb-e4627f640a98",
   "metadata": {},
   "source": [
    "### Q3.  Which collection data types in python do not allow duplicate items? Write a code using a set to remove  duplicates from the given list. \n",
    "##### List = [1, 1, 1, 2, 1, 3, 1, 4, 2, 1, 2, 2, 2, 3, 2, 4, 3, 1, 3, 2, 3, 3, 3, 4, 4, 1, 4, 2, 4, 3, 4, 4] \n",
    "Ans:"
   ]
  },
  {
   "cell_type": "code",
   "execution_count": 23,
   "id": "a05fcc2c-c749-4745-9ef2-11ef1855e41a",
   "metadata": {},
   "outputs": [
    {
     "name": "stdout",
     "output_type": "stream",
     "text": [
      "{1, 2, 3, 4}\n"
     ]
    }
   ],
   "source": [
    "List = [1, 1, 1, 2, 1, 3, 1, 4, 2, 1, 2, 2, 2, 3, 2, 4, 3, 1, 3, 2, 3, 3, 3, 4, 4, 1, 4, 2, 4, 3, 4, 4] \n",
    "print(set(List))\n"
   ]
  },
  {
   "cell_type": "markdown",
   "id": "bafc93dd-4069-4e9f-8fb8-91ffd07380c5",
   "metadata": {},
   "source": [
    "### Q4. Explain the difference between the union() and update() methods for a set. Give an example of  each method. \n",
    "Ans:   \n"
   ]
  },
  {
   "cell_type": "markdown",
   "id": "87b5d336-4da9-49cf-9fb9-13e3cacd17c1",
   "metadata": {},
   "source": [
    "1. Union()\n",
    "\n",
    "Union() return a set that contains all items from both sets, duplicates are excluded.\n",
    "Syntax:\n",
    "set.union(set1, set2...)\n",
    "\n",
    "\n",
    "Example:\n"
   ]
  },
  {
   "cell_type": "code",
   "execution_count": 24,
   "id": "5130b3da-b3de-48df-8e11-7676c3491b94",
   "metadata": {},
   "outputs": [
    {
     "name": "stdout",
     "output_type": "stream",
     "text": [
      "{'a', 'b', 'f', 'e', 'd', 'c'}\n"
     ]
    }
   ],
   "source": [
    "x = {\"a\", \"b\", \"c\"}\n",
    "y = {\"f\", \"d\", \"a\"}\n",
    "z = {\"c\", \"d\", \"e\"}\n",
    "\n",
    "\n",
    "result = x.union(y, z) \n",
    "\n",
    "\n",
    "print(result)\n"
   ]
  },
  {
   "cell_type": "markdown",
   "id": "2dc5554f-fbbf-4c18-8590-4ac82365b580",
   "metadata": {},
   "source": [
    "2. update() \n",
    "\n",
    "The update() method updates the current set, by adding items from another set (or any other iterable).\n",
    "If an item is present in both sets, only one appearance of this item will be present in the updated set.\n",
    "Syntax:\n",
    "set.update(set)\n",
    "\n",
    "Example:\n"
   ]
  },
  {
   "cell_type": "code",
   "execution_count": 25,
   "id": "cebe02c7-13ca-4ba5-9829-7119fd681503",
   "metadata": {},
   "outputs": [
    {
     "name": "stdout",
     "output_type": "stream",
     "text": [
      "{'microsoft', 'apple', 'cherry', 'google', 'banana'}\n"
     ]
    }
   ],
   "source": [
    "x = {\"apple\", \"banana\", \"cherry\"}\n",
    "y = {\"google\", \"microsoft\", \"apple\"}\n",
    "x.update(y)\n",
    "print(x)\n"
   ]
  },
  {
   "cell_type": "markdown",
   "id": "a6debc7f-c676-41c6-bc4a-4f1ad349b3b8",
   "metadata": {},
   "source": [
    "### Q5. What is a dictionary? Give an example. Also, state whether a dictionary is ordered or unordered. \n",
    "\n",
    "Ans: Dictionaries are used to store data values in key:value pairs.\n",
    "A dictionary is a collection which is ordered*, changeable and do not allow duplicates.\n",
    "\n",
    "Dictionary is an ordered collection.\n"
   ]
  },
  {
   "cell_type": "code",
   "execution_count": 26,
   "id": "98e80789-4741-4f69-8d6f-274960af9e53",
   "metadata": {},
   "outputs": [
    {
     "name": "stdout",
     "output_type": "stream",
     "text": [
      "{'name': 'riya wagh', 'course': 'Data Science Master’s', 'Date of joining': '28-jan-2023'}\n"
     ]
    }
   ],
   "source": [
    "a= {\n",
    "  \"name\": \"riya wagh\",\n",
    "  \"course\": \"Data Science Master’s\",\n",
    "  \"Date of joining\": '''28-jan-2023'''\n",
    "}\n",
    "print(a)"
   ]
  },
  {
   "cell_type": "markdown",
   "id": "801019d1-c7c8-41c3-894c-fbe848e1519d",
   "metadata": {},
   "source": [
    "### Q6. Can we create a nested dictionary? If so, please give an example by creating a simple one-level  nested dictionary. \n",
    "\n",
    "Ans: Nesting Dictionary means putting a dictionary inside another dictionary.\n",
    "Yes, we can create a nested dictionary.\n",
    "\n",
    "Example:\n"
   ]
  },
  {
   "cell_type": "code",
   "execution_count": 27,
   "id": "3590dddc-6a61-43f7-918b-864f110f9e0e",
   "metadata": {},
   "outputs": [
    {
     "data": {
      "text/plain": [
       "{'dict1': {'key_A': 'value_A'}, 'dict2': {'key_B': 'value_B'}}"
      ]
     },
     "execution_count": 27,
     "metadata": {},
     "output_type": "execute_result"
    }
   ],
   "source": [
    "nested_dict = { 'dict1': {'key_A': 'value_A'},\n",
    "                'dict2': {'key_B': 'value_B'}}\n",
    "nested_dict\n"
   ]
  },
  {
   "cell_type": "markdown",
   "id": "858c03ec-bb5f-47e5-8931-767d87c08005",
   "metadata": {},
   "source": [
    "### Q7. Using setdefault() method, create key named topics in the given dictionary and also add the value of  the key as this list ['Python', 'Machine Learning’, 'Deep Learning'] \n",
    "### dict1 = {'language' : 'Python', 'course': 'Data Science Masters'} \n",
    "Ans:\n",
    "\n"
   ]
  },
  {
   "cell_type": "code",
   "execution_count": 28,
   "id": "02c96639-ab12-40ee-a8bf-86ac218d646a",
   "metadata": {},
   "outputs": [
    {
     "name": "stdout",
     "output_type": "stream",
     "text": [
      "{'language': 'Python', 'course': 'Data Science Masters', 'topics': ['Python', 'Machine Learning', 'Deep Learning']}\n"
     ]
    }
   ],
   "source": [
    "dict1 = {'language' : 'Python', 'course': 'Data Science Masters'}\n",
    "dict1.setdefault(\"topics\" , [\"Python\", \"Machine Learning\", \"Deep Learning\"])\n",
    "print(dict1)"
   ]
  },
  {
   "cell_type": "markdown",
   "id": "d1487fa8-09c4-451a-b25b-db57ae33bf1c",
   "metadata": {},
   "source": [
    "### Q8. What are the three view objects in dictionaries? Use the three in-built methods in python to display  these three view objects for the given dictionary. \n",
    "### dict1 = {'Sport': 'Cricket' , 'Teams': ['India', 'Australia', 'England', 'South Africa', 'Sri Lanka', 'New Zealand']} \n",
    "Ans:\n",
    "The main view objects of dictionary in python are keys, values and items.\n",
    "Keys holds all the keys of the dictionary, the values objects holds all the values, whereas the items holds the key-value pairs.\n"
   ]
  },
  {
   "cell_type": "code",
   "execution_count": 29,
   "id": "746035c4-fa17-49f9-9419-5714fe7614c4",
   "metadata": {},
   "outputs": [
    {
     "name": "stdout",
     "output_type": "stream",
     "text": [
      "dict_keys(['Sport', 'Teams'])\n",
      "dict_values(['Cricket', ['India', 'Australia', 'England', 'South Africa', 'Sri Lanka', 'New Zealand']])\n",
      "dict_items([('Sport', 'Cricket'), ('Teams', ['India', 'Australia', 'England', 'South Africa', 'Sri Lanka', 'New Zealand'])])\n"
     ]
    }
   ],
   "source": [
    "dict1 = {'Sport': 'Cricket' , 'Teams': ['India', 'Australia', 'England', 'South Africa', 'Sri Lanka', 'New Zealand']}\n",
    "print(dict1.keys())\n",
    "print(dict1.values())\n",
    "print(dict1.items())"
   ]
  },
  {
   "cell_type": "code",
   "execution_count": null,
   "id": "592db59c-9ba9-4e4f-ad43-7a8359d97176",
   "metadata": {},
   "outputs": [],
   "source": []
  },
  {
   "cell_type": "code",
   "execution_count": null,
   "id": "42b8369d-bfe0-4f7f-bdac-7891b6d511b9",
   "metadata": {},
   "outputs": [],
   "source": []
  }
 ],
 "metadata": {
  "kernelspec": {
   "display_name": "Python 3 (ipykernel)",
   "language": "python",
   "name": "python3"
  },
  "language_info": {
   "codemirror_mode": {
    "name": "ipython",
    "version": 3
   },
   "file_extension": ".py",
   "mimetype": "text/x-python",
   "name": "python",
   "nbconvert_exporter": "python",
   "pygments_lexer": "ipython3",
   "version": "3.10.8"
  }
 },
 "nbformat": 4,
 "nbformat_minor": 5
}
