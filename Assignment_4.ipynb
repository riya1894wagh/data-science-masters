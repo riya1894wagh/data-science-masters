{
 "cells": [
  {
   "cell_type": "markdown",
   "id": "01db8da8-e62e-4c3a-af06-04b5b2615826",
   "metadata": {},
   "source": [
    "#### Data Science Master's \n",
    "##### Assignment-3\n",
    "###### Functions Assignments\n",
    "\n",
    "\n"
   ]
  },
  {
   "cell_type": "markdown",
   "id": "135c818b-094c-4c62-b0a8-df16570e47c5",
   "metadata": {},
   "source": [
    "### Q1. Which keyword is used to create a function? Create a function to return a list of odd numbers in the  range of 1 to 25. \n",
    "\n",
    "Ans:\n",
    "\n",
    "a keyword def is used to create a function in python programming.\n"
   ]
  },
  {
   "cell_type": "code",
   "execution_count": 13,
   "id": "c78b467c-564c-44e6-a702-c91df6e0757f",
   "metadata": {},
   "outputs": [
    {
     "data": {
      "text/plain": [
       "[1, 3, 5, 7, 9, 11, 13, 15, 17, 19, 21, 23, 25]"
      ]
     },
     "execution_count": 13,
     "metadata": {},
     "output_type": "execute_result"
    }
   ],
   "source": [
    "def odd_no(n1,n2):\n",
    "    odd_list=[]\n",
    "    for i in range(n1,n2+1):\n",
    "        if i%2 !=0 and i !=0 :\n",
    "            odd_list.append(i)\n",
    "    return odd_list\n",
    "\n",
    "odd_no(1,25)\n",
    "    \n",
    "    "
   ]
  },
  {
   "cell_type": "markdown",
   "id": "97075c30-9cbb-45d0-992d-0c446eedd4ee",
   "metadata": {},
   "source": [
    "### Q2. Why *args and **kwargs is used in some functions? Create a function each for *args and **kwargs to  demonstrate their use. \n",
    "\n",
    "Ans:\n",
    "\n",
    "We can pass a variable number of arguments to a function using special symbols. \n",
    "There are two special symbols:\n",
    "\n",
    "1. *args (Non-Keyword Arguments)\n",
    "\n",
    "2. **kwargs (Keyword Arguments)\n",
    "\n",
    "\n",
    "\n",
    "#### *args (Non-Keyword Arguments)\n",
    "\n",
    "\n",
    " Python has *args which allow us to pass the variable number of non keyword arguments to function.\n",
    " \n",
    " In the function, we should use an asterisk * before the parameter name to pass variable length arguments.The arguments are passed as a tuple and these passed arguments make tuple inside the function with same name as the parameter excluding asterisk *.\n",
    " \n",
    "\n",
    "#### **kwargs (Keyword Arguments)\n",
    "\n",
    "\n",
    "Python passes variable length non keyword argument to function using *args but we cannot use this to pass keyword argument. For this problem Python has got a solution called **kwargs, it allows us to pass the variable length of keyword arguments to the function.\n",
    "\n",
    "In the function, we use the double asterisk ** before the parameter name to denote this type of argument. The arguments are passed as a dictionary and these arguments make a dictionary inside function with name same as the parameter excluding double asterisk **."
   ]
  },
  {
   "cell_type": "code",
   "execution_count": 14,
   "id": "f15a7311-7dfc-4a5c-b8d8-01d10d7a9a8e",
   "metadata": {},
   "outputs": [],
   "source": [
    "def test1(*arg):\n",
    "    for i in arg:\n",
    "        print(i)\n",
    " \n"
   ]
  },
  {
   "cell_type": "code",
   "execution_count": 15,
   "id": "53091d6a-3127-4047-bf93-e9747efa77e4",
   "metadata": {},
   "outputs": [
    {
     "name": "stdout",
     "output_type": "stream",
     "text": [
      "5\n",
      "7\n"
     ]
    }
   ],
   "source": [
    "test(5,7)"
   ]
  },
  {
   "cell_type": "code",
   "execution_count": 16,
   "id": "545cde80-bcde-41b3-a09e-c697e1e0714e",
   "metadata": {},
   "outputs": [
    {
     "name": "stdout",
     "output_type": "stream",
     "text": [
      "a\n",
      "b\n",
      "c\n"
     ]
    }
   ],
   "source": [
    "test(\"a\",\"b\",\"c\")"
   ]
  },
  {
   "cell_type": "code",
   "execution_count": 17,
   "id": "8c9f2eae-6e9c-48be-88d7-ed3d452d4ea1",
   "metadata": {},
   "outputs": [
    {
     "name": "stdout",
     "output_type": "stream",
     "text": [
      "a\n",
      "4\n",
      "[1, 7, 9]\n",
      "(8, 9, 6)\n",
      "{'riya', '#', 5}\n"
     ]
    }
   ],
   "source": [
    "test(\"a\",4,[1,7,9],(8,9,6),{\"riya\",5,\"#\"})"
   ]
  },
  {
   "cell_type": "code",
   "execution_count": 37,
   "id": "837efa26-fca4-4e77-b895-dae1b27b7152",
   "metadata": {},
   "outputs": [],
   "source": [
    "def test2(**kwarg):\n",
    "         print(kwarg)"
   ]
  },
  {
   "cell_type": "code",
   "execution_count": 38,
   "id": "6c79ae35-9286-459c-899c-344f88e68e1a",
   "metadata": {},
   "outputs": [
    {
     "name": "stdout",
     "output_type": "stream",
     "text": [
      "{'a': 2, 'b': 'riya', 'c': [1, 2, 3, 4, 5], 'd': ('pwskills', 'data science masters', 5), 'e': {1, 6, 7, 8, 'riya', 'set'}}\n"
     ]
    }
   ],
   "source": [
    "test2(a=2,b=\"riya\",c=[1,2,3,4,5],d=(\"pwskills\",\"data science masters\",5),e={\"set\",1,8,1,6,7,1,\"riya\"})"
   ]
  },
  {
   "cell_type": "markdown",
   "id": "6eda0591-c9c8-48c0-818c-bfa1529d6d0a",
   "metadata": {},
   "source": [
    "### Q3.  What is an iterator in python? Name the method used to initialise the iterator object and the method  used for iteration. Use these methods to print the first five elements of the given list [2, 4, 6, 8, 10, 12, 14, 16,  18, 20]. \n",
    "\n",
    "Ans:\n",
    "\n",
    "Iterator in Python is an object that is used to iterate over iterable objects like lists, tuples, dicts, and sets. \n",
    "\n",
    "The iterator object is initialized using the iter() method. It uses the next() method for iteration.\n",
    "\n",
    "1. iter(): The iter() method is called for the initialization of an iterator. This returns an iterator object\n",
    "2. next(): The next method returns the next value for the iterable. When we use a for loop to traverse any iterable object, internally it uses the iter() method to get an iterator object, which further uses the next() method\n",
    "\n"
   ]
  },
  {
   "cell_type": "code",
   "execution_count": 49,
   "id": "9325086f-57e2-4059-8b6a-72582338ccd2",
   "metadata": {},
   "outputs": [
    {
     "name": "stdout",
     "output_type": "stream",
     "text": [
      "[2, 4, 6, 8, 10, 12, 14, 16, 18, 20]\n",
      "\n",
      "\n",
      "using iter() and next function\n",
      "\n",
      "\n",
      "2\n",
      "4\n",
      "6\n",
      "8\n",
      "10\n",
      "12\n",
      "14\n",
      "16\n",
      "18\n",
      "20\n"
     ]
    }
   ],
   "source": [
    "list=[2, 4, 6, 8, 10, 12, 14, 16,  18, 20]\n",
    "print(list)\n",
    "print(\"\\n\")\n",
    "\n",
    "\n",
    "iter_list = iter(list)\n",
    "\n",
    "print(\" By using iter() and next function\")\n",
    "\n",
    "print(next(iter_list))\n",
    "print(next(iter_list))\n",
    "print(next(iter_list))\n",
    "print(next(iter_list))\n",
    "print(next(iter_list))\n",
    "print(next(iter_list))\n",
    "print(next(iter_list))\n",
    "print(next(iter_list))\n",
    "print(next(iter_list))\n",
    "print(next(iter_list))\n",
    "\n",
    "print(\"\\n\")\n"
   ]
  },
  {
   "cell_type": "markdown",
   "id": "0ef077af-0c05-4386-803f-5fcaae584106",
   "metadata": {},
   "source": [
    "### 4. What is a generator function in python? Why yield keyword is used? Give an example of a generator function.\n",
    "\n",
    "Ans:\n",
    "\n",
    "Generator-Function:\n",
    "\n",
    "A generator-function is defined like a normal function, but whenever it needs to generate a value, it does so with the yield keyword rather than return. If the body of a def contains yield, the function automatically becomes a generator function. \n",
    "\n",
    "Generator-Object : \n",
    "\n",
    "Generator functions return a generator object. Generator objects are used either by calling the next method on the generator object or using the generator object in a “for in” loop.\n",
    "\n"
   ]
  },
  {
   "cell_type": "code",
   "execution_count": 61,
   "id": "450ba238-1872-400e-b8b8-a26277ab6221",
   "metadata": {},
   "outputs": [
    {
     "name": "stdout",
     "output_type": "stream",
     "text": [
      "1\n",
      "2\n",
      "3\n",
      "4\n",
      "5\n"
     ]
    }
   ],
   "source": [
    "# simple generator function\n",
    "\n",
    "def simple_generator():\n",
    "    yield 1\n",
    "    yield 2\n",
    "    yield 3\n",
    "    yield 4\n",
    "    yield 5\n",
    "    \n",
    "for i in simple_generator():\n",
    "    print(i)"
   ]
  },
  {
   "cell_type": "code",
   "execution_count": 70,
   "id": "b3534b3a-f275-4596-8564-5b42d13b91a2",
   "metadata": {},
   "outputs": [],
   "source": [
    "# Fibonacci Numbers \n",
    "\n",
    "def febbi(n):\n",
    "    a,b=0,1\n",
    "    \n",
    "    for i in range(n):\n",
    "        yield a\n",
    "        a,b=b,a+b\n",
    "        \n"
   ]
  },
  {
   "cell_type": "code",
   "execution_count": 71,
   "id": "07365893-2907-4d55-b456-ab523108c189",
   "metadata": {},
   "outputs": [
    {
     "name": "stdout",
     "output_type": "stream",
     "text": [
      "0\n",
      "1\n",
      "1\n",
      "2\n",
      "3\n",
      "5\n",
      "8\n",
      "13\n",
      "21\n",
      "34\n"
     ]
    }
   ],
   "source": [
    "for i in febbi(10):\n",
    "    print(i)\n"
   ]
  },
  {
   "cell_type": "markdown",
   "id": "f8d11e9b-390e-4a2c-9938-a84e8cda3bf3",
   "metadata": {},
   "source": [
    "### Q5. Create a generator function for prime numbers less than 1000. Use the next() method to print the  first 20 prime numbers. \n",
    "\n",
    "Ans:\n",
    "\n",
    " "
   ]
  },
  {
   "cell_type": "code",
   "execution_count": 58,
   "id": "5b6d87dc-a1e5-4b39-807d-e27824062029",
   "metadata": {},
   "outputs": [
    {
     "name": "stdout",
     "output_type": "stream",
     "text": [
      "2\n",
      "3\n",
      "4\n",
      "5\n",
      "6\n",
      "7\n",
      "8\n",
      "9\n",
      "10\n",
      "11\n",
      "12\n",
      "13\n",
      "14\n",
      "15\n",
      "16\n",
      "17\n",
      "18\n",
      "19\n",
      "20\n",
      "21\n"
     ]
    }
   ],
   "source": [
    "def is_prime(n):\n",
    "    \n",
    "    if n==0 or n == 1 or n <0:\n",
    "        return False\n",
    "    else :\n",
    "        count = 0\n",
    "        for i in range(1,n+1):\n",
    "            if n%i == 0:\n",
    "                count=count+1\n",
    "            if count == 2:\n",
    "                return True\n",
    "\n",
    "def prime_generator():\n",
    "    n=2\n",
    "    while n <= 1000:\n",
    "        if is_prime(n) == True:\n",
    "            yield n\n",
    "        n=n+1\n",
    "        \n",
    "a=prime_generator()\n",
    "for i in range(20):\n",
    "    print(next(a))\n"
   ]
  }
 ],
 "metadata": {
  "kernelspec": {
   "display_name": "Python 3 (ipykernel)",
   "language": "python",
   "name": "python3"
  },
  "language_info": {
   "codemirror_mode": {
    "name": "ipython",
    "version": 3
   },
   "file_extension": ".py",
   "mimetype": "text/x-python",
   "name": "python",
   "nbconvert_exporter": "python",
   "pygments_lexer": "ipython3",
   "version": "3.10.8"
  }
 },
 "nbformat": 4,
 "nbformat_minor": 5
}
