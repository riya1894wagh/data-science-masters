{
 "cells": [
  {
   "cell_type": "markdown",
   "id": "bbc66736-4fc5-45aa-858c-772d1f86aa3c",
   "metadata": {},
   "source": [
    "#### Data Science Master's \n",
    "##### Assignment-5\n",
    "###### Python Assignment\n",
    "\n",
    "\n"
   ]
  },
  {
   "cell_type": "markdown",
   "id": "48d4f5f1-18ab-4041-b204-7c50876aa10e",
   "metadata": {},
   "source": [
    "### Q1. Create a python program to sort the given list of tuples based on integer value using a  lambda function.  \n",
    "[('Sachin Tendulkar', 34357), ('Ricky Ponting', 27483), ('Jack Kallis', 25534), ('Virat Kohli', 24936)] \n"
   ]
  },
  {
   "cell_type": "code",
   "execution_count": 31,
   "id": "34ef9245-f046-4e2b-83d0-6bb46cd7be15",
   "metadata": {},
   "outputs": [
    {
     "name": "stdout",
     "output_type": "stream",
     "text": [
      "Orignal List \n",
      "\n",
      "[1, 2, 3, 4, 5, 6, 7, 8, 9, 10]\n",
      "\n",
      " \n",
      "Sorted List \n",
      "\n",
      "[('Virat Kohli', 24936), ('Jack Kallis', 25534), ('Ricky Ponting', 27483), ('Sachin Tendulkar', 34357)]\n",
      "\n",
      " \n"
     ]
    }
   ],
   "source": [
    "A = [('Sachin Tendulkar', 34357), ('Ricky Ponting', 27483), ('Jack Kallis', 25534), ('Virat Kohli', 24936)] \n",
    "print(\"Orignal List \\n\")\n",
    "print(list)\n",
    "print(\"\\n \")\n",
    "A.sort(key = lambda x : x[1])\n",
    "print(\"Sorted List \\n\")\n",
    "print(A)\n",
    "print(\"\\n \")"
   ]
  },
  {
   "cell_type": "markdown",
   "id": "d291d8a4-9138-461b-835b-a424715227b7",
   "metadata": {},
   "source": [
    "### Q2. Write a Python Program to find the squares of all the numbers in the given list of integers using  lambda and map functions. \n",
    "[1, 2, 3, 4, 5, 6, 7, 8, 9, 10] \n"
   ]
  },
  {
   "cell_type": "code",
   "execution_count": 3,
   "id": "479aea9c-4d49-4073-ab4e-893ec3af3ce5",
   "metadata": {},
   "outputs": [
    {
     "name": "stdout",
     "output_type": "stream",
     "text": [
      "[1, 4, 9, 16, 25, 36, 49, 64, 81, 100]\n"
     ]
    }
   ],
   "source": [
    "A = [1, 2, 3, 4, 5, 6, 7, 8, 9, 10] \n",
    "B=map(lambda x :  x**2 , A)\n",
    "print(list(B))\n"
   ]
  },
  {
   "cell_type": "markdown",
   "id": "2e49e3dd-dc7c-427f-ac42-c001af8bcdd8",
   "metadata": {},
   "source": [
    "### Q3. Write a python program to convert the given list of integers into a tuple of strings. Use map and  lambda functions \n",
    "\n",
    "Given String: [1, 2, 3, 4, 5, 6, 7, 8, 9, 10] \n",
    "\n",
    "Expected output: ('1', '2', '3', '4', '5', '6', '7', '8', '9', '10') \n"
   ]
  },
  {
   "cell_type": "code",
   "execution_count": 8,
   "id": "a30f7016-7104-4a1e-8565-748aa9ff1b70",
   "metadata": {},
   "outputs": [
    {
     "name": "stdout",
     "output_type": "stream",
     "text": [
      "Given String : [1, 2, 3, 4, 5, 6, 7, 8, 9, 10]\n",
      "Expected String : ['1', '2', '3', '4', '5', '6', '7', '8', '9', '10']\n"
     ]
    }
   ],
   "source": [
    "A =  [1, 2, 3, 4, 5, 6, 7, 8, 9, 10]\n",
    "print(\"Given String : \",end=\"\")\n",
    "print(A)\n",
    "\n",
    "B=list(map(str,A))\n",
    "\n",
    "print(\"Expected String : \",end=\"\")\n",
    "print(B)\n"
   ]
  },
  {
   "cell_type": "markdown",
   "id": "0317ef5c-9936-432f-a357-3644faa95785",
   "metadata": {},
   "source": [
    "### Q4.  Write a python program using reduce function to compute the product of a list containing numbers  from 1 to 25. \n"
   ]
  },
  {
   "cell_type": "code",
   "execution_count": 15,
   "id": "1e2707f4-6eed-4f2f-9908-bde7d58fc0c4",
   "metadata": {},
   "outputs": [
    {
     "name": "stdout",
     "output_type": "stream",
     "text": [
      "[1, 2, 3, 4, 5, 6, 7, 8, 9, 10, 11, 12, 13, 14, 15, 16, 17, 18, 19, 20, 21, 22, 23, 24, 25]\n"
     ]
    },
    {
     "data": {
      "text/plain": [
       "15511210043330985984000000"
      ]
     },
     "execution_count": 15,
     "metadata": {},
     "output_type": "execute_result"
    }
   ],
   "source": [
    "from functools import reduce\n",
    "X = [1,2,3,4,5,6,7,8,9,10,11,12,13,14,15,16,17,18,19,20,21,22,23,24,25]\n",
    "print(X)\n",
    "reduce(lambda x,y: x*y,X)"
   ]
  },
  {
   "cell_type": "markdown",
   "id": "84047363-967c-46da-a8b2-3449d2ce790e",
   "metadata": {},
   "source": [
    "### Q5. Write a python program to filter the numbers in a given list that are divisible by 2 and 3 using the  filter function. \n",
    "[2, 3, 6, 9, 27, 60, 90, 120, 55, 46] \n"
   ]
  },
  {
   "cell_type": "code",
   "execution_count": null,
   "id": "96b340e9-399c-4973-99be-908d06fcbb08",
   "metadata": {},
   "outputs": [
    {
     "data": {
      "text/plain": [
       "[6, 60, 90, 120]"
      ]
     },
     "execution_count": 16,
     "metadata": {},
     "output_type": "execute_result"
    }
   ],
   "source": [
    "Y = [2, 3, 6, 9, 27, 60, 90, 120, 55, 46] \n",
    "\n",
    "list(filter(lambda a : a%2 == 0 and a%3 == 0 ,Y))"
   ]
  },
  {
   "cell_type": "markdown",
   "id": "81c2baf0-8367-4be1-870a-44e03bad67a0",
   "metadata": {},
   "source": [
    "### Q6. Write a python program to find palindromes in the given list of strings using lambda and filter  function. \n",
    "['python', 'php', 'aba', 'radar', 'level'] \n"
   ]
  },
  {
   "cell_type": "code",
   "execution_count": 20,
   "id": "bb313b38-655b-4ff2-ac53-523946f670e9",
   "metadata": {},
   "outputs": [
    {
     "name": "stdout",
     "output_type": "stream",
     "text": [
      "Given list\n",
      "['python', 'php', 'aba', 'radar', 'level']\n",
      "\n",
      "\n",
      "List having palindromes\n",
      "['php', 'aba', 'radar', 'level']\n"
     ]
    }
   ],
   "source": [
    "Z=['python', 'php', 'aba', 'radar', 'level'] \n",
    "print(\"Given list\")\n",
    "print(Z)\n",
    "print(\"\\n\")\n",
    "result = list(filter(lambda x : x == \"\".join(reversed(x)),Z))\n",
    "print(\"List having palindromes\")\n",
    "print(result)"
   ]
  }
 ],
 "metadata": {
  "kernelspec": {
   "display_name": "Python 3 (ipykernel)",
   "language": "python",
   "name": "python3"
  },
  "language_info": {
   "codemirror_mode": {
    "name": "ipython",
    "version": 3
   },
   "file_extension": ".py",
   "mimetype": "text/x-python",
   "name": "python",
   "nbconvert_exporter": "python",
   "pygments_lexer": "ipython3",
   "version": "3.10.8"
  }
 },
 "nbformat": 4,
 "nbformat_minor": 5
}
