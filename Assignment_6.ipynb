{
 "cells": [
  {
   "cell_type": "markdown",
   "id": "03fc22e4-10bc-4728-a14f-0dea3bc8c4ff",
   "metadata": {},
   "source": [
    "#### Data Science Master's \n",
    "##### Assignment-6\n",
    "###### OOPs \n",
    "\n",
    "\n",
    "\n"
   ]
  },
  {
   "cell_type": "markdown",
   "id": "dd2f8b24-8bb4-4d80-8ae3-25e1314ad307",
   "metadata": {},
   "source": [
    "### Q1. Explain Class and Object with respect to Object-Oriented Programming. Give a suitable example.\n",
    "\n",
    "Ans:\n",
    "\n",
    "### Class\n",
    "\n",
    "A class is a user-defined blueprint or prototype from which objects are created. Classes provide a means of bundling data and functionality together. Creating a new class creates a new type of object, allowing new instances of that type to be made. Each class instance can have attributes attached to it for maintaining its state\n",
    "\n",
    "**Syntax: Class Definition** \n",
    "\n",
    "class ClassName:\n",
    "     Statement\n",
    "     \n",
    "**Syntax: Object Definition**\n",
    "\n",
    "\n",
    "obj = ClassName()\n",
    "print(obj.atrr)\n",
    "\n",
    "Class creates a user-defined data structure, which holds its own data members and member functions, which can be accessed and used by creating an instance of that class. A class is like a blueprint for an object.\n",
    "\n",
    "1. Classes are created by keyword class.\n",
    "2. Attributes are the variables that belong to a class.\n",
    "3. Attributes are always public and can be accessed using the dot (.) operator. Eg.: Myclass.Myattribute\n",
    "\n",
    "### Objects\n",
    "\n",
    "An Object is an instance of a Class. A class is like a blueprint while an instance is a copy of the class with actual values. It’s not an idea anymore, it’s an actual dog, like a dog of breed pug who’s seven years old. You can have many dogs to create many different instances, but without the class as a guide, you would be lost, not knowing what information is required.\n",
    "An object consists of : \n",
    "\n",
    "State: It is represented by the attributes of an object. It also reflects the properties of an object.\n",
    "Behaviour: It is represented by the methods of an object. It also reflects the response of an object to other objects.\n",
    "Identity: It gives a unique name to an object and enables one object to interact with other objects.\n",
    "\n",
    " ### self method\n",
    "The self parameter is a reference to the current instance of the class, and is used to access variables that belongs to the class.\n",
    "\n",
    "It does not have to be named self , you can call it whatever you like, but it has to be the first parameter of any function in the class:\n",
    "\n",
    "### __init__method\n",
    "\n",
    "The __init__ method is similar to constructors in C++ and Java. Constructors are used to initialize the object’s state. Like methods, a constructor also contains a collection of statements\n",
    "\n",
    "example:"
   ]
  },
  {
   "cell_type": "code",
   "execution_count": 29,
   "id": "ba62c0cf-f07b-4c59-89a8-1627dc641843",
   "metadata": {},
   "outputs": [
    {
     "name": "stdout",
     "output_type": "stream",
     "text": [
      "hello, my name is Riya\n",
      "my Mail_Id is riya@gmail.com\n",
      "my state is madhya pradesh\n"
     ]
    }
   ],
   "source": [
    "class student:\n",
    "    def __init__(self, name ,email , state):\n",
    "        self.name = name\n",
    "        self.email =email\n",
    "        self.state = state\n",
    "        \n",
    "    def disp_info(self):\n",
    "            print(\"hello, my name is {}\".format(self.name))\n",
    "            print(\"my Mail_Id is {}\".format(self.email))\n",
    "            print(\"my state is {}\".format(self.state))\n",
    "a=student(\"Riya\",\"riya@gmail.com\",\"madhya pradesh\")\n",
    "a.disp_info()\n",
    "\n",
    "        "
   ]
  },
  {
   "cell_type": "markdown",
   "id": "38cee6d4-db57-40d0-876e-0093cf43c6af",
   "metadata": {},
   "source": [
    "###  Q2. Name the four pillars of OOPs. \n",
    "\n",
    "Ans:\n",
    "\n",
    "The four pillers of oops are:\n",
    "1. Polymorphism\n",
    "2. Encapsulation\n",
    "3. Inheritance\n",
    "4. Abstraction\n",
    "\n",
    "\n",
    "### Polymorphism\n",
    "Polymorphism simply means having many forms. For example, we need to determine if the given species of birds fly or not, using polymorphism we can do this using a single function."
   ]
  },
  {
   "cell_type": "code",
   "execution_count": 30,
   "id": "3bc776db-a8dd-42a7-a807-603b6205ba8f",
   "metadata": {},
   "outputs": [
    {
     "name": "stdout",
     "output_type": "stream",
     "text": [
      "There are many types of birds.\n",
      "Most of the birds can fly but some cannot.\n",
      "There are many types of birds.\n",
      "Sparrows can fly.\n",
      "There are many types of birds.\n",
      "Ostriches cannot fly.\n"
     ]
    }
   ],
   "source": [
    "class Bird:\n",
    "\n",
    "\tdef intro(self):\n",
    "\t\tprint(\"There are many types of birds.\")\n",
    "\n",
    "\tdef flight(self):\n",
    "\t\tprint(\"Most of the birds can fly but some cannot.\")\n",
    "\n",
    "class sparrow(Bird):\n",
    "\n",
    "\tdef flight(self):\n",
    "\t\tprint(\"Sparrows can fly.\")\n",
    "\n",
    "class ostrich(Bird):\n",
    "\n",
    "\tdef flight(self):\n",
    "\t\tprint(\"Ostriches cannot fly.\")\n",
    "\n",
    "obj_bird = Bird()\n",
    "obj_spr = sparrow()\n",
    "obj_ost = ostrich()\n",
    "\n",
    "obj_bird.intro()\n",
    "obj_bird.flight()\n",
    "\n",
    "obj_spr.intro()\n",
    "obj_spr.flight()\n",
    "\n",
    "obj_ost.intro()\n",
    "obj_ost.flight()\n"
   ]
  },
  {
   "cell_type": "markdown",
   "id": "0f092f22-3e18-4dda-9b3a-4fe550e3931e",
   "metadata": {},
   "source": [
    "### Encapsulation\n",
    "Encapsulation is one of the fundamental concepts in object-oriented programming (OOP). It describes the idea of wrapping data and the methods that work on data within one unit. This puts restrictions on accessing variables and methods directly and can prevent the accidental modification of data. To prevent accidental change, an object’s variable can only be changed by an object’s method. Those types of variables are known as private variables."
   ]
  },
  {
   "cell_type": "code",
   "execution_count": 31,
   "id": "c2a8da4b-f813-4eab-a444-9c1a37272f0b",
   "metadata": {},
   "outputs": [
    {
     "name": "stdout",
     "output_type": "stream",
     "text": [
      "GeeksforGeeks\n"
     ]
    }
   ],
   "source": [
    "\n",
    "class Base:\n",
    "\tdef __init__(self):\n",
    "\t\tself.a = \"GeeksforGeeks\"\n",
    "\t\tself.__c = \"GeeksforGeeks\"\n",
    "\n",
    "class Derived(Base):\n",
    "\tdef __init__(self):\n",
    "\n",
    "\t\tBase.__init__(self)\n",
    "\t\tprint(\"Calling private member of base class: \")\n",
    "\t\tprint(self.__c)\n",
    "\n",
    "\n",
    "obj1 = Base()\n",
    "print(obj1.a)\n",
    "\n",
    " \n"
   ]
  },
  {
   "cell_type": "markdown",
   "id": "48a27b2c-fcfe-4b13-9803-bdd51d87a7fe",
   "metadata": {},
   "source": [
    "### Inheritance\n",
    "Inheritance is the capability of one class to derive or inherit the properties from another class. The class that derives properties is called the derived class or child class and the class from which the properties are being derived is called the base class or parent class. The benefits of inheritance are:\n",
    "\n",
    "1. It represents real-world relationships well.\n",
    "2. It provides the reusability of a code. We don’t have to write the same code again and again. Also, it allows us to add more features to a class without modifying it.\n",
    "3. It is transitive in nature, which means that if class B inherits from another class A, then all the subclasses of B would automatically inherit from class A."
   ]
  },
  {
   "cell_type": "markdown",
   "id": "fd5e56b8-860a-488b-bb17-9dc7ae31f98e",
   "metadata": {},
   "source": [
    "### Types of Inheritance – \n",
    "***Single Inheritance:***\n",
    "\n",
    "Single-level inheritance enables a derived class to inherit characteristics from a single-parent class.\n",
    "\n",
    "***Multilevel Inheritance:***\n",
    "\n",
    "Multi-level inheritance enables a derived class to inherit properties from an immediate parent class which in turn inherits properties from his parent class.\n",
    "\n",
    "***Hierarchical Inheritance:***\n",
    "\n",
    "Hierarchical level inheritance enables more than one derived class to inherit properties from a parent class.\n",
    "\n",
    "***Multiple Inheritance:***\n",
    "\n",
    "Multiple level inheritance enables one derived class to inherit properties from more than one base class."
   ]
  },
  {
   "cell_type": "code",
   "execution_count": 32,
   "id": "60cf8024-15c0-485b-aaa8-1167ebea3be9",
   "metadata": {},
   "outputs": [
    {
     "name": "stdout",
     "output_type": "stream",
     "text": [
      "Rahul\n",
      "886012\n",
      "My name is Rahul\n",
      "IdNumber: 886012\n",
      "Post: Intern\n"
     ]
    }
   ],
   "source": [
    "class Person(object):\n",
    "\n",
    "\t\n",
    "\tdef __init__(self, name, idnumber):\n",
    "\t\tself.name = name\n",
    "\t\tself.idnumber = idnumber\n",
    "\n",
    "\tdef display(self):\n",
    "\t\tprint(self.name)\n",
    "\t\tprint(self.idnumber)\n",
    "\t\t\n",
    "\tdef details(self):\n",
    "\t\tprint(\"My name is {}\".format(self.name))\n",
    "\t\tprint(\"IdNumber: {}\".format(self.idnumber))\n",
    "\t\n",
    "\n",
    "class Employee(Person):\n",
    "\tdef __init__(self, name, idnumber, salary, post):\n",
    "\t\tself.salary = salary\n",
    "\t\tself.post = post\n",
    "\n",
    "\t\t\n",
    "\t\tPerson.__init__(self, name, idnumber)\n",
    "\t\t\n",
    "\tdef details(self):\n",
    "\t\tprint(\"My name is {}\".format(self.name))\n",
    "\t\tprint(\"IdNumber: {}\".format(self.idnumber))\n",
    "\t\tprint(\"Post: {}\".format(self.post))\n",
    "\n",
    "\n",
    "\n",
    "a = Employee('Rahul', 886012, 200000, \"Intern\")\n",
    "\n",
    "\n",
    "a.display()\n",
    "a.details()\n"
   ]
  },
  {
   "cell_type": "markdown",
   "id": "78c51e8b-9105-41cc-bab3-1787e6c99192",
   "metadata": {},
   "source": [
    "### Data Abstraction \n",
    "It hides the unnecessary code details from the user. Also,  when we do not want to give out sensitive parts of our code implementation and this is where data abstraction came."
   ]
  },
  {
   "cell_type": "markdown",
   "id": "a782b1ce-3f0c-469d-8c59-3f3744db3837",
   "metadata": {},
   "source": [
    "### Q3. Explain why the __init__() function is used. Give a suitable example. \n",
    "\n",
    "Ans:"
   ]
  },
  {
   "cell_type": "markdown",
   "id": "290588cf-a7ad-40d8-b172-feedd3de7bf5",
   "metadata": {},
   "source": [
    "\n",
    "### __init__method\n",
    "\n",
    "The __init__ method is similar to constructors in C++ and Java. Constructors are used to initialize the object’s state. Like methods, a constructor also contains a collection of statements\n"
   ]
  },
  {
   "cell_type": "code",
   "execution_count": 33,
   "id": "85bab55f-d515-44c6-b838-de782f5ff6ce",
   "metadata": {},
   "outputs": [
    {
     "name": "stdout",
     "output_type": "stream",
     "text": [
      "Hello, my name is Nikhil\n",
      "Hello, my name is Abhinav\n"
     ]
    }
   ],
   "source": [
    "class Person:\n",
    " \n",
    "    # init method or constructor\n",
    "    def __init__(self, name):\n",
    "        self.name = name\n",
    " \n",
    "    # Sample Method\n",
    "    def say_hi(self):\n",
    "        print('Hello, my name is', self.name)\n",
    " \n",
    " \n",
    "# Creating different objects\n",
    "p1 = Person('Nikhil')\n",
    "p2 = Person('Abhinav')\n",
    "p3 = Person('Anshul')\n",
    " \n",
    "p1.say_hi()\n",
    "p2.say_hi()"
   ]
  },
  {
   "cell_type": "markdown",
   "id": "b21aa586-e4b9-471a-ba6e-28de6a650c02",
   "metadata": {},
   "source": [
    "### Q4. Why self is used in OOPs? \n",
    "\n",
    "Ans:\n"
   ]
  },
  {
   "cell_type": "markdown",
   "id": "41b46997-8a44-4e64-b055-df5bfd57bf18",
   "metadata": {},
   "source": [
    "\n",
    " ### self method\n",
    "The self parameter is a reference to the current instance of the class, and is used to access variables that belongs to the class.\n",
    "\n",
    "It does not have to be named self , you can call it whatever you like, but it has to be the first parameter of any function in the class:\n"
   ]
  },
  {
   "cell_type": "code",
   "execution_count": 37,
   "id": "16cbb151-6665-4202-8ba3-a1368dea277e",
   "metadata": {},
   "outputs": [
    {
     "name": "stdout",
     "output_type": "stream",
     "text": [
      "Hello my name is John\n"
     ]
    }
   ],
   "source": [
    "class Person:\n",
    "  def __init__(mysillyobject, name, age):\n",
    "    mysillyobject.name = name\n",
    "    mysillyobject.age = age\n",
    "\n",
    "  def myfunc(abc):\n",
    "    print(\"Hello my name is \" + abc.name)\n",
    "\n",
    "p1 = Person(\"John\", 36)\n",
    "p1.myfunc()"
   ]
  },
  {
   "cell_type": "markdown",
   "id": "827bfb34-133f-49b5-b2c9-d51242f8b35c",
   "metadata": {},
   "source": [
    "### Q5. What is inheritance? Give an example for each type of inheritance. \n",
    "\n",
    "Ans:"
   ]
  },
  {
   "cell_type": "markdown",
   "id": "785536e4-8923-40fd-8342-ddfb80a9272f",
   "metadata": {},
   "source": [
    " ### Inheritance\n",
    " \n",
    " Inheritance is an important aspect of the object-oriented paradigm. Inheritance provides code reusability to the program because we can use an existing class to create a new class instead of creating it from scratch.\n",
    "\n",
    "In inheritance, the child class acquires the properties and can access all the data members and functions defined in the parent class. A child class can also provide its specific implementation to the functions of the parent class. In this section of the tutorial, we will discuss inheritance in detail.\n",
    "\n",
    "### single inheritance\n",
    "\n",
    "***Syntax***\n",
    "\n",
    "class derived-class(base class):  \n",
    "    <class-suite>   \n",
    "    \n",
    "***Syntax***\n",
    "    \n",
    "class derive-class(<base class 1>, <base class 2>, ..... <base class n>):  \n",
    "    <class - suite>   "
   ]
  },
  {
   "cell_type": "code",
   "execution_count": 34,
   "id": "b13b6141-7e99-4aae-8638-a5c8cea0051f",
   "metadata": {},
   "outputs": [
    {
     "name": "stdout",
     "output_type": "stream",
     "text": [
      "dog barking\n",
      "Animal Speaking\n"
     ]
    }
   ],
   "source": [
    "class Animal:  \n",
    "    def speak(self):  \n",
    "        print(\"Animal Speaking\")  \n",
    "class Dog(Animal):  \n",
    "    def bark(self):  \n",
    "        print(\"dog barking\")  \n",
    "d = Dog()  \n",
    "d.bark()  \n",
    "d.speak()  "
   ]
  },
  {
   "cell_type": "markdown",
   "id": "13937346-7ed0-4fd7-9545-6c164108cb7e",
   "metadata": {},
   "source": [
    "### Multi-Level inheritance\n",
    "Multi-Level inheritance is possible in python like other object-oriented languages. Multi-level inheritance is archived when a derived class inherits another derived class. There is no limit on the number of levels up to which, the multi-level inheritance is archived in python.\n",
    "\n",
    "***Syntax***\n",
    "\n",
    "class class1:  \n",
    "    <class-suite>   \n",
    "class class2(class1):  \n",
    "    <class suite>  \n",
    "class class3(class2):  \n",
    "    <class suite>  \n",
    ".  \n",
    ".  \n"
   ]
  },
  {
   "cell_type": "code",
   "execution_count": 35,
   "id": "1907d94a-6ee1-487d-b8d2-964c7ac51e8e",
   "metadata": {},
   "outputs": [
    {
     "name": "stdout",
     "output_type": "stream",
     "text": [
      "dog barking\n",
      "Animal Speaking\n",
      "Eating bread...\n"
     ]
    }
   ],
   "source": [
    "class Animal:  \n",
    "    def speak(self):  \n",
    "        print(\"Animal Speaking\")  \n",
    "#The child class Dog inherits the base class Animal  \n",
    "class Dog(Animal):  \n",
    "    def bark(self):  \n",
    "        print(\"dog barking\")  \n",
    "#The child class Dogchild inherits another child class Dog  \n",
    "class DogChild(Dog):  \n",
    "    def eat(self):  \n",
    "        print(\"Eating bread...\")  \n",
    "d = DogChild()  \n",
    "d.bark()  \n",
    "d.speak()  \n",
    "d.eat()  "
   ]
  },
  {
   "cell_type": "markdown",
   "id": "d4c3d055-b5c8-42dd-a302-e5cdfbde680f",
   "metadata": {},
   "source": [
    "### Python Multiple inheritance\n",
    "Python provides us the flexibility to inherit multiple base classes in the child class.\n",
    "\n",
    "***Syntax***\n",
    "\n",
    "class Base1:  \n",
    "    <class-suite>  \n",
    "  \n",
    "class Base2:  \n",
    "    <class-suite>  \n",
    ".  \n",
    ".  \n",
    ".  \n",
    "class BaseN:  \n",
    "    <class-suite>  \n",
    "  \n",
    "class Derived(Base1, Base2, ...... BaseN):  \n",
    "    <class-suite>  "
   ]
  },
  {
   "cell_type": "code",
   "execution_count": 36,
   "id": "691567c1-54e8-4ada-be17-2fb1aeee656e",
   "metadata": {},
   "outputs": [
    {
     "name": "stdout",
     "output_type": "stream",
     "text": [
      "30\n",
      "200\n",
      "0.5\n"
     ]
    }
   ],
   "source": [
    "class Calculation1:  \n",
    "    def Summation(self,a,b):  \n",
    "        return a+b;  \n",
    "class Calculation2:  \n",
    "    def Multiplication(self,a,b):  \n",
    "        return a*b;  \n",
    "class Derived(Calculation1,Calculation2):  \n",
    "    def Divide(self,a,b):  \n",
    "        return a/b;  \n",
    "d = Derived()  \n",
    "print(d.Summation(10,20))  \n",
    "print(d.Multiplication(10,20))  \n",
    "print(d.Divide(10,20))  "
   ]
  },
  {
   "cell_type": "code",
   "execution_count": null,
   "id": "750d2706-74eb-4f53-b63b-e4e09bf3100a",
   "metadata": {},
   "outputs": [],
   "source": []
  },
  {
   "cell_type": "code",
   "execution_count": null,
   "id": "fde4a0f0-637f-4ace-a440-acb77082fc74",
   "metadata": {},
   "outputs": [],
   "source": []
  },
  {
   "cell_type": "code",
   "execution_count": null,
   "id": "c5a2109d-a54e-4241-9e11-f33803bf7c01",
   "metadata": {},
   "outputs": [],
   "source": []
  },
  {
   "cell_type": "code",
   "execution_count": null,
   "id": "418de457-d7bb-4b4a-9609-7e2531cf065b",
   "metadata": {},
   "outputs": [],
   "source": []
  }
 ],
 "metadata": {
  "kernelspec": {
   "display_name": "Python 3 (ipykernel)",
   "language": "python",
   "name": "python3"
  },
  "language_info": {
   "codemirror_mode": {
    "name": "ipython",
    "version": 3
   },
   "file_extension": ".py",
   "mimetype": "text/x-python",
   "name": "python",
   "nbconvert_exporter": "python",
   "pygments_lexer": "ipython3",
   "version": "3.10.8"
  }
 },
 "nbformat": 4,
 "nbformat_minor": 5
}
