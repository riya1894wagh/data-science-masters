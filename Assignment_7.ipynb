{
 "cells": [
  {
   "cell_type": "markdown",
   "id": "3f71a4e0-dae7-47eb-804d-27a27600de13",
   "metadata": {},
   "source": [
    "#### Data Science Master's \n",
    "##### Assignment-7\n",
    "###### Python Task1\n",
    "\n",
    "\n",
    "\n"
   ]
  },
  {
   "cell_type": "markdown",
   "id": "c34a5338-960b-4ac3-8eb2-537c39d6bebe",
   "metadata": {},
   "source": [
    "### Q1. Create a function which will take a list as an argument and return the product of all the numbers  after creating a flat list. \n",
    "### Use the below-given list as an argument for your function. \n",
    "list1 = [1,2,3,4, [44,55,66, True], False, (34,56,78,89,34), {1,2,3,3,2,1}, {1:34, \"key2\": [55, 67, 78, 89], 4: (45,  22, 61, 34)}, [56, 'data science'], 'Machine Learning'] \n"
   ]
  },
  {
   "cell_type": "code",
   "execution_count": 12,
   "id": "39c70a19-750e-4e06-a749-04bec1c35f8a",
   "metadata": {},
   "outputs": [
    {
     "name": "stdout",
     "output_type": "stream",
     "text": [
      "Our old list is : [1, 2, 3, 4, [44, 55, 66, True], False, (34, 56, 78, 89, 34), {1, 2, 3}, {1: 34, 'key2': [55, 67, 78, 89], 4: (45, 22, 61, 34)}, [56, 'data science'], 'Machine Learning']\n",
      "\n",
      "\n",
      "Our New list will be : [1, 2, 3, 4, 44, 55, 66, 34, 56, 78, 89, 34, 1, 2, 3, 34, 55, 67, 78, 89, 45, 22, 61, 34, 56]\n",
      " The product of all the numbers  after creating a flat list = 1033677959746771369708460310528000\n"
     ]
    }
   ],
   "source": [
    "from functools import reduce\n",
    "list1 = [1,2,3,4, [44,55,66, True], False, \n",
    "         (34,56,78,89,34), {1,2,3,3,2,1}, \n",
    "         {1:34, \"key2\": [55, 67, 78, 89], 4: (45,22, 61, 34)}, [56, 'data science'], 'Machine Learning']\n",
    "\n",
    "print(\"Our old list is : \" , end = \"\")\n",
    "print(list1)\n",
    "print(\"\\n\")\n",
    "new_list =[]\n",
    "for i in list1:\n",
    "    if type(i) == int:\n",
    "        new_list.append(i)\n",
    "    elif type(i) == list or type(i)== tuple or type(i)== set:\n",
    "        for j in i: \n",
    "            if type(j) == int:\n",
    "                new_list.append(j)\n",
    "            else:\n",
    "                pass\n",
    "    #dict type handler\n",
    "    elif type(i) == dict: \n",
    "        for j in i.values():\n",
    "            if type(j) == int: \n",
    "                new_list.append(j)\n",
    "            elif type(j) == list or type(j) == tuple or type(j) == set:\n",
    "                for k in j: \n",
    "                    new_list.append(k)\n",
    "    else:\n",
    "        pass\n",
    "print(\"Our New list will be : \",end = \"\")\n",
    "print(new_list)\n",
    "\n",
    "product = reduce(lambda x,y:x*y,lis)\n",
    "print(\" The product of all the numbers  after creating a flat list = \",end=\"\")\n",
    "print(product)"
   ]
  },
  {
   "cell_type": "markdown",
   "id": "ad039b62-5ff1-41d2-9d40-ff7eb07658f8",
   "metadata": {},
   "source": [
    "### Q2. Write a python program for encrypting a message sent to you by your friend. The logic of encryption  should be such that, for a the output should be z. For b, the output should be y. For c, the output should  be x respectively. Also, the whitespace should be replaced with a dollar sign. Keep the punctuation  marks unchanged. \n",
    "#### Input Sentence: I want to become a Data Scientist. \n",
    "\n",
    "#### Encrypt the above input sentence using the program you just created. \n",
    "\n",
    "Ans:\n",
    "\n",
    "a   ->   z\n",
    "\n",
    "b   ->   y\n",
    "\n",
    "c   ->   x\n",
    "\n",
    "\" \" ->   $\n"
   ]
  },
  {
   "cell_type": "code",
   "execution_count": 15,
   "id": "b0b9cf7a-51d9-4aa9-993c-664849737001",
   "metadata": {},
   "outputs": [
    {
     "name": "stdin",
     "output_type": "stream",
     "text": [
      "Input String I want to became a Data Science\n"
     ]
    },
    {
     "name": "stdout",
     "output_type": "stream",
     "text": [
      "i want to became a data science\n",
      "Encrypted input string :\n",
      "i$wznt$to$yezzme$z$dztz$szienze\n"
     ]
    }
   ],
   "source": [
    "A=input(\"Input String\")\n",
    "A=A.lower()\n",
    "print(A)\n",
    "\n",
    "replace_a = \"a\"\n",
    "replace_b = \"b\"\n",
    "replace_c = \"c\"\n",
    "replace_space = \" \"\n",
    "B = \"\"\n",
    "output_a = \"z\"\n",
    "output_b = \"y\"\n",
    "output_c = \"z\"\n",
    "output_space = \"$\"\n",
    "\n",
    "for i in A:\n",
    "    if i == replace_a:\n",
    "        B = B + output_a\n",
    "    elif i == replace_b:\n",
    "        B = B + output_b\n",
    "    elif i == replace_c:\n",
    "        B = B + output_c\n",
    "    elif i == replace_space:\n",
    "        B = B + output_space\n",
    "    else:\n",
    "        B = B + i\n",
    "        \n",
    "print(\"Encrypted input string :\")\n",
    "print(B)"
   ]
  }
 ],
 "metadata": {
  "kernelspec": {
   "display_name": "Python 3 (ipykernel)",
   "language": "python",
   "name": "python3"
  },
  "language_info": {
   "codemirror_mode": {
    "name": "ipython",
    "version": 3
   },
   "file_extension": ".py",
   "mimetype": "text/x-python",
   "name": "python",
   "nbconvert_exporter": "python",
   "pygments_lexer": "ipython3",
   "version": "3.10.8"
  }
 },
 "nbformat": 4,
 "nbformat_minor": 5
}
