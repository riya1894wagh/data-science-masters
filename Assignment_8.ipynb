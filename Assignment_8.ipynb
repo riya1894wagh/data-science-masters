{
 "cells": [
  {
   "cell_type": "markdown",
   "id": "75d597f4-3389-4bd5-92df-2e75c26c465f",
   "metadata": {},
   "source": [
    "#### Data Science Master's \n",
    "##### Assignment-8\n",
    "###### Python Task2\n",
    "\n",
    "\n",
    "\n"
   ]
  },
  {
   "cell_type": "markdown",
   "id": "fe1098ad-59d5-4b95-b63e-f8ba07b10766",
   "metadata": {},
   "source": [
    "### Q1. You are writing code for a company. The requirement of the company is that you create a python  function that will check whether the password entered by the user is correct or not. The function should  take the password as input and return the string “Valid Password” if the entered password follows the  below-given password guidelines else it should return “Invalid Password”. \n",
    "\n",
    "Note:\n",
    "1. The Password should contain at least two uppercase letters and at least two lowercase letters.\n",
    "2. The Password should contain at least a number and three special characters.\n",
    "3. The length of the password should be 10 characters long.\n",
    "\n",
    "\n",
    "Ans:"
   ]
  },
  {
   "cell_type": "code",
   "execution_count": null,
   "id": "81f15d12-47b9-441f-b6de-adaacc7eb261",
   "metadata": {},
   "outputs": [
    {
     "name": "stdout",
     "output_type": "stream",
     "text": [
      "please enter your password\n"
     ]
    }
   ],
   "source": [
    "lower,upper,digit,special_char = 0,0,0,0\n",
    "\n",
    "print(\"please enter your password\")\n",
    "\n",
    "password = input(''' 1. The Password should contain at least two uppercase letters and at least two lowercase letters. \\n\n",
    "2. The Password should contain at least a number and three special characters. \\n\n",
    "3. The length of the password should be 10 characters long. \\n \\n''')\n",
    "digits = \"0123456789\"\n",
    "if(len(password) >= 10 ):\n",
    "    \n",
    "    for i in password:\n",
    "            if(i.islower()):\n",
    "                lower = lower+1\n",
    "            if(i.isupper()):\n",
    "                upper = upper+1\n",
    "            if i in digits:\n",
    "                digit = digit+1\n",
    "            if(i==\"@\" or i==\"$\" or i==\"_\"):\n",
    "                special_char = special_char+1\n",
    "        \n",
    "if(lower>=2 and upper>=2 and digit >= 1 and special_char >=3):\n",
    "    print(\"Valid Password\")\n",
    "else:\n",
    "    print(\"Invalid Password\")\n",
    "\n"
   ]
  },
  {
   "cell_type": "code",
   "execution_count": null,
   "id": "a9d0fc5e-6b95-42bd-b6d1-2bd11fe8f570",
   "metadata": {},
   "outputs": [],
   "source": [
    " "
   ]
  },
  {
   "cell_type": "markdown",
   "id": "24e56299-f7ff-4c80-b06b-6cb5da55e82d",
   "metadata": {},
   "source": [
    "### Q2. Solve the below-given questions using at least one of the following:  \n",
    "1. Lambda function \n",
    "2. Filter function \n",
    "3. Zap function \n",
    "4. List Comprehension \n",
    "\n",
    "=> Check if the string starts with a particular letter Y.\n",
    "\n",
    "=> Check if the string is numeric.\n",
    "\n",
    "=> Sort a list of tuples having fruit names and their quantity.   [(\"mango\",99),(\"orange\",80), (\"grapes\", 1000)\n",
    "\n",
    "=> Find the squares of numbers from 1 to 10.\n",
    "\n",
    "=> Find the cube root of numbers from 1 to 10.\n",
    "\n",
    "=> Check if a given number is even.\n",
    "\n",
    "=> Filter odd numbers from the given list.[1,2,3,4,5,6,7,8,9,10\n",
    "\n",
    "=> Sort a list of integers into positive and negative integers lists.[1,2,3,4,5,6,-1,-2,-3,-4,-5,0]\n",
    "\n",
    "Ans:\n",
    " \n"
   ]
  },
  {
   "cell_type": "code",
   "execution_count": null,
   "id": "d5830f94-69ce-4c7c-94a5-2fc1b1088019",
   "metadata": {},
   "outputs": [],
   "source": [
    "#  Check if the string starts with a particular letter Y\n",
    "\n",
    "\n",
    "A = lambda x : True if x.startswith(\"Y\") else False\n",
    "\n",
    "B = \"Yes, You are correct\"\n",
    "C = \"No, You are wrong\"\n",
    "\n",
    "print(A(B))\n",
    "print(A(C))"
   ]
  },
  {
   "cell_type": "code",
   "execution_count": null,
   "id": "d13f453c-25b7-4c0f-9bdd-aceaaba9ca7e",
   "metadata": {},
   "outputs": [],
   "source": [
    "#  Check if the string is numeric.\n",
    "\n",
    "\n",
    "test_list = [\"434\", \"823\", \"98\", \"74\"]\n",
    "\n",
    "\n",
    "print(\"The original list is : \" + str(test_list))\n",
    "\n",
    " \n",
    "result = all(map(str.isdigit, test_list))\n",
    "\n",
    "print(\"Are all strings digits ? : \" + str(result))\n"
   ]
  },
  {
   "cell_type": "code",
   "execution_count": null,
   "id": "2d2f05b7-4943-439f-8ca2-6aa5ee080bfa",
   "metadata": {},
   "outputs": [],
   "source": [
    "# Sort a list of tuples having fruit names and their quantity.   [(\"mango\",99),(\"orange\",80), (\"grapes\", 1000)\n",
    "\n",
    "def sort_fruit(fruit):\n",
    "           fruit.sort(key = lambda x : x[1])\n",
    "           return fruit\n",
    "        \n",
    "fruits =  [(\"mango\",99),(\"orange\",80), (\"grapes\", 1000)]\n",
    "print(sort_fruit(fruits))\n",
    "         \n",
    "    \n"
   ]
  },
  {
   "cell_type": "code",
   "execution_count": null,
   "id": "301bd3e0-6ef2-4cc3-8458-6e725c7e8f25",
   "metadata": {},
   "outputs": [],
   "source": [
    "# Find the squares of numbers from 1 to 10\n",
    "A = []\n",
    "for i in range(1,11):\n",
    "    A.append(i)\n",
    "print(\"Original List\")\n",
    "print(A)\n",
    "\n",
    "B=list(map(lambda x : x**2 , A))\n",
    "print(B)\n"
   ]
  },
  {
   "cell_type": "code",
   "execution_count": null,
   "id": "eafb2c0e-9bdf-47c4-9792-844e23e24bda",
   "metadata": {},
   "outputs": [],
   "source": [
    "# Find the cube root of numbers from 1 to 10\n",
    "\n",
    "A = []\n",
    "for i in range(1,11):\n",
    "    A.append(i)\n",
    "print(\"Original List\")\n",
    "print(A)\n",
    "\n",
    "B=list(map(lambda x : x**3 , A))\n",
    "print(B)\n",
    "\n"
   ]
  },
  {
   "cell_type": "code",
   "execution_count": null,
   "id": "58b26a84-fd02-4afc-99a2-ea2da75bbcf7",
   "metadata": {},
   "outputs": [],
   "source": [
    "# Check if a given number is even.\n",
    "\n",
    "A = [10,11,54,53,87,94,581,87,31,21,52,29,54,36]\n",
    " \n",
    "B=list(filter(lambda x : x%2==0 , A))\n",
    "print(B)"
   ]
  },
  {
   "cell_type": "code",
   "execution_count": null,
   "id": "31e19324-1e2f-4eda-a196-146732ef055e",
   "metadata": {},
   "outputs": [],
   "source": [
    "# Filter odd numbers from the given list. [1,2,3,4,5,6,7,8,9,10]\n",
    "\n",
    "A=[1,2,3,4,5,6,7,8,9,10]\n",
    "\n",
    "B=list(filter(lambda x : x%2!=0 , A))\n",
    "print(B)"
   ]
  },
  {
   "cell_type": "code",
   "execution_count": null,
   "id": "e50e93b5-1963-4cc7-9e6e-8b774389bada",
   "metadata": {},
   "outputs": [],
   "source": [
    "# Sort a list of integers into positive and negative integers lists.[1,2,3,4,5,6,-1,-2,-3,-4,-5,0]\n",
    "\n",
    "A = [1,2,3,4,5,6,-1,-2,-3,-4,-5,0]\n",
    "print(\"List of possitive number\")\n",
    "B = list(filter(lambda x : x >= 0 ,A))\n",
    "print(B)\n",
    "print(\"List of negative number\")\n",
    "C =list(filter(lambda x : x < 0 , A))\n",
    "print(C)"
   ]
  },
  {
   "cell_type": "code",
   "execution_count": null,
   "id": "5d29fe68-abd4-481e-b837-29c40f7e14e2",
   "metadata": {},
   "outputs": [],
   "source": []
  },
  {
   "cell_type": "code",
   "execution_count": null,
   "id": "f727ed10-fb09-4375-8f9c-8ba6bbdad8f6",
   "metadata": {},
   "outputs": [],
   "source": []
  }
 ],
 "metadata": {
  "kernelspec": {
   "display_name": "Python 3 (ipykernel)",
   "language": "python",
   "name": "python3"
  },
  "language_info": {
   "codemirror_mode": {
    "name": "ipython",
    "version": 3
   },
   "file_extension": ".py",
   "mimetype": "text/x-python",
   "name": "python",
   "nbconvert_exporter": "python",
   "pygments_lexer": "ipython3",
   "version": "3.10.8"
  }
 },
 "nbformat": 4,
 "nbformat_minor": 5
}
