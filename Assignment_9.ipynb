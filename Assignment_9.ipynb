{
 "cells": [
  {
   "cell_type": "markdown",
   "id": "07fb3fcb-192b-4859-bca8-504c758fe3d6",
   "metadata": {},
   "source": [
    "#### Data Science Master's \n",
    "##### Assignment-9\n",
    "###### Python Task3\n",
    "\n",
    "\n",
    "\n"
   ]
  },
  {
   "cell_type": "markdown",
   "id": "d6c4bbff-f7a7-4d4d-af9b-ed7762d25518",
   "metadata": {},
   "source": [
    "### Q1 Create a vehicle class with an init method having instance variables as name_of_vehicle, max_speed  and average_of_vehicle.  \n",
    "\n",
    "Ans:\n"
   ]
  },
  {
   "cell_type": "code",
   "execution_count": 36,
   "id": "c5103af9-aa9d-46fe-9728-70965bfa611c",
   "metadata": {},
   "outputs": [],
   "source": [
    "class vehicle:\n",
    "    \n",
    "    def __init__(self,name_of_vehicle , max_speed , average_of_vehical):\n",
    "        self.name_of_vehicle = name_of_vehicle\n",
    "        self.max_speed = max_speed\n",
    "        self.average_of_vehical = average_of_vehical "
   ]
  },
  {
   "cell_type": "code",
   "execution_count": 37,
   "id": "ab966a28-96cf-40e8-8a97-97d59ace40fe",
   "metadata": {},
   "outputs": [],
   "source": [
    "car1=vehicle(\"Toyata\",120,35)"
   ]
  },
  {
   "cell_type": "code",
   "execution_count": 38,
   "id": "53cbd352-dd4d-410a-b594-975ebee22ed1",
   "metadata": {},
   "outputs": [
    {
     "data": {
      "text/plain": [
       "35"
      ]
     },
     "execution_count": 38,
     "metadata": {},
     "output_type": "execute_result"
    }
   ],
   "source": [
    "car1.average_of_vehical"
   ]
  },
  {
   "cell_type": "code",
   "execution_count": 39,
   "id": "06cf9f98-0e43-4a7f-b461-b5ce45aa6c93",
   "metadata": {},
   "outputs": [
    {
     "data": {
      "text/plain": [
       "120"
      ]
     },
     "execution_count": 39,
     "metadata": {},
     "output_type": "execute_result"
    }
   ],
   "source": [
    "car1.max_speed"
   ]
  },
  {
   "cell_type": "code",
   "execution_count": 40,
   "id": "16321dd7-0bff-41ad-9da7-e408c0bc0993",
   "metadata": {},
   "outputs": [
    {
     "data": {
      "text/plain": [
       "'Toyata'"
      ]
     },
     "execution_count": 40,
     "metadata": {},
     "output_type": "execute_result"
    }
   ],
   "source": [
    "car1.name_of_vehicle"
   ]
  },
  {
   "cell_type": "markdown",
   "id": "54e7cf76-3511-4e01-aca9-3c8163653793",
   "metadata": {},
   "source": [
    "### Q2.  Create a child class car from the vehicle class created in Que 1, which will inherit the vehicle class.  Create a method named seating_capacity which takes capacity as an argument and returns the name of  the vehicle and its seating capacity. \n",
    "\n",
    "Ans:\n"
   ]
  },
  {
   "cell_type": "code",
   "execution_count": 45,
   "id": "7a4db009-5c61-402c-b888-23844330bb84",
   "metadata": {},
   "outputs": [],
   "source": [
    "class vehicle:\n",
    "    \n",
    "    def __init__(self,name_of_vehicle , max_speed , average_of_vehical):\n",
    "        self.name_of_vehicle = name_of_vehicle\n",
    "        self.max_speed = max_speed\n",
    "        self.average_of_vehical = average_of_vehical \n",
    "        \n",
    "    def seating_capacity(self,capacity):\n",
    "        return f\"The seating capacity of a {self.name_of_vehicle} is {capacity}\"\n",
    "\n",
    "class car(vehicle):\n",
    "    \n",
    "    def seating_capacity(self,capacity=6):\n",
    "        return super().seating_capacity(capacity=6)\n",
    " "
   ]
  },
  {
   "cell_type": "code",
   "execution_count": 46,
   "id": "4cf78a3c-bfd6-4fc6-a483-cbfe8244941c",
   "metadata": {},
   "outputs": [
    {
     "name": "stdout",
     "output_type": "stream",
     "text": [
      "The seating capacity of a Toyata is 6\n"
     ]
    }
   ],
   "source": [
    "car1=car(\"Toyata\",120,35)\n",
    "print(car1.seating_capacity())\n"
   ]
  },
  {
   "cell_type": "markdown",
   "id": "d2d6a50c-dec8-4008-af13-bdfcdb9d694f",
   "metadata": {},
   "source": [
    "### Q3. What is multiple inheritance? Write a python code to demonstrate multiple inheritance. \n",
    "\n",
    "Ans:\n",
    "\n",
    "When a class is derived from more than one base class it is called multiple Inheritance.\n",
    "\n",
    "***Syntax:***\n",
    "\n",
    "Class Base1:\n",
    "       Body of the class\n",
    "\n",
    "Class Base2:\n",
    "     Body of the class\n",
    "\n",
    "Class Derived(Base1, Base2):\n",
    "     Body of the class"
   ]
  },
  {
   "cell_type": "code",
   "execution_count": 53,
   "id": "735c3101-f40e-4d7f-9243-75550216c82d",
   "metadata": {},
   "outputs": [],
   "source": [
    "class class_1:\n",
    "    def test_class1(self):\n",
    "        print(\"This is my first class\")\n",
    "\n",
    "class class_2:\n",
    "    def test_class2(self):\n",
    "        print(\"This is my second class\")\n",
    "        \n",
    "class class_3(class_1,class_2):\n",
    "    def test_class3(self):\n",
    "        print(\"This is my third class\")\n",
    "\n",
    "obj = class_3()    "
   ]
  },
  {
   "cell_type": "code",
   "execution_count": 54,
   "id": "408a35f3-2d41-4d33-a65c-62c7480701a3",
   "metadata": {},
   "outputs": [
    {
     "name": "stdout",
     "output_type": "stream",
     "text": [
      "This is my first class\n"
     ]
    }
   ],
   "source": [
    "obj.test_class1()"
   ]
  },
  {
   "cell_type": "code",
   "execution_count": 56,
   "id": "caba575a-7e13-42d8-93c7-510f5c335ca9",
   "metadata": {},
   "outputs": [
    {
     "name": "stdout",
     "output_type": "stream",
     "text": [
      "This is my second class\n"
     ]
    }
   ],
   "source": [
    "obj.test_class2()\n"
   ]
  },
  {
   "cell_type": "code",
   "execution_count": 57,
   "id": "579bb582-b6e4-40da-9303-1b63eabeb74e",
   "metadata": {},
   "outputs": [
    {
     "name": "stdout",
     "output_type": "stream",
     "text": [
      "This is my third class\n"
     ]
    }
   ],
   "source": [
    "obj.test_class3()"
   ]
  },
  {
   "cell_type": "markdown",
   "id": "c48ed26d-9730-4875-b94f-e3c7f10dd543",
   "metadata": {},
   "source": [
    "###  Q4. What are getter and setter in python? Create a class and create a getter and a setter method in this  class. \n",
    "\n",
    "Ans:\n",
    "\n",
    "In Python, getters and setters are not the same as those in other object-oriented programming languages. Basically, the main purpose of using getters and setters in object-oriented programs is to ensure data encapsulation. Private variables in python are not actually hidden fields like in other object oriented languages\n"
   ]
  },
  {
   "cell_type": "code",
   "execution_count": 69,
   "id": "c99901b3-bfba-4886-a506-795220d183f2",
   "metadata": {},
   "outputs": [
    {
     "name": "stdout",
     "output_type": "stream",
     "text": [
      "21\n",
      "21\n"
     ]
    }
   ],
   "source": [
    "class student:\n",
    "    def __init__(self,age=0):\n",
    "        self._age = age\n",
    "    def get_age(self):\n",
    "        return self._age\n",
    "    def set_age(self,x):\n",
    "        self._age = x\n",
    "\n",
    "Abhishak = student()\n",
    "Abhishak.set_age(21)\n",
    "print(Abhishak.get_age())\n",
    "print(Abhishak._age)"
   ]
  },
  {
   "cell_type": "markdown",
   "id": "56482e12-1721-444d-928a-e37a933890b4",
   "metadata": {},
   "source": [
    "In above code functions get_age() and set_age() acts as normal functions and doesn’t play any impact as getters and setters, to achieve such functionality Python has a special function property().\n",
    "Using property() function to achieve getters and setters behaviour\n",
    "\n",
    "In Python property()is a built-in function that creates and returns a property object. A property object has three methods, getter(), setter(), and delete(). property() function in Python has four arguments property(fget, fset, fdel, doc), fget is a function for retrieving an attribute value. fset is a function for setting an attribute value. fdel is a function for deleting an attribute value. doc creates a docstring for attribute. A property object has three methods, getter(), setter(), and delete() to specify fget, fset and fdel individually. For Example"
   ]
  },
  {
   "cell_type": "code",
   "execution_count": 74,
   "id": "af81ee47-cb1f-47ac-abf5-49b70b741631",
   "metadata": {},
   "outputs": [
    {
     "name": "stdout",
     "output_type": "stream",
     "text": [
      "Getter Method\n",
      "Seller Method\n",
      "21\n",
      "Seller Method\n",
      "21\n",
      "21\n"
     ]
    }
   ],
   "source": [
    "class student:\n",
    "    def __init__(self,age=0):\n",
    "        print(\"Getter Method\")\n",
    "        self._age = age\n",
    "    def get_age(self):\n",
    "        print(\"Seller Method\")\n",
    "        return self._age\n",
    "    def set_age(self,x):\n",
    "        self._age = x\n",
    "    def del_age(self):\n",
    "        print(\"Delete Method\")\n",
    "        del self._age\n",
    "    \n",
    "    age = property(get_age,set_age,del_age)\n",
    "\n",
    "Abhishak = student()\n",
    "Abhishak.set_age(21)\n",
    "print(Abhishak.age)\n",
    "print(Abhishak.get_age())\n",
    "print(Abhishak._age)"
   ]
  },
  {
   "cell_type": "markdown",
   "id": "2514bc1c-e45b-4317-8867-175b6020f96f",
   "metadata": {},
   "source": [
    "### Q5.What is method overriding in python? Write a python code to demonstrate method overriding. \n",
    "\n",
    "Ans:\n",
    "\n",
    "Method overriding is an ability of any object-oriented programming language that allows a subclass or child class to provide a specific implementation of a method that is already provided by one of its super-classes or parent classes. When a method in a subclass has the same name, same parameters or signature and same return type(or sub-type) as a method in its super-class, then the method in the subclass is said to override the method in the super-class."
   ]
  },
  {
   "cell_type": "code",
   "execution_count": 75,
   "id": "2ac68a1f-4ee1-47cb-a610-8928d4211c6f",
   "metadata": {},
   "outputs": [
    {
     "name": "stdout",
     "output_type": "stream",
     "text": [
      "Inside Parent Class\n",
      "Inside Child Class\n"
     ]
    }
   ],
   "source": [
    "class parent():\n",
    "    def __init__(self):\n",
    "        self.value = \"Inside Parent Class\"\n",
    "    def show(self):\n",
    "        print(self.value)\n",
    "\n",
    "class child(parent):\n",
    "    def __init__(self):\n",
    "        self.value = \"Inside Child Class\"\n",
    "    def show(self):\n",
    "        print(self.value)\n",
    "        \n",
    "obj1 = parent()\n",
    "obj2 = child()\n",
    "obj1.show()\n",
    "obj2.show()\n",
    "    "
   ]
  },
  {
   "cell_type": "code",
   "execution_count": null,
   "id": "b2fdda95-4637-4fc3-af2d-29b2e39d3b78",
   "metadata": {},
   "outputs": [],
   "source": []
  }
 ],
 "metadata": {
  "kernelspec": {
   "display_name": "Python 3 (ipykernel)",
   "language": "python",
   "name": "python3"
  },
  "language_info": {
   "codemirror_mode": {
    "name": "ipython",
    "version": 3
   },
   "file_extension": ".py",
   "mimetype": "text/x-python",
   "name": "python",
   "nbconvert_exporter": "python",
   "pygments_lexer": "ipython3",
   "version": "3.10.8"
  }
 },
 "nbformat": 4,
 "nbformat_minor": 5
}
