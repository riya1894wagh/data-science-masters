{
 "cells": [
  {
   "cell_type": "markdown",
   "id": "031ab233",
   "metadata": {},
   "source": [
    "## Data Science Master's \n",
    "###  Statistics Basic-1\n",
    " \n",
    "\n",
    "\n"
   ]
  },
  {
   "cell_type": "markdown",
   "id": "5a744eff",
   "metadata": {},
   "source": [
    "### Q1. What is Statistics?\n",
    "ANS:\n",
    "\n",
    "Statistics is the study of the collection, analysis, interpretation, presentation, and organization of data. In other words, it is a mathematical discipline to collect, summarize data.\n",
    "\n",
    "In data science, statistics is used to summarize and describe data through measures such as mean, median, mode, and standard deviation. It is also used to test hypotheses and make inferences about populations based on samples of data. Additionally, statistical models are used to make predictions and identify relationships between variables.\n",
    "\n",
    "Basically, there are two types of statistics.\n",
    "\n",
    "1. Descriptive Statistics\n",
    "2. Inferential Statistics"
   ]
  },
  {
   "cell_type": "markdown",
   "id": "33cc6cf5",
   "metadata": {},
   "source": [
    "### Q2. Define the different types of statistics and give an example of when each type might be used.\n",
    "ANS:\n",
    "\n",
    "Basically, there are two types of statistics.\n",
    "\n",
    "1. Descriptive Statistics\n",
    "2. Inferential Statistics\n",
    "\n",
    "#### 1. Descriptive Statistics:\n",
    "\n",
    "* Descriptive statistics is a term given to the analysis of data that helps to describe, show and summarize data in a meaningful way.\n",
    "* It is a simple way to describe our data. \n",
    "* Descriptive statistics is very important to present our raw data ineffective/meaningful way using numerical calculations or graphs or tables.\n",
    "* This type of statistics is applied to already known data. \n",
    "\n",
    "Types of Descriptive Statistics:\n",
    "\n",
    "1. Measure of Central Tendency\n",
    "   * mean\n",
    "   * mode\n",
    "   * median\n",
    "2. Measure of Variability\n",
    "   * range\n",
    "   * varience\n",
    "   * standard deviation\n",
    "\n",
    "##### **Example of descriptive statistics:** \n",
    "A researcher collects data on the heights of 100 students in a school. The researcher uses descriptive statistics to summarize the data by calculating the mean height, standard deviation, and creating a histogram to visualize the distribution of heights.\n",
    "   \n",
    "#### 2. Inferential Statistics:\n",
    "* It consist of using data you have to measure conclusion.\n",
    "* In inferential statistics, predictions are made by taking any group of data in which you are interested.\n",
    "* It can be defined as a random sample of data taken from a population to describe and make inferences about the population.\n",
    "* Any group of data that includes all the data you are interested in is known as population.\n",
    "* It basically allows you to make predictions by taking a small sample instead of working on the whole population.\n",
    "\n",
    "##### **Example of inferential statistics:**\n",
    "A company wants to determine whether a new product will be successful among its target market. The company collects a sample of data from a group of customers who have purchased the product and uses inferential statistics to determine whether the data supports the conclusion that the product will be successful among the entire target market. The company may use techniques such as hypothesis testing, confidence intervals, or regression analysis to draw conclusions about the population."
   ]
  },
  {
   "cell_type": "markdown",
   "id": "44ccbef7",
   "metadata": {},
   "source": [
    "### Q4. Categorise the following datasets with respect to quantitative and qualitative data types:\n",
    "1. Grading in exam: A+, A, B+, B, C+, C, D, E\n",
    "2. Colour of mangoes: yellow, green, orange, red\n",
    "3.  Height data of a class: [178.9, 179, 179.5, 176, 177.2, 178.3, 175.8,...]\n",
    "4. Number of mangoes exported by a farm: [500, 600, 478, 672, ...]\n",
    "\n",
    "ANS:\n",
    "\n",
    "1. Grading in exam: A+, A, B+, B, C+, C, D, E\n",
    "* Qualitative (Categorical) Data Type\n",
    "\n",
    "2. Colour of mangoes: yellow, green, orange, red\n",
    "* Qualitative (Categorical) Data Type\n",
    "\n",
    "3. Height data of a class: [178.9, 179, 179.5, 176, 177.2, 178.3, 175.8,...]\n",
    "* Quantitative (Continuous) Data Type\n",
    "\n",
    "4. Number of mangoes exported by a farm: [500, 600, 478, 672, ...]\n",
    "* Quantitative (Discrete) Data Type\n"
   ]
  },
  {
   "cell_type": "markdown",
   "id": "bac4cb17",
   "metadata": {},
   "source": [
    "### Q5. Explain the concept of levels of measurement and give an example of a variable for each level.\n",
    "ANS:\n",
    "The concept of levels of measurement, also known as scales of measurement.\n",
    "1. Nominal Level: You can categorize your data by labelling them in mutually exclusive groups, but there is no order between the categories.\n",
    "Examples: City of birth, Gender, Ethnicity, Car brands, Marital status\n",
    "\n",
    "2. Ordinal Level: You can categorize and rank your data in an order, but you cannot say anything about the intervals between the rankings.Although you can rank the top 5 Olympic medallists, this scale does not tell you how close or far apart they are in number of wins.\n",
    "Examples: Top 5 Olympic medallists, Language ability (e.g., beginner, intermediate, fluent)\n",
    "\n",
    "3. Interval Level: You can categorize, rank, and infer equal intervals between neighboring data points, but there is no true zero point.\n",
    "For example, the difference between any two adjacent temperatures is the same: one degree. But zero degrees is defined differently depending on the scale – it doesn’t mean an absolute absence of temperature.\n",
    "Other Examples: Test scores (e.g., IQ or exams), Personality inventories, Temperature in Fahrenheit or Celsius\n",
    "\n",
    "4. Ratio Level: You can categorize, rank, and infer equal intervals between neighboring data points, and there is a true zero point.A true zero means there is an absence of the variable of interest. In ratio scales, zero does mean an absolute lack of the variable.\n",
    "For example, in the Kelvin temperature scale, there are no negative degrees of temperature – zero means an absolute lack of thermal energy.\n",
    "Other Exmaples: Height, Age, Weight\n"
   ]
  },
  {
   "cell_type": "markdown",
   "id": "4dd78947",
   "metadata": {},
   "source": [
    "### Q6. Why is it important to understand the level of measurement when analyzing data? Provide an example to illustrate your answer.\n",
    "ANS:\n",
    "\n",
    "Understanding the level of measurement is important when analyzing data because it determines the type of statistical analyses that can be performed on the data, as well as the appropriate way to interpret the results. Different types of statistical analysis are suited for different levels of measurement, and using an inappropriate analysis can result in inaccurate conclusions.\n",
    "\n",
    "If a variable is nominal, it is inappropriate to perform calculations such as mean or standard deviation, as these statistics are not meaningful for categorical data. Instead, appropriate measures for nominal data include frequency counts and percentages. If a variable is ordinal, it is appropriate to use measures such as median or mode, but not mean, as the ranking of the values does not necessarily correspond to equal intervals. If a variable is interval or ratio, all three measures (mean, median, and mode) can be used, as well as measures such as standard deviation and correlation.\n",
    "\n",
    "**For example** let's consider a study that examines the relationship between income and job satisfaction among employees in a company. The income variable is a ratio-level variable because it has a true zero point (no income) and equal intervals between values. In contrast, job satisfaction is an ordinal-level variable because it has a specific order or rank, but unequal or non-meaningful differences between categories. If the researcher were to use a correlation analysis to examine the relationship between these two variables, the result would be incorrect because correlation is only appropriate for ratio-level variables. Instead, a more appropriate statistical test for analyzing the relationship between a ratio-level and ordinal-level variable would be a chi-squared test or a t-test.\n",
    "In summary, understanding the level of measurement of variables is crucial for selecting appropriate statistical methods and interpreting results accurately in data analysis."
   ]
  },
  {
   "cell_type": "markdown",
   "id": "557a34cb",
   "metadata": {},
   "source": [
    "### Q7. How nominal data type is different from ordinal data type.\n",
    "ANS:\n",
    " \n",
    "Nominal and ordinal data are both types of categorical data, but they differ in the level of measurement and the type of information they provide.\n",
    "\n",
    "Nominal data is the lowest level of measurement and refers to data that is categorized without any numerical or quantitative value. In other words, nominal data consists of categories that are mutually exclusive and do not have any inherent order or ranking.\n",
    "Examples of nominal data include gender (male/female), hair color (blonde/brunette/red), and marital status (single/married/divorced).\n",
    "\n",
    "Ordinal data, on the other hand, is the second level of measurement and refers to data that has an inherent order or ranking, but the differences between categories may not be equal or meaningful.\n",
    "Examples of ordinal data include educational level (elementary school, high school, college), level of agreement (strongly disagree, disagree, neutral, agree, strongly agree), and rating scales (poor, fair, good, excellent).\n",
    "\n",
    "The main difference between nominal and ordinal data is that ordinal data has a specific order or ranking of the categories, while nominal data does not.\n",
    "\n"
   ]
  },
  {
   "cell_type": "markdown",
   "id": "7ad5ae4c",
   "metadata": {},
   "source": [
    "### Q8. Which type of plot can be used to display data in terms of range?\n",
    "ANS:\n",
    "\n",
    "* A type of plot that can be used to display data in terms of range is a box plot .\n",
    "* it is also known as a box-and-whisker plot. \n",
    "* A box plot is a graphical representation of the distribution of a set of continuous data, using five summary statistics: the minimum value, the first quartile (Q1), the median (Q2), the third quartile (Q3), and the maximum value.\n",
    "*  Box plots are particularly useful for displaying data that has a non-normal distribution, outliers, or multiple groups of data that need to be compared.\n",
    "* A box plot provides a visual representation of the minimum, maximum, median, and quartiles of a dataset. The box in the plot represents the interquartile range (IQR), which is the range of values between the first quartile (25th percentile) and the third quartile (75th percentile) of the dataset. The median is represented by a line within the box, while the minimum and maximum values are represented by the whiskers (vertical lines) that extend from the box.\n",
    "\n",
    "**For example** A box plot could be used to display the range of temperatures recorded in a city over a given period of time. The minimum and maximum values would be represented by the whiskers, and the box would represent the interquartile range (the middle 50% of the data). The median temperature would be represented by a line inside the box. This would allow for easy comparison of temperature ranges across different months or years, and also identify any unusually high or low temperatures as outliers.\n",
    " \n",
    " \n",
    "* Histogram is also one of the plot that can be shown in terms of ranges\n",
    "* A histogram is particularly useful for displaying continuous data, as it allows you to see the shape of the distribution, including any peaks or clusters, as well as the range and spread of the data. It can also help identify outliers or unusual patterns in the data.\n",
    "\n",
    " "
   ]
  },
  {
   "cell_type": "markdown",
   "id": "b3800c42",
   "metadata": {},
   "source": [
    "### Q9. Describe the difference between descriptive and inferential statistics. Give an example of each type of statistics and explain how they are used.\n",
    "ANS:\n",
    "\n",
    "**Descriptive statistics** involves summarizing and describing the main features of a data set, such as measures of central tendency (mean, median, mode) and measures of dispersion (range, standard deviation, variance). Descriptive statistics is used to provide a snapshot or summary of the data, in order to gain an understanding of the characteristics and patterns of the data set.\n",
    "\n",
    "Examples of descriptive statistics include calculating the mean height of a group of people or the standard deviation of their weights.\n",
    "\n",
    "**Inferential statistics** , on the other hand, involves using statistical methods to make inferences or draw conclusions about a population based on a sample of data. Inferential statistics is used to test hypotheses or answer research questions, by making predictions or generalizations about a larger group based on a smaller subset of data.\n",
    "\n",
    "Examples of inferential statistics include hypothesis testing, confidence intervals, and regression analysis. "
   ]
  },
  {
   "cell_type": "markdown",
   "id": "7c306cf0",
   "metadata": {},
   "source": [
    "### Q10. What are some common measures of central tendency and variability used in statistics? Explain how each measure can be used to describe a dataset.\n",
    "ANS:\n",
    "\n",
    "* Some of the common Measures of Central Tendency used in Statistics are:\n",
    "\n",
    "      1. Mean: \n",
    "      The arithmetic mean, or average, is calculated by summing all the values in a dataset and dividing by the number of values. The mean is a useful measure of central tendency when the data is normally distributed and there are no extreme values or outliers.\n",
    "\n",
    "      2. Median: \n",
    "      The median is the middle value in a dataset when the values are arranged in order. The median is useful when there are extreme values or outliers in the dataset, since it is not affected by these values in the same way as the mean.\n",
    "\n",
    "      3. Mode: \n",
    "      The mode is the most common value in a dataset. The mode is useful when dealing with categorical data or discrete variables, where there may be several values that occur with the same frequency.\n",
    "\n",
    "* Some of the common Measures of Variability used in Statistics are:\n",
    "\n",
    "      1. Range: \n",
    "      The range is the difference between the largest and smallest values in a dataset. The range provides a simple measure of variability, but it can be sensitive to extreme values or outliers.\n",
    "\n",
    "      2. Variance: \n",
    "      The variance measures the average squared deviation from the mean in a dataset. The variance is useful when you want to quantify the spread of a dataset, and it is used in many statistical tests and models.\n",
    "\n",
    "      3. Standard deviation: \n",
    "      The standard deviation is the square root of the variance. The standard deviation provides a more intuitive measure of variability, since it is in the same units as the original data."
   ]
  }
 ],
 "metadata": {
  "kernelspec": {
   "display_name": "Python 3 (ipykernel)",
   "language": "python",
   "name": "python3"
  },
  "language_info": {
   "codemirror_mode": {
    "name": "ipython",
    "version": 3
   },
   "file_extension": ".py",
   "mimetype": "text/x-python",
   "name": "python",
   "nbconvert_exporter": "python",
   "pygments_lexer": "ipython3",
   "version": "3.9.13"
  }
 },
 "nbformat": 4,
 "nbformat_minor": 5
}
