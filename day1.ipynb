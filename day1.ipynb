{
 "cells": [
  {
   "cell_type": "code",
   "execution_count": 4,
   "id": "ad0c5bc1-49d3-481c-865d-440cee1477d3",
   "metadata": {},
   "outputs": [],
   "source": [
    "a=10\n"
   ]
  },
  {
   "cell_type": "code",
   "execution_count": 5,
   "id": "e8e99c8a-b02a-4041-be9c-2a2c410ddba3",
   "metadata": {},
   "outputs": [
    {
     "data": {
      "text/plain": [
       "10"
      ]
     },
     "execution_count": 5,
     "metadata": {},
     "output_type": "execute_result"
    }
   ],
   "source": [
    "a"
   ]
  },
  {
   "cell_type": "markdown",
   "id": "000ae3de-80e3-40f8-ade8-bc8b8e3b202e",
   "metadata": {},
   "source": [
    "# hello my dear friends"
   ]
  },
  {
   "cell_type": "markdown",
   "id": "f5815dc3-5c8e-4f7a-a260-70a7583628b9",
   "metadata": {},
   "source": [
    "## my name is Riya"
   ]
  },
  {
   "cell_type": "markdown",
   "id": "c717cb83-d6d0-47e1-819f-17e5bea4045d",
   "metadata": {},
   "source": [
    "### this is my first jupyter notebook"
   ]
  },
  {
   "cell_type": "markdown",
   "id": "3bfe486c-263d-486b-ac34-f625dd6b885e",
   "metadata": {},
   "source": [
    "### now let's get started"
   ]
  },
  {
   "cell_type": "markdown",
   "id": "394b3dc2-8754-4894-b9ad-7a99692467a3",
   "metadata": {},
   "source": [
    "# numbers"
   ]
  },
  {
   "cell_type": "code",
   "execution_count": 11,
   "id": "6c900312-4a47-4140-99e3-f9c826546250",
   "metadata": {},
   "outputs": [
    {
     "data": {
      "text/plain": [
       "4"
      ]
     },
     "execution_count": 11,
     "metadata": {},
     "output_type": "execute_result"
    }
   ],
   "source": [
    "1+3"
   ]
  },
  {
   "cell_type": "code",
   "execution_count": 14,
   "id": "30a906da-feae-43c8-81c5-63e88981bd75",
   "metadata": {},
   "outputs": [
    {
     "name": "stdout",
     "output_type": "stream",
     "text": [
      "11\n"
     ]
    }
   ],
   "source": [
    "print(5+6)"
   ]
  },
  {
   "cell_type": "code",
   "execution_count": 17,
   "id": "7324fab2-3491-4d4e-b510-678f9f6ec781",
   "metadata": {},
   "outputs": [],
   "source": [
    "a=50"
   ]
  },
  {
   "cell_type": "code",
   "execution_count": 18,
   "id": "b2f8e6f3-aaff-40a6-8c37-e6b352d0698a",
   "metadata": {},
   "outputs": [
    {
     "data": {
      "text/plain": [
       "50"
      ]
     },
     "execution_count": 18,
     "metadata": {},
     "output_type": "execute_result"
    }
   ],
   "source": [
    "a"
   ]
  },
  {
   "cell_type": "code",
   "execution_count": 19,
   "id": "af0e25e5-d454-4978-afe9-9e133e4869e2",
   "metadata": {},
   "outputs": [
    {
     "name": "stdout",
     "output_type": "stream",
     "text": [
      "Hello, My Name is Riya Wagh. I had done my post graduation in B.sc in computer science. \n"
     ]
    }
   ],
   "source": [
    "print(\"Hello, My Name is Riya Wagh. I had done my post graduation in B.sc in computer science. \")"
   ]
  },
  {
   "cell_type": "code",
   "execution_count": 20,
   "id": "0296eae7-5fc4-4ea2-88e0-6b1415ec470a",
   "metadata": {},
   "outputs": [
    {
     "name": "stdout",
     "output_type": "stream",
     "text": [
      "Hello, My Name is Riya Wagh.\n",
      "I had done my post graduation in B.sc in computer science. \n"
     ]
    }
   ],
   "source": [
    "print(\"Hello, My Name is Riya Wagh.\")\n",
    "print(\"I had done my post graduation in B.sc in computer science. \")"
   ]
  },
  {
   "cell_type": "markdown",
   "id": "0edc1225-1012-45dc-9ff3-dd9df215ab99",
   "metadata": {},
   "source": [
    "print(\"Hello, My Name is Riya Wagh. \\n I had done my post graduation in B.sc in computer science. \")"
   ]
  },
  {
   "cell_type": "markdown",
   "id": "ca33bcf2-a94f-4433-964e-ed493751bb0a",
   "metadata": {},
   "source": [
    "# Variable Assignment"
   ]
  },
  {
   "cell_type": "code",
   "execution_count": 25,
   "id": "7987cc19-8575-4d67-b608-85f2650c7e64",
   "metadata": {},
   "outputs": [],
   "source": [
    "name = \"Riya\"\n",
    "company = \"Google\""
   ]
  },
  {
   "cell_type": "code",
   "execution_count": 28,
   "id": "167c7f51-6baa-41d8-9e06-1811c24338a0",
   "metadata": {},
   "outputs": [
    {
     "data": {
      "text/plain": [
       "str"
      ]
     },
     "execution_count": 28,
     "metadata": {},
     "output_type": "execute_result"
    }
   ],
   "source": [
    "type(name)\n",
    "type(company)"
   ]
  },
  {
   "cell_type": "code",
   "execution_count": 30,
   "id": "3c9d9c3b-93b0-40cf-b9b2-0820dca54d1a",
   "metadata": {},
   "outputs": [
    {
     "data": {
      "text/plain": [
       "str"
      ]
     },
     "execution_count": 30,
     "metadata": {},
     "output_type": "execute_result"
    }
   ],
   "source": [
    "type(\"khshjcvbs ksuchjgbuj\")"
   ]
  },
  {
   "cell_type": "code",
   "execution_count": 32,
   "id": "c78cdeba-80cf-41a3-b4eb-b2d6f025001a",
   "metadata": {},
   "outputs": [
    {
     "data": {
      "text/plain": [
       "'Google'"
      ]
     },
     "execution_count": 32,
     "metadata": {},
     "output_type": "execute_result"
    }
   ],
   "source": [
    "name\n",
    "company\n"
   ]
  },
  {
   "cell_type": "code",
   "execution_count": 33,
   "id": "4e6203fc-bc05-4bfa-b6cb-d2535f841fe1",
   "metadata": {},
   "outputs": [],
   "source": [
    "number=50"
   ]
  },
  {
   "cell_type": "code",
   "execution_count": 35,
   "id": "05d66c0b-945a-47e7-b7c4-acd144b504b6",
   "metadata": {},
   "outputs": [
    {
     "data": {
      "text/plain": [
       "50"
      ]
     },
     "execution_count": 35,
     "metadata": {},
     "output_type": "execute_result"
    }
   ],
   "source": [
    "number"
   ]
  },
  {
   "cell_type": "code",
   "execution_count": 36,
   "id": "5dc8bdc1-daff-4ae0-8df0-d76d609c7bdf",
   "metadata": {},
   "outputs": [
    {
     "data": {
      "text/plain": [
       "int"
      ]
     },
     "execution_count": 36,
     "metadata": {},
     "output_type": "execute_result"
    }
   ],
   "source": [
    "type(number)"
   ]
  },
  {
   "cell_type": "markdown",
   "id": "17553df1-33d9-46ae-92aa-5584b0ac3128",
   "metadata": {},
   "source": [
    "# Dynamic Typing"
   ]
  },
  {
   "cell_type": "code",
   "execution_count": 38,
   "id": "805bfb84-9036-484a-b384-c5567a2dbb6a",
   "metadata": {},
   "outputs": [],
   "source": [
    "a=20\n",
    "b=\"Riya\"\n",
    "company = \"Google\""
   ]
  },
  {
   "cell_type": "markdown",
   "id": "39bb9c57-2891-4062-9d00-f26e3f6b21ad",
   "metadata": {},
   "source": [
    "# Concatination Between Two Different Types"
   ]
  },
  {
   "cell_type": "code",
   "execution_count": 39,
   "id": "cb67046c-5206-435c-b0a2-1fc7327dc4f9",
   "metadata": {},
   "outputs": [
    {
     "data": {
      "text/plain": [
       "2"
      ]
     },
     "execution_count": 39,
     "metadata": {},
     "output_type": "execute_result"
    }
   ],
   "source": [
    "int(\"1\") + 1"
   ]
  },
  {
   "cell_type": "code",
   "execution_count": 40,
   "id": "d3455d70-1b25-4421-83c3-6ea38bee78ef",
   "metadata": {},
   "outputs": [
    {
     "data": {
      "text/plain": [
       "2"
      ]
     },
     "execution_count": 40,
     "metadata": {},
     "output_type": "execute_result"
    }
   ],
   "source": [
    "1+1"
   ]
  },
  {
   "cell_type": "code",
   "execution_count": 41,
   "id": "b4d8b2ba-eee4-4830-beeb-f160f9e4c8d0",
   "metadata": {},
   "outputs": [
    {
     "data": {
      "text/plain": [
       "'1111111111111111111111111111111111111111111111111111111111111111111111111111111111111111111111111111'"
      ]
     },
     "execution_count": 41,
     "metadata": {},
     "output_type": "execute_result"
    }
   ],
   "source": [
    "\"1\" * 100\n"
   ]
  },
  {
   "cell_type": "code",
   "execution_count": null,
   "id": "796898dc-1e60-40c2-a3f2-afc34ef2978e",
   "metadata": {},
   "outputs": [],
   "source": []
  },
  {
   "cell_type": "code",
   "execution_count": null,
   "id": "cc7c333f-53db-47f4-ac29-efe69cb52949",
   "metadata": {},
   "outputs": [],
   "source": []
  }
 ],
 "metadata": {
  "kernelspec": {
   "display_name": "Python 3 (ipykernel)",
   "language": "python",
   "name": "python3"
  },
  "language_info": {
   "codemirror_mode": {
    "name": "ipython",
    "version": 3
   },
   "file_extension": ".py",
   "mimetype": "text/x-python",
   "name": "python",
   "nbconvert_exporter": "python",
   "pygments_lexer": "ipython3",
   "version": "3.10.8"
  }
 },
 "nbformat": 4,
 "nbformat_minor": 5
}
