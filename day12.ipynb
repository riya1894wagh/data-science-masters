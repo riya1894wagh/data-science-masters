{
 "cells": [
  {
   "cell_type": "markdown",
   "id": "1378639a-8b29-4e8c-8225-2d438bc6e5d6",
   "metadata": {},
   "source": [
    "# map, reduce, filter function"
   ]
  },
  {
   "cell_type": "code",
   "execution_count": 1,
   "id": "406ec160-1e8a-4050-8249-ba72667d0073",
   "metadata": {},
   "outputs": [],
   "source": [
    "l=[1,2,3,4,5]\n"
   ]
  },
  {
   "cell_type": "code",
   "execution_count": 2,
   "id": "96b920b8-7a1e-47a1-ad27-4b8e29333df5",
   "metadata": {},
   "outputs": [],
   "source": [
    "def test(l):\n",
    "    l1=[]\n",
    "    for i in l:\n",
    "        l1.append(i**2)\n",
    "    return l1\n"
   ]
  },
  {
   "cell_type": "code",
   "execution_count": 4,
   "id": "12662d36-7aeb-4475-9bff-2955615d6525",
   "metadata": {},
   "outputs": [
    {
     "data": {
      "text/plain": [
       "[1, 4, 9, 16, 25]"
      ]
     },
     "execution_count": 4,
     "metadata": {},
     "output_type": "execute_result"
    }
   ],
   "source": [
    "test(l)"
   ]
  },
  {
   "cell_type": "code",
   "execution_count": 8,
   "id": "06d2498b-a41e-495a-8ad5-f02856c1238d",
   "metadata": {},
   "outputs": [],
   "source": [
    "def sq(x):\n",
    "    return x**2"
   ]
  },
  {
   "cell_type": "code",
   "execution_count": 13,
   "id": "8b9909e5-c29c-4b0c-b91d-5bf30a7abab4",
   "metadata": {},
   "outputs": [
    {
     "data": {
      "text/plain": [
       "[1, 4, 9, 16, 25]"
      ]
     },
     "execution_count": 13,
     "metadata": {},
     "output_type": "execute_result"
    }
   ],
   "source": [
    "list(map(sq,l))"
   ]
  },
  {
   "cell_type": "code",
   "execution_count": 14,
   "id": "7686da1e-bb94-43b2-8bd5-f5c574a6223e",
   "metadata": {},
   "outputs": [
    {
     "data": {
      "text/plain": [
       "[1, 4, 9, 16, 25]"
      ]
     },
     "execution_count": 14,
     "metadata": {},
     "output_type": "execute_result"
    }
   ],
   "source": [
    "list(map(lambda x : x**2 , l))"
   ]
  },
  {
   "cell_type": "code",
   "execution_count": 15,
   "id": "cf137f7b-4995-4653-9cbe-c90b61864e79",
   "metadata": {},
   "outputs": [
    {
     "data": {
      "text/plain": [
       "[2, 3, 4, 5, 6]"
      ]
     },
     "execution_count": 15,
     "metadata": {},
     "output_type": "execute_result"
    }
   ],
   "source": [
    "list(map(lambda x: x+1,l))"
   ]
  },
  {
   "cell_type": "code",
   "execution_count": 16,
   "id": "7c509328-3830-401f-8416-24ff25034b1e",
   "metadata": {},
   "outputs": [
    {
     "data": {
      "text/plain": [
       "['1', '2', '3', '4', '5']"
      ]
     },
     "execution_count": 16,
     "metadata": {},
     "output_type": "execute_result"
    }
   ],
   "source": [
    "list(map(lambda x: str(x) , l))"
   ]
  },
  {
   "cell_type": "code",
   "execution_count": 17,
   "id": "0337284b-a5e0-4a21-9b9c-8f56dae0a8cc",
   "metadata": {},
   "outputs": [],
   "source": [
    "l1 = [1,2,3,4,5]\n",
    "l2=[6,7,8,9,10,11]\n"
   ]
  },
  {
   "cell_type": "code",
   "execution_count": 19,
   "id": "c23ada1a-71d9-4ab9-bf25-0142c622d0db",
   "metadata": {},
   "outputs": [
    {
     "data": {
      "text/plain": [
       "[2, 4, 6, 8, 10]"
      ]
     },
     "execution_count": 19,
     "metadata": {},
     "output_type": "execute_result"
    }
   ],
   "source": [
    "list(map(lambda x,y: x+y, l1,l1))"
   ]
  },
  {
   "cell_type": "code",
   "execution_count": 20,
   "id": "cbc086a5-e56b-441c-b2fd-80df89bf1afb",
   "metadata": {},
   "outputs": [],
   "source": [
    "f=lambda x,y:x*y"
   ]
  },
  {
   "cell_type": "code",
   "execution_count": 22,
   "id": "fb50ff35-9e6c-4a8e-a4f2-966b2fd840aa",
   "metadata": {},
   "outputs": [
    {
     "data": {
      "text/plain": [
       "[6, 14, 24, 36, 50]"
      ]
     },
     "execution_count": 22,
     "metadata": {},
     "output_type": "execute_result"
    }
   ],
   "source": [
    "list(map(f,l1,l2))"
   ]
  },
  {
   "cell_type": "code",
   "execution_count": 23,
   "id": "b325a6e0-6794-408a-b73b-628bb59f5e22",
   "metadata": {},
   "outputs": [],
   "source": [
    "s=\"pwskills\""
   ]
  },
  {
   "cell_type": "code",
   "execution_count": 24,
   "id": "7dd14bc8-7f0d-4323-9dfd-ba8201570a42",
   "metadata": {},
   "outputs": [
    {
     "data": {
      "text/plain": [
       "['P', 'W', 'S', 'K', 'I', 'L', 'L', 'S']"
      ]
     },
     "execution_count": 24,
     "metadata": {},
     "output_type": "execute_result"
    }
   ],
   "source": [
    "list(map(lambda x: x.upper(),s))"
   ]
  },
  {
   "cell_type": "code",
   "execution_count": 25,
   "id": "aacc357d-053c-4099-bb5e-c15626b1f365",
   "metadata": {},
   "outputs": [],
   "source": [
    "from functools import reduce"
   ]
  },
  {
   "cell_type": "code",
   "execution_count": 26,
   "id": "85b2461a-1668-4598-975a-ec12f954d8a2",
   "metadata": {},
   "outputs": [],
   "source": [
    "a=[1,2,3,4,5,6,7,8,9]"
   ]
  },
  {
   "cell_type": "code",
   "execution_count": 29,
   "id": "63bf5f4d-9741-4780-a32d-1282dcb03d77",
   "metadata": {},
   "outputs": [
    {
     "data": {
      "text/plain": [
       "45"
      ]
     },
     "execution_count": 29,
     "metadata": {},
     "output_type": "execute_result"
    }
   ],
   "source": [
    "reduce(lambda x,y:x+y,a)"
   ]
  },
  {
   "cell_type": "code",
   "execution_count": 30,
   "id": "75dcd4cf-35be-4b11-9332-91674841ba8a",
   "metadata": {},
   "outputs": [],
   "source": [
    "def add(x,y):\n",
    "    return x+y"
   ]
  },
  {
   "cell_type": "code",
   "execution_count": 31,
   "id": "22c6b0d2-4326-4e3f-ad2e-c4c7f185c272",
   "metadata": {},
   "outputs": [
    {
     "data": {
      "text/plain": [
       "45"
      ]
     },
     "execution_count": 31,
     "metadata": {},
     "output_type": "execute_result"
    }
   ],
   "source": [
    "reduce(add,a)"
   ]
  },
  {
   "cell_type": "code",
   "execution_count": 32,
   "id": "5c8192b4-f392-4933-8ea1-c9b3e30f9304",
   "metadata": {},
   "outputs": [],
   "source": [
    "def add(x,y,z):\n",
    "    return x+y+z"
   ]
  },
  {
   "cell_type": "code",
   "execution_count": 33,
   "id": "9a5ffe87-0f80-48c5-86dc-39fdfcd8e579",
   "metadata": {},
   "outputs": [
    {
     "ename": "TypeError",
     "evalue": "add() missing 1 required positional argument: 'z'",
     "output_type": "error",
     "traceback": [
      "\u001b[0;31m---------------------------------------------------------------------------\u001b[0m",
      "\u001b[0;31mTypeError\u001b[0m                                 Traceback (most recent call last)",
      "Cell \u001b[0;32mIn[33], line 1\u001b[0m\n\u001b[0;32m----> 1\u001b[0m \u001b[43mreduce\u001b[49m\u001b[43m(\u001b[49m\u001b[43madd\u001b[49m\u001b[43m,\u001b[49m\u001b[43ma\u001b[49m\u001b[43m)\u001b[49m\n",
      "\u001b[0;31mTypeError\u001b[0m: add() missing 1 required positional argument: 'z'"
     ]
    }
   ],
   "source": [
    "reduce(add,a)"
   ]
  },
  {
   "cell_type": "code",
   "execution_count": 35,
   "id": "db406e4a-f75e-413e-a93a-af9f11cee34b",
   "metadata": {},
   "outputs": [
    {
     "ename": "TypeError",
     "evalue": "reduce() of empty iterable with no initial value",
     "output_type": "error",
     "traceback": [
      "\u001b[0;31m---------------------------------------------------------------------------\u001b[0m",
      "\u001b[0;31mTypeError\u001b[0m                                 Traceback (most recent call last)",
      "Cell \u001b[0;32mIn[35], line 1\u001b[0m\n\u001b[0;32m----> 1\u001b[0m \u001b[43mreduce\u001b[49m\u001b[43m(\u001b[49m\u001b[38;5;28;43;01mlambda\u001b[39;49;00m\u001b[43m \u001b[49m\u001b[43mx\u001b[49m\u001b[43m,\u001b[49m\u001b[43my\u001b[49m\u001b[43m \u001b[49m\u001b[43m:\u001b[49m\u001b[43m \u001b[49m\u001b[43mx\u001b[49m\u001b[38;5;241;43m+\u001b[39;49m\u001b[43my\u001b[49m\u001b[43m,\u001b[49m\u001b[43m[\u001b[49m\u001b[43m]\u001b[49m\u001b[43m)\u001b[49m\n",
      "\u001b[0;31mTypeError\u001b[0m: reduce() of empty iterable with no initial value"
     ]
    }
   ],
   "source": [
    "reduce(lambda x,y : x+y,[])"
   ]
  },
  {
   "cell_type": "code",
   "execution_count": 36,
   "id": "166a274b-e7b8-4c88-aec1-c69ab98dfd59",
   "metadata": {},
   "outputs": [
    {
     "data": {
      "text/plain": [
       "1"
      ]
     },
     "execution_count": 36,
     "metadata": {},
     "output_type": "execute_result"
    }
   ],
   "source": [
    "reduce(lambda x,y : x+y,[1])"
   ]
  },
  {
   "cell_type": "code",
   "execution_count": 37,
   "id": "4c4481d7-2d1e-4b05-84f3-9b67ffc79a5f",
   "metadata": {},
   "outputs": [
    {
     "data": {
      "text/plain": [
       "9"
      ]
     },
     "execution_count": 37,
     "metadata": {},
     "output_type": "execute_result"
    }
   ],
   "source": [
    "reduce(lambda x,y : x if x>y else y , a)"
   ]
  },
  {
   "cell_type": "code",
   "execution_count": 38,
   "id": "c5955f7f-a63b-4d52-8b6a-9c92da7558ba",
   "metadata": {},
   "outputs": [
    {
     "data": {
      "text/plain": [
       "[1, 2, 3, 4, 5, 6, 7, 8, 9]"
      ]
     },
     "execution_count": 38,
     "metadata": {},
     "output_type": "execute_result"
    }
   ],
   "source": [
    "a\n"
   ]
  },
  {
   "cell_type": "code",
   "execution_count": 40,
   "id": "7377d098-3eec-461c-acab-2a1df55b41de",
   "metadata": {},
   "outputs": [
    {
     "data": {
      "text/plain": [
       "[2, 4, 6, 8]"
      ]
     },
     "execution_count": 40,
     "metadata": {},
     "output_type": "execute_result"
    }
   ],
   "source": [
    "list(filter(lambda x : x % 2 == 0 , a))"
   ]
  },
  {
   "cell_type": "code",
   "execution_count": 41,
   "id": "24cece18-2a0f-42f1-ab61-5ad78e67dd41",
   "metadata": {},
   "outputs": [
    {
     "data": {
      "text/plain": [
       "[1, 3, 5, 7, 9]"
      ]
     },
     "execution_count": 41,
     "metadata": {},
     "output_type": "execute_result"
    }
   ],
   "source": [
    "list(filter(lambda x : x % 2 != 0 , a))"
   ]
  },
  {
   "cell_type": "code",
   "execution_count": 42,
   "id": "eb976943-de8c-4001-abd6-858d17e2b7a5",
   "metadata": {},
   "outputs": [],
   "source": [
    "b = [-5,5,6,-4,10,-9,55,96,-7]"
   ]
  },
  {
   "cell_type": "code",
   "execution_count": 43,
   "id": "a5d6fa8d-38bd-4e21-89ad-aaa9ef7ab039",
   "metadata": {},
   "outputs": [
    {
     "data": {
      "text/plain": [
       "[-5, -4, -9, -7]"
      ]
     },
     "execution_count": 43,
     "metadata": {},
     "output_type": "execute_result"
    }
   ],
   "source": [
    "list(filter(lambda x : x < 0 , b))"
   ]
  },
  {
   "cell_type": "code",
   "execution_count": 44,
   "id": "a531333e-c60e-42ab-b399-6f33b34826ac",
   "metadata": {},
   "outputs": [
    {
     "data": {
      "text/plain": [
       "[5, 6, 10, 55, 96]"
      ]
     },
     "execution_count": 44,
     "metadata": {},
     "output_type": "execute_result"
    }
   ],
   "source": [
    "list(filter(lambda x : x > 0 , b))"
   ]
  },
  {
   "cell_type": "code",
   "execution_count": 45,
   "id": "5e863f8f-1946-43ae-9e3e-14de2abf2e8c",
   "metadata": {},
   "outputs": [],
   "source": [
    "c = [\"Riya\" , \"Aadhya\" , \"yash\" ,\"Piyush\" , \"Anuj\" , \"Jyoti\" ,\"Abishak\"]"
   ]
  },
  {
   "cell_type": "code",
   "execution_count": 46,
   "id": "d9873d45-4b5a-4c81-8f43-62788dd963fa",
   "metadata": {},
   "outputs": [
    {
     "data": {
      "text/plain": [
       "[]"
      ]
     },
     "execution_count": 46,
     "metadata": {},
     "output_type": "execute_result"
    }
   ],
   "source": [
    "list(filter(lambda x : len(x) < 4 , c))"
   ]
  },
  {
   "cell_type": "code",
   "execution_count": 47,
   "id": "ce7cbcff-a1b7-405e-80de-c3802f655eb4",
   "metadata": {},
   "outputs": [
    {
     "data": {
      "text/plain": [
       "['Riya', 'yash', 'Anuj']"
      ]
     },
     "execution_count": 47,
     "metadata": {},
     "output_type": "execute_result"
    }
   ],
   "source": [
    "list(filter(lambda x : len(x) < 5 , c))"
   ]
  },
  {
   "cell_type": "code",
   "execution_count": 49,
   "id": "83ebf522-e8d5-400c-a971-0fa6d4f9f29f",
   "metadata": {},
   "outputs": [
    {
     "data": {
      "text/plain": [
       "['Riya', 'yash', 'Anuj', 'Jyoti']"
      ]
     },
     "execution_count": 49,
     "metadata": {},
     "output_type": "execute_result"
    }
   ],
   "source": [
    "list(filter(lambda x : len(x) < 6 , c))"
   ]
  },
  {
   "cell_type": "code",
   "execution_count": 52,
   "id": "0f6d3e34-7d4d-4ae2-9818-67b67fb98c68",
   "metadata": {},
   "outputs": [
    {
     "data": {
      "text/plain": [
       "['Riya', 'Aadhya', 'yash', 'Piyush', 'Anuj', 'Jyoti', 'Abishak']"
      ]
     },
     "execution_count": 52,
     "metadata": {},
     "output_type": "execute_result"
    }
   ],
   "source": [
    "list(filter(lambda x : len(x) < 8 , c))"
   ]
  },
  {
   "cell_type": "code",
   "execution_count": null,
   "id": "9a9ef2c3-8f47-41ad-8f96-a06aba0d336d",
   "metadata": {},
   "outputs": [],
   "source": []
  }
 ],
 "metadata": {
  "kernelspec": {
   "display_name": "Python 3 (ipykernel)",
   "language": "python",
   "name": "python3"
  },
  "language_info": {
   "codemirror_mode": {
    "name": "ipython",
    "version": 3
   },
   "file_extension": ".py",
   "mimetype": "text/x-python",
   "name": "python",
   "nbconvert_exporter": "python",
   "pygments_lexer": "ipython3",
   "version": "3.10.8"
  }
 },
 "nbformat": 4,
 "nbformat_minor": 5
}
