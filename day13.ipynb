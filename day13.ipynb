{
 "cells": [
  {
   "cell_type": "markdown",
   "id": "0be842b0-7268-45a5-be9b-6b213034fd84",
   "metadata": {},
   "source": [
    "# OOPs "
   ]
  },
  {
   "cell_type": "code",
   "execution_count": 86,
   "id": "3f574fdb-604a-4a6c-b007-283b12f0ed2c",
   "metadata": {},
   "outputs": [],
   "source": [
    "a=1"
   ]
  },
  {
   "cell_type": "code",
   "execution_count": 87,
   "id": "645be470-e24d-4c61-9970-8431be81eee8",
   "metadata": {},
   "outputs": [
    {
     "name": "stdout",
     "output_type": "stream",
     "text": [
      "<class 'int'>\n"
     ]
    }
   ],
   "source": [
    "print(type(a))"
   ]
  },
  {
   "cell_type": "code",
   "execution_count": 88,
   "id": "ff4e5c0e-d09c-4399-b279-3b4799717dc6",
   "metadata": {},
   "outputs": [
    {
     "name": "stdout",
     "output_type": "stream",
     "text": [
      "<class 'str'>\n"
     ]
    }
   ],
   "source": [
    "print(type(\"pwskills\"))"
   ]
  },
  {
   "cell_type": "code",
   "execution_count": 89,
   "id": "bd260a00-88a9-46c7-af60-9e789d094548",
   "metadata": {},
   "outputs": [
    {
     "ename": "SyntaxError",
     "evalue": "incomplete input (1236307212.py, line 2)",
     "output_type": "error",
     "traceback": [
      "\u001b[0;36m  Cell \u001b[0;32mIn[89], line 2\u001b[0;36m\u001b[0m\n\u001b[0;31m    \u001b[0m\n\u001b[0m    ^\u001b[0m\n\u001b[0;31mSyntaxError\u001b[0m\u001b[0;31m:\u001b[0m incomplete input\n"
     ]
    }
   ],
   "source": [
    "class test:\n",
    "    "
   ]
  },
  {
   "cell_type": "code",
   "execution_count": null,
   "id": "5da1c450-fbb5-4d4c-b9fd-42b085ca85a1",
   "metadata": {},
   "outputs": [],
   "source": [
    "class test :\n",
    "    pass"
   ]
  },
  {
   "cell_type": "code",
   "execution_count": null,
   "id": "7d3ebb1e-e1cd-4957-8818-17131d4b71a5",
   "metadata": {},
   "outputs": [],
   "source": [
    "a=test()"
   ]
  },
  {
   "cell_type": "code",
   "execution_count": null,
   "id": "cb6788aa-7a71-4842-8cee-b4619329799c",
   "metadata": {},
   "outputs": [],
   "source": [
    "print(type(a))"
   ]
  },
  {
   "cell_type": "code",
   "execution_count": null,
   "id": "b1e6cc3a-bf5b-4277-b0c1-fea57c279b19",
   "metadata": {},
   "outputs": [],
   "source": [
    "class pwskills:\n",
    "    \n",
    "    def welcomr_msg():\n",
    "        print(\"welcome to pwskills\")"
   ]
  },
  {
   "cell_type": "code",
   "execution_count": null,
   "id": "1ff703e2-73b9-48b3-a05c-50fd2635c4ba",
   "metadata": {},
   "outputs": [],
   "source": [
    "riya = pwskills()"
   ]
  },
  {
   "cell_type": "code",
   "execution_count": 90,
   "id": "4798eb6f-cbfe-40d4-9c2c-b4c7a5551072",
   "metadata": {},
   "outputs": [
    {
     "name": "stdout",
     "output_type": "stream",
     "text": [
      "welcome to pwskills\n"
     ]
    }
   ],
   "source": [
    "riya.welcome_msg()"
   ]
  },
  {
   "cell_type": "code",
   "execution_count": 91,
   "id": "4e9f334d-0df1-4373-b433-6460f567c778",
   "metadata": {},
   "outputs": [],
   "source": [
    "class pwskills:\n",
    "    \n",
    "    def welcome_msg(self):\n",
    "        print(\"welcome to pwskills\") "
   ]
  },
  {
   "cell_type": "code",
   "execution_count": 92,
   "id": "605bd6e4-037b-4c72-9ef2-1efb71ba1ee5",
   "metadata": {},
   "outputs": [],
   "source": [
    "riya = pwskills()"
   ]
  },
  {
   "cell_type": "code",
   "execution_count": 93,
   "id": "3993115a-1c1c-4460-b8e3-209c47489e59",
   "metadata": {},
   "outputs": [
    {
     "name": "stdout",
     "output_type": "stream",
     "text": [
      "welcome to pwskills\n"
     ]
    }
   ],
   "source": [
    "riya.welcome_msg()"
   ]
  },
  {
   "cell_type": "code",
   "execution_count": 94,
   "id": "95f6e011-0a9e-4f1d-ae2b-f0307672b3b9",
   "metadata": {},
   "outputs": [],
   "source": [
    "a=1"
   ]
  },
  {
   "cell_type": "code",
   "execution_count": 95,
   "id": "2b0f36ff-5c62-45cd-a477-d9e4daae8380",
   "metadata": {},
   "outputs": [],
   "source": [
    "b=2"
   ]
  },
  {
   "cell_type": "code",
   "execution_count": 96,
   "id": "41767374-ca7d-4e3b-a6de-840bceb4b871",
   "metadata": {},
   "outputs": [
    {
     "data": {
      "text/plain": [
       "1"
      ]
     },
     "execution_count": 96,
     "metadata": {},
     "output_type": "execute_result"
    }
   ],
   "source": [
    "a"
   ]
  },
  {
   "cell_type": "code",
   "execution_count": 97,
   "id": "9fef3e4a-8680-4169-875c-09c5838b2ff4",
   "metadata": {},
   "outputs": [
    {
     "data": {
      "text/plain": [
       "2"
      ]
     },
     "execution_count": 97,
     "metadata": {},
     "output_type": "execute_result"
    }
   ],
   "source": [
    "b"
   ]
  },
  {
   "cell_type": "code",
   "execution_count": 98,
   "id": "6adf9d12-2963-4d55-8078-170ca6b39c6b",
   "metadata": {},
   "outputs": [],
   "source": [
    "class pwskills1:\n",
    "    \n",
    "    def __init__(self,phone_number,email_id,student_id):\n",
    "        \n",
    "        self.phone_number = phone_number\n",
    "        self.email_id = email_id\n",
    "        self.student_id = student_id\n",
    "    \n",
    "    def return_student_details(self):\n",
    "        return self.phone_number,self.email_id,self.student_id"
   ]
  },
  {
   "cell_type": "code",
   "execution_count": 99,
   "id": "c5d40c79-1e4b-41aa-b200-1fa79f055199",
   "metadata": {},
   "outputs": [
    {
     "ename": "TypeError",
     "evalue": "pwskills1.__init__() missing 3 required positional arguments: 'phone_number', 'email_id', and 'student_id'",
     "output_type": "error",
     "traceback": [
      "\u001b[0;31m---------------------------------------------------------------------------\u001b[0m",
      "\u001b[0;31mTypeError\u001b[0m                                 Traceback (most recent call last)",
      "Cell \u001b[0;32mIn[99], line 1\u001b[0m\n\u001b[0;32m----> 1\u001b[0m riya \u001b[38;5;241m=\u001b[39m \u001b[43mpwskills1\u001b[49m\u001b[43m(\u001b[49m\u001b[43m)\u001b[49m\n",
      "\u001b[0;31mTypeError\u001b[0m: pwskills1.__init__() missing 3 required positional arguments: 'phone_number', 'email_id', and 'student_id'"
     ]
    }
   ],
   "source": [
    "riya = pwskills1()"
   ]
  },
  {
   "cell_type": "code",
   "execution_count": 102,
   "id": "4737a59d-912d-4deb-82b3-0225efb3e755",
   "metadata": {},
   "outputs": [],
   "source": [
    "riya = pwskills1(123456789 , \"riya@gmail.com\" , 101)"
   ]
  },
  {
   "cell_type": "code",
   "execution_count": 103,
   "id": "9d6e0599-1b34-4faa-8866-d3d7b90785db",
   "metadata": {},
   "outputs": [
    {
     "data": {
      "text/plain": [
       "123456789"
      ]
     },
     "execution_count": 103,
     "metadata": {},
     "output_type": "execute_result"
    }
   ],
   "source": [
    "riya.phone_number"
   ]
  },
  {
   "cell_type": "code",
   "execution_count": 104,
   "id": "20ac1cfe-f957-4918-a3b8-13430aa68e5c",
   "metadata": {},
   "outputs": [
    {
     "data": {
      "text/plain": [
       "'riya@gmail.com'"
      ]
     },
     "execution_count": 104,
     "metadata": {},
     "output_type": "execute_result"
    }
   ],
   "source": [
    "riya.email_id"
   ]
  },
  {
   "cell_type": "code",
   "execution_count": null,
   "id": "a6c01e9c-2937-427a-bdbd-29ce8d6eaecc",
   "metadata": {},
   "outputs": [],
   "source": [
    "riya.student_id"
   ]
  },
  {
   "cell_type": "code",
   "execution_count": null,
   "id": "79ea8287-a4a7-482a-8624-a6de2c51783e",
   "metadata": {},
   "outputs": [],
   "source": [
    "riya.return_student_details()"
   ]
  },
  {
   "cell_type": "code",
   "execution_count": null,
   "id": "be42f035-31b0-4cb4-b1f9-e5de30c608a2",
   "metadata": {},
   "outputs": [],
   "source": [
    "aadhya = pwskills1(456789587,\"aadhya@gmail.com\",102)"
   ]
  },
  {
   "cell_type": "code",
   "execution_count": null,
   "id": "c6890862-7331-486e-b4e1-9a57b1ab48a5",
   "metadata": {},
   "outputs": [],
   "source": [
    "aadhya.phone_number"
   ]
  },
  {
   "cell_type": "code",
   "execution_count": null,
   "id": "24bfa6cc-d0b8-49f8-9744-bb23d4bf331c",
   "metadata": {},
   "outputs": [],
   "source": [
    "aadhya.return_student_details()"
   ]
  },
  {
   "cell_type": "code",
   "execution_count": 105,
   "id": "be33a05c-56aa-44fa-b07b-8350a049fbb9",
   "metadata": {},
   "outputs": [],
   "source": [
    "class pwskills2:\n",
    "    \n",
    "    def __init__(riya,phone_number,email_id,student_id):\n",
    "        \n",
    "        riya.phone_number = phone_number\n",
    "        riya.email_id = email_id\n",
    "        riya.student_id = student_id\n",
    "    \n",
    "    def return_student_details(self):\n",
    "        return riya.phone_number,self.email_id,self.student_id"
   ]
  },
  {
   "cell_type": "code",
   "execution_count": 106,
   "id": "b9e684b5-d195-4571-bfd6-0822b551a33d",
   "metadata": {},
   "outputs": [],
   "source": [
    "aadhya = pwskills2(546894568,\"aadhya@gmail.com\",102)"
   ]
  },
  {
   "cell_type": "code",
   "execution_count": 107,
   "id": "aaee2d52-a340-4e30-943a-1e3a7a562f79",
   "metadata": {},
   "outputs": [
    {
     "data": {
      "text/plain": [
       "(123456789, 'aadhya@gmail.com', 102)"
      ]
     },
     "execution_count": 107,
     "metadata": {},
     "output_type": "execute_result"
    }
   ],
   "source": [
    "aadhya.return_student_details()"
   ]
  },
  {
   "cell_type": "code",
   "execution_count": null,
   "id": "7f7dd2c6-62f9-4e04-9c81-886dbe64bbfe",
   "metadata": {},
   "outputs": [],
   "source": []
  }
 ],
 "metadata": {
  "kernelspec": {
   "display_name": "Python 3 (ipykernel)",
   "language": "python",
   "name": "python3"
  },
  "language_info": {
   "codemirror_mode": {
    "name": "ipython",
    "version": 3
   },
   "file_extension": ".py",
   "mimetype": "text/x-python",
   "name": "python",
   "nbconvert_exporter": "python",
   "pygments_lexer": "ipython3",
   "version": "3.10.8"
  }
 },
 "nbformat": 4,
 "nbformat_minor": 5
}
