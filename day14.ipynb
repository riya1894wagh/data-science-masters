{
 "cells": [
  {
   "cell_type": "markdown",
   "id": "f67a3814-5e06-41ca-b095-3cc42db41493",
   "metadata": {},
   "source": [
    "# Polymorphism"
   ]
  },
  {
   "cell_type": "code",
   "execution_count": 59,
   "id": "06940cbe-6246-48a9-91d1-35427b85ddf8",
   "metadata": {},
   "outputs": [],
   "source": [
    "def test(a,b):\n",
    "    return a+b\n",
    "    "
   ]
  },
  {
   "cell_type": "code",
   "execution_count": 60,
   "id": "5aa9ecc7-183b-4238-90c7-57acd98de031",
   "metadata": {},
   "outputs": [
    {
     "data": {
      "text/plain": [
       "47"
      ]
     },
     "execution_count": 60,
     "metadata": {},
     "output_type": "execute_result"
    }
   ],
   "source": [
    "test(5,42)"
   ]
  },
  {
   "cell_type": "code",
   "execution_count": 61,
   "id": "d10268ab-9510-44ea-b36f-b43ed44cf53d",
   "metadata": {},
   "outputs": [
    {
     "data": {
      "text/plain": [
       "'Riya Wagh'"
      ]
     },
     "execution_count": 61,
     "metadata": {},
     "output_type": "execute_result"
    }
   ],
   "source": [
    "test(\"Riya \",\"Wagh\")"
   ]
  },
  {
   "cell_type": "code",
   "execution_count": 62,
   "id": "0164c5aa-92f4-4492-b2bb-0203ea2a5b58",
   "metadata": {},
   "outputs": [
    {
     "data": {
      "text/plain": [
       "[1, 2, 3, 4, 5, 6, 7, 8, 9, 10, 1, 12]"
      ]
     },
     "execution_count": 62,
     "metadata": {},
     "output_type": "execute_result"
    }
   ],
   "source": [
    "test([1,2,3,4,5],[6,7,8,9,10,1,12])"
   ]
  },
  {
   "cell_type": "code",
   "execution_count": 63,
   "id": "dea802eb-13fa-41b4-aa17-a255d5960fe0",
   "metadata": {},
   "outputs": [],
   "source": [
    "class data_science :\n",
    "    def syllabus(self) :\n",
    "        print(\"This is my method of Data Science\")\n",
    "        "
   ]
  },
  {
   "cell_type": "code",
   "execution_count": 64,
   "id": "6b845f0f-91bb-4752-bb5d-38ed21645cae",
   "metadata": {},
   "outputs": [],
   "source": [
    "class web_dev :\n",
    "    def syllabus(self) :\n",
    "        print(\"This is my method for web dev\")"
   ]
  },
  {
   "cell_type": "code",
   "execution_count": 65,
   "id": "95936d78-ba3b-44a6-80a1-494ecca2c880",
   "metadata": {},
   "outputs": [],
   "source": [
    "def class_parcer(class_obj) :\n",
    "    for i in class_obj:\n",
    "        print( i.syllabus() )"
   ]
  },
  {
   "cell_type": "code",
   "execution_count": 66,
   "id": "259896f1-a09b-4b33-a9a2-082ad8cafd5e",
   "metadata": {},
   "outputs": [],
   "source": [
    "obj_data_science = data_science()"
   ]
  },
  {
   "cell_type": "code",
   "execution_count": 67,
   "id": "e8fe2224-cc8b-4eb5-a60a-47ba52a849bb",
   "metadata": {},
   "outputs": [],
   "source": [
    "obj_web_dev = web_dev()"
   ]
  },
  {
   "cell_type": "code",
   "execution_count": 68,
   "id": "fb70a73d-bc2a-4a35-b635-9045d77b51ca",
   "metadata": {},
   "outputs": [],
   "source": [
    "class_ojb = [obj_data_science , obj_web_dev]"
   ]
  },
  {
   "cell_type": "code",
   "execution_count": 69,
   "id": "0fd5098c-f15b-40bb-9f74-179fecf44dd7",
   "metadata": {},
   "outputs": [
    {
     "name": "stdout",
     "output_type": "stream",
     "text": [
      "This is my method of Data Science\n",
      "None\n",
      "This is my method for web dev\n",
      "None\n"
     ]
    }
   ],
   "source": [
    "class_parcer(class_ojb)"
   ]
  },
  {
   "cell_type": "code",
   "execution_count": null,
   "id": "90e1f23f-db77-4f74-9a0d-5ae032f22e1b",
   "metadata": {},
   "outputs": [],
   "source": []
  },
  {
   "cell_type": "code",
   "execution_count": null,
   "id": "69da9e91-a420-4462-bc59-9f108288c41f",
   "metadata": {},
   "outputs": [],
   "source": []
  }
 ],
 "metadata": {
  "kernelspec": {
   "display_name": "Python 3 (ipykernel)",
   "language": "python",
   "name": "python3"
  },
  "language_info": {
   "codemirror_mode": {
    "name": "ipython",
    "version": 3
   },
   "file_extension": ".py",
   "mimetype": "text/x-python",
   "name": "python",
   "nbconvert_exporter": "python",
   "pygments_lexer": "ipython3",
   "version": "3.10.8"
  }
 },
 "nbformat": 4,
 "nbformat_minor": 5
}
