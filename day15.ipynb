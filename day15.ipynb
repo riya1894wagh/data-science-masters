{
 "cells": [
  {
   "cell_type": "markdown",
   "id": "91ede79c-2ef2-4072-b6ec-9f011603d903",
   "metadata": {},
   "source": [
    "# Encapsulation\n"
   ]
  },
  {
   "cell_type": "code",
   "execution_count": 67,
   "id": "cc4b86ac-414b-4835-aa65-82e313d11bc7",
   "metadata": {},
   "outputs": [],
   "source": [
    "class test:\n",
    "    def __init__(self,a,b):\n",
    "        self.a=a\n",
    "        self.b=b"
   ]
  },
  {
   "cell_type": "code",
   "execution_count": 68,
   "id": "ba850b1b-e9a3-4801-b98b-71623e6c7580",
   "metadata": {},
   "outputs": [],
   "source": [
    "t=test(45,65)"
   ]
  },
  {
   "cell_type": "code",
   "execution_count": 69,
   "id": "07cc672a-65b1-4f17-9163-f76d95e99023",
   "metadata": {},
   "outputs": [
    {
     "data": {
      "text/plain": [
       "45"
      ]
     },
     "execution_count": 69,
     "metadata": {},
     "output_type": "execute_result"
    }
   ],
   "source": [
    "t.a"
   ]
  },
  {
   "cell_type": "code",
   "execution_count": 70,
   "id": "921a427b-e83c-41aa-a1eb-e17dfa3176b2",
   "metadata": {},
   "outputs": [
    {
     "data": {
      "text/plain": [
       "65"
      ]
     },
     "execution_count": 70,
     "metadata": {},
     "output_type": "execute_result"
    }
   ],
   "source": [
    "t.b"
   ]
  },
  {
   "cell_type": "code",
   "execution_count": 71,
   "id": "c09294a0-98d2-45bb-813d-9ef1a3eee6c3",
   "metadata": {},
   "outputs": [],
   "source": [
    "t.a=548"
   ]
  },
  {
   "cell_type": "code",
   "execution_count": 72,
   "id": "398eb704-d172-462a-b482-f356742b02fe",
   "metadata": {},
   "outputs": [
    {
     "data": {
      "text/plain": [
       "548"
      ]
     },
     "execution_count": 72,
     "metadata": {},
     "output_type": "execute_result"
    }
   ],
   "source": [
    "t.a"
   ]
  },
  {
   "cell_type": "code",
   "execution_count": 73,
   "id": "caa11e79-3801-49ef-a0b7-74e81d2b8598",
   "metadata": {},
   "outputs": [],
   "source": [
    "class car:\n",
    "    def __init__(self,year,make,model,speed):\n",
    "        self.__year=year\n",
    "        self.__make=make\n",
    "        self.__model=model\n",
    "        self.__speed=0\n",
    "    \n",
    "    \n",
    "    def set_speed(self,speed):\n",
    "        self.__speed = 0 if speed<0 else speed\n",
    "        \n",
    "    def get_speed(self):\n",
    "        return self.__speed"
   ]
  },
  {
   "cell_type": "code",
   "execution_count": 74,
   "id": "332ab5eb-8c4e-4fdb-8852-a43a01175ac8",
   "metadata": {},
   "outputs": [],
   "source": [
    "obj_car = car(2021,\"Toyata\",\"innova\",12)"
   ]
  },
  {
   "cell_type": "code",
   "execution_count": 75,
   "id": "e3bd319a-fba9-4e85-bf9c-1657bfa82e22",
   "metadata": {},
   "outputs": [
    {
     "data": {
      "text/plain": [
       "2021"
      ]
     },
     "execution_count": 75,
     "metadata": {},
     "output_type": "execute_result"
    }
   ],
   "source": [
    "obj_car._car__year"
   ]
  },
  {
   "cell_type": "code",
   "execution_count": 76,
   "id": "c3bd66f5-e6cb-487d-a544-b5e929cce663",
   "metadata": {},
   "outputs": [],
   "source": [
    "obj_car._car__year = 2023\n"
   ]
  },
  {
   "cell_type": "code",
   "execution_count": 77,
   "id": "71cb4dd1-c8cb-46f0-87ae-fd01f7a7b4ca",
   "metadata": {},
   "outputs": [
    {
     "data": {
      "text/plain": [
       "2023"
      ]
     },
     "execution_count": 77,
     "metadata": {},
     "output_type": "execute_result"
    }
   ],
   "source": [
    "obj_car._car__year\n"
   ]
  },
  {
   "cell_type": "code",
   "execution_count": 78,
   "id": "002be76f-4772-4264-93fb-411433dbee8f",
   "metadata": {},
   "outputs": [],
   "source": [
    "obj_car.set_speed(-5641)"
   ]
  },
  {
   "cell_type": "code",
   "execution_count": 79,
   "id": "4ed6b5c7-375a-4127-a30f-0ddbe1997548",
   "metadata": {},
   "outputs": [
    {
     "data": {
      "text/plain": [
       "0"
      ]
     },
     "execution_count": 79,
     "metadata": {},
     "output_type": "execute_result"
    }
   ],
   "source": [
    "obj_car._car__speed"
   ]
  },
  {
   "cell_type": "code",
   "execution_count": 80,
   "id": "7e353b80-01b7-40aa-bbbc-f092c59d53d6",
   "metadata": {},
   "outputs": [],
   "source": [
    "obj_car.set_speed(4578)\n"
   ]
  },
  {
   "cell_type": "code",
   "execution_count": 81,
   "id": "648d79e5-472b-4018-a2a9-0ff4c415380c",
   "metadata": {},
   "outputs": [
    {
     "data": {
      "text/plain": [
       "4578"
      ]
     },
     "execution_count": 81,
     "metadata": {},
     "output_type": "execute_result"
    }
   ],
   "source": [
    "obj_car._car__speed"
   ]
  },
  {
   "cell_type": "code",
   "execution_count": 82,
   "id": "f80349e7-c2b1-4b5c-92a3-362fd92e66ac",
   "metadata": {},
   "outputs": [
    {
     "data": {
      "text/plain": [
       "4578"
      ]
     },
     "execution_count": 82,
     "metadata": {},
     "output_type": "execute_result"
    }
   ],
   "source": [
    "obj_car.get_speed()"
   ]
  },
  {
   "cell_type": "code",
   "execution_count": 1,
   "id": "ae712c57-3665-4e9c-8901-c98418c82559",
   "metadata": {},
   "outputs": [],
   "source": [
    "class bank_account:\n",
    "    def __init__(self,balance):\n",
    "        self.__balance = balance\n",
    "    def deposite(self,amount):\n",
    "        self.__balance = self.__balance + amount\n",
    "    def withdrow(self,amount):\n",
    "        if self.__balance >= amount :\n",
    "            self.__balance = self.__balance - amount\n",
    "            return True\n",
    "        else :\n",
    "            return False\n",
    "    def get_balance(self) :\n",
    "        return self.__balance"
   ]
  },
  {
   "cell_type": "code",
   "execution_count": 2,
   "id": "0484b485-1b2f-477c-bc17-b4007f8242d5",
   "metadata": {},
   "outputs": [],
   "source": [
    "obj_bank_account = bank_account(1000)\n",
    "\n"
   ]
  },
  {
   "cell_type": "code",
   "execution_count": 3,
   "id": "fac0d418-b333-49cc-9d19-4ce93b5acec2",
   "metadata": {},
   "outputs": [
    {
     "data": {
      "text/plain": [
       "1000"
      ]
     },
     "execution_count": 3,
     "metadata": {},
     "output_type": "execute_result"
    }
   ],
   "source": [
    "obj_bank_account.get_balance()"
   ]
  },
  {
   "cell_type": "code",
   "execution_count": 4,
   "id": "0096b56a-4411-4f38-9134-b1f47e292e89",
   "metadata": {},
   "outputs": [],
   "source": [
    "obj_bank_account.deposite(6000)"
   ]
  },
  {
   "cell_type": "code",
   "execution_count": 5,
   "id": "bdee063b-a483-40e7-a60b-535180bf4832",
   "metadata": {},
   "outputs": [
    {
     "data": {
      "text/plain": [
       "7000"
      ]
     },
     "execution_count": 5,
     "metadata": {},
     "output_type": "execute_result"
    }
   ],
   "source": [
    "obj_bank_account.get_balance()"
   ]
  },
  {
   "cell_type": "code",
   "execution_count": 6,
   "id": "a63013a2-fea8-4b36-a11f-cb1c597c6076",
   "metadata": {},
   "outputs": [
    {
     "data": {
      "text/plain": [
       "True"
      ]
     },
     "execution_count": 6,
     "metadata": {},
     "output_type": "execute_result"
    }
   ],
   "source": [
    "obj_bank_account.withdrow(2000)"
   ]
  },
  {
   "cell_type": "code",
   "execution_count": 7,
   "id": "634f34e7-cd42-40a2-82e8-0ac45b93b8a6",
   "metadata": {},
   "outputs": [
    {
     "data": {
      "text/plain": [
       "5000"
      ]
     },
     "execution_count": 7,
     "metadata": {},
     "output_type": "execute_result"
    }
   ],
   "source": [
    "obj_bank_account.get_balance()"
   ]
  },
  {
   "cell_type": "code",
   "execution_count": 8,
   "id": "3a0d9bf3-f211-4511-929a-329b08aa8cb0",
   "metadata": {},
   "outputs": [
    {
     "data": {
      "text/plain": [
       "False"
      ]
     },
     "execution_count": 8,
     "metadata": {},
     "output_type": "execute_result"
    }
   ],
   "source": [
    "obj_bank_account.withdrow(10000)"
   ]
  },
  {
   "cell_type": "code",
   "execution_count": 9,
   "id": "a78f641e-33c9-4541-ba71-6510dfbb8adc",
   "metadata": {},
   "outputs": [
    {
     "data": {
      "text/plain": [
       "5000"
      ]
     },
     "execution_count": 9,
     "metadata": {},
     "output_type": "execute_result"
    }
   ],
   "source": [
    "obj_bank_account.get_balance()"
   ]
  },
  {
   "cell_type": "code",
   "execution_count": null,
   "id": "77d84190-f771-4674-9d1b-fe29876e0d77",
   "metadata": {},
   "outputs": [],
   "source": []
  }
 ],
 "metadata": {
  "kernelspec": {
   "display_name": "Python 3 (ipykernel)",
   "language": "python",
   "name": "python3"
  },
  "language_info": {
   "codemirror_mode": {
    "name": "ipython",
    "version": 3
   },
   "file_extension": ".py",
   "mimetype": "text/x-python",
   "name": "python",
   "nbconvert_exporter": "python",
   "pygments_lexer": "ipython3",
   "version": "3.10.8"
  }
 },
 "nbformat": 4,
 "nbformat_minor": 5
}
