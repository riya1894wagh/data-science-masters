{
 "cells": [
  {
   "cell_type": "markdown",
   "id": "383c3a08-6bce-48bd-b006-089f17966cd9",
   "metadata": {},
   "source": [
    "# Decorator"
   ]
  },
  {
   "cell_type": "code",
   "execution_count": null,
   "id": "f41e9de1-443f-4673-baa7-0bab0cb662df",
   "metadata": {},
   "outputs": [],
   "source": [
    "def test():\n",
    "    print(\"this is the start of my fun\")\n",
    "    print(4+5)\n",
    "    print(\"This is end of my fun\")"
   ]
  },
  {
   "cell_type": "code",
   "execution_count": null,
   "id": "0a5674cb-1cbc-485a-a2f5-a7cdf969f1b3",
   "metadata": {},
   "outputs": [],
   "source": [
    "test()"
   ]
  },
  {
   "cell_type": "code",
   "execution_count": null,
   "id": "8ceee451-94a2-4772-af50-1dc162b7443d",
   "metadata": {},
   "outputs": [],
   "source": [
    "def deco(func):\n",
    "    def inner_deco():\n",
    "        print(\"this is the start of my fun\")\n",
    "        func()\n",
    "        print(\"This is end of my fun\")\n",
    "    return inner_deco"
   ]
  },
  {
   "cell_type": "code",
   "execution_count": null,
   "id": "7583c09c-572e-44a1-9c73-df4a2191388d",
   "metadata": {},
   "outputs": [],
   "source": [
    "def test():\n",
    "    print(4+5)"
   ]
  },
  {
   "cell_type": "code",
   "execution_count": null,
   "id": "b6ca7684-6263-4de6-b3d5-3a32a4cbf517",
   "metadata": {},
   "outputs": [],
   "source": [
    "test()"
   ]
  },
  {
   "cell_type": "code",
   "execution_count": null,
   "id": "b06249c0-5b76-4ed8-ad3f-e9a7a932dfe5",
   "metadata": {},
   "outputs": [],
   "source": [
    "@deco\n",
    "def test():\n",
    "    print(4+5)"
   ]
  },
  {
   "cell_type": "code",
   "execution_count": null,
   "id": "67a65306-a6a2-4c8c-b666-e4d86c65fec7",
   "metadata": {},
   "outputs": [],
   "source": [
    "test()"
   ]
  },
  {
   "cell_type": "code",
   "execution_count": null,
   "id": "eed24480-eb41-455f-8ae8-8138279c4195",
   "metadata": {},
   "outputs": [],
   "source": [
    "import time\n",
    "def timer_test(func):\n",
    "    def timer_test_inner():\n",
    "        start = time.time()\n",
    "        func()\n",
    "        end = time.time()\n",
    "        print(end-start)\n",
    "    return timer_test_inner"
   ]
  },
  {
   "cell_type": "code",
   "execution_count": null,
   "id": "8cc16a8c-dd7d-430d-953a-44ec20bb7ba4",
   "metadata": {},
   "outputs": [],
   "source": [
    "def test2():\n",
    "    print(45+85)"
   ]
  },
  {
   "cell_type": "code",
   "execution_count": null,
   "id": "82c80158-f8c8-4ee1-82f6-df3dc40a45af",
   "metadata": {},
   "outputs": [],
   "source": [
    "test2()"
   ]
  },
  {
   "cell_type": "code",
   "execution_count": null,
   "id": "9879049f-55a9-4fce-ab8b-98afe118b780",
   "metadata": {},
   "outputs": [],
   "source": [
    "@timer_test\n",
    "def test2():\n",
    "    print(45+85)"
   ]
  },
  {
   "cell_type": "code",
   "execution_count": null,
   "id": "6c283fe3-8991-460f-8aa0-0b9a4cc5e1af",
   "metadata": {},
   "outputs": [],
   "source": [
    "test2()"
   ]
  },
  {
   "cell_type": "code",
   "execution_count": null,
   "id": "d01a1fcb-781a-4914-9707-115a7edd22b0",
   "metadata": {},
   "outputs": [],
   "source": [
    "@timer_test\n",
    "def test3():\n",
    "    for i in  range(500000):\n",
    "        pass"
   ]
  },
  {
   "cell_type": "code",
   "execution_count": null,
   "id": "8a1f8e65-2ec3-4b2c-a27f-0036d725866f",
   "metadata": {},
   "outputs": [],
   "source": [
    "test3()"
   ]
  },
  {
   "cell_type": "code",
   "execution_count": null,
   "id": "3cda6ac8-98cf-4dab-9d03-5ca64cc609f6",
   "metadata": {},
   "outputs": [],
   "source": []
  },
  {
   "cell_type": "code",
   "execution_count": null,
   "id": "c30baf9d-5dc4-4c55-a903-f35348576a6a",
   "metadata": {},
   "outputs": [],
   "source": []
  },
  {
   "cell_type": "code",
   "execution_count": null,
   "id": "e5b42a74-420e-460a-9f4e-2f2b33a21deb",
   "metadata": {},
   "outputs": [],
   "source": []
  }
 ],
 "metadata": {
  "kernelspec": {
   "display_name": "Python 3 (ipykernel)",
   "language": "python",
   "name": "python3"
  },
  "language_info": {
   "codemirror_mode": {
    "name": "ipython",
    "version": 3
   },
   "file_extension": ".py",
   "mimetype": "text/x-python",
   "name": "python",
   "nbconvert_exporter": "python",
   "pygments_lexer": "ipython3",
   "version": "3.10.8"
  }
 },
 "nbformat": 4,
 "nbformat_minor": 5
}
