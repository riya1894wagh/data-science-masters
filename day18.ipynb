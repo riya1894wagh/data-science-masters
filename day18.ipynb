{
 "cells": [
  {
   "cell_type": "markdown",
   "id": "f5e7af17-b865-4a71-a308-07a52697194b",
   "metadata": {},
   "source": [
    "# Class Method"
   ]
  },
  {
   "cell_type": "code",
   "execution_count": 1,
   "id": "3e2cc709-a3e8-4200-ba9b-5f3405048485",
   "metadata": {
    "tags": []
   },
   "outputs": [],
   "source": [
    "class pwskills:\n",
    "    def __init__(self,name,email):\n",
    "        self.name = name\n",
    "        self.email = email\n",
    "        \n",
    "    def student_detail(self):\n",
    "        print(self.name , self.email)"
   ]
  },
  {
   "cell_type": "code",
   "execution_count": 2,
   "id": "5646e25f-3544-464d-a418-e2f58fe49df4",
   "metadata": {},
   "outputs": [],
   "source": [
    "pw = pwskills(\"Riya\",\"riya@1gmail.com\")"
   ]
  },
  {
   "cell_type": "code",
   "execution_count": 3,
   "id": "424721f5-7c55-4335-abf2-028a76b8be12",
   "metadata": {},
   "outputs": [
    {
     "data": {
      "text/plain": [
       "'riya@1gmail.com'"
      ]
     },
     "execution_count": 3,
     "metadata": {},
     "output_type": "execute_result"
    }
   ],
   "source": [
    "pw.email"
   ]
  },
  {
   "cell_type": "code",
   "execution_count": 4,
   "id": "74f7e580-9596-427e-a029-046fa5565114",
   "metadata": {},
   "outputs": [
    {
     "data": {
      "text/plain": [
       "'Riya'"
      ]
     },
     "execution_count": 4,
     "metadata": {},
     "output_type": "execute_result"
    }
   ],
   "source": [
    "pw.name"
   ]
  },
  {
   "cell_type": "code",
   "execution_count": 5,
   "id": "73807342-d081-40a0-b174-b9b83f98be93",
   "metadata": {},
   "outputs": [
    {
     "name": "stdout",
     "output_type": "stream",
     "text": [
      "Riya riya@1gmail.com\n"
     ]
    }
   ],
   "source": [
    "pw.student_detail()"
   ]
  },
  {
   "cell_type": "code",
   "execution_count": 6,
   "id": "215916ac-7b7f-404a-9c58-ad4a6a0e1b0b",
   "metadata": {},
   "outputs": [],
   "source": [
    "class pwskills1:\n",
    "    def __init__(self,name,email):\n",
    "        self.name = name\n",
    "        self.email = email\n",
    "        \n",
    "    @classmethod\n",
    "    def details(cls,name,email):\n",
    "        return cls(name,email)\n",
    "        \n",
    "    def student_detail(self):\n",
    "        print(self.name , self.email)"
   ]
  },
  {
   "cell_type": "code",
   "execution_count": 7,
   "id": "2046d2c8-c812-493d-9280-6abc19a7a2a6",
   "metadata": {},
   "outputs": [],
   "source": [
    "pw1=pwskills1.details(\"Riya\",\"riya@gmail.com\")"
   ]
  },
  {
   "cell_type": "code",
   "execution_count": 8,
   "id": "4ccf2309-322a-48cd-8234-996c79c0253c",
   "metadata": {},
   "outputs": [
    {
     "data": {
      "text/plain": [
       "'riya@gmail.com'"
      ]
     },
     "execution_count": 8,
     "metadata": {},
     "output_type": "execute_result"
    }
   ],
   "source": [
    "pw1.email"
   ]
  },
  {
   "cell_type": "code",
   "execution_count": 9,
   "id": "5a9f8092-0213-4947-afcc-5b8e0557138a",
   "metadata": {},
   "outputs": [
    {
     "name": "stdout",
     "output_type": "stream",
     "text": [
      "Riya riya@gmail.com\n"
     ]
    }
   ],
   "source": [
    "pw1.student_detail()"
   ]
  },
  {
   "cell_type": "code",
   "execution_count": 10,
   "id": "a6c4e61c-17d6-40e0-b912-a3689a06c816",
   "metadata": {},
   "outputs": [
    {
     "data": {
      "text/plain": [
       "'Riya'"
      ]
     },
     "execution_count": 10,
     "metadata": {},
     "output_type": "execute_result"
    }
   ],
   "source": [
    "pw1.name"
   ]
  },
  {
   "cell_type": "code",
   "execution_count": 11,
   "id": "b6a4f416-e052-4a1f-a036-e2a46ac4aae8",
   "metadata": {},
   "outputs": [],
   "source": [
    "class pwskills2:\n",
    "    \n",
    "    mobile_number = 7898521542\n",
    "    \n",
    "    def __init__(self,name,email):\n",
    "        self.name = name\n",
    "        self.email = email\n",
    "        \n",
    "    @classmethod\n",
    "    def details(cls,name,email):\n",
    "        return cls(name,email)\n",
    "        \n",
    "    def student_detail(self):\n",
    "        print(self.name , self.email,pwskills2.mobile_number)"
   ]
  },
  {
   "cell_type": "code",
   "execution_count": 12,
   "id": "3c43cfb1-dea6-4b32-80b2-68482a8a8c06",
   "metadata": {},
   "outputs": [
    {
     "data": {
      "text/plain": [
       "7898521542"
      ]
     },
     "execution_count": 12,
     "metadata": {},
     "output_type": "execute_result"
    }
   ],
   "source": [
    "pwskills2.mobile_number"
   ]
  },
  {
   "cell_type": "code",
   "execution_count": 13,
   "id": "c2c371d6-ad06-403a-8efc-1de0d384c918",
   "metadata": {},
   "outputs": [],
   "source": [
    "pw2=pwskills1.details(\"Riya\",\"riya@gmail.com\")"
   ]
  },
  {
   "cell_type": "code",
   "execution_count": 14,
   "id": "84540b5d-80d9-4374-9f0a-016135138c09",
   "metadata": {},
   "outputs": [
    {
     "name": "stdout",
     "output_type": "stream",
     "text": [
      "Riya riya@gmail.com\n"
     ]
    }
   ],
   "source": [
    "pw2.student_detail()"
   ]
  },
  {
   "cell_type": "code",
   "execution_count": 15,
   "id": "407cb722-4ed9-4af1-827f-9e93f7cbbdfa",
   "metadata": {},
   "outputs": [],
   "source": [
    "pw2=pwskills2.details(\"sohan\",\"sohan@gmail.com\")"
   ]
  },
  {
   "cell_type": "code",
   "execution_count": 16,
   "id": "28a7e984-0647-4d15-85dc-9f5bed3274b9",
   "metadata": {},
   "outputs": [
    {
     "name": "stdout",
     "output_type": "stream",
     "text": [
      "sohan sohan@gmail.com 7898521542\n"
     ]
    }
   ],
   "source": [
    "pw2.student_detail()"
   ]
  },
  {
   "cell_type": "code",
   "execution_count": 17,
   "id": "a514fe4e-73a0-4e50-8825-194ed88b7041",
   "metadata": {},
   "outputs": [],
   "source": [
    "pw2_obj = pwskills2(\"aadhya\",\"aadhya@gmail.com\")"
   ]
  },
  {
   "cell_type": "code",
   "execution_count": 18,
   "id": "46d002c9-11db-4c2b-af3c-76334f982adf",
   "metadata": {},
   "outputs": [
    {
     "name": "stdout",
     "output_type": "stream",
     "text": [
      "aadhya aadhya@gmail.com 7898521542\n"
     ]
    }
   ],
   "source": [
    "pw2_obj.student_detail()"
   ]
  },
  {
   "cell_type": "code",
   "execution_count": 19,
   "id": "41b9eb72-6757-4f63-8aee-482192f2be3d",
   "metadata": {},
   "outputs": [],
   "source": [
    "class pwskills2:\n",
    "    \n",
    "    mobile_number = 7898521542\n",
    "    \n",
    "    def __init__(self,name,email):\n",
    "        self.name = name\n",
    "        self.email = email\n",
    "        \n",
    "    @classmethod\n",
    "    def change_number(cls,mobile):\n",
    "        pwskills2.mobile_number = mobile\n",
    "        \n",
    "    @classmethod\n",
    "    def details(cls,name,email):\n",
    "        return cls(name,email)\n",
    "        \n",
    "    def student_detail(self):\n",
    "        print(self.name , self.email,pwskills2.mobile_number)"
   ]
  },
  {
   "cell_type": "code",
   "execution_count": 20,
   "id": "87da3896-4571-4cc9-b02d-1a1125493256",
   "metadata": {},
   "outputs": [
    {
     "data": {
      "text/plain": [
       "7898521542"
      ]
     },
     "execution_count": 20,
     "metadata": {},
     "output_type": "execute_result"
    }
   ],
   "source": [
    "pwskills2.mobile_number"
   ]
  },
  {
   "cell_type": "code",
   "execution_count": 21,
   "id": "258c89c6-b923-4c71-871b-3f2701dbaf60",
   "metadata": {},
   "outputs": [],
   "source": [
    "pwskills2.change_number(6658741518)\n"
   ]
  },
  {
   "cell_type": "code",
   "execution_count": 22,
   "id": "80189b46-f09c-417c-8049-b9498570caf6",
   "metadata": {},
   "outputs": [
    {
     "data": {
      "text/plain": [
       "6658741518"
      ]
     },
     "execution_count": 22,
     "metadata": {},
     "output_type": "execute_result"
    }
   ],
   "source": [
    "pwskills2.mobile_number"
   ]
  },
  {
   "cell_type": "code",
   "execution_count": 23,
   "id": "947c7bd3-94b4-442a-8893-40171d58edfc",
   "metadata": {},
   "outputs": [],
   "source": [
    "pw2_obj = pwskills2(\"sohil\",\"sohil@gmail.com\")"
   ]
  },
  {
   "cell_type": "code",
   "execution_count": 24,
   "id": "f48f5f0a-0752-45ef-8745-43b8e9f9ed5e",
   "metadata": {},
   "outputs": [
    {
     "data": {
      "text/plain": [
       "<__main__.pwskills2 at 0x7f6f305594e0>"
      ]
     },
     "execution_count": 24,
     "metadata": {},
     "output_type": "execute_result"
    }
   ],
   "source": [
    "pw2_obj.details(\"sudh\",\"sudh@gmail.com\")"
   ]
  },
  {
   "cell_type": "code",
   "execution_count": 25,
   "id": "086cd859-c01b-44cc-a9a0-b78d97a528a2",
   "metadata": {},
   "outputs": [
    {
     "data": {
      "text/plain": [
       "'sohil'"
      ]
     },
     "execution_count": 25,
     "metadata": {},
     "output_type": "execute_result"
    }
   ],
   "source": [
    "pw2_obj.name"
   ]
  },
  {
   "cell_type": "code",
   "execution_count": 26,
   "id": "77767cac-743f-416e-88fb-5ecac2c04a98",
   "metadata": {},
   "outputs": [
    {
     "data": {
      "text/plain": [
       "'sohil@gmail.com'"
      ]
     },
     "execution_count": 26,
     "metadata": {},
     "output_type": "execute_result"
    }
   ],
   "source": [
    "pw2_obj.email"
   ]
  },
  {
   "cell_type": "code",
   "execution_count": 33,
   "id": "d0c80165-020e-4eff-bbb3-c4c52eecdd1a",
   "metadata": {},
   "outputs": [],
   "source": [
    "class pwskills3:\n",
    "    \n",
    "    mobile_number = 7898521542\n",
    "    \n",
    "    def __init__(self,name,email):\n",
    "        self.name = name\n",
    "        self.email = email\n",
    "        \n",
    "    @classmethod\n",
    "    def change_number(cls,mobile):\n",
    "        pwskills2.mobile_number = mobile\n",
    "        \n",
    "    @classmethod\n",
    "    def details(cls,name,email):\n",
    "        return cls(name,email)\n",
    "        \n",
    "    def student_detail(self):\n",
    "        print(self.name , self.email,pwskills2.mobile_number)"
   ]
  },
  {
   "cell_type": "code",
   "execution_count": 34,
   "id": "0bcc49aa-8ba1-472e-a120-47a66f117b78",
   "metadata": {},
   "outputs": [],
   "source": [
    "def course_details(cls,course_name):\n",
    "    print(\"course details \",course_name)"
   ]
  },
  {
   "cell_type": "code",
   "execution_count": 36,
   "id": "7244660c-b180-495c-84ba-c942f69b943a",
   "metadata": {},
   "outputs": [],
   "source": [
    "pwskills3.course_details = classmethod(course_details)"
   ]
  },
  {
   "cell_type": "code",
   "execution_count": 37,
   "id": "6106df0c-3907-4567-9426-4152a89c8c91",
   "metadata": {},
   "outputs": [
    {
     "name": "stdout",
     "output_type": "stream",
     "text": [
      "course details  Data Science Masters\n"
     ]
    }
   ],
   "source": [
    "pwskills3.course_details(\"Data Science Masters\")"
   ]
  },
  {
   "cell_type": "code",
   "execution_count": 38,
   "id": "2d71bc6c-7ccc-47d1-856f-04bb0922af4e",
   "metadata": {},
   "outputs": [],
   "source": [
    "pw3 = pwskills3(\"sudh\" , \"sudh@gmail.com\")"
   ]
  },
  {
   "cell_type": "code",
   "execution_count": 39,
   "id": "7d02f401-eba1-4902-8f98-07417eeb7dad",
   "metadata": {},
   "outputs": [
    {
     "name": "stdout",
     "output_type": "stream",
     "text": [
      "course details  web dev\n"
     ]
    }
   ],
   "source": [
    "pw3.course_details(\"web dev\")"
   ]
  },
  {
   "cell_type": "code",
   "execution_count": 40,
   "id": "79681168-e1f3-4e1f-9e79-57e7f68ee23b",
   "metadata": {},
   "outputs": [],
   "source": [
    "class pwskills4:\n",
    "    \n",
    "    mobile_number = 7898521542\n",
    "    \n",
    "    def __init__(self,name,email):\n",
    "        self.name = name\n",
    "        self.email = email\n",
    "        \n",
    "    @classmethod\n",
    "    def change_number(cls,mobile):\n",
    "        pwskills2.mobile_number = mobile\n",
    "        \n",
    "    @classmethod\n",
    "    def details(cls,name,email):\n",
    "        return cls(name,email)\n",
    "        \n",
    "    def student_detail(self):\n",
    "        print(self.name , self.email,pwskills2.mobile_number)"
   ]
  },
  {
   "cell_type": "code",
   "execution_count": 41,
   "id": "82f73a64-a8ad-4d38-9a4e-59f5bb537067",
   "metadata": {},
   "outputs": [],
   "source": [
    "del pwskills4.change_number"
   ]
  },
  {
   "cell_type": "code",
   "execution_count": 42,
   "id": "68ebb706-4c9e-4d29-bbb9-37c7b3c68895",
   "metadata": {},
   "outputs": [
    {
     "ename": "AttributeError",
     "evalue": "type object 'pwskills4' has no attribute 'change_number'",
     "output_type": "error",
     "traceback": [
      "\u001b[0;31m---------------------------------------------------------------------------\u001b[0m",
      "\u001b[0;31mAttributeError\u001b[0m                            Traceback (most recent call last)",
      "Cell \u001b[0;32mIn[42], line 1\u001b[0m\n\u001b[0;32m----> 1\u001b[0m \u001b[43mpwskills4\u001b[49m\u001b[38;5;241;43m.\u001b[39;49m\u001b[43mchange_number\u001b[49m(\u001b[38;5;241m5514585636\u001b[39m)\n",
      "\u001b[0;31mAttributeError\u001b[0m: type object 'pwskills4' has no attribute 'change_number'"
     ]
    }
   ],
   "source": [
    "pwskills4.change_number(5514585636)"
   ]
  },
  {
   "cell_type": "code",
   "execution_count": 43,
   "id": "1004d4f7-ea40-446e-8070-f2917dec6517",
   "metadata": {},
   "outputs": [],
   "source": [
    "delattr(pwskills4,\"details\")"
   ]
  },
  {
   "cell_type": "code",
   "execution_count": 44,
   "id": "d22aac38-0ed5-4d39-ae45-86a099e7115d",
   "metadata": {},
   "outputs": [
    {
     "ename": "AttributeError",
     "evalue": "type object 'pwskills4' has no attribute 'details'",
     "output_type": "error",
     "traceback": [
      "\u001b[0;31m---------------------------------------------------------------------------\u001b[0m",
      "\u001b[0;31mAttributeError\u001b[0m                            Traceback (most recent call last)",
      "Cell \u001b[0;32mIn[44], line 1\u001b[0m\n\u001b[0;32m----> 1\u001b[0m \u001b[43mpwskills4\u001b[49m\u001b[38;5;241;43m.\u001b[39;49m\u001b[43mdetails\u001b[49m\n",
      "\u001b[0;31mAttributeError\u001b[0m: type object 'pwskills4' has no attribute 'details'"
     ]
    }
   ],
   "source": [
    "pwskills4.details"
   ]
  },
  {
   "cell_type": "code",
   "execution_count": null,
   "id": "119620fe-e9e5-4de2-a4ac-7f4d213ccdbc",
   "metadata": {},
   "outputs": [],
   "source": [
    "delattr(pwskills4,\"student\")"
   ]
  }
 ],
 "metadata": {
  "kernelspec": {
   "display_name": "Python 3 (ipykernel)",
   "language": "python",
   "name": "python3"
  },
  "language_info": {
   "codemirror_mode": {
    "name": "ipython",
    "version": 3
   },
   "file_extension": ".py",
   "mimetype": "text/x-python",
   "name": "python",
   "nbconvert_exporter": "python",
   "pygments_lexer": "ipython3",
   "version": "3.10.8"
  }
 },
 "nbformat": 4,
 "nbformat_minor": 5
}
