{
 "cells": [
  {
   "cell_type": "markdown",
   "id": "1fb249a3-c428-42b8-9166-8305ccbea7da",
   "metadata": {},
   "source": [
    "## Property Decoater -Getters,setters, and Deleters"
   ]
  },
  {
   "cell_type": "code",
   "execution_count": 1,
   "id": "8b73ec7e-086c-4673-85fe-423820943a26",
   "metadata": {},
   "outputs": [],
   "source": [
    "class pwskills:\n",
    "    def __init__(self, course_price,course_name):\n",
    "        self.__course_price = course_price\n",
    "        self.course_name = course_name"
   ]
  },
  {
   "cell_type": "code",
   "execution_count": 3,
   "id": "7ece53c6-8dad-4ed8-81c2-459ba3b2c1a7",
   "metadata": {},
   "outputs": [],
   "source": [
    "pw = pwskills(350,\"Data science masters\")"
   ]
  },
  {
   "cell_type": "code",
   "execution_count": 4,
   "id": "fd6bdeac-5ac3-4c52-af0b-cbe9f776ea14",
   "metadata": {},
   "outputs": [
    {
     "data": {
      "text/plain": [
       "'Data science masters'"
      ]
     },
     "execution_count": 4,
     "metadata": {},
     "output_type": "execute_result"
    }
   ],
   "source": [
    "pw.course_name"
   ]
  },
  {
   "cell_type": "code",
   "execution_count": 5,
   "id": "1472d9d1-2caa-40fe-b026-1c0ffbb52a18",
   "metadata": {},
   "outputs": [
    {
     "data": {
      "text/plain": [
       "350"
      ]
     },
     "execution_count": 5,
     "metadata": {},
     "output_type": "execute_result"
    }
   ],
   "source": [
    "pw._pwskills__course_price"
   ]
  },
  {
   "cell_type": "code",
   "execution_count": 12,
   "id": "dbdc126f-f1e2-4b93-b770-ab04b1d5df16",
   "metadata": {},
   "outputs": [],
   "source": [
    "class pwskills:\n",
    "    def __init__(self, course_price,course_name):\n",
    "        self.__course_price = course_price\n",
    "        self.course_name = course_name\n",
    "    @property\n",
    "    def course_price_access(self):\n",
    "        return self.__course_price"
   ]
  },
  {
   "cell_type": "code",
   "execution_count": 13,
   "id": "27b1dd9a-7929-4301-b346-f43410320957",
   "metadata": {},
   "outputs": [],
   "source": [
    "pw = pwskills(350,\"Data science masters\")"
   ]
  },
  {
   "cell_type": "code",
   "execution_count": 14,
   "id": "8f97093c-b115-47ac-8853-6053d1a2a35d",
   "metadata": {},
   "outputs": [
    {
     "data": {
      "text/plain": [
       "'Data science masters'"
      ]
     },
     "execution_count": 14,
     "metadata": {},
     "output_type": "execute_result"
    }
   ],
   "source": [
    "pw.course_name\n"
   ]
  },
  {
   "cell_type": "code",
   "execution_count": 15,
   "id": "b69c345d-3e88-47f4-bd55-46dfd3005b00",
   "metadata": {},
   "outputs": [
    {
     "data": {
      "text/plain": [
       "350"
      ]
     },
     "execution_count": 15,
     "metadata": {},
     "output_type": "execute_result"
    }
   ],
   "source": [
    "pw.course_price_access"
   ]
  },
  {
   "cell_type": "code",
   "execution_count": 16,
   "id": "0e1fcd57-dd48-4eb1-9d0e-e29e1646c181",
   "metadata": {},
   "outputs": [],
   "source": [
    "class pwskills:\n",
    "    def __init__(self, course_price,course_name):\n",
    "        self.__course_price = course_price\n",
    "        self.course_name = course_name\n",
    "        \n",
    "    @property\n",
    "    def course_price_access(self):\n",
    "        return self.__course_price\n",
    "    \n",
    "    @course_price_access.setter\n",
    "    def course_price_set(self,price):\n",
    "        if price <= 3500:\n",
    "            pass\n",
    "        else:\n",
    "            self.__course_price = price"
   ]
  },
  {
   "cell_type": "code",
   "execution_count": 17,
   "id": "d535170f-807d-46ec-a4e3-e5b245d11287",
   "metadata": {},
   "outputs": [],
   "source": [
    "pw = pwskills(350,\"Data science masters\")"
   ]
  },
  {
   "cell_type": "code",
   "execution_count": 18,
   "id": "a230bce3-b873-42bc-8547-80291524f8d4",
   "metadata": {},
   "outputs": [],
   "source": [
    "pw.course_price_set = 2500"
   ]
  },
  {
   "cell_type": "code",
   "execution_count": 19,
   "id": "724f8221-81bb-4fdf-9237-60aad4df1ed9",
   "metadata": {},
   "outputs": [
    {
     "data": {
      "text/plain": [
       "350"
      ]
     },
     "execution_count": 19,
     "metadata": {},
     "output_type": "execute_result"
    }
   ],
   "source": [
    "pw.course_price_access"
   ]
  },
  {
   "cell_type": "code",
   "execution_count": 20,
   "id": "36309119-49ed-47c3-a37f-55d30049870e",
   "metadata": {},
   "outputs": [],
   "source": [
    "pw.course_price_set = 7000"
   ]
  },
  {
   "cell_type": "code",
   "execution_count": 21,
   "id": "24934d3c-16dc-4a0b-8eff-f534cfffcb3a",
   "metadata": {},
   "outputs": [
    {
     "data": {
      "text/plain": [
       "7000"
      ]
     },
     "execution_count": 21,
     "metadata": {},
     "output_type": "execute_result"
    }
   ],
   "source": [
    "pw.course_price_access"
   ]
  },
  {
   "cell_type": "code",
   "execution_count": 22,
   "id": "9f83a5e7-06de-4adb-a80e-afdf495bf08c",
   "metadata": {},
   "outputs": [],
   "source": [
    "class pwskills:\n",
    "    def __init__(self, course_price,course_name):\n",
    "        self.__course_price = course_price\n",
    "        self.course_name = course_name\n",
    "        \n",
    "    @property\n",
    "    def course_price_access(self):\n",
    "        return self.__course_price\n",
    "    \n",
    "    @course_price_access.setter\n",
    "    def course_price_set(self,price):\n",
    "        if price <= 3500:\n",
    "            pass\n",
    "        else:\n",
    "            self.__course_price = price\n",
    "    \n",
    "    @course_price_access.deleter\n",
    "    def course_price_del(self):\n",
    "        del self.__course_price"
   ]
  },
  {
   "cell_type": "code",
   "execution_count": 23,
   "id": "72606514-351f-413a-a0b8-691406fdcff2",
   "metadata": {},
   "outputs": [],
   "source": [
    "pw = pwskills(350,\"Data science masters\")"
   ]
  },
  {
   "cell_type": "code",
   "execution_count": 24,
   "id": "3a1d35d6-39a3-4831-a270-d0b5d61e8695",
   "metadata": {},
   "outputs": [],
   "source": [
    "del pw.course_price_del"
   ]
  },
  {
   "cell_type": "code",
   "execution_count": null,
   "id": "a5d1d05c-4ea0-4b3e-a73c-14c179cf4484",
   "metadata": {},
   "outputs": [],
   "source": [
    "pw.course_price_access"
   ]
  }
 ],
 "metadata": {
  "kernelspec": {
   "display_name": "Python 3 (ipykernel)",
   "language": "python",
   "name": "python3"
  },
  "language_info": {
   "codemirror_mode": {
    "name": "ipython",
    "version": 3
   },
   "file_extension": ".py",
   "mimetype": "text/x-python",
   "name": "python",
   "nbconvert_exporter": "python",
   "pygments_lexer": "ipython3",
   "version": "3.10.8"
  }
 },
 "nbformat": 4,
 "nbformat_minor": 5
}
