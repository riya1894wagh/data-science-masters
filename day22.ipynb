{
 "cells": [
  {
   "cell_type": "markdown",
   "id": "493eea76-6120-4b17-83ac-0c36cac98721",
   "metadata": {},
   "source": [
    "# Files"
   ]
  },
  {
   "cell_type": "code",
   "execution_count": 19,
   "id": "8f944b0e-b6ce-44dc-a203-ad541b9a0091",
   "metadata": {},
   "outputs": [],
   "source": [
    "f = open(\"text.txt\", 'w')"
   ]
  },
  {
   "cell_type": "code",
   "execution_count": 20,
   "id": "425a240e-6b27-413d-b7fb-ad5d2e9006e8",
   "metadata": {},
   "outputs": [
    {
     "data": {
      "text/plain": [
       "'/home/jovyan/work'"
      ]
     },
     "execution_count": 20,
     "metadata": {},
     "output_type": "execute_result"
    }
   ],
   "source": [
    "pwd"
   ]
  },
  {
   "cell_type": "code",
   "execution_count": 21,
   "id": "e58d53e0-373b-4f12-b356-3bdec98a1fe7",
   "metadata": {},
   "outputs": [
    {
     "name": "stdout",
     "output_type": "stream",
     "text": [
      " Assignment_1.ipynb   day10.ipynb   day19.ipynb   day6.ipynb\n",
      " Assignment_2.ipynb   day11.ipynb   day1.ipynb    day7.ipynb\n",
      " Assignment_3.ipynb   day12.ipynb   day20.ipynb   day8.ipynb\n",
      " Assignment_4.ipynb   day13.ipynb   day21.ipynb   day9.ipynb\n",
      " Assignment_5.ipynb   day14.ipynb   day22.ipynb   LICENSE\n",
      " Assignment_6.ipynb   day15.ipynb   day2.ipynb    README.md\n",
      " Assignment_7.ipynb   day16.ipynb   day3.ipynb    text.txt\n",
      " Assignment_8.ipynb   day17.ipynb   day4.ipynb   \u001b[0m\u001b[01;34m'Untitled Folder'\u001b[0m/\n",
      " Assignment_9.ipynb   day18.ipynb   day5.ipynb   \u001b[01;34m'Untitled Folder 1'\u001b[0m/\n"
     ]
    }
   ],
   "source": [
    "ls"
   ]
  },
  {
   "cell_type": "code",
   "execution_count": 22,
   "id": "bbbdb71a-37e9-4745-b7d5-f8616eabb061",
   "metadata": {
    "tags": []
   },
   "outputs": [
    {
     "data": {
      "text/plain": [
       "22"
      ]
     },
     "execution_count": 22,
     "metadata": {},
     "output_type": "execute_result"
    }
   ],
   "source": [
    "f.write(\"this is my first file.\")"
   ]
  },
  {
   "cell_type": "code",
   "execution_count": 23,
   "id": "dcc360c3-3bb4-4659-b91c-ddec2d709329",
   "metadata": {},
   "outputs": [],
   "source": [
    "f.close()"
   ]
  },
  {
   "cell_type": "code",
   "execution_count": 25,
   "id": "f57dafbc-dda3-482d-853a-228cb869f2ff",
   "metadata": {},
   "outputs": [],
   "source": [
    "data = open(\"text.txt\" , \"r\")"
   ]
  },
  {
   "cell_type": "code",
   "execution_count": 26,
   "id": "23ff3a73-8fb7-4941-a375-b9869f0fb0c3",
   "metadata": {},
   "outputs": [
    {
     "data": {
      "text/plain": [
       "'this is my first file.'"
      ]
     },
     "execution_count": 26,
     "metadata": {},
     "output_type": "execute_result"
    }
   ],
   "source": [
    "data.read()"
   ]
  },
  {
   "cell_type": "code",
   "execution_count": 27,
   "id": "e3792f31-843f-4754-8dc0-c92f654b3409",
   "metadata": {},
   "outputs": [
    {
     "data": {
      "text/plain": [
       "''"
      ]
     },
     "execution_count": 27,
     "metadata": {},
     "output_type": "execute_result"
    }
   ],
   "source": [
    "data.read()"
   ]
  },
  {
   "cell_type": "code",
   "execution_count": 30,
   "id": "7bc57e64-4d04-49c7-86e1-9853d8f714a1",
   "metadata": {},
   "outputs": [
    {
     "data": {
      "text/plain": [
       "0"
      ]
     },
     "execution_count": 30,
     "metadata": {},
     "output_type": "execute_result"
    }
   ],
   "source": [
    "data.seek(0)"
   ]
  },
  {
   "cell_type": "code",
   "execution_count": 31,
   "id": "5ba42f77-bdb5-46b7-addc-b5d8be4410b2",
   "metadata": {},
   "outputs": [
    {
     "data": {
      "text/plain": [
       "'this is my first file.'"
      ]
     },
     "execution_count": 31,
     "metadata": {},
     "output_type": "execute_result"
    }
   ],
   "source": [
    "data.read()"
   ]
  },
  {
   "cell_type": "code",
   "execution_count": 32,
   "id": "e6ab97d7-e56b-42d5-99ff-099322a38585",
   "metadata": {},
   "outputs": [
    {
     "data": {
      "text/plain": [
       "5"
      ]
     },
     "execution_count": 32,
     "metadata": {},
     "output_type": "execute_result"
    }
   ],
   "source": [
    "data.seek(5)"
   ]
  },
  {
   "cell_type": "code",
   "execution_count": 33,
   "id": "7fbfb6dd-6008-43c1-9839-6c0b52a0b6e9",
   "metadata": {},
   "outputs": [
    {
     "data": {
      "text/plain": [
       "'is my first file.'"
      ]
     },
     "execution_count": 33,
     "metadata": {},
     "output_type": "execute_result"
    }
   ],
   "source": [
    "data.read()"
   ]
  },
  {
   "cell_type": "code",
   "execution_count": 34,
   "id": "2fbc83ed-d1c3-4c87-9fa7-96c4c78cf6da",
   "metadata": {},
   "outputs": [],
   "source": [
    "data1 = open(\"text.txt\",\"r\")"
   ]
  },
  {
   "cell_type": "code",
   "execution_count": 35,
   "id": "427c9f40-647b-4f50-a5e6-6570d30eb3bf",
   "metadata": {},
   "outputs": [
    {
     "name": "stdout",
     "output_type": "stream",
     "text": [
      "this is my first file.\n"
     ]
    }
   ],
   "source": [
    "for i in data1:\n",
    "    print(i)"
   ]
  },
  {
   "cell_type": "code",
   "execution_count": 36,
   "id": "23f15462-4fdf-40e7-a993-88babd6f943f",
   "metadata": {},
   "outputs": [],
   "source": [
    "import os"
   ]
  },
  {
   "cell_type": "code",
   "execution_count": 37,
   "id": "8c3725a0-5170-48c9-aa52-bf3048759d18",
   "metadata": {},
   "outputs": [
    {
     "data": {
      "text/plain": [
       "22"
      ]
     },
     "execution_count": 37,
     "metadata": {},
     "output_type": "execute_result"
    }
   ],
   "source": [
    "os.path.getsize(\"text.txt\")"
   ]
  },
  {
   "cell_type": "code",
   "execution_count": 39,
   "id": "b9499908-93e4-4b88-9f25-2ffde9733c62",
   "metadata": {},
   "outputs": [],
   "source": [
    "import shutil"
   ]
  },
  {
   "cell_type": "code",
   "execution_count": 40,
   "id": "a2079cef-adc3-45b8-a5f0-e5cff44c50af",
   "metadata": {},
   "outputs": [
    {
     "data": {
      "text/plain": [
       "'new_text.txt'"
      ]
     },
     "execution_count": 40,
     "metadata": {},
     "output_type": "execute_result"
    }
   ],
   "source": [
    "shutil.copy(\"text.txt\",\"new_text.txt\")"
   ]
  },
  {
   "cell_type": "code",
   "execution_count": 41,
   "id": "6a8e206c-b61c-422d-ac5d-fc2f3625e62c",
   "metadata": {},
   "outputs": [],
   "source": [
    "os.remove(\"text.txt\")"
   ]
  },
  {
   "cell_type": "code",
   "execution_count": 43,
   "id": "fe1682db-a3d5-4db4-a855-02937d239431",
   "metadata": {},
   "outputs": [
    {
     "name": "stdout",
     "output_type": "stream",
     "text": [
      "this is my first file.\n"
     ]
    }
   ],
   "source": [
    "with open(\"new_text.txt\",\"r\") as f:\n",
    "    print(f.read())"
   ]
  },
  {
   "cell_type": "code",
   "execution_count": 44,
   "id": "1260b20c-e97d-4a40-963a-1c9154914680",
   "metadata": {},
   "outputs": [],
   "source": [
    "os.rename(\"new_text.txt\",\"text.txt\")"
   ]
  },
  {
   "cell_type": "code",
   "execution_count": null,
   "id": "3741c76d-3252-4bc1-bbe6-bb22c34e466a",
   "metadata": {},
   "outputs": [],
   "source": []
  }
 ],
 "metadata": {
  "kernelspec": {
   "display_name": "Python 3 (ipykernel)",
   "language": "python",
   "name": "python3"
  },
  "language_info": {
   "codemirror_mode": {
    "name": "ipython",
    "version": 3
   },
   "file_extension": ".py",
   "mimetype": "text/x-python",
   "name": "python",
   "nbconvert_exporter": "python",
   "pygments_lexer": "ipython3",
   "version": "3.10.8"
  }
 },
 "nbformat": 4,
 "nbformat_minor": 5
}
