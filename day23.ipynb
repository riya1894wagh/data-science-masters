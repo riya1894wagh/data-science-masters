{
 "cells": [
  {
   "cell_type": "markdown",
   "id": "25c3fbb7-d08b-440e-a84f-d23a17797ca1",
   "metadata": {},
   "source": [
    "# File Reading and Writing Method"
   ]
  },
  {
   "cell_type": "code",
   "execution_count": 4,
   "id": "faec36a7-431a-45da-a667-7889f64d0d2a",
   "metadata": {},
   "outputs": [],
   "source": [
    "data = {\n",
    "    \"name\" : \"riya\",\n",
    "    \"mail_id\" : \"riya@gmail\",\n",
    "    \"phone_number\" : 987212484,\n",
    "    \"subject\" : [\"TOC\",\"DSA\",\"Digital Logic\",\"Python\",\"OOPS\"]\n",
    "}"
   ]
  },
  {
   "cell_type": "code",
   "execution_count": 7,
   "id": "bd536d50-4b17-4f0d-a377-a74c648cb469",
   "metadata": {},
   "outputs": [],
   "source": [
    "import json # java script object notation"
   ]
  },
  {
   "cell_type": "code",
   "execution_count": 8,
   "id": "3928a1b3-160a-4aa3-9609-d229888b60de",
   "metadata": {},
   "outputs": [],
   "source": [
    "with open(\"test1.json\",\"w\") as f:\n",
    "    json.dump(data,f)"
   ]
  },
  {
   "cell_type": "code",
   "execution_count": 11,
   "id": "6e17310e-a437-41f4-b9ad-a951b4bcfa6a",
   "metadata": {},
   "outputs": [],
   "source": [
    "with open(\"test1.json\",\"r\") as f:\n",
    "    data = json.load(f)"
   ]
  },
  {
   "cell_type": "code",
   "execution_count": 13,
   "id": "acc88aee-f512-483a-bd27-8ee158bd4e4e",
   "metadata": {},
   "outputs": [
    {
     "data": {
      "text/plain": [
       "{'name': 'riya',\n",
       " 'mail_id': 'riya@gmail',\n",
       " 'phone_number': 987212484,\n",
       " 'subject': ['TOC', 'DSA', 'Digital Logic', 'Python', 'OOPS']}"
      ]
     },
     "execution_count": 13,
     "metadata": {},
     "output_type": "execute_result"
    }
   ],
   "source": [
    "data"
   ]
  },
  {
   "cell_type": "code",
   "execution_count": 15,
   "id": "8b021ac0-d8dd-4247-a985-eafb077950c0",
   "metadata": {},
   "outputs": [
    {
     "data": {
      "text/plain": [
       "'DSA'"
      ]
     },
     "execution_count": 15,
     "metadata": {},
     "output_type": "execute_result"
    }
   ],
   "source": [
    "data[\"subject\"][1]"
   ]
  },
  {
   "cell_type": "code",
   "execution_count": 28,
   "id": "5b9df9b0-ca57-4674-8f76-eb35a424fa58",
   "metadata": {},
   "outputs": [],
   "source": [
    "data1 = [[\"name\",\"email\",\"number\"],\n",
    "         [\"riya\",\"riya@gmail.com\",7895682298],\n",
    "         [\"sudh\",\"sudh@gmail.com\",85121545]]"
   ]
  },
  {
   "cell_type": "code",
   "execution_count": 29,
   "id": "5ebb496d-3d75-464e-8d61-c963d5117861",
   "metadata": {},
   "outputs": [],
   "source": [
    "import csv"
   ]
  },
  {
   "cell_type": "code",
   "execution_count": 31,
   "id": "61db32a5-d431-4f9c-8add-7cc82e3a774d",
   "metadata": {},
   "outputs": [],
   "source": [
    "with open(\"test.csv\",\"w\") as f:\n",
    "    w=csv.writer(f)\n",
    "    for i in data1:\n",
    "        w.writerow(i)"
   ]
  },
  {
   "cell_type": "code",
   "execution_count": 32,
   "id": "d1ed5460-6f0a-4adf-9c9f-753c8afa9b5e",
   "metadata": {},
   "outputs": [
    {
     "name": "stdout",
     "output_type": "stream",
     "text": [
      "['name', 'email', 'number']\n",
      "['riya', 'riya@gmail.com', '7895682298']\n",
      "['sudh', 'sudh@gmail.com', '85121545']\n"
     ]
    }
   ],
   "source": [
    "with open(\"test.csv\",'r') as f:\n",
    "    read = csv.reader(f)\n",
    "    for i in read:\n",
    "        print(i)"
   ]
  },
  {
   "cell_type": "code",
   "execution_count": 33,
   "id": "73d8078a-d37d-451e-a949-d651d3bb62c1",
   "metadata": {},
   "outputs": [],
   "source": [
    "with open(\"test4.bin\",'wb') as f:\n",
    "    f.write(b\"\\x01\\x02\\x03\")"
   ]
  },
  {
   "cell_type": "code",
   "execution_count": 35,
   "id": "e3a3de36-df66-4df7-9ff0-17ebed0a6559",
   "metadata": {},
   "outputs": [
    {
     "name": "stdout",
     "output_type": "stream",
     "text": [
      "b'\\x01\\x02\\x03'\n"
     ]
    }
   ],
   "source": [
    "with open(\"test4.bin\",'rb') as f:\n",
    "    print(f.read())"
   ]
  },
  {
   "cell_type": "code",
   "execution_count": null,
   "id": "4ee7173f-75ed-4e34-ae33-b9ea4fbbb03c",
   "metadata": {},
   "outputs": [],
   "source": []
  },
  {
   "cell_type": "code",
   "execution_count": null,
   "id": "6221e737-dc4a-48f3-b544-6336ce4a2ab6",
   "metadata": {},
   "outputs": [],
   "source": []
  },
  {
   "cell_type": "code",
   "execution_count": null,
   "id": "9e57f4aa-8345-4de0-9d51-6e49fdce4934",
   "metadata": {},
   "outputs": [],
   "source": []
  },
  {
   "cell_type": "code",
   "execution_count": null,
   "id": "18333f0b-2c7f-4146-920a-6c3817116233",
   "metadata": {},
   "outputs": [],
   "source": []
  }
 ],
 "metadata": {
  "kernelspec": {
   "display_name": "Python 3 (ipykernel)",
   "language": "python",
   "name": "python3"
  },
  "language_info": {
   "codemirror_mode": {
    "name": "ipython",
    "version": 3
   },
   "file_extension": ".py",
   "mimetype": "text/x-python",
   "name": "python",
   "nbconvert_exporter": "python",
   "pygments_lexer": "ipython3",
   "version": "3.10.8"
  }
 },
 "nbformat": 4,
 "nbformat_minor": 5
}
