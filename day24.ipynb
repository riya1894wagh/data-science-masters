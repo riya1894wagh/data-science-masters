{
 "cells": [
  {
   "cell_type": "markdown",
   "id": "8d971679-f718-4173-b0de-c76fc620c7d3",
   "metadata": {},
   "source": [
    "# Buffer Read and Write operations"
   ]
  },
  {
   "cell_type": "code",
   "execution_count": 10,
   "id": "4eb3cfbd-3f3e-4b24-a4cb-e0f092114b3a",
   "metadata": {},
   "outputs": [],
   "source": [
    "import io"
   ]
  },
  {
   "cell_type": "code",
   "execution_count": 18,
   "id": "e3a2fb06-9c1c-45d0-83bc-1c1e6d818d69",
   "metadata": {},
   "outputs": [],
   "source": [
    "with open(\"text.txt\",\"wb\") as f:\n",
    "        file = io.BufferedWriter(f)\n",
    "        file.write(b\"this is my buffer write\")\n",
    "        file.write(b\"this is my second line that i am triying to write\")\n",
    "        file.flush()"
   ]
  },
  {
   "cell_type": "code",
   "execution_count": 19,
   "id": "15fd776a-ed61-401c-a310-94ed92e310f7",
   "metadata": {},
   "outputs": [
    {
     "name": "stdout",
     "output_type": "stream",
     "text": [
      "b'this is my buffer writethis is my second line that i am triying to write'\n"
     ]
    }
   ],
   "source": [
    "with open(\"text.txt\",\"rb\") as f:\n",
    "    file=io.BufferedReader(f)\n",
    "    data = file.read()\n",
    "    print(data)"
   ]
  },
  {
   "cell_type": "code",
   "execution_count": null,
   "id": "615b35ff-fc4b-439e-9c3d-fb656a3debe0",
   "metadata": {},
   "outputs": [],
   "source": []
  },
  {
   "cell_type": "code",
   "execution_count": null,
   "id": "d08ad8bd-2f11-496c-92fc-e667b46b67da",
   "metadata": {},
   "outputs": [],
   "source": []
  },
  {
   "cell_type": "code",
   "execution_count": null,
   "id": "c89379fc-e90f-4c4a-b26a-29a0b076f4a1",
   "metadata": {},
   "outputs": [],
   "source": []
  },
  {
   "cell_type": "code",
   "execution_count": null,
   "id": "7d8b17bd-4115-46d4-b2f0-75a84d140bb5",
   "metadata": {},
   "outputs": [],
   "source": []
  }
 ],
 "metadata": {
  "kernelspec": {
   "display_name": "Python 3 (ipykernel)",
   "language": "python",
   "name": "python3"
  },
  "language_info": {
   "codemirror_mode": {
    "name": "ipython",
    "version": 3
   },
   "file_extension": ".py",
   "mimetype": "text/x-python",
   "name": "python",
   "nbconvert_exporter": "python",
   "pygments_lexer": "ipython3",
   "version": "3.10.8"
  }
 },
 "nbformat": 4,
 "nbformat_minor": 5
}
