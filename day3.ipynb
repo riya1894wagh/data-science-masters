{
 "cells": [
  {
   "cell_type": "markdown",
   "id": "3ff461ed-ec0a-4547-a35a-2051135ccef3",
   "metadata": {},
   "source": [
    "# logical operator\n",
    "1. And\n",
    "2. or\n",
    "3. not"
   ]
  },
  {
   "cell_type": "code",
   "execution_count": 2,
   "id": "12aac2ef-edcd-422b-8776-4bcfac19f75b",
   "metadata": {},
   "outputs": [
    {
     "data": {
      "text/plain": [
       "True"
      ]
     },
     "execution_count": 2,
     "metadata": {},
     "output_type": "execute_result"
    }
   ],
   "source": [
    "True and True"
   ]
  },
  {
   "cell_type": "code",
   "execution_count": 3,
   "id": "ec12f3ff-b6eb-4a89-bcf2-5a24483a4877",
   "metadata": {},
   "outputs": [
    {
     "data": {
      "text/plain": [
       "False"
      ]
     },
     "execution_count": 3,
     "metadata": {},
     "output_type": "execute_result"
    }
   ],
   "source": [
    "True and False"
   ]
  },
  {
   "cell_type": "code",
   "execution_count": 4,
   "id": "2ca6054b-0609-44c4-8017-d0174916cb8f",
   "metadata": {},
   "outputs": [
    {
     "data": {
      "text/plain": [
       "False"
      ]
     },
     "execution_count": 4,
     "metadata": {},
     "output_type": "execute_result"
    }
   ],
   "source": [
    "False and True"
   ]
  },
  {
   "cell_type": "code",
   "execution_count": 5,
   "id": "d319cb99-903b-4520-bd71-e99ae9efc49f",
   "metadata": {},
   "outputs": [
    {
     "data": {
      "text/plain": [
       "False"
      ]
     },
     "execution_count": 5,
     "metadata": {},
     "output_type": "execute_result"
    }
   ],
   "source": [
    "False and False"
   ]
  },
  {
   "cell_type": "code",
   "execution_count": 6,
   "id": "8ee859f4-f6ec-4ceb-93e0-39346ade0fe0",
   "metadata": {},
   "outputs": [
    {
     "data": {
      "text/plain": [
       "True"
      ]
     },
     "execution_count": 6,
     "metadata": {},
     "output_type": "execute_result"
    }
   ],
   "source": [
    "True or True"
   ]
  },
  {
   "cell_type": "code",
   "execution_count": 7,
   "id": "7af8a5df-570a-419c-87cd-e71852ecc334",
   "metadata": {},
   "outputs": [
    {
     "data": {
      "text/plain": [
       "True"
      ]
     },
     "execution_count": 7,
     "metadata": {},
     "output_type": "execute_result"
    }
   ],
   "source": [
    "True or False"
   ]
  },
  {
   "cell_type": "code",
   "execution_count": 8,
   "id": "5c7883c8-d889-4692-af40-a9abde541f08",
   "metadata": {},
   "outputs": [
    {
     "data": {
      "text/plain": [
       "True"
      ]
     },
     "execution_count": 8,
     "metadata": {},
     "output_type": "execute_result"
    }
   ],
   "source": [
    "False or True"
   ]
  },
  {
   "cell_type": "code",
   "execution_count": 9,
   "id": "bb894a8c-1ffe-4335-8fdc-2e30b8e67961",
   "metadata": {},
   "outputs": [
    {
     "data": {
      "text/plain": [
       "False"
      ]
     },
     "execution_count": 9,
     "metadata": {},
     "output_type": "execute_result"
    }
   ],
   "source": [
    "False and False"
   ]
  },
  {
   "cell_type": "code",
   "execution_count": 10,
   "id": "2da00b76-cf6f-4c03-b2e1-8da091ee8ec1",
   "metadata": {},
   "outputs": [
    {
     "data": {
      "text/plain": [
       "False"
      ]
     },
     "execution_count": 10,
     "metadata": {},
     "output_type": "execute_result"
    }
   ],
   "source": [
    "not True"
   ]
  },
  {
   "cell_type": "code",
   "execution_count": 11,
   "id": "f0d48ff4-3f83-4ceb-9434-a26a0ea8516a",
   "metadata": {},
   "outputs": [
    {
     "data": {
      "text/plain": [
       "True"
      ]
     },
     "execution_count": 11,
     "metadata": {},
     "output_type": "execute_result"
    }
   ],
   "source": [
    "not False"
   ]
  },
  {
   "cell_type": "code",
   "execution_count": 14,
   "id": "ab53fb13-993e-4ccf-ae17-c9dce76dbff4",
   "metadata": {},
   "outputs": [
    {
     "name": "stdout",
     "output_type": "stream",
     "text": [
      "defined value of start = True\n",
      "defined value of stop = False\n",
      "defined value of start = True\n",
      "value of stop by negation start= False\n",
      "value of start with negation stop = True\n",
      "defined value of stop = False\n"
     ]
    }
   ],
   "source": [
    "start = True\n",
    "stop = False\n",
    "\n",
    "print(f\"defined value of start = {start}\")\n",
    "print(f\"defined value of stop = {stop}\")\n",
    "\n",
    "print(f\"defined value of start = {start}\")\n",
    "print(f\"value of stop by negation start= {not start}\")\n",
    " \n",
    "print(f\"value of start with negation stop = {not stop}\")\n",
    "print(f\"defined value of stop = {stop}\")\n",
    "\n",
    "\n"
   ]
  },
  {
   "cell_type": "code",
   "execution_count": 1,
   "id": "ca624899-869b-433e-ae40-03cba7bc2965",
   "metadata": {},
   "outputs": [
    {
     "name": "stdout",
     "output_type": "stream",
     "text": [
      "boolesn value of no. 0 id False\n",
      "boolesn value of no. 1 id True\n",
      "negation of 0 is True and negation of 1 is False\n"
     ]
    }
   ],
   "source": [
    "zero = 0\n",
    "one = 1\n",
    "\n",
    "print(f\"boolesn value of no. {zero} id {bool(zero)}\")\n",
    "print(f\"boolesn value of no. {one} id {bool(one)}\")\n",
    "\n",
    "print(f\"negation of {zero} is {not zero} and negation of {one} is {not one}\")"
   ]
  },
  {
   "cell_type": "code",
   "execution_count": 4,
   "id": "7b429cff-f506-47fd-bd86-1b02f071f9e2",
   "metadata": {},
   "outputs": [
    {
     "name": "stdout",
     "output_type": "stream",
     "text": [
      "boolean value of no. -9 is True\n",
      "boolean value of no. 9 is True\n",
      "negation of no. -9 is False\n",
      "negation value of no. 9 is False\n"
     ]
    }
   ],
   "source": [
    "some_negative_integer = -9\n",
    "some_positive_integer = 9\n",
    "\n",
    "print(f\"boolean value of no. {some_negative_integer} is {bool(some_negative_integer)}\")\n",
    "print(f\"boolean value of no. {some_positive_integer} is {bool(some_positive_integer)}\")\n",
    "print(f\"negation of no. {some_negative_integer} is {bool(not some_negative_integer)}\")\n",
    "print(f\"negation value of no. {some_positive_integer} is {bool(not some_positive_integer)}\")"
   ]
  },
  {
   "cell_type": "markdown",
   "id": "30b6a417-4837-45b6-bc35-10f71dca9b33",
   "metadata": {},
   "source": [
    "# logical And"
   ]
  },
  {
   "cell_type": "code",
   "execution_count": 7,
   "id": "2387de2c-d0f3-4b3f-a631-1feb7b5a435c",
   "metadata": {},
   "outputs": [
    {
     "name": "stdout",
     "output_type": "stream",
     "text": [
      "Dish contains vegatible: True\n",
      "Dish contain saly: False\n",
      "Hence dish prepared was good: False\n"
     ]
    }
   ],
   "source": [
    "vegitable = True\n",
    "salt = False\n",
    "dish = vegitable and salt\n",
    "\n",
    "print(f\"Dish contains vegatible: {vegitable}\")\n",
    "print(f\"Dish contain saly: {salt}\")\n",
    "print(f\"Hence dish prepared was good: {dish}\")"
   ]
  },
  {
   "cell_type": "code",
   "execution_count": 8,
   "id": "8035e5b4-b9e9-4a2a-8f2e-8162a2b2dd2c",
   "metadata": {},
   "outputs": [
    {
     "data": {
      "text/plain": [
       "True"
      ]
     },
     "execution_count": 8,
     "metadata": {},
     "output_type": "execute_result"
    }
   ],
   "source": [
    "not(False)*True"
   ]
  },
  {
   "cell_type": "code",
   "execution_count": 10,
   "id": "cd2b1ee3-579d-4993-8d54-3829026e3e11",
   "metadata": {},
   "outputs": [
    {
     "data": {
      "text/plain": [
       "1"
      ]
     },
     "execution_count": 10,
     "metadata": {},
     "output_type": "execute_result"
    }
   ],
   "source": [
    "(not(False))*True"
   ]
  },
  {
   "cell_type": "code",
   "execution_count": 9,
   "id": "72b9c3e0-7d29-43ac-8df4-bfa3e4856ee3",
   "metadata": {},
   "outputs": [
    {
     "data": {
      "text/plain": [
       "1"
      ]
     },
     "execution_count": 9,
     "metadata": {},
     "output_type": "execute_result"
    }
   ],
   "source": [
    "True*(not(False))"
   ]
  },
  {
   "cell_type": "code",
   "execution_count": 34,
   "id": "45c98115-3df4-4388-b9fa-2da1efee419c",
   "metadata": {},
   "outputs": [
    {
     "data": {
      "text/plain": [
       "True"
      ]
     },
     "execution_count": 34,
     "metadata": {},
     "output_type": "execute_result"
    }
   ],
   "source": [
    "not(True)*False"
   ]
  },
  {
   "cell_type": "code",
   "execution_count": 13,
   "id": "88b0558d-1242-401d-8fb5-47117e8a1447",
   "metadata": {},
   "outputs": [
    {
     "data": {
      "text/plain": [
       "0"
      ]
     },
     "execution_count": 13,
     "metadata": {},
     "output_type": "execute_result"
    }
   ],
   "source": [
    "False*False"
   ]
  },
  {
   "cell_type": "code",
   "execution_count": 14,
   "id": "b3bc2b31-e44b-4997-8298-5fd2003c0ee1",
   "metadata": {},
   "outputs": [
    {
     "data": {
      "text/plain": [
       "True"
      ]
     },
     "execution_count": 14,
     "metadata": {},
     "output_type": "execute_result"
    }
   ],
   "source": [
    "not(False)*False"
   ]
  },
  {
   "cell_type": "code",
   "execution_count": 15,
   "id": "adf91806-dbdb-4686-b41b-d5de184b8001",
   "metadata": {},
   "outputs": [
    {
     "data": {
      "text/plain": [
       "7"
      ]
     },
     "execution_count": 15,
     "metadata": {},
     "output_type": "execute_result"
    }
   ],
   "source": [
    "1+2*3"
   ]
  },
  {
   "cell_type": "code",
   "execution_count": 16,
   "id": "8e406dde-9324-4ca3-b86d-161d18a45fc1",
   "metadata": {},
   "outputs": [
    {
     "data": {
      "text/plain": [
       "9"
      ]
     },
     "execution_count": 16,
     "metadata": {},
     "output_type": "execute_result"
    }
   ],
   "source": [
    "(1+2)*3"
   ]
  },
  {
   "cell_type": "code",
   "execution_count": 17,
   "id": "06bfba20-00d0-483c-a952-793f94a7bef5",
   "metadata": {},
   "outputs": [
    {
     "data": {
      "text/plain": [
       "0"
      ]
     },
     "execution_count": 17,
     "metadata": {},
     "output_type": "execute_result"
    }
   ],
   "source": [
    "False*False"
   ]
  },
  {
   "cell_type": "code",
   "execution_count": 18,
   "id": "2ba07dcf-16a9-4198-9e3a-478a617a1b83",
   "metadata": {},
   "outputs": [
    {
     "data": {
      "text/plain": [
       "True"
      ]
     },
     "execution_count": 18,
     "metadata": {},
     "output_type": "execute_result"
    }
   ],
   "source": [
    "not False * False"
   ]
  },
  {
   "cell_type": "code",
   "execution_count": 19,
   "id": "2d76e99c-7437-425e-a723-0aaa2536906b",
   "metadata": {},
   "outputs": [
    {
     "data": {
      "text/plain": [
       "True"
      ]
     },
     "execution_count": 19,
     "metadata": {},
     "output_type": "execute_result"
    }
   ],
   "source": [
    "not False * False == True"
   ]
  },
  {
   "cell_type": "code",
   "execution_count": 20,
   "id": "2c7948eb-f65a-4bd6-acf0-b58ded450c29",
   "metadata": {},
   "outputs": [
    {
     "data": {
      "text/plain": [
       "True"
      ]
     },
     "execution_count": 20,
     "metadata": {},
     "output_type": "execute_result"
    }
   ],
   "source": [
    "not(False) * False == True"
   ]
  },
  {
   "cell_type": "code",
   "execution_count": 21,
   "id": "02d75d49-f369-48a8-8096-405e35db16c5",
   "metadata": {},
   "outputs": [
    {
     "name": "stdout",
     "output_type": "stream",
     "text": [
      "True\n"
     ]
    }
   ],
   "source": [
    "print(not(False)*False)"
   ]
  },
  {
   "cell_type": "code",
   "execution_count": 22,
   "id": "1927e3fe-3d91-423a-86a3-0b4837897f52",
   "metadata": {},
   "outputs": [
    {
     "name": "stdout",
     "output_type": "stream",
     "text": [
      "0\n"
     ]
    }
   ],
   "source": [
    "print((not(False))*False)"
   ]
  },
  {
   "cell_type": "code",
   "execution_count": 23,
   "id": "45165f77-bba4-4753-96cd-3b323952227e",
   "metadata": {},
   "outputs": [
    {
     "data": {
      "text/plain": [
       "False"
      ]
     },
     "execution_count": 23,
     "metadata": {},
     "output_type": "execute_result"
    }
   ],
   "source": [
    "False"
   ]
  },
  {
   "cell_type": "code",
   "execution_count": 24,
   "id": "05b56b5d-ba1d-46bf-bba9-5cbaae1b680f",
   "metadata": {},
   "outputs": [
    {
     "data": {
      "text/plain": [
       "True"
      ]
     },
     "execution_count": 24,
     "metadata": {},
     "output_type": "execute_result"
    }
   ],
   "source": [
    "not False"
   ]
  },
  {
   "cell_type": "code",
   "execution_count": 26,
   "id": "5cca14f3-982a-4f37-b70c-b5673676afee",
   "metadata": {},
   "outputs": [
    {
     "data": {
      "text/plain": [
       "14.0"
      ]
     },
     "execution_count": 26,
     "metadata": {},
     "output_type": "execute_result"
    }
   ],
   "source": [
    "2*3+40/5"
   ]
  },
  {
   "cell_type": "code",
   "execution_count": 27,
   "id": "4912c05a-5034-4302-8138-f9fdb61f0ec4",
   "metadata": {},
   "outputs": [
    {
     "data": {
      "text/plain": [
       "0"
      ]
     },
     "execution_count": 27,
     "metadata": {},
     "output_type": "execute_result"
    }
   ],
   "source": [
    "False * True"
   ]
  },
  {
   "cell_type": "code",
   "execution_count": 28,
   "id": "9a8d3032-0c5f-43d5-b637-f6b89525fdda",
   "metadata": {},
   "outputs": [
    {
     "data": {
      "text/plain": [
       "0"
      ]
     },
     "execution_count": 28,
     "metadata": {},
     "output_type": "execute_result"
    }
   ],
   "source": [
    "0*1"
   ]
  },
  {
   "cell_type": "code",
   "execution_count": 29,
   "id": "e5770cc2-b59a-48a7-bfd0-e90411ee749e",
   "metadata": {},
   "outputs": [
    {
     "data": {
      "text/plain": [
       "True"
      ]
     },
     "execution_count": 29,
     "metadata": {},
     "output_type": "execute_result"
    }
   ],
   "source": [
    "not(True * False)"
   ]
  },
  {
   "cell_type": "code",
   "execution_count": 30,
   "id": "30bc5797-cc86-4476-a97d-d89b6c16c3fe",
   "metadata": {},
   "outputs": [
    {
     "data": {
      "text/plain": [
       "True"
      ]
     },
     "execution_count": 30,
     "metadata": {},
     "output_type": "execute_result"
    }
   ],
   "source": [
    "not 0"
   ]
  },
  {
   "cell_type": "code",
   "execution_count": 31,
   "id": "89bc345a-7cf2-406e-b6de-a15748452f95",
   "metadata": {},
   "outputs": [
    {
     "data": {
      "text/plain": [
       "False"
      ]
     },
     "execution_count": 31,
     "metadata": {},
     "output_type": "execute_result"
    }
   ],
   "source": [
    "not 1"
   ]
  },
  {
   "cell_type": "code",
   "execution_count": 33,
   "id": "2cdca4de-d1c9-4e81-94f2-1c06fb478e98",
   "metadata": {},
   "outputs": [
    {
     "data": {
      "text/plain": [
       "True"
      ]
     },
     "execution_count": 33,
     "metadata": {},
     "output_type": "execute_result"
    }
   ],
   "source": [
    "not False * True == True"
   ]
  },
  {
   "cell_type": "markdown",
   "id": "3421cced-83b3-4545-9431-5953b8913b83",
   "metadata": {},
   "source": [
    "### 4.1.2 Equality Operators\n",
    "\n",
    "Following operations are present in python for equlity check operation-\n",
    "\n",
    "|Operators|Meaning|\n",
    "|-|-|\n",
    "|**is**|***a is b*** returns true if variable/identifiers a and b *points* to the *same object*|\n",
    "|**is not**|***a is not b*** returns true if variable/identifiers a and b *points* to the *different object*|\n",
    "|**==**|***a == b*** returns true if variable/identifiers a and b has same value|\n",
    "|**!=**|***a != b*** returns true if variable/identifiers a and b has different value|"
   ]
  },
  {
   "cell_type": "code",
   "execution_count": 8,
   "id": "16bd3f1e-9f0b-4c1d-84ea-1dda54850c38",
   "metadata": {},
   "outputs": [],
   "source": [
    "list_a = [1,2,3,4]"
   ]
  },
  {
   "cell_type": "code",
   "execution_count": 9,
   "id": "efabd8fd-b05d-4448-b6b5-26773b3ef854",
   "metadata": {},
   "outputs": [],
   "source": [
    "list_b = [1,2,3,4]"
   ]
  },
  {
   "cell_type": "code",
   "execution_count": 3,
   "id": "c34b2418-81d8-4114-ad5a-ef8dc1a71fb8",
   "metadata": {},
   "outputs": [
    {
     "name": "stdout",
     "output_type": "stream",
     "text": [
      "140139941882432\n"
     ]
    }
   ],
   "source": [
    "print(id(list_a))"
   ]
  },
  {
   "cell_type": "code",
   "execution_count": 5,
   "id": "c101507b-bb8a-4a3d-9cee-6a22b27e1eb8",
   "metadata": {},
   "outputs": [
    {
     "name": "stdout",
     "output_type": "stream",
     "text": [
      "140139886148928\n"
     ]
    }
   ],
   "source": [
    "print(id(list_b))"
   ]
  },
  {
   "cell_type": "code",
   "execution_count": 13,
   "id": "ee76e5e6-f9cb-4912-b9d3-2e38205c8171",
   "metadata": {},
   "outputs": [
    {
     "data": {
      "text/plain": [
       "False"
      ]
     },
     "execution_count": 13,
     "metadata": {},
     "output_type": "execute_result"
    }
   ],
   "source": [
    "list_a is list_b"
   ]
  },
  {
   "cell_type": "code",
   "execution_count": 12,
   "id": "fc7b5a6e-8bbf-4fa6-a8cc-b92a987fdae3",
   "metadata": {},
   "outputs": [
    {
     "data": {
      "text/plain": [
       "True"
      ]
     },
     "execution_count": 12,
     "metadata": {},
     "output_type": "execute_result"
    }
   ],
   "source": [
    "list_a is not list_b"
   ]
  },
  {
   "cell_type": "code",
   "execution_count": 14,
   "id": "48e84ad8-3958-4a07-ad87-947e52cd7544",
   "metadata": {},
   "outputs": [
    {
     "data": {
      "text/plain": [
       "True"
      ]
     },
     "execution_count": 14,
     "metadata": {},
     "output_type": "execute_result"
    }
   ],
   "source": [
    " list_a == list_b"
   ]
  },
  {
   "cell_type": "code",
   "execution_count": 17,
   "id": "4a255d41-10ad-499b-8fb3-18e0d022611a",
   "metadata": {},
   "outputs": [],
   "source": [
    "a=15\n",
    "b=15"
   ]
  },
  {
   "cell_type": "code",
   "execution_count": 18,
   "id": "5f5a01e1-e01c-465b-a56a-65d5906bb058",
   "metadata": {},
   "outputs": [
    {
     "name": "stdout",
     "output_type": "stream",
     "text": [
      "140139991057072\n",
      "140139991057072\n"
     ]
    }
   ],
   "source": [
    "print(id(a))\n",
    "print(id(b))"
   ]
  },
  {
   "cell_type": "code",
   "execution_count": 25,
   "id": "a604412c-353c-4588-aafb-ed5cafd556ee",
   "metadata": {},
   "outputs": [],
   "source": [
    "str1=\"Riya Wagh\"\n",
    "str2=\"komal lagas\""
   ]
  },
  {
   "cell_type": "code",
   "execution_count": 26,
   "id": "7a0592d2-8db6-473f-8b22-a07e445fd658",
   "metadata": {},
   "outputs": [
    {
     "name": "stdout",
     "output_type": "stream",
     "text": [
      "140139886609904\n",
      "140139886617520\n"
     ]
    }
   ],
   "source": [
    "print(id(str1))\n",
    "print(id(str2))"
   ]
  },
  {
   "cell_type": "code",
   "execution_count": 27,
   "id": "efee800e-7e92-49dd-8246-61e3f2d8a286",
   "metadata": {},
   "outputs": [],
   "source": [
    "str1=\"Riya Wagh\"\n",
    "str2=\"Riya Wagh\"\n"
   ]
  },
  {
   "cell_type": "code",
   "execution_count": 28,
   "id": "1ca77017-0206-4969-9363-7d4e9a281325",
   "metadata": {},
   "outputs": [
    {
     "name": "stdout",
     "output_type": "stream",
     "text": [
      "140139886616112\n",
      "140139886619568\n"
     ]
    }
   ],
   "source": [
    "print(id(str1))\n",
    "print(id(str2))"
   ]
  },
  {
   "cell_type": "code",
   "execution_count": 29,
   "id": "59ab9da4-8e4b-4526-88e8-944424d583e3",
   "metadata": {},
   "outputs": [
    {
     "data": {
      "text/plain": [
       "[1, 2, 3, 4]"
      ]
     },
     "execution_count": 29,
     "metadata": {},
     "output_type": "execute_result"
    }
   ],
   "source": [
    "list_a"
   ]
  },
  {
   "cell_type": "code",
   "execution_count": 30,
   "id": "1551349f-9127-44a2-b5fb-8921e1b01c9e",
   "metadata": {},
   "outputs": [
    {
     "data": {
      "text/plain": [
       "1"
      ]
     },
     "execution_count": 30,
     "metadata": {},
     "output_type": "execute_result"
    }
   ],
   "source": [
    "list_a[0]"
   ]
  },
  {
   "cell_type": "code",
   "execution_count": 31,
   "id": "51375161-3688-49b7-ab06-2d6b666c14d6",
   "metadata": {},
   "outputs": [
    {
     "data": {
      "text/plain": [
       "'Riya Wagh'"
      ]
     },
     "execution_count": 31,
     "metadata": {},
     "output_type": "execute_result"
    }
   ],
   "source": [
    "str1"
   ]
  },
  {
   "cell_type": "code",
   "execution_count": 33,
   "id": "a9d55ba3-cb46-4425-9a72-ec69b7bb18af",
   "metadata": {},
   "outputs": [
    {
     "ename": "TypeError",
     "evalue": "'type' object does not support item assignment",
     "output_type": "error",
     "traceback": [
      "\u001b[0;31m---------------------------------------------------------------------------\u001b[0m",
      "\u001b[0;31mTypeError\u001b[0m                                 Traceback (most recent call last)",
      "Cell \u001b[0;32mIn[33], line 1\u001b[0m\n\u001b[0;32m----> 1\u001b[0m \u001b[38;5;28;43mstr\u001b[39;49m\u001b[43m[\u001b[49m\u001b[38;5;241;43m0\u001b[39;49m\u001b[43m]\u001b[49m\u001b[38;5;241m=\u001b[39m\u001b[38;5;124m\"\u001b[39m\u001b[38;5;124mN\u001b[39m\u001b[38;5;124m\"\u001b[39m \u001b[38;5;66;03m#string is immutable\u001b[39;00m\n",
      "\u001b[0;31mTypeError\u001b[0m: 'type' object does not support item assignment"
     ]
    }
   ],
   "source": [
    "str[0]=\"N\" #string is immutable"
   ]
  },
  {
   "cell_type": "code",
   "execution_count": null,
   "id": "621072c1-a20a-4bac-a038-ad61439bc7d7",
   "metadata": {},
   "outputs": [],
   "source": [
    "list_a[2]=10"
   ]
  },
  {
   "cell_type": "code",
   "execution_count": null,
   "id": "2877d4ab-0e5b-45fe-8187-85c9fa34513e",
   "metadata": {},
   "outputs": [
    {
     "data": {
      "text/plain": [
       "[1, 2, 10, 4]"
      ]
     },
     "execution_count": 36,
     "metadata": {},
     "output_type": "execute_result"
    }
   ],
   "source": [
    "list_a"
   ]
  },
  {
   "cell_type": "markdown",
   "id": "e803095d-0363-4bfa-b91b-20ff0a3f915e",
   "metadata": {},
   "source": [
    "# comparisan operation"
   ]
  },
  {
   "cell_type": "markdown",
   "id": "70c04e07-47a8-4624-8c86-63f37e932224",
   "metadata": {},
   "source": [
    "|Operation|Meaning|\n",
    "|:-:|:-:|\n",
    "| **<** |less than|\n",
    "| **<=** |less than or equal to|\n",
    "| **>** |greater than|\n",
    "| **>=** |greater than or equal to|\n"
   ]
  },
  {
   "cell_type": "code",
   "execution_count": 39,
   "id": "1e029c2a-e804-4e5a-930c-1bf376f11dfb",
   "metadata": {},
   "outputs": [
    {
     "name": "stdout",
     "output_type": "stream",
     "text": [
      "bike is faster than car: False\n"
     ]
    }
   ],
   "source": [
    "maximum_speed_of_bike = 150\n",
    "max_speed_of_car = 200\n",
    "print(f\"bike is faster than car: {maximum_speed_of_bike > max_speed_of_car}\")"
   ]
  },
  {
   "cell_type": "markdown",
   "id": "ec1ae80e-6315-4b62-bd78-ff7f6dd56d8b",
   "metadata": {},
   "source": [
    "# Airthmatic Operation"
   ]
  },
  {
   "cell_type": "markdown",
   "id": "1bf6a46a-10b0-4b41-a9e5-b3b36622abd0",
   "metadata": {},
   "source": [
    "## Arithmethic Operations\n",
    "|Operation|Meaning|\n",
    "|:-:|:-:|\n",
    "| **+** |addition|\n",
    "| **-** |subtraction|\n",
    "| **\\*** |multiplication|\n",
    "| **/** |true division|\n",
    "| **//** |integer division|\n",
    "| **%** |the modulo operator|"
   ]
  },
  {
   "cell_type": "code",
   "execution_count": 40,
   "id": "4862f80b-13fc-414b-984b-d90a50665124",
   "metadata": {},
   "outputs": [],
   "source": [
    "a=25\n",
    "b=101"
   ]
  },
  {
   "cell_type": "code",
   "execution_count": 41,
   "id": "a0b8b565-7f78-4a08-85dd-2da0ab75bfd7",
   "metadata": {},
   "outputs": [
    {
     "data": {
      "text/plain": [
       "126"
      ]
     },
     "execution_count": 41,
     "metadata": {},
     "output_type": "execute_result"
    }
   ],
   "source": [
    "a+b"
   ]
  },
  {
   "cell_type": "code",
   "execution_count": 42,
   "id": "c01e0360-a8a3-4999-ab86-07736adf31a3",
   "metadata": {},
   "outputs": [
    {
     "data": {
      "text/plain": [
       "-76"
      ]
     },
     "execution_count": 42,
     "metadata": {},
     "output_type": "execute_result"
    }
   ],
   "source": [
    "a-b"
   ]
  },
  {
   "cell_type": "code",
   "execution_count": 43,
   "id": "b57e2a3f-72e7-4b06-90af-fe7d66757848",
   "metadata": {},
   "outputs": [
    {
     "data": {
      "text/plain": [
       "2525"
      ]
     },
     "execution_count": 43,
     "metadata": {},
     "output_type": "execute_result"
    }
   ],
   "source": [
    "a*b"
   ]
  },
  {
   "cell_type": "code",
   "execution_count": 44,
   "id": "67c45c06-9158-4a2d-bb2f-87da39cbef89",
   "metadata": {},
   "outputs": [
    {
     "data": {
      "text/plain": [
       "0.24752475247524752"
      ]
     },
     "execution_count": 44,
     "metadata": {},
     "output_type": "execute_result"
    }
   ],
   "source": [
    "a/b"
   ]
  },
  {
   "cell_type": "code",
   "execution_count": 45,
   "id": "3d26e20f-442d-4e7a-8c2d-11d406a2826a",
   "metadata": {},
   "outputs": [
    {
     "data": {
      "text/plain": [
       "0"
      ]
     },
     "execution_count": 45,
     "metadata": {},
     "output_type": "execute_result"
    }
   ],
   "source": [
    "a//b"
   ]
  },
  {
   "cell_type": "code",
   "execution_count": 46,
   "id": "f4205d1a-d6ce-4578-8b36-04c1c52c8b18",
   "metadata": {},
   "outputs": [
    {
     "data": {
      "text/plain": [
       "25"
      ]
     },
     "execution_count": 46,
     "metadata": {},
     "output_type": "execute_result"
    }
   ],
   "source": [
    "a%b"
   ]
  },
  {
   "cell_type": "code",
   "execution_count": 47,
   "id": "9d8a2e25-2b4a-4cf9-850d-3273fdb5c043",
   "metadata": {},
   "outputs": [
    {
     "data": {
      "text/plain": [
       "4.04"
      ]
     },
     "execution_count": 47,
     "metadata": {},
     "output_type": "execute_result"
    }
   ],
   "source": [
    "b/a"
   ]
  },
  {
   "cell_type": "code",
   "execution_count": 48,
   "id": "2c72d355-2de8-41f2-b1d8-01560966c6d3",
   "metadata": {},
   "outputs": [
    {
     "data": {
      "text/plain": [
       "4"
      ]
     },
     "execution_count": 48,
     "metadata": {},
     "output_type": "execute_result"
    }
   ],
   "source": [
    "b//a"
   ]
  },
  {
   "cell_type": "code",
   "execution_count": 49,
   "id": "ba10cbd9-79ab-49ea-b730-392d9be73fcc",
   "metadata": {},
   "outputs": [
    {
     "data": {
      "text/plain": [
       "1"
      ]
     },
     "execution_count": 49,
     "metadata": {},
     "output_type": "execute_result"
    }
   ],
   "source": [
    "b%a"
   ]
  },
  {
   "cell_type": "markdown",
   "id": "00a24862-be7b-4676-b87e-b70b40dfc2e6",
   "metadata": {},
   "source": [
    "# Bitwise Operator"
   ]
  },
  {
   "cell_type": "markdown",
   "id": "7e58c81a-5c59-4302-84a4-9bcc67fb9c19",
   "metadata": {},
   "source": [
    "### Bitwise Operators\n",
    "|Operation|Meaning|\n",
    "|:-:|:-:|\n",
    "| **∼** |bitwise complement (prefix unary operator)|\n",
    "| **&** |bitwise and|\n",
    "| **\\|** |bitwise or|\n",
    "| **^** |bitwise exclusive-or|\n",
    "| **<<** |shift bits left, filling in with zeros|\n",
    "| **>>** |shift bits right, filling in with sign bit|\n"
   ]
  },
  {
   "cell_type": "code",
   "execution_count": 4,
   "id": "d2c3bbcb-ea5d-4fb5-9251-c11d1578c2e5",
   "metadata": {},
   "outputs": [
    {
     "name": "stdout",
     "output_type": "stream",
     "text": [
      "10\n"
     ]
    },
    {
     "data": {
      "text/plain": [
       "'0b1010'"
      ]
     },
     "execution_count": 4,
     "metadata": {},
     "output_type": "execute_result"
    }
   ],
   "source": [
    "var = 10\n",
    "print(var)\n",
    "bin(var)"
   ]
  },
  {
   "cell_type": "code",
   "execution_count": 7,
   "id": "f347d827-0098-4d3c-bb16-86f15bd4a026",
   "metadata": {},
   "outputs": [
    {
     "data": {
      "text/plain": [
       "-11"
      ]
     },
     "execution_count": 7,
     "metadata": {},
     "output_type": "execute_result"
    }
   ],
   "source": [
    "~var"
   ]
  },
  {
   "cell_type": "code",
   "execution_count": 8,
   "id": "6a85a56d-8839-461e-8d70-a0e96f01fe78",
   "metadata": {},
   "outputs": [
    {
     "data": {
      "text/plain": [
       "True"
      ]
     },
     "execution_count": 8,
     "metadata": {},
     "output_type": "execute_result"
    }
   ],
   "source": [
    "True & True"
   ]
  },
  {
   "cell_type": "code",
   "execution_count": 9,
   "id": "e5a5f443-6642-45c6-a0e8-e78e50b478e6",
   "metadata": {},
   "outputs": [
    {
     "data": {
      "text/plain": [
       "False"
      ]
     },
     "execution_count": 9,
     "metadata": {},
     "output_type": "execute_result"
    }
   ],
   "source": [
    "True & False"
   ]
  },
  {
   "cell_type": "code",
   "execution_count": 10,
   "id": "5470652f-91a2-4eae-9553-4db495d73ce3",
   "metadata": {},
   "outputs": [
    {
     "data": {
      "text/plain": [
       "True"
      ]
     },
     "execution_count": 10,
     "metadata": {},
     "output_type": "execute_result"
    }
   ],
   "source": [
    "True | False"
   ]
  },
  {
   "cell_type": "code",
   "execution_count": 11,
   "id": "190ad529-588d-468e-9aef-8b45e6b49680",
   "metadata": {},
   "outputs": [
    {
     "data": {
      "text/plain": [
       "False"
      ]
     },
     "execution_count": 11,
     "metadata": {},
     "output_type": "execute_result"
    }
   ],
   "source": [
    "True ^ True"
   ]
  },
  {
   "cell_type": "code",
   "execution_count": 12,
   "id": "a6dec4d4-99d8-4672-964c-a58058299dde",
   "metadata": {},
   "outputs": [
    {
     "data": {
      "text/plain": [
       "True"
      ]
     },
     "execution_count": 12,
     "metadata": {},
     "output_type": "execute_result"
    }
   ],
   "source": [
    "True ^ False"
   ]
  },
  {
   "cell_type": "code",
   "execution_count": 13,
   "id": "61d40d2f-7c00-4f05-8857-6df7e36380c6",
   "metadata": {},
   "outputs": [
    {
     "data": {
      "text/plain": [
       "True"
      ]
     },
     "execution_count": 13,
     "metadata": {},
     "output_type": "execute_result"
    }
   ],
   "source": [
    "False ^ True"
   ]
  },
  {
   "cell_type": "code",
   "execution_count": 14,
   "id": "61e7d542-5685-4c1d-b768-55227f90da52",
   "metadata": {},
   "outputs": [
    {
     "data": {
      "text/plain": [
       "False"
      ]
     },
     "execution_count": 14,
     "metadata": {},
     "output_type": "execute_result"
    }
   ],
   "source": [
    "False ^ False"
   ]
  },
  {
   "cell_type": "code",
   "execution_count": 15,
   "id": "dc0de914-34c5-4e0a-add1-ebf9e0582da1",
   "metadata": {},
   "outputs": [
    {
     "data": {
      "text/plain": [
       "5"
      ]
     },
     "execution_count": 15,
     "metadata": {},
     "output_type": "execute_result"
    }
   ],
   "source": [
    "var >> 1\n"
   ]
  },
  {
   "cell_type": "code",
   "execution_count": 16,
   "id": "a79d50d4-1cf8-4ef8-99a4-ed403aa6f9f7",
   "metadata": {},
   "outputs": [
    {
     "data": {
      "text/plain": [
       "20"
      ]
     },
     "execution_count": 16,
     "metadata": {},
     "output_type": "execute_result"
    }
   ],
   "source": [
    "var << 1"
   ]
  },
  {
   "cell_type": "markdown",
   "id": "599c44ef-3fae-489d-a06f-4ab49558b803",
   "metadata": {},
   "source": [
    "# string objects"
   ]
  },
  {
   "cell_type": "code",
   "execution_count": 17,
   "id": "d7bc6add-5e0f-4322-b24a-959f59077c2f",
   "metadata": {},
   "outputs": [],
   "source": [
    "str1=\"Welcome to data science master's\""
   ]
  },
  {
   "cell_type": "code",
   "execution_count": 18,
   "id": "832c852e-b933-4a70-8831-448fe9eb090c",
   "metadata": {},
   "outputs": [
    {
     "data": {
      "text/plain": [
       "\"Welcome to data science master's\""
      ]
     },
     "execution_count": 18,
     "metadata": {},
     "output_type": "execute_result"
    }
   ],
   "source": [
    "str1"
   ]
  },
  {
   "cell_type": "code",
   "execution_count": 19,
   "id": "b4d22ed4-4b8a-4f52-ad05-9cd6267fefcc",
   "metadata": {},
   "outputs": [
    {
     "data": {
      "text/plain": [
       "str"
      ]
     },
     "execution_count": 19,
     "metadata": {},
     "output_type": "execute_result"
    }
   ],
   "source": [
    "type(str1)"
   ]
  },
  {
   "cell_type": "code",
   "execution_count": 20,
   "id": "92a451eb-c72a-4861-a3cf-4a44216324a3",
   "metadata": {},
   "outputs": [
    {
     "ename": "TypeError",
     "evalue": "'str' object does not support item assignment",
     "output_type": "error",
     "traceback": [
      "\u001b[0;31m---------------------------------------------------------------------------\u001b[0m",
      "\u001b[0;31mTypeError\u001b[0m                                 Traceback (most recent call last)",
      "Cell \u001b[0;32mIn[20], line 1\u001b[0m\n\u001b[0;32m----> 1\u001b[0m \u001b[43mstr1\u001b[49m\u001b[43m[\u001b[49m\u001b[38;5;241;43m2\u001b[39;49m\u001b[43m]\u001b[49m\u001b[38;5;241m=\u001b[39m\u001b[38;5;124m\"\u001b[39m\u001b[38;5;124mK\u001b[39m\u001b[38;5;124m\"\u001b[39m\n",
      "\u001b[0;31mTypeError\u001b[0m: 'str' object does not support item assignment"
     ]
    }
   ],
   "source": [
    "str1[2]=\"K\" #string is immutable"
   ]
  },
  {
   "cell_type": "code",
   "execution_count": 21,
   "id": "c6816f7e-3e44-4d48-9a05-20a991760541",
   "metadata": {},
   "outputs": [],
   "source": [
    "str1=\"My Name is Riya\""
   ]
  },
  {
   "cell_type": "code",
   "execution_count": 22,
   "id": "c6220006-0567-4754-863a-e2bf31bc9c2c",
   "metadata": {},
   "outputs": [
    {
     "data": {
      "text/plain": [
       "'My Name is Riya'"
      ]
     },
     "execution_count": 22,
     "metadata": {},
     "output_type": "execute_result"
    }
   ],
   "source": [
    "str1"
   ]
  },
  {
   "cell_type": "code",
   "execution_count": 23,
   "id": "e636f236-6b48-48ee-9d5a-6085c8e159ab",
   "metadata": {},
   "outputs": [
    {
     "data": {
      "text/plain": [
       "['__add__',\n",
       " '__class__',\n",
       " '__contains__',\n",
       " '__delattr__',\n",
       " '__dir__',\n",
       " '__doc__',\n",
       " '__eq__',\n",
       " '__format__',\n",
       " '__ge__',\n",
       " '__getattribute__',\n",
       " '__getitem__',\n",
       " '__getnewargs__',\n",
       " '__gt__',\n",
       " '__hash__',\n",
       " '__init__',\n",
       " '__init_subclass__',\n",
       " '__iter__',\n",
       " '__le__',\n",
       " '__len__',\n",
       " '__lt__',\n",
       " '__mod__',\n",
       " '__mul__',\n",
       " '__ne__',\n",
       " '__new__',\n",
       " '__reduce__',\n",
       " '__reduce_ex__',\n",
       " '__repr__',\n",
       " '__rmod__',\n",
       " '__rmul__',\n",
       " '__setattr__',\n",
       " '__sizeof__',\n",
       " '__str__',\n",
       " '__subclasshook__',\n",
       " 'capitalize',\n",
       " 'casefold',\n",
       " 'center',\n",
       " 'count',\n",
       " 'encode',\n",
       " 'endswith',\n",
       " 'expandtabs',\n",
       " 'find',\n",
       " 'format',\n",
       " 'format_map',\n",
       " 'index',\n",
       " 'isalnum',\n",
       " 'isalpha',\n",
       " 'isascii',\n",
       " 'isdecimal',\n",
       " 'isdigit',\n",
       " 'isidentifier',\n",
       " 'islower',\n",
       " 'isnumeric',\n",
       " 'isprintable',\n",
       " 'isspace',\n",
       " 'istitle',\n",
       " 'isupper',\n",
       " 'join',\n",
       " 'ljust',\n",
       " 'lower',\n",
       " 'lstrip',\n",
       " 'maketrans',\n",
       " 'partition',\n",
       " 'removeprefix',\n",
       " 'removesuffix',\n",
       " 'replace',\n",
       " 'rfind',\n",
       " 'rindex',\n",
       " 'rjust',\n",
       " 'rpartition',\n",
       " 'rsplit',\n",
       " 'rstrip',\n",
       " 'split',\n",
       " 'splitlines',\n",
       " 'startswith',\n",
       " 'strip',\n",
       " 'swapcase',\n",
       " 'title',\n",
       " 'translate',\n",
       " 'upper',\n",
       " 'zfill']"
      ]
     },
     "execution_count": 23,
     "metadata": {},
     "output_type": "execute_result"
    }
   ],
   "source": [
    "dir(str1)"
   ]
  },
  {
   "cell_type": "code",
   "execution_count": 27,
   "id": "fb247602-0e75-439f-b3f3-9aee1f3b31e6",
   "metadata": {},
   "outputs": [
    {
     "data": {
      "text/plain": [
       "'m'"
      ]
     },
     "execution_count": 27,
     "metadata": {},
     "output_type": "execute_result"
    }
   ],
   "source": [
    "str1[5]"
   ]
  },
  {
   "cell_type": "code",
   "execution_count": 29,
   "id": "ea8c1442-d43f-4c08-b156-c2be1d6f200a",
   "metadata": {},
   "outputs": [
    {
     "data": {
      "text/plain": [
       "' Name is'"
      ]
     },
     "execution_count": 29,
     "metadata": {},
     "output_type": "execute_result"
    }
   ],
   "source": [
    "str1[2:10]"
   ]
  },
  {
   "cell_type": "code",
   "execution_count": 30,
   "id": "4fda9fa3-dfc0-45d1-9f6f-464dbf3a44fd",
   "metadata": {},
   "outputs": [
    {
     "data": {
      "text/plain": [
       "'a'"
      ]
     },
     "execution_count": 30,
     "metadata": {},
     "output_type": "execute_result"
    }
   ],
   "source": [
    "str1[-1]"
   ]
  },
  {
   "cell_type": "code",
   "execution_count": 31,
   "id": "19273933-be83-4870-8f27-55540376e380",
   "metadata": {},
   "outputs": [
    {
     "data": {
      "text/plain": [
       "'a'"
      ]
     },
     "execution_count": 31,
     "metadata": {},
     "output_type": "execute_result"
    }
   ],
   "source": [
    "str1[-1:]"
   ]
  },
  {
   "cell_type": "code",
   "execution_count": 36,
   "id": "8cb2a986-63ba-4bfe-801e-d3545ce16b23",
   "metadata": {},
   "outputs": [
    {
     "data": {
      "text/plain": [
       "'My Name is Riya'"
      ]
     },
     "execution_count": 36,
     "metadata": {},
     "output_type": "execute_result"
    }
   ],
   "source": [
    "str1[ : ]"
   ]
  },
  {
   "cell_type": "code",
   "execution_count": 37,
   "id": "0fafbd07-ebc5-47be-bc02-7b5b4b8d1e2b",
   "metadata": {},
   "outputs": [
    {
     "data": {
      "text/plain": [
       "'My Name is Riy'"
      ]
     },
     "execution_count": 37,
     "metadata": {},
     "output_type": "execute_result"
    }
   ],
   "source": [
    "str1[ : -1]"
   ]
  },
  {
   "cell_type": "code",
   "execution_count": 38,
   "id": "c3d14279-dcdc-43be-b39f-9ad6a2e776c0",
   "metadata": {},
   "outputs": [
    {
     "data": {
      "text/plain": [
       "' Name is Riy'"
      ]
     },
     "execution_count": 38,
     "metadata": {},
     "output_type": "execute_result"
    }
   ],
   "source": [
    "str1[2 : -1]"
   ]
  },
  {
   "cell_type": "code",
   "execution_count": 40,
   "id": "ba260006-0bdf-4506-89c0-4b47ae0be059",
   "metadata": {},
   "outputs": [
    {
     "data": {
      "text/plain": [
       "''"
      ]
     },
     "execution_count": 40,
     "metadata": {},
     "output_type": "execute_result"
    }
   ],
   "source": [
    "str1[-1:-6]"
   ]
  },
  {
   "cell_type": "code",
   "execution_count": 41,
   "id": "cbd1de14-9152-43b4-916a-d5857b74b156",
   "metadata": {},
   "outputs": [
    {
     "data": {
      "text/plain": [
       "'My Name is Riya'"
      ]
     },
     "execution_count": 41,
     "metadata": {},
     "output_type": "execute_result"
    }
   ],
   "source": [
    "str1[ :: ]"
   ]
  },
  {
   "cell_type": "code",
   "execution_count": 43,
   "id": "d5241ddc-935b-4831-8bee-917db7518c3e",
   "metadata": {},
   "outputs": [
    {
     "data": {
      "text/plain": [
       "'ayiR si emaN yM'"
      ]
     },
     "execution_count": 43,
     "metadata": {},
     "output_type": "execute_result"
    }
   ],
   "source": [
    "str1[ :: -1]"
   ]
  },
  {
   "cell_type": "code",
   "execution_count": 42,
   "id": "5951ec6a-8293-4490-8469-8167086de87e",
   "metadata": {},
   "outputs": [
    {
     "data": {
      "text/plain": [
       "'ai iea M'"
      ]
     },
     "execution_count": 42,
     "metadata": {},
     "output_type": "execute_result"
    }
   ],
   "source": [
    "str1[ :: -2]"
   ]
  },
  {
   "cell_type": "code",
   "execution_count": 44,
   "id": "336bdf42-549b-415b-b6fc-2d256af26004",
   "metadata": {},
   "outputs": [
    {
     "data": {
      "text/plain": [
       "'iR si e'"
      ]
     },
     "execution_count": 44,
     "metadata": {},
     "output_type": "execute_result"
    }
   ],
   "source": [
    "str1[12:5:-1]"
   ]
  },
  {
   "cell_type": "code",
   "execution_count": 45,
   "id": "77d9c9f7-da19-4bc6-8b87-cf07869ae9a1",
   "metadata": {},
   "outputs": [
    {
     "data": {
      "text/plain": [
       "' yM'"
      ]
     },
     "execution_count": 45,
     "metadata": {},
     "output_type": "execute_result"
    }
   ],
   "source": [
    "str1[2: : -1]"
   ]
  },
  {
   "cell_type": "code",
   "execution_count": 46,
   "id": "fc6d6a13-0692-46fe-b1b6-73c2b9306d32",
   "metadata": {},
   "outputs": [
    {
     "data": {
      "text/plain": [
       "'iR si emaN yM'"
      ]
     },
     "execution_count": 46,
     "metadata": {},
     "output_type": "execute_result"
    }
   ],
   "source": [
    "str1[12: : -1]"
   ]
  },
  {
   "cell_type": "code",
   "execution_count": 47,
   "id": "7246d676-267e-4b3c-9b60-e3ecdb3140c2",
   "metadata": {},
   "outputs": [
    {
     "data": {
      "text/plain": [
       "'ayiR si e'"
      ]
     },
     "execution_count": 47,
     "metadata": {},
     "output_type": "execute_result"
    }
   ],
   "source": [
    "str1[:5 : -1]"
   ]
  },
  {
   "cell_type": "code",
   "execution_count": 48,
   "id": "6d66ebef-8579-4f91-976c-0cd7e711d0c6",
   "metadata": {},
   "outputs": [
    {
     "data": {
      "text/plain": [
       "'ay'"
      ]
     },
     "execution_count": 48,
     "metadata": {},
     "output_type": "execute_result"
    }
   ],
   "source": [
    "str1[: 12: -1]"
   ]
  },
  {
   "cell_type": "code",
   "execution_count": 49,
   "id": "906548ea-dc54-4ca0-9d91-223630d30cd3",
   "metadata": {},
   "outputs": [],
   "source": [
    "course = \"Data Science Masters\""
   ]
  },
  {
   "cell_type": "code",
   "execution_count": 57,
   "id": "f449b6d6-7b9e-485b-a070-425570e98090",
   "metadata": {},
   "outputs": [
    {
     "data": {
      "text/plain": [
       "'Science'"
      ]
     },
     "execution_count": 57,
     "metadata": {},
     "output_type": "execute_result"
    }
   ],
   "source": [
    "course[5:12]"
   ]
  },
  {
   "cell_type": "code",
   "execution_count": 54,
   "id": "91fdcca6-232a-4983-bcfd-3c7c2e51b82e",
   "metadata": {},
   "outputs": [
    {
     "data": {
      "text/plain": [
       "' ecneicS'"
      ]
     },
     "execution_count": 54,
     "metadata": {},
     "output_type": "execute_result"
    }
   ],
   "source": [
    "course[12:4:-1]"
   ]
  },
  {
   "cell_type": "code",
   "execution_count": 58,
   "id": "5979bf79-efb9-4206-aef9-943af9b3f03f",
   "metadata": {},
   "outputs": [
    {
     "data": {
      "text/plain": [
       "' ecneicS ataD'"
      ]
     },
     "execution_count": 58,
     "metadata": {},
     "output_type": "execute_result"
    }
   ],
   "source": [
    "course[12: :-1]"
   ]
  },
  {
   "cell_type": "code",
   "execution_count": 62,
   "id": "e19553a8-4543-4d08-865a-5a9ac88334a1",
   "metadata": {},
   "outputs": [
    {
     "data": {
      "text/plain": [
       "'Data Science'"
      ]
     },
     "execution_count": 62,
     "metadata": {},
     "output_type": "execute_result"
    }
   ],
   "source": [
    "course[:12:]"
   ]
  },
  {
   "cell_type": "code",
   "execution_count": 64,
   "id": "7abef2fc-425b-48ae-a776-28fc939d1857",
   "metadata": {},
   "outputs": [
    {
     "data": {
      "text/plain": [
       "'Data Science Masters Advance'"
      ]
     },
     "execution_count": 64,
     "metadata": {},
     "output_type": "execute_result"
    }
   ],
   "source": [
    "course + \" Advance\""
   ]
  },
  {
   "cell_type": "code",
   "execution_count": 65,
   "id": "9c976987-c840-4080-a8e2-1fb8242da4e0",
   "metadata": {},
   "outputs": [
    {
     "data": {
      "text/plain": [
       "'Data Science MastersData Science Masters'"
      ]
     },
     "execution_count": 65,
     "metadata": {},
     "output_type": "execute_result"
    }
   ],
   "source": [
    "course*2"
   ]
  },
  {
   "cell_type": "code",
   "execution_count": 66,
   "id": "b16d3900-73ac-4d6c-95a5-967ff8d88548",
   "metadata": {},
   "outputs": [
    {
     "data": {
      "text/plain": [
       "20"
      ]
     },
     "execution_count": 66,
     "metadata": {},
     "output_type": "execute_result"
    }
   ],
   "source": [
    "len(course)"
   ]
  },
  {
   "cell_type": "code",
   "execution_count": 70,
   "id": "338af025-f5c8-4f18-9428-07f9fc870bd7",
   "metadata": {},
   "outputs": [
    {
     "name": "stdout",
     "output_type": "stream",
     "text": [
      "-1\n",
      "0\n",
      "1\n"
     ]
    }
   ],
   "source": [
    "# find function\n",
    "print(course.find(\"d\"))\n",
    "print(course.find(\"D\"))\n",
    "print(course.find(\"a\"))\n"
   ]
  },
  {
   "cell_type": "code",
   "execution_count": 74,
   "id": "f2790dd1-afd3-48fc-9f20-8dda453011d2",
   "metadata": {},
   "outputs": [
    {
     "name": "stdout",
     "output_type": "stream",
     "text": [
      "0\n",
      "1\n",
      "3\n",
      "21\n",
      "2\n"
     ]
    }
   ],
   "source": [
    "print(course.count(\"d\"))\n",
    "print(course.count(\"D\"))\n",
    "print(course.count(\"a\"))\n",
    "print(course.count(\"\"))\n",
    "print(course.count(\" \"))\n",
    "\n"
   ]
  },
  {
   "cell_type": "code",
   "execution_count": 75,
   "id": "c2423e37-fead-4a1a-9c02-b9466d8ac506",
   "metadata": {},
   "outputs": [
    {
     "data": {
      "text/plain": [
       "['Data', 'Science', 'Masters']"
      ]
     },
     "execution_count": 75,
     "metadata": {},
     "output_type": "execute_result"
    }
   ],
   "source": [
    "# split function\n",
    "course.split()"
   ]
  },
  {
   "cell_type": "code",
   "execution_count": 76,
   "id": "f552f610-ce8f-409b-9204-be50b8ec8884",
   "metadata": {},
   "outputs": [
    {
     "data": {
      "text/plain": [
       "['Data ', 'cience Masters']"
      ]
     },
     "execution_count": 76,
     "metadata": {},
     "output_type": "execute_result"
    }
   ],
   "source": [
    "course.split(\"S\")"
   ]
  },
  {
   "cell_type": "code",
   "execution_count": 77,
   "id": "4bc12c5c-b368-487e-b173-bd4d1bbd73ce",
   "metadata": {},
   "outputs": [
    {
     "data": {
      "text/plain": [
       "['D', 't', ' Science M', 'sters']"
      ]
     },
     "execution_count": 77,
     "metadata": {},
     "output_type": "execute_result"
    }
   ],
   "source": [
    "course.split(\"a\")"
   ]
  },
  {
   "cell_type": "code",
   "execution_count": 79,
   "id": "fd141bf5-2d84-45e3-974f-af80e7ffe817",
   "metadata": {},
   "outputs": [
    {
     "data": {
      "text/plain": [
       "['Data', 'Science', 'Masters']"
      ]
     },
     "execution_count": 79,
     "metadata": {},
     "output_type": "execute_result"
    }
   ],
   "source": [
    "course.split(\" \")"
   ]
  },
  {
   "cell_type": "code",
   "execution_count": 81,
   "id": "b44b8349-5939-4565-8554-17fd11540f83",
   "metadata": {},
   "outputs": [
    {
     "data": {
      "text/plain": [
       "['Data Science Ma', 'ter', '']"
      ]
     },
     "execution_count": 81,
     "metadata": {},
     "output_type": "execute_result"
    }
   ],
   "source": [
    "course.split(\"s\")"
   ]
  },
  {
   "cell_type": "code",
   "execution_count": 82,
   "id": "efae633a-c851-4167-9fd3-29c40e5fbd08",
   "metadata": {},
   "outputs": [
    {
     "data": {
      "text/plain": [
       "('Data Science Ma', 's', 'ters')"
      ]
     },
     "execution_count": 82,
     "metadata": {},
     "output_type": "execute_result"
    }
   ],
   "source": [
    "course.partition(\"s\")"
   ]
  },
  {
   "cell_type": "code",
   "execution_count": null,
   "id": "c9e16cfd-6ffd-4592-827d-382f81765158",
   "metadata": {},
   "outputs": [],
   "source": [
    "# upercase and lowewcase"
   ]
  },
  {
   "cell_type": "code",
   "execution_count": 84,
   "id": "e9d4a5bd-bb4c-4445-a56a-1bdf877d171b",
   "metadata": {},
   "outputs": [
    {
     "data": {
      "text/plain": [
       "'DATA SCIENCE MASTERS'"
      ]
     },
     "execution_count": 84,
     "metadata": {},
     "output_type": "execute_result"
    }
   ],
   "source": [
    "course.upper()"
   ]
  },
  {
   "cell_type": "code",
   "execution_count": 85,
   "id": "7ac2e968-da2c-4078-8dde-43dcc2328823",
   "metadata": {},
   "outputs": [
    {
     "data": {
      "text/plain": [
       "'data science masters'"
      ]
     },
     "execution_count": 85,
     "metadata": {},
     "output_type": "execute_result"
    }
   ],
   "source": [
    "course.lower()"
   ]
  },
  {
   "cell_type": "code",
   "execution_count": 88,
   "id": "e1308bf0-baf2-4e8f-b2ce-d8ecbe874545",
   "metadata": {},
   "outputs": [
    {
     "data": {
      "text/plain": [
       "'dATA sCIENCE mASTERS'"
      ]
     },
     "execution_count": 88,
     "metadata": {},
     "output_type": "execute_result"
    }
   ],
   "source": [
    "course.swapcase()"
   ]
  },
  {
   "cell_type": "code",
   "execution_count": 90,
   "id": "aeb2207a-33d5-4e85-8989-028063971deb",
   "metadata": {},
   "outputs": [
    {
     "data": {
      "text/plain": [
       "'Data Science Masters'"
      ]
     },
     "execution_count": 90,
     "metadata": {},
     "output_type": "execute_result"
    }
   ],
   "source": [
    "course.title()"
   ]
  },
  {
   "cell_type": "code",
   "execution_count": 95,
   "id": "5a51ab30-2b38-49fb-91fd-a0f025d8959c",
   "metadata": {},
   "outputs": [
    {
     "data": {
      "text/plain": [
       "'riya wagh'"
      ]
     },
     "execution_count": 95,
     "metadata": {},
     "output_type": "execute_result"
    }
   ],
   "source": [
    "name = \"riya wagh\"\n",
    "name"
   ]
  },
  {
   "cell_type": "code",
   "execution_count": 94,
   "id": "f4c5f6fd-743b-496f-a705-3c9b27b46663",
   "metadata": {},
   "outputs": [
    {
     "data": {
      "text/plain": [
       "'Riya Wagh'"
      ]
     },
     "execution_count": 94,
     "metadata": {},
     "output_type": "execute_result"
    }
   ],
   "source": [
    "name.title()"
   ]
  },
  {
   "cell_type": "code",
   "execution_count": 100,
   "id": "7ba95d7c-b127-48db-85c5-69b8793dca0b",
   "metadata": {},
   "outputs": [
    {
     "data": {
      "text/plain": [
       "'p w s k i l l s'"
      ]
     },
     "execution_count": 100,
     "metadata": {},
     "output_type": "execute_result"
    }
   ],
   "source": [
    "string = \"p w s k i l l s\"\n",
    "\n",
    "\" \".join(string.replace(\" \", \"\"))\n"
   ]
  },
  {
   "cell_type": "code",
   "execution_count": 103,
   "id": "cc301d98-aef8-442d-b538-e329a2e6df47",
   "metadata": {},
   "outputs": [
    {
     "data": {
      "text/plain": [
       "True"
      ]
     },
     "execution_count": 103,
     "metadata": {},
     "output_type": "execute_result"
    }
   ],
   "source": [
    "\"pwskills\"[::-1].upper().replace(\"SLLIKSWP\", \"pwskills\").islower()\n",
    "\n"
   ]
  },
  {
   "cell_type": "code",
   "execution_count": 104,
   "id": "1f71d54f-f1e9-496d-b327-c3c3bbfd6b5f",
   "metadata": {},
   "outputs": [
    {
     "name": "stdout",
     "output_type": "stream",
     "text": [
      "I\n",
      "Want\n",
      "To\n",
      "Become\n",
      "A\n",
      "Data\n",
      "Scientist\n"
     ]
    }
   ],
   "source": [
    "s = \"I want to become a data scientist\"\n",
    "\n",
    "for i in s.split():\n",
    "\n",
    "    i.capitalize()\n",
    "\n",
    "    print(i.title())"
   ]
  },
  {
   "cell_type": "code",
   "execution_count": 108,
   "id": "74256fff-2adc-4f54-909b-0855b81e6d0f",
   "metadata": {},
   "outputs": [
    {
     "ename": "TypeError",
     "evalue": "'str' object does not support item assignment",
     "output_type": "error",
     "traceback": [
      "\u001b[0;31m---------------------------------------------------------------------------\u001b[0m",
      "\u001b[0;31mTypeError\u001b[0m                                 Traceback (most recent call last)",
      "Cell \u001b[0;32mIn[108], line 1\u001b[0m\n\u001b[0;32m----> 1\u001b[0m \u001b[38;5;124;43m'\u001b[39;49m\u001b[38;5;124;43mpwskills\u001b[39;49m\u001b[38;5;124;43m'\u001b[39;49m\u001b[43m[\u001b[49m\u001b[38;5;241;43m0\u001b[39;49m\u001b[43m]\u001b[49m\u001b[38;5;241m=\u001b[39m\u001b[38;5;124m'\u001b[39m\u001b[38;5;124mP\u001b[39m\u001b[38;5;124m'\u001b[39m\n",
      "\u001b[0;31mTypeError\u001b[0m: 'str' object does not support item assignment"
     ]
    }
   ],
   "source": [
    "'pwskills'[0]='P'\n",
    "\n"
   ]
  }
 ],
 "metadata": {
  "kernelspec": {
   "display_name": "Python 3 (ipykernel)",
   "language": "python",
   "name": "python3"
  },
  "language_info": {
   "codemirror_mode": {
    "name": "ipython",
    "version": 3
   },
   "file_extension": ".py",
   "mimetype": "text/x-python",
   "name": "python",
   "nbconvert_exporter": "python",
   "pygments_lexer": "ipython3",
   "version": "3.10.8"
  }
 },
 "nbformat": 4,
 "nbformat_minor": 5
}
