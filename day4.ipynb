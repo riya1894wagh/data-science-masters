{
 "cells": [
  {
   "cell_type": "code",
   "execution_count": 11,
   "id": "0d773f3a-765a-4f74-8d80-8e052a59cbe2",
   "metadata": {},
   "outputs": [
    {
     "data": {
      "text/plain": [
       "'riya wagh'"
      ]
     },
     "execution_count": 11,
     "metadata": {},
     "output_type": "execute_result"
    }
   ],
   "source": [
    "name=\"riya wagh\"\n",
    "name"
   ]
  },
  {
   "cell_type": "code",
   "execution_count": 12,
   "id": "2be77eb4-aeb4-4898-b3b2-14518713d075",
   "metadata": {},
   "outputs": [
    {
     "data": {
      "text/plain": [
       "'RIYA WAGH'"
      ]
     },
     "execution_count": 12,
     "metadata": {},
     "output_type": "execute_result"
    }
   ],
   "source": [
    "name.swapcase()"
   ]
  },
  {
   "cell_type": "markdown",
   "id": "71ba23ce-110c-40a0-b3d1-f69b3cc5c8f0",
   "metadata": {},
   "source": [
    "## Reversing a string"
   ]
  },
  {
   "cell_type": "code",
   "execution_count": 13,
   "id": "bc50de98-225a-4d81-a473-e83e10e2865b",
   "metadata": {},
   "outputs": [
    {
     "data": {
      "text/plain": [
       "'Riya wagh'"
      ]
     },
     "execution_count": 13,
     "metadata": {},
     "output_type": "execute_result"
    }
   ],
   "source": [
    "name.capitalize()"
   ]
  },
  {
   "cell_type": "code",
   "execution_count": 14,
   "id": "4e9c945e-53f1-4284-b7e1-c1dd1210ad13",
   "metadata": {},
   "outputs": [
    {
     "data": {
      "text/plain": [
       "'hgaw ayir'"
      ]
     },
     "execution_count": 14,
     "metadata": {},
     "output_type": "execute_result"
    }
   ],
   "source": [
    "name[::-1]"
   ]
  },
  {
   "cell_type": "code",
   "execution_count": 15,
   "id": "483fe10e-ccf8-46c4-af0a-118c4d080bc5",
   "metadata": {},
   "outputs": [
    {
     "data": {
      "text/plain": [
       "<reversed at 0x7f2f6e569c90>"
      ]
     },
     "execution_count": 15,
     "metadata": {},
     "output_type": "execute_result"
    }
   ],
   "source": [
    "reversed(name)"
   ]
  },
  {
   "cell_type": "code",
   "execution_count": 16,
   "id": "05ef67f3-fa04-439e-b709-3e131a6f42c5",
   "metadata": {},
   "outputs": [
    {
     "data": {
      "text/plain": [
       "'<reversed object at 0x7f2f6e569bd0>'"
      ]
     },
     "execution_count": 16,
     "metadata": {},
     "output_type": "execute_result"
    }
   ],
   "source": [
    "str(reversed(name))"
   ]
  },
  {
   "cell_type": "code",
   "execution_count": 17,
   "id": "c7b69ec9-e313-4cdd-916c-c842279d4b9b",
   "metadata": {},
   "outputs": [
    {
     "data": {
      "text/plain": [
       "['h', 'g', 'a', 'w', ' ', 'a', 'y', 'i', 'r']"
      ]
     },
     "execution_count": 17,
     "metadata": {},
     "output_type": "execute_result"
    }
   ],
   "source": [
    "list(reversed(name))"
   ]
  },
  {
   "cell_type": "code",
   "execution_count": 18,
   "id": "7ce80b88-6498-4341-ada2-382136094902",
   "metadata": {},
   "outputs": [
    {
     "data": {
      "text/plain": [
       "'h g a w   a y i r'"
      ]
     },
     "execution_count": 18,
     "metadata": {},
     "output_type": "execute_result"
    }
   ],
   "source": [
    "\" \".join(reversed(name))"
   ]
  },
  {
   "cell_type": "code",
   "execution_count": 19,
   "id": "2857bc5d-829d-454d-afe5-5c233ca94a25",
   "metadata": {},
   "outputs": [
    {
     "data": {
      "text/plain": [
       "'a b c d e'"
      ]
     },
     "execution_count": 19,
     "metadata": {},
     "output_type": "execute_result"
    }
   ],
   "source": [
    "\" \".join(\"abcde\")"
   ]
  },
  {
   "cell_type": "code",
   "execution_count": 20,
   "id": "a05ef343-404f-40d6-b888-0848e430ecfe",
   "metadata": {},
   "outputs": [
    {
     "data": {
      "text/plain": [
       "'e d c b a'"
      ]
     },
     "execution_count": 20,
     "metadata": {},
     "output_type": "execute_result"
    }
   ],
   "source": [
    "\" \".join(reversed(\"abcde\"))"
   ]
  },
  {
   "cell_type": "code",
   "execution_count": 21,
   "id": "e94a9c0e-4f65-463b-aaf5-3553fe84eb54",
   "metadata": {},
   "outputs": [
    {
     "data": {
      "text/plain": [
       "'abcde'"
      ]
     },
     "execution_count": 21,
     "metadata": {},
     "output_type": "execute_result"
    }
   ],
   "source": [
    "\"\".join(\"abcde\")"
   ]
  },
  {
   "cell_type": "code",
   "execution_count": 22,
   "id": "e1cc8fa0-5e90-4a57-97c3-bfe37ab51b0d",
   "metadata": {},
   "outputs": [
    {
     "data": {
      "text/plain": [
       "'edcba'"
      ]
     },
     "execution_count": 22,
     "metadata": {},
     "output_type": "execute_result"
    }
   ],
   "source": [
    "\"\".join(reversed(\"abcde\"))"
   ]
  },
  {
   "cell_type": "code",
   "execution_count": 23,
   "id": "14aad65e-ff9d-4d2b-9151-c4e66ba35dd8",
   "metadata": {},
   "outputs": [],
   "source": [
    "str1 = \"pw is a good company\""
   ]
  },
  {
   "cell_type": "code",
   "execution_count": 24,
   "id": "a9ef79cb-14c2-490b-bbe1-d00f600de990",
   "metadata": {},
   "outputs": [
    {
     "data": {
      "text/plain": [
       "'pw is a good company'"
      ]
     },
     "execution_count": 24,
     "metadata": {},
     "output_type": "execute_result"
    }
   ],
   "source": [
    "str1"
   ]
  },
  {
   "cell_type": "code",
   "execution_count": 25,
   "id": "14ff6405-bdfa-4682-9a85-e32aa7d3b149",
   "metadata": {},
   "outputs": [
    {
     "data": {
      "text/plain": [
       "'pw is a good company'"
      ]
     },
     "execution_count": 25,
     "metadata": {},
     "output_type": "execute_result"
    }
   ],
   "source": [
    "\"\".join(str1)"
   ]
  },
  {
   "cell_type": "code",
   "execution_count": 26,
   "id": "2ad497a7-a8f2-4b6c-ac69-96c879ec5105",
   "metadata": {},
   "outputs": [
    {
     "data": {
      "text/plain": [
       "'p w   i s   a   g o o d   c o m p a n y'"
      ]
     },
     "execution_count": 26,
     "metadata": {},
     "output_type": "execute_result"
    }
   ],
   "source": [
    "\" \".join(str1)"
   ]
  },
  {
   "cell_type": "code",
   "execution_count": 27,
   "id": "a3b1321d-d019-4957-b6ea-bdef14aa6e54",
   "metadata": {},
   "outputs": [
    {
     "data": {
      "text/plain": [
       "'p Google w Google   Google i Google s Google   Google a Google   Google g Google o Google o Google d Google   Google c Google o Google m Google p Google a Google n Google y'"
      ]
     },
     "execution_count": 27,
     "metadata": {},
     "output_type": "execute_result"
    }
   ],
   "source": [
    "\" Google \".join(str1)"
   ]
  },
  {
   "cell_type": "code",
   "execution_count": 28,
   "id": "c9f5fc5a-b6fa-4599-ae0a-8badb82e8179",
   "metadata": {},
   "outputs": [
    {
     "data": {
      "text/plain": [
       "'ynapmoc doog a si wp'"
      ]
     },
     "execution_count": 28,
     "metadata": {},
     "output_type": "execute_result"
    }
   ],
   "source": [
    "\"\".join((reversed(str1)))"
   ]
  },
  {
   "cell_type": "code",
   "execution_count": 29,
   "id": "4cf47aae-a2b1-41c9-bd5a-07170b51f962",
   "metadata": {},
   "outputs": [
    {
     "data": {
      "text/plain": [
       "'y Google n Google a Google p Google m Google o Google c Google   Google d Google o Google o Google g Google   Google a Google   Google s Google i Google   Google w Google p'"
      ]
     },
     "execution_count": 29,
     "metadata": {},
     "output_type": "execute_result"
    }
   ],
   "source": [
    "\" Google \".join((reversed(str1)))"
   ]
  },
  {
   "cell_type": "code",
   "execution_count": 30,
   "id": "75c4b90f-2249-4bba-8a90-147bf99be690",
   "metadata": {},
   "outputs": [
    {
     "name": "stdout",
     "output_type": "stream",
     "text": [
      "hgaw ayir"
     ]
    }
   ],
   "source": [
    "for i in list(reversed(name)):\n",
    "    print(i,end=\"\")"
   ]
  },
  {
   "cell_type": "code",
   "execution_count": 31,
   "id": "a1ae494f-a097-4087-9688-a25334b2a9a2",
   "metadata": {},
   "outputs": [],
   "source": [
    "## removing character from the end of the string"
   ]
  },
  {
   "cell_type": "code",
   "execution_count": 32,
   "id": "696cb06e-d330-4a50-a8f8-09eeab6007a9",
   "metadata": {},
   "outputs": [],
   "source": [
    "a=\" pwskills \""
   ]
  },
  {
   "cell_type": "code",
   "execution_count": 33,
   "id": "0d795327-d67f-46ef-8113-75505da4f656",
   "metadata": {},
   "outputs": [
    {
     "data": {
      "text/plain": [
       "' pwskills '"
      ]
     },
     "execution_count": 33,
     "metadata": {},
     "output_type": "execute_result"
    }
   ],
   "source": [
    "a"
   ]
  },
  {
   "cell_type": "code",
   "execution_count": 34,
   "id": "c8bab3ee-e62c-41ef-8023-ce7447b2d6f1",
   "metadata": {},
   "outputs": [
    {
     "data": {
      "text/plain": [
       "'pwskills'"
      ]
     },
     "execution_count": 34,
     "metadata": {},
     "output_type": "execute_result"
    }
   ],
   "source": [
    "a.strip(\" \") #for remove space\" \""
   ]
  },
  {
   "cell_type": "code",
   "execution_count": 35,
   "id": "97f272e6-b1a8-488c-af25-5c145fec9973",
   "metadata": {},
   "outputs": [
    {
     "data": {
      "text/plain": [
       "'pwskills '"
      ]
     },
     "execution_count": 35,
     "metadata": {},
     "output_type": "execute_result"
    }
   ],
   "source": [
    "a.lstrip() #for remove left space\" \""
   ]
  },
  {
   "cell_type": "code",
   "execution_count": 36,
   "id": "9849e214-cf68-487e-83e7-1f7f50c5b64a",
   "metadata": {},
   "outputs": [
    {
     "data": {
      "text/plain": [
       "' pwskills'"
      ]
     },
     "execution_count": 36,
     "metadata": {},
     "output_type": "execute_result"
    }
   ],
   "source": [
    "a.rstrip() #for remove right space \" \""
   ]
  },
  {
   "cell_type": "code",
   "execution_count": 37,
   "id": "0a972b29-d21a-4994-805f-e141c743b9f6",
   "metadata": {},
   "outputs": [
    {
     "data": {
      "text/plain": [
       "' pwskells '"
      ]
     },
     "execution_count": 37,
     "metadata": {},
     "output_type": "execute_result"
    }
   ],
   "source": [
    "a.replace(\"i\",\"e\") # it will return new copy"
   ]
  },
  {
   "cell_type": "code",
   "execution_count": 38,
   "id": "20ac552a-eaa8-4aa6-bf05-f3382b49fd50",
   "metadata": {},
   "outputs": [
    {
     "data": {
      "text/plain": [
       "False"
      ]
     },
     "execution_count": 38,
     "metadata": {},
     "output_type": "execute_result"
    }
   ],
   "source": [
    "str1.isupper()"
   ]
  },
  {
   "cell_type": "code",
   "execution_count": 39,
   "id": "01c6b3fa-6c0a-4dea-917b-470d0636e8bc",
   "metadata": {},
   "outputs": [
    {
     "data": {
      "text/plain": [
       "True"
      ]
     },
     "execution_count": 39,
     "metadata": {},
     "output_type": "execute_result"
    }
   ],
   "source": [
    "str1.islower()"
   ]
  },
  {
   "cell_type": "code",
   "execution_count": 40,
   "id": "31e8ff9c-87c3-4ae6-9a15-169df97433e8",
   "metadata": {},
   "outputs": [
    {
     "data": {
      "text/plain": [
       "True"
      ]
     },
     "execution_count": 40,
     "metadata": {},
     "output_type": "execute_result"
    }
   ],
   "source": [
    "\" \".isspace()"
   ]
  },
  {
   "cell_type": "code",
   "execution_count": 41,
   "id": "1820d15d-891f-4634-b5bc-9fb4e4bb083f",
   "metadata": {},
   "outputs": [
    {
     "data": {
      "text/plain": [
       "'pw is a good company'"
      ]
     },
     "execution_count": 41,
     "metadata": {},
     "output_type": "execute_result"
    }
   ],
   "source": [
    "str1"
   ]
  },
  {
   "cell_type": "code",
   "execution_count": 42,
   "id": "b8c08816-c1c7-41e8-8ae9-4dd221abfd7a",
   "metadata": {},
   "outputs": [
    {
     "data": {
      "text/plain": [
       "False"
      ]
     },
     "execution_count": 42,
     "metadata": {},
     "output_type": "execute_result"
    }
   ],
   "source": [
    "str1.endswith(\"s\")"
   ]
  },
  {
   "cell_type": "code",
   "execution_count": 43,
   "id": "249da1c8-438b-4029-a689-5c4a431c4c83",
   "metadata": {},
   "outputs": [
    {
     "data": {
      "text/plain": [
       "True"
      ]
     },
     "execution_count": 43,
     "metadata": {},
     "output_type": "execute_result"
    }
   ],
   "source": [
    "str1.endswith(\"y\")"
   ]
  },
  {
   "cell_type": "code",
   "execution_count": 44,
   "id": "106e699d-e3d4-4824-bfcf-112c67c8afc3",
   "metadata": {},
   "outputs": [
    {
     "data": {
      "text/plain": [
       "'jbyhug37r98qy98uhuja'"
      ]
     },
     "execution_count": 44,
     "metadata": {},
     "output_type": "execute_result"
    }
   ],
   "source": [
    "## check if all the char is alphanumeric\n",
    "a=\"jbyhug37r98qy98uhuja\"\n",
    "a"
   ]
  },
  {
   "cell_type": "code",
   "execution_count": 45,
   "id": "5bdb61de-4713-46c8-b679-53b66203593b",
   "metadata": {},
   "outputs": [
    {
     "data": {
      "text/plain": [
       "True"
      ]
     },
     "execution_count": 45,
     "metadata": {},
     "output_type": "execute_result"
    }
   ],
   "source": [
    "a.isalnum()"
   ]
  },
  {
   "cell_type": "code",
   "execution_count": 46,
   "id": "777e16eb-5d54-483b-828d-0c99053f3622",
   "metadata": {},
   "outputs": [
    {
     "data": {
      "text/plain": [
       "'pw is a good company'"
      ]
     },
     "execution_count": 46,
     "metadata": {},
     "output_type": "execute_result"
    }
   ],
   "source": [
    "str1"
   ]
  },
  {
   "cell_type": "code",
   "execution_count": 47,
   "id": "4c014915-cd9f-466a-8422-1c9894da0ad4",
   "metadata": {},
   "outputs": [
    {
     "data": {
      "text/plain": [
       "False"
      ]
     },
     "execution_count": 47,
     "metadata": {},
     "output_type": "execute_result"
    }
   ],
   "source": [
    "str1.isalnum()"
   ]
  },
  {
   "cell_type": "code",
   "execution_count": 48,
   "id": "1f5aa583-926a-4588-a8d9-8fe53f61e283",
   "metadata": {},
   "outputs": [
    {
     "name": "stdout",
     "output_type": "stream",
     "text": [
      "20\n"
     ]
    }
   ],
   "source": [
    "count = 0\n",
    "for i in str1:\n",
    "    count=count+1\n",
    "\n",
    "print(count)"
   ]
  },
  {
   "cell_type": "code",
   "execution_count": 49,
   "id": "42ed00e3-c4f2-470d-9123-78df325b099d",
   "metadata": {},
   "outputs": [
    {
     "data": {
      "text/plain": [
       "20"
      ]
     },
     "execution_count": 49,
     "metadata": {},
     "output_type": "execute_result"
    }
   ],
   "source": [
    "len(str1)"
   ]
  },
  {
   "cell_type": "code",
   "execution_count": 50,
   "id": "835c1109-573d-4044-897a-186653537cd1",
   "metadata": {},
   "outputs": [
    {
     "name": "stdout",
     "output_type": "stream",
     "text": [
      "p\n",
      "w\n",
      " \n",
      "i\n",
      "s\n",
      " \n",
      "a\n",
      " \n",
      "g\n",
      "o\n",
      "o\n",
      "d\n",
      " \n",
      "c\n",
      "o\n",
      "m\n",
      "p\n",
      "a\n",
      "n\n",
      "y\n"
     ]
    }
   ],
   "source": [
    "for i in str1:\n",
    "    print(i)"
   ]
  },
  {
   "cell_type": "code",
   "execution_count": 51,
   "id": "4837d216-7aff-4a47-adb3-094e8d659d4e",
   "metadata": {},
   "outputs": [
    {
     "name": "stdout",
     "output_type": "stream",
     "text": [
      "p\n",
      "w\n",
      " \n",
      "i\n",
      "s\n",
      " \n",
      "a\n",
      " \n",
      "g\n",
      "o\n",
      "o\n",
      "d\n",
      " \n",
      "c\n",
      "o\n",
      "m\n",
      "p\n",
      "a\n",
      "n\n",
      "y\n"
     ]
    }
   ],
   "source": [
    "for i in range (len(str1)):\n",
    "    print(str1[i])"
   ]
  },
  {
   "cell_type": "code",
   "execution_count": 52,
   "id": "6af82eee-f379-4984-a227-2fbc002d8628",
   "metadata": {},
   "outputs": [
    {
     "name": "stdout",
     "output_type": "stream",
     "text": [
      "0 = p\n",
      "1 = w\n",
      "2 =  \n",
      "3 = i\n",
      "4 = s\n",
      "5 =  \n",
      "6 = a\n",
      "7 =  \n",
      "8 = g\n",
      "9 = o\n",
      "10 = o\n",
      "11 = d\n",
      "12 =  \n",
      "13 = c\n",
      "14 = o\n",
      "15 = m\n",
      "16 = p\n",
      "17 = a\n",
      "18 = n\n",
      "19 = y\n"
     ]
    }
   ],
   "source": [
    "for i in range (len(str1)):\n",
    "    print(i,\"=\",str1[i])"
   ]
  },
  {
   "cell_type": "code",
   "execution_count": 53,
   "id": "b77c3656-7d43-48d8-89f2-0bc15bbaa7a8",
   "metadata": {},
   "outputs": [],
   "source": [
    "# We can use index to iterate string  string reverse direction"
   ]
  },
  {
   "cell_type": "code",
   "execution_count": 54,
   "id": "a6145453-1f90-4720-b98b-3c0e8d4fd162",
   "metadata": {},
   "outputs": [
    {
     "data": {
      "text/plain": [
       "20"
      ]
     },
     "execution_count": 54,
     "metadata": {},
     "output_type": "execute_result"
    }
   ],
   "source": [
    "len(str1)"
   ]
  },
  {
   "cell_type": "code",
   "execution_count": 55,
   "id": "3396c3b5-c75f-4b6c-996e-d4c59456f67f",
   "metadata": {},
   "outputs": [
    {
     "data": {
      "text/plain": [
       "19"
      ]
     },
     "execution_count": 55,
     "metadata": {},
     "output_type": "execute_result"
    }
   ],
   "source": [
    "len(str1)-1"
   ]
  },
  {
   "cell_type": "code",
   "execution_count": 56,
   "id": "0e49812d-3dbb-4f6f-a36e-758a2b21b51f",
   "metadata": {},
   "outputs": [
    {
     "name": "stdout",
     "output_type": "stream",
     "text": [
      "19 = y\n",
      "18 = n\n",
      "17 = a\n",
      "16 = p\n",
      "15 = m\n",
      "14 = o\n",
      "13 = c\n",
      "12 =  \n",
      "11 = d\n",
      "10 = o\n",
      "9 = o\n",
      "8 = g\n",
      "7 =  \n",
      "6 = a\n",
      "5 =  \n",
      "4 = s\n",
      "3 = i\n",
      "2 =  \n",
      "1 = w\n",
      "0 = p\n"
     ]
    }
   ],
   "source": [
    "for i in range(len(str1)-1,-1,-1):\n",
    "    print(i,\"=\",str1[i])"
   ]
  },
  {
   "cell_type": "code",
   "execution_count": 57,
   "id": "60d62523-cb88-4517-94bb-3d67a8098b18",
   "metadata": {},
   "outputs": [
    {
     "name": "stdout",
     "output_type": "stream",
     "text": [
      "19 = y\n",
      "18 = n\n",
      "17 = a\n",
      "16 = p\n",
      "15 = m\n",
      "14 = o\n",
      "13 = c\n",
      "12 =  \n",
      "11 = d\n",
      "10 = o\n",
      "9 = o\n",
      "8 = g\n",
      "7 =  \n",
      "6 = a\n",
      "5 =  \n",
      "4 = s\n",
      "3 = i\n",
      "2 =  \n",
      "1 = w\n"
     ]
    }
   ],
   "source": [
    "ch=len(str1)-1\n",
    "while ch>0:\n",
    "    print(ch,\"=\",str1[ch])\n",
    "    ch=ch-1"
   ]
  },
  {
   "cell_type": "code",
   "execution_count": 58,
   "id": "862397d2-18bd-470f-9fda-231677dc42e7",
   "metadata": {},
   "outputs": [
    {
     "name": "stdout",
     "output_type": "stream",
     "text": [
      "y\n",
      "n\n",
      "a\n",
      "p\n",
      "m\n",
      "o\n",
      "c\n",
      " \n",
      "d\n",
      "o\n",
      "o\n",
      "g\n",
      " \n",
      "a\n",
      " \n",
      "s\n",
      "i\n",
      " \n",
      "w\n",
      "p\n"
     ]
    }
   ],
   "source": [
    "# Best Solution\n",
    "for i in range(len(str1)):\n",
    "    print(str1[len(str1)-(i+1)])"
   ]
  },
  {
   "cell_type": "code",
   "execution_count": 59,
   "id": "1929e65a-7ed5-49de-9ba4-b3586085858b",
   "metadata": {},
   "outputs": [
    {
     "name": "stdout",
     "output_type": "stream",
     "text": [
      "ynapmoc doog a si wp"
     ]
    }
   ],
   "source": [
    "# Best Solution\n",
    "for i in range(len(str1)):\n",
    "    print(str1[len(str1)-(i+1)],end=\"\")"
   ]
  },
  {
   "cell_type": "code",
   "execution_count": 60,
   "id": "c1357c62-8973-417b-9ab1-84e79d79c95c",
   "metadata": {},
   "outputs": [
    {
     "name": "stdout",
     "output_type": "stream",
     "text": [
      "p is not a vowels\n",
      "w is not a vowels\n",
      "  is not a vowels\n",
      "i is a vowels\n",
      "s is not a vowels\n",
      "  is not a vowels\n",
      "a is a vowels\n",
      "  is not a vowels\n",
      "g is not a vowels\n",
      "o is a vowels\n",
      "o is a vowels\n",
      "d is not a vowels\n",
      "  is not a vowels\n",
      "c is not a vowels\n",
      "o is a vowels\n",
      "m is not a vowels\n",
      "p is not a vowels\n",
      "a is a vowels\n",
      "n is not a vowels\n",
      "y is not a vowels\n"
     ]
    }
   ],
   "source": [
    "vowels = \"AEIOUaeiou\"\n",
    "for ch in str1:\n",
    "    if ch in vowels:\n",
    "        print(\"{} is a vowels\".format(ch))\n",
    "    else:\n",
    "        print(\"{} is not a vowels\".format(ch))"
   ]
  },
  {
   "cell_type": "markdown",
   "id": "957d6cd5-532d-46ab-9d60-ae9050ceaf17",
   "metadata": {},
   "source": [
    "# list\n"
   ]
  },
  {
   "cell_type": "code",
   "execution_count": 61,
   "id": "bc898b8c-b2f5-4332-a946-3e2c57bad82e",
   "metadata": {},
   "outputs": [],
   "source": [
    "a = [\"riya\",\"wagh\",\"Goa\",\"aadhya\",\"kadam\",\"yash\",\"piyush\"\n",
    "    ,\"agra\",\"pune\"]"
   ]
  },
  {
   "cell_type": "code",
   "execution_count": 62,
   "id": "6f3bb4b1-f8c0-4743-a57a-80c03463de5e",
   "metadata": {},
   "outputs": [
    {
     "data": {
      "text/plain": [
       "['riya', 'wagh', 'Goa', 'aadhya', 'kadam', 'yash', 'piyush', 'agra', 'pune']"
      ]
     },
     "execution_count": 62,
     "metadata": {},
     "output_type": "execute_result"
    }
   ],
   "source": [
    "a"
   ]
  },
  {
   "cell_type": "code",
   "execution_count": 63,
   "id": "62534caa-4c3d-44b3-915f-715c6cb2edaf",
   "metadata": {},
   "outputs": [
    {
     "data": {
      "text/plain": [
       "'pw is a good company'"
      ]
     },
     "execution_count": 63,
     "metadata": {},
     "output_type": "execute_result"
    }
   ],
   "source": [
    "str1"
   ]
  },
  {
   "cell_type": "code",
   "execution_count": 64,
   "id": "a6ba5e24-b14f-4f03-b2bd-d13f4b32a763",
   "metadata": {},
   "outputs": [],
   "source": [
    "str2 = \"pwskills\""
   ]
  },
  {
   "cell_type": "code",
   "execution_count": 65,
   "id": "5e2fa2dc-e156-4a6d-be59-67f4e177f1ab",
   "metadata": {},
   "outputs": [
    {
     "data": {
      "text/plain": [
       "'pwskills'"
      ]
     },
     "execution_count": 65,
     "metadata": {},
     "output_type": "execute_result"
    }
   ],
   "source": [
    "str2"
   ]
  },
  {
   "cell_type": "code",
   "execution_count": 66,
   "id": "38eeb101-650e-4661-9ea8-be17d9f64be9",
   "metadata": {},
   "outputs": [
    {
     "data": {
      "text/plain": [
       "['pw', 'is', 'a', 'good', 'company']"
      ]
     },
     "execution_count": 66,
     "metadata": {},
     "output_type": "execute_result"
    }
   ],
   "source": [
    "str1.split(\" \")"
   ]
  },
  {
   "cell_type": "code",
   "execution_count": 67,
   "id": "0f86388d-103f-49fb-840e-fad6dde6a4af",
   "metadata": {},
   "outputs": [
    {
     "data": {
      "text/plain": [
       "['pwskills']"
      ]
     },
     "execution_count": 67,
     "metadata": {},
     "output_type": "execute_result"
    }
   ],
   "source": [
    "str2.split(\" \")"
   ]
  },
  {
   "cell_type": "code",
   "execution_count": 68,
   "id": "4e907eef-ea45-4099-b75e-b995a9259421",
   "metadata": {},
   "outputs": [
    {
     "data": {
      "text/plain": [
       "('riya', 'wagh')"
      ]
     },
     "execution_count": 68,
     "metadata": {},
     "output_type": "execute_result"
    }
   ],
   "source": [
    "a[0],a[1]"
   ]
  },
  {
   "cell_type": "code",
   "execution_count": 69,
   "id": "ffb0d6d2-6061-45b9-a8ed-fc1ebc008a25",
   "metadata": {},
   "outputs": [
    {
     "data": {
      "text/plain": [
       "('Goa', 'aadhya')"
      ]
     },
     "execution_count": 69,
     "metadata": {},
     "output_type": "execute_result"
    }
   ],
   "source": [
    "a[2],a[3]"
   ]
  },
  {
   "cell_type": "code",
   "execution_count": 70,
   "id": "87fa908c-69ca-4b2b-8372-372515016af5",
   "metadata": {},
   "outputs": [
    {
     "data": {
      "text/plain": [
       "['riya', 'wagh', 'Goa', 'aadhya', 'kadam', 'yash', 'piyush', 'agra', 'pune']"
      ]
     },
     "execution_count": 70,
     "metadata": {},
     "output_type": "execute_result"
    }
   ],
   "source": [
    "a\n"
   ]
  },
  {
   "cell_type": "code",
   "execution_count": 71,
   "id": "f819c0dd-22ad-438b-8c9d-6a486ac8b209",
   "metadata": {},
   "outputs": [
    {
     "data": {
      "text/plain": [
       "[]"
      ]
     },
     "execution_count": 71,
     "metadata": {},
     "output_type": "execute_result"
    }
   ],
   "source": [
    "a[-5:2]"
   ]
  },
  {
   "cell_type": "code",
   "execution_count": 72,
   "id": "2fa7744e-35cb-4273-ab9e-d1b871ac663e",
   "metadata": {},
   "outputs": [
    {
     "data": {
      "text/plain": [
       "['Goa', 'aadhya']"
      ]
     },
     "execution_count": 72,
     "metadata": {},
     "output_type": "execute_result"
    }
   ],
   "source": [
    "a[2:-5]"
   ]
  },
  {
   "cell_type": "code",
   "execution_count": 73,
   "id": "42d2dee0-a46f-4de1-ba2b-638619ce2056",
   "metadata": {},
   "outputs": [
    {
     "data": {
      "text/plain": [
       "[]"
      ]
     },
     "execution_count": 73,
     "metadata": {},
     "output_type": "execute_result"
    }
   ],
   "source": [
    "a[-2:5]"
   ]
  },
  {
   "cell_type": "code",
   "execution_count": 74,
   "id": "c160df2c-5357-4f6b-a3cb-ac8aabe07cf3",
   "metadata": {},
   "outputs": [
    {
     "data": {
      "text/plain": [
       "['riya', 'wagh', 'Goa', 'aadhya', 'kadam', 'yash', 'piyush', 'agra', 'pune']"
      ]
     },
     "execution_count": 74,
     "metadata": {},
     "output_type": "execute_result"
    }
   ],
   "source": [
    "a"
   ]
  },
  {
   "cell_type": "code",
   "execution_count": 75,
   "id": "86cdbc28-ae01-42dc-83ec-7c9d1ac0e66f",
   "metadata": {},
   "outputs": [
    {
     "data": {
      "text/plain": [
       "['riya',\n",
       " 'wagh',\n",
       " 'Goa',\n",
       " 'aadhya',\n",
       " 'kadam',\n",
       " 'yash',\n",
       " 'piyush',\n",
       " 'agra',\n",
       " 'pune',\n",
       " 'komal',\n",
       " 'ishan']"
      ]
     },
     "execution_count": 75,
     "metadata": {},
     "output_type": "execute_result"
    }
   ],
   "source": [
    "## concatination operation\n",
    "\n",
    "a + [\"komal\",\"ishan\"]\n"
   ]
  },
  {
   "cell_type": "code",
   "execution_count": 76,
   "id": "e7a5a582-d27d-4542-ad4e-168d5520981e",
   "metadata": {},
   "outputs": [
    {
     "data": {
      "text/plain": [
       "['riya',\n",
       " 'wagh',\n",
       " 'Goa',\n",
       " 'aadhya',\n",
       " 'kadam',\n",
       " 'yash',\n",
       " 'piyush',\n",
       " 'agra',\n",
       " 'pune',\n",
       " 'riya',\n",
       " 'wagh',\n",
       " 'Goa',\n",
       " 'aadhya',\n",
       " 'kadam',\n",
       " 'yash',\n",
       " 'piyush',\n",
       " 'agra',\n",
       " 'pune']"
      ]
     },
     "execution_count": 76,
     "metadata": {},
     "output_type": "execute_result"
    }
   ],
   "source": [
    "a*2"
   ]
  },
  {
   "cell_type": "code",
   "execution_count": 77,
   "id": "f8615841-6c81-4c7d-9a45-90e227768606",
   "metadata": {},
   "outputs": [
    {
     "name": "stdout",
     "output_type": "stream",
     "text": [
      "present\n"
     ]
    }
   ],
   "source": [
    "if \"riya\" in a:\n",
    "    print(\"present\")"
   ]
  },
  {
   "cell_type": "code",
   "execution_count": 78,
   "id": "5e999b0f-3bc1-4c6c-9f47-46ca190e6d16",
   "metadata": {},
   "outputs": [
    {
     "name": "stdout",
     "output_type": "stream",
     "text": [
      "riya\n",
      "wagh\n",
      "Goa\n",
      "aadhya\n",
      "kadam\n",
      "yash\n",
      "piyush\n",
      "agra\n",
      "agra\n"
     ]
    }
   ],
   "source": [
    "for elements in a:\n",
    "    print(elements)\n",
    "    if elements==\"agra\":\n",
    "        print(elements)\n",
    "        break"
   ]
  },
  {
   "cell_type": "code",
   "execution_count": 79,
   "id": "03cd1e7c-0120-43e8-8dcc-433bbe7a01bc",
   "metadata": {},
   "outputs": [
    {
     "data": {
      "text/plain": [
       "True"
      ]
     },
     "execution_count": 79,
     "metadata": {},
     "output_type": "execute_result"
    }
   ],
   "source": [
    "## check element inside a list\n",
    "list = [1,2,8,6]\n",
    "8 in list"
   ]
  },
  {
   "cell_type": "code",
   "execution_count": 80,
   "id": "9a8b16ca-1785-4836-8039-588d6976e18a",
   "metadata": {},
   "outputs": [
    {
     "data": {
      "text/plain": [
       "True"
      ]
     },
     "execution_count": 80,
     "metadata": {},
     "output_type": "execute_result"
    }
   ],
   "source": [
    "6 in list"
   ]
  },
  {
   "cell_type": "code",
   "execution_count": 81,
   "id": "1c22be75-3ff7-40c2-89a0-cc8cb8c1fabd",
   "metadata": {},
   "outputs": [],
   "source": [
    "list1=[\"panda\",\"tiger\",\"lion\",\"cat\"]\n",
    "list2=[2,8,6,10]"
   ]
  },
  {
   "cell_type": "code",
   "execution_count": 82,
   "id": "808c51b3-96dc-4022-969e-efa90b17a8a6",
   "metadata": {},
   "outputs": [
    {
     "name": "stdout",
     "output_type": "stream",
     "text": [
      "['panda', 'tiger', 'lion', 'cat']\n",
      "[2, 8, 6, 10]\n"
     ]
    }
   ],
   "source": [
    "print(list1)\n",
    "print(list2)"
   ]
  },
  {
   "cell_type": "code",
   "execution_count": 83,
   "id": "06f55968-a4b3-4c6e-9d59-ed64685daf9d",
   "metadata": {},
   "outputs": [
    {
     "name": "stdout",
     "output_type": "stream",
     "text": [
      "tiger\n",
      "10\n"
     ]
    }
   ],
   "source": [
    "print(max(list1))\n",
    "print(max(list2))"
   ]
  },
  {
   "cell_type": "code",
   "execution_count": 84,
   "id": "a2344d70-9193-4ee7-ba98-83a6f17d6dac",
   "metadata": {},
   "outputs": [
    {
     "name": "stdout",
     "output_type": "stream",
     "text": [
      "cat\n",
      "2\n"
     ]
    }
   ],
   "source": [
    "print(min(list1))\n",
    "print(min(list2))"
   ]
  },
  {
   "cell_type": "code",
   "execution_count": 85,
   "id": "9e87cc35-3525-4838-b91b-116c60009095",
   "metadata": {},
   "outputs": [
    {
     "data": {
      "text/plain": [
       "True"
      ]
     },
     "execution_count": 85,
     "metadata": {},
     "output_type": "execute_result"
    }
   ],
   "source": [
    "1.9999999999999999999999999999 in [1,2,3,4,5]"
   ]
  },
  {
   "cell_type": "code",
   "execution_count": 86,
   "id": "01b10f0d-c819-4c05-ac5d-1c5d36deeb5c",
   "metadata": {},
   "outputs": [],
   "source": [
    "## Append"
   ]
  },
  {
   "cell_type": "code",
   "execution_count": 87,
   "id": "b459cf03-4043-4148-abc5-303bf3417cd4",
   "metadata": {},
   "outputs": [],
   "source": [
    "lst=[1,5,4,8,9,4]"
   ]
  },
  {
   "cell_type": "code",
   "execution_count": 88,
   "id": "899bf9cb-93c0-47fb-a9b2-145e16fc602a",
   "metadata": {},
   "outputs": [],
   "source": [
    "lst.append(\"pwskills\")"
   ]
  },
  {
   "cell_type": "code",
   "execution_count": 89,
   "id": "da8b2d3a-cd94-43d6-9cc9-08b9d6465a9a",
   "metadata": {},
   "outputs": [
    {
     "data": {
      "text/plain": [
       "[1, 5, 4, 8, 9, 4, 'pwskills']"
      ]
     },
     "execution_count": 89,
     "metadata": {},
     "output_type": "execute_result"
    }
   ],
   "source": [
    "lst"
   ]
  },
  {
   "cell_type": "code",
   "execution_count": 90,
   "id": "84d07f7f-6453-47fb-b66b-2455a985aaba",
   "metadata": {},
   "outputs": [],
   "source": [
    "lst.append([4,\"riya\",\"indore\",\"^\"\"%\"])"
   ]
  },
  {
   "cell_type": "code",
   "execution_count": 91,
   "id": "e577771a-de8b-4a7c-a3f8-b5d4645e8172",
   "metadata": {},
   "outputs": [
    {
     "data": {
      "text/plain": [
       "[1, 5, 4, 8, 9, 4, 'pwskills', [4, 'riya', 'indore', '^%']]"
      ]
     },
     "execution_count": 91,
     "metadata": {},
     "output_type": "execute_result"
    }
   ],
   "source": [
    "lst"
   ]
  },
  {
   "cell_type": "code",
   "execution_count": 92,
   "id": "172c61f7-c94f-48f4-8828-eb51b488410d",
   "metadata": {},
   "outputs": [],
   "source": [
    "lst.extend([\"mumbai\",\"starbucks\",5])"
   ]
  },
  {
   "cell_type": "code",
   "execution_count": 93,
   "id": "6f0d0d0d-05c3-4553-87e8-95df0750df01",
   "metadata": {},
   "outputs": [
    {
     "data": {
      "text/plain": [
       "[1,\n",
       " 5,\n",
       " 4,\n",
       " 8,\n",
       " 9,\n",
       " 4,\n",
       " 'pwskills',\n",
       " [4, 'riya', 'indore', '^%'],\n",
       " 'mumbai',\n",
       " 'starbucks',\n",
       " 5]"
      ]
     },
     "execution_count": 93,
     "metadata": {},
     "output_type": "execute_result"
    }
   ],
   "source": [
    "lst\n"
   ]
  },
  {
   "cell_type": "code",
   "execution_count": 94,
   "id": "37e1812a-d87d-4fd0-ae05-b092e7ac8feb",
   "metadata": {},
   "outputs": [
    {
     "data": {
      "text/plain": [
       "5"
      ]
     },
     "execution_count": 94,
     "metadata": {},
     "output_type": "execute_result"
    }
   ],
   "source": [
    "## pop operation \n",
    "\n",
    "lst.pop()"
   ]
  },
  {
   "cell_type": "code",
   "execution_count": 95,
   "id": "6b5567b0-6b84-4be8-b8c5-9377f2f15f17",
   "metadata": {},
   "outputs": [
    {
     "data": {
      "text/plain": [
       "[1,\n",
       " 5,\n",
       " 4,\n",
       " 8,\n",
       " 9,\n",
       " 4,\n",
       " 'pwskills',\n",
       " [4, 'riya', 'indore', '^%'],\n",
       " 'mumbai',\n",
       " 'starbucks']"
      ]
     },
     "execution_count": 95,
     "metadata": {},
     "output_type": "execute_result"
    }
   ],
   "source": [
    "lst"
   ]
  },
  {
   "cell_type": "code",
   "execution_count": 96,
   "id": "eb859fe4-6b69-48aa-8006-ecf1aadcea82",
   "metadata": {},
   "outputs": [
    {
     "data": {
      "text/plain": [
       "5"
      ]
     },
     "execution_count": 96,
     "metadata": {},
     "output_type": "execute_result"
    }
   ],
   "source": [
    "lst.pop(1)"
   ]
  },
  {
   "cell_type": "code",
   "execution_count": 97,
   "id": "5a809adb-9bc7-424c-bc1d-661cf0ffe6f7",
   "metadata": {},
   "outputs": [
    {
     "data": {
      "text/plain": [
       "[1, 4, 8, 9, 4, 'pwskills', [4, 'riya', 'indore', '^%'], 'mumbai', 'starbucks']"
      ]
     },
     "execution_count": 97,
     "metadata": {},
     "output_type": "execute_result"
    }
   ],
   "source": [
    "lst\n"
   ]
  },
  {
   "cell_type": "code",
   "execution_count": 98,
   "id": "758bd4b2-2145-4ec5-a987-d37b09cbba6f",
   "metadata": {},
   "outputs": [],
   "source": [
    "## sorting and reverse method in list"
   ]
  },
  {
   "cell_type": "code",
   "execution_count": 99,
   "id": "35a97946-e7ac-4e64-ab1d-7d96c5fa64db",
   "metadata": {},
   "outputs": [],
   "source": [
    "new_lst=[55,555,5555,124,85,24,16,5,3,2,4,1,6,8,5,2,4,1,6,8,5,2]"
   ]
  },
  {
   "cell_type": "code",
   "execution_count": 100,
   "id": "77f0334f-058c-44c9-b4a9-c737e4c5ebd8",
   "metadata": {},
   "outputs": [
    {
     "data": {
      "text/plain": [
       "[55, 555, 5555, 124, 85, 24, 16, 5, 3, 2, 4, 1, 6, 8, 5, 2, 4, 1, 6, 8, 5, 2]"
      ]
     },
     "execution_count": 100,
     "metadata": {},
     "output_type": "execute_result"
    }
   ],
   "source": [
    "new_lst"
   ]
  },
  {
   "cell_type": "code",
   "execution_count": 101,
   "id": "c85065cf-f798-4787-bd8e-b3e043367673",
   "metadata": {},
   "outputs": [
    {
     "data": {
      "text/plain": [
       "[2, 5, 8, 6, 1, 4, 2, 5, 8, 6, 1, 4, 2, 3, 5, 16, 24, 85, 124, 5555, 555, 55]"
      ]
     },
     "execution_count": 101,
     "metadata": {},
     "output_type": "execute_result"
    }
   ],
   "source": [
    "new_lst[::-1]"
   ]
  },
  {
   "cell_type": "code",
   "execution_count": 102,
   "id": "1a7e8697-bf25-438e-979f-6524a1980799",
   "metadata": {},
   "outputs": [],
   "source": [
    "new_lst.reverse()"
   ]
  },
  {
   "cell_type": "code",
   "execution_count": 103,
   "id": "86a2a75b-662d-4f4c-ab4f-a5ee8d25ab0f",
   "metadata": {},
   "outputs": [
    {
     "data": {
      "text/plain": [
       "[2, 5, 8, 6, 1, 4, 2, 5, 8, 6, 1, 4, 2, 3, 5, 16, 24, 85, 124, 5555, 555, 55]"
      ]
     },
     "execution_count": 103,
     "metadata": {},
     "output_type": "execute_result"
    }
   ],
   "source": [
    "new_lst"
   ]
  },
  {
   "cell_type": "markdown",
   "id": "dc04cfe0-a6c1-46aa-9db5-0b391daf3bae",
   "metadata": {},
   "source": [
    "#### Nested List"
   ]
  },
  {
   "cell_type": "code",
   "execution_count": 104,
   "id": "a88808a0-52fc-4fc8-90a5-a4991caff6ad",
   "metadata": {},
   "outputs": [],
   "source": [
    "lst_1=[1,2,3]\n",
    "lst_2=[4,5,6]\n",
    "lst_3=[7,8,9]"
   ]
  },
  {
   "cell_type": "code",
   "execution_count": 105,
   "id": "4ff87dd2-5a0a-4835-9041-779e32b43fff",
   "metadata": {},
   "outputs": [],
   "source": [
    "matrix = [lst_1,lst_2,lst_3]"
   ]
  },
  {
   "cell_type": "code",
   "execution_count": 106,
   "id": "20aa7bff-297c-4589-b0dd-dbe9721a7cdd",
   "metadata": {},
   "outputs": [
    {
     "data": {
      "text/plain": [
       "[[1, 2, 3], [4, 5, 6], [7, 8, 9]]"
      ]
     },
     "execution_count": 106,
     "metadata": {},
     "output_type": "execute_result"
    }
   ],
   "source": [
    "matrix"
   ]
  },
  {
   "cell_type": "code",
   "execution_count": 107,
   "id": "04abee53-b41f-4c4b-ba6f-d4377ac76d3a",
   "metadata": {},
   "outputs": [
    {
     "data": {
      "text/plain": [
       "[4, 5, 6]"
      ]
     },
     "execution_count": 107,
     "metadata": {},
     "output_type": "execute_result"
    }
   ],
   "source": [
    "matrix[1]"
   ]
  },
  {
   "cell_type": "code",
   "execution_count": 108,
   "id": "6260e6e9-c84d-42a0-a0bb-926d8051bdeb",
   "metadata": {},
   "outputs": [
    {
     "data": {
      "text/plain": [
       "8"
      ]
     },
     "execution_count": 108,
     "metadata": {},
     "output_type": "execute_result"
    }
   ],
   "source": [
    "matrix[2][1]"
   ]
  },
  {
   "cell_type": "code",
   "execution_count": 109,
   "id": "a3de139b-bc86-4893-92ca-3488042d51e7",
   "metadata": {},
   "outputs": [
    {
     "data": {
      "text/plain": [
       "[8, 9]"
      ]
     },
     "execution_count": 109,
     "metadata": {},
     "output_type": "execute_result"
    }
   ],
   "source": [
    "matrix[2][1:]"
   ]
  },
  {
   "cell_type": "code",
   "execution_count": 110,
   "id": "485df165-f872-4793-a09b-82bd6d31792e",
   "metadata": {},
   "outputs": [
    {
     "data": {
      "text/plain": [
       "[[1, 2, 3], [4, 5, 6], [7, 8, 9]]"
      ]
     },
     "execution_count": 110,
     "metadata": {},
     "output_type": "execute_result"
    }
   ],
   "source": [
    "\n",
    "matrix[:]"
   ]
  },
  {
   "cell_type": "code",
   "execution_count": 111,
   "id": "c8fcaddd-2c67-4185-bfcf-ba68add91478",
   "metadata": {},
   "outputs": [
    {
     "data": {
      "text/plain": [
       "[1, 2, 3]"
      ]
     },
     "execution_count": 111,
     "metadata": {},
     "output_type": "execute_result"
    }
   ],
   "source": [
    "matrix[0:][0]"
   ]
  },
  {
   "cell_type": "code",
   "execution_count": 112,
   "id": "20ce6df0-8eb5-43ff-ac35-f33f697d2ec3",
   "metadata": {},
   "outputs": [
    {
     "data": {
      "text/plain": [
       "[0, 1, 2, 3, 4, 5, 6, 7, 8, 9, 10, 11, 12, 13, 14, 15, 16, 17, 18, 19]"
      ]
     },
     "execution_count": 112,
     "metadata": {},
     "output_type": "execute_result"
    }
   ],
   "source": [
    "## list comprehension\n",
    "[i for i in range(20)]"
   ]
  },
  {
   "cell_type": "code",
   "execution_count": 113,
   "id": "f3fe0809-158b-42f9-8c44-525404522e98",
   "metadata": {},
   "outputs": [
    {
     "data": {
      "text/plain": [
       "[0,\n",
       " 'odd',\n",
       " 2,\n",
       " 'odd',\n",
       " 4,\n",
       " 'odd',\n",
       " 6,\n",
       " 'odd',\n",
       " 8,\n",
       " 'odd',\n",
       " 10,\n",
       " 'odd',\n",
       " 12,\n",
       " 'odd',\n",
       " 14,\n",
       " 'odd',\n",
       " 16,\n",
       " 'odd',\n",
       " 18,\n",
       " 'odd']"
      ]
     },
     "execution_count": 113,
     "metadata": {},
     "output_type": "execute_result"
    }
   ],
   "source": [
    "[i if i%2==0 else \"odd\" for i in range(20)]"
   ]
  },
  {
   "cell_type": "code",
   "execution_count": 114,
   "id": "bfbdad80-1a2f-4c1b-ae49-4cb9e6129593",
   "metadata": {},
   "outputs": [
    {
     "data": {
      "text/plain": [
       "[(0, 'even'),\n",
       " (1, 'odd'),\n",
       " (2, 'even'),\n",
       " (3, 'odd'),\n",
       " (4, 'even'),\n",
       " (5, 'odd'),\n",
       " (6, 'even'),\n",
       " (7, 'odd'),\n",
       " (8, 'even'),\n",
       " (9, 'odd'),\n",
       " (10, 'even'),\n",
       " (11, 'odd'),\n",
       " (12, 'even'),\n",
       " (13, 'odd'),\n",
       " (14, 'even'),\n",
       " (15, 'odd'),\n",
       " (16, 'even'),\n",
       " (17, 'odd'),\n",
       " (18, 'even'),\n",
       " (19, 'odd')]"
      ]
     },
     "execution_count": 114,
     "metadata": {},
     "output_type": "execute_result"
    }
   ],
   "source": [
    "[(i,\"even\") if i%2==0 else (i,\"odd\") for i in range(20)]"
   ]
  },
  {
   "cell_type": "markdown",
   "id": "32f51c3f-6e3a-47b0-8989-d965c5f5d60b",
   "metadata": {},
   "source": [
    "##### even"
   ]
  },
  {
   "cell_type": "code",
   "execution_count": 115,
   "id": "f1b2cedd-feda-4f37-ba17-3111e5603c02",
   "metadata": {},
   "outputs": [
    {
     "data": {
      "text/plain": [
       "[0, '', 2, '', 4, '', 6, '', 8, '', 10, '', 12, '', 14, '', 16, '', 18, '']"
      ]
     },
     "execution_count": 115,
     "metadata": {},
     "output_type": "execute_result"
    }
   ],
   "source": [
    "[i if i%2==0 else \"\" for i in range(0,20)]"
   ]
  },
  {
   "cell_type": "markdown",
   "id": "9463dfb8-1d27-4c9c-ba53-c1835b84ebd6",
   "metadata": {},
   "source": [
    "##### odd"
   ]
  },
  {
   "cell_type": "code",
   "execution_count": 116,
   "id": "8d5d416d-c976-4720-9978-a26490f974e9",
   "metadata": {},
   "outputs": [
    {
     "data": {
      "text/plain": [
       "['', 1, '', 3, '', 5, '', 7, '', 9, '', 11, '', 13, '', 15, '', 17, '', 19]"
      ]
     },
     "execution_count": 116,
     "metadata": {},
     "output_type": "execute_result"
    }
   ],
   "source": [
    "[i if i%2!=0 else \"\" for i in range(0,20)]"
   ]
  },
  {
   "cell_type": "code",
   "execution_count": 117,
   "id": "9004a739-0bb7-4301-9b6d-6f7e2a617ab4",
   "metadata": {},
   "outputs": [],
   "source": [
    "# sum of even number and odd number"
   ]
  },
  {
   "cell_type": "code",
   "execution_count": 118,
   "id": "f260741e-d56f-4fad-b11f-6f06fa3e6bff",
   "metadata": {},
   "outputs": [
    {
     "name": "stdin",
     "output_type": "stream",
     "text": [
      "please enter your range 20\n"
     ]
    },
    {
     "name": "stdout",
     "output_type": "stream",
     "text": [
      "90\n",
      "100\n"
     ]
    }
   ],
   "source": [
    "n=int(input(\"please enter your range\"))\n",
    "lst=[i for i in range(0,n)]\n",
    "\n",
    "even_sum=0\n",
    "odd_sum=0\n",
    "for i in lst:\n",
    "    if i % 2 == 0:\n",
    "        even_sum+=i\n",
    "    else:\n",
    "        odd_sum+=i\n",
    "    \n",
    "print(even_sum)\n",
    "print(odd_sum)"
   ]
  },
  {
   "cell_type": "code",
   "execution_count": 119,
   "id": "f5598e32-c7db-4e74-a85e-2d92389dcadf",
   "metadata": {},
   "outputs": [
    {
     "data": {
      "text/plain": [
       "90"
      ]
     },
     "execution_count": 119,
     "metadata": {},
     "output_type": "execute_result"
    }
   ],
   "source": [
    "even_sum=sum([num for num in lst if num%2==0])\n",
    "even_sum"
   ]
  },
  {
   "cell_type": "code",
   "execution_count": 120,
   "id": "28879d17-3fb5-4e7b-a821-17b8a60c13e3",
   "metadata": {},
   "outputs": [
    {
     "data": {
      "text/plain": [
       "100"
      ]
     },
     "execution_count": 120,
     "metadata": {},
     "output_type": "execute_result"
    }
   ],
   "source": [
    "odd_sum=sum([num for num in lst if num%2!=0])\n",
    "odd_sum"
   ]
  },
  {
   "cell_type": "code",
   "execution_count": 123,
   "id": "5d0d9fbd-30d4-420e-a6fb-e6c672ef6a6d",
   "metadata": {},
   "outputs": [
    {
     "data": {
      "text/plain": [
       "[1, 4, 9, 16, 25, 36, 49, 64, 81, 100]"
      ]
     },
     "execution_count": 123,
     "metadata": {},
     "output_type": "execute_result"
    }
   ],
   "source": [
    "lst=[1,2,3,4,5,6,7,8,9,10]\n",
    "[num**2 for num in lst]"
   ]
  },
  {
   "cell_type": "code",
   "execution_count": 125,
   "id": "c2b1c977-4b5d-450f-b5a9-ae4d99ef73a8",
   "metadata": {},
   "outputs": [],
   "source": [
    "# create a list of only positive number of the given list"
   ]
  },
  {
   "cell_type": "code",
   "execution_count": 128,
   "id": "34f18910-de18-4c0d-a5e3-ef69cabba357",
   "metadata": {},
   "outputs": [
    {
     "data": {
      "text/plain": [
       "[10, 9, 65, 78, 88]"
      ]
     },
     "execution_count": 128,
     "metadata": {},
     "output_type": "execute_result"
    }
   ],
   "source": [
    "number = [-5 , -8 , 10 , -6 , 9, -56 , 65 , 78 , 0 , 88 , -100]\n",
    "[num for num in number if num>0]"
   ]
  },
  {
   "cell_type": "code",
   "execution_count": 130,
   "id": "6c6b3539-b634-4b77-b847-5ae14c4a7b3c",
   "metadata": {},
   "outputs": [
    {
     "data": {
      "text/plain": [
       "['A', 'P', 'O', 'B', 'w']"
      ]
     },
     "execution_count": 130,
     "metadata": {},
     "output_type": "execute_result"
    }
   ],
   "source": [
    "# create a list of only first letter in the list\n",
    "words = [\"Apple \" , \"Pea\" , \"Orange\" , \"Banana\" , \"watermelon\"]\n",
    "[word[0] for word in words]"
   ]
  },
  {
   "cell_type": "code",
   "execution_count": 133,
   "id": "0fcff82f-3ea9-4dbc-b94d-d3f0b73228a8",
   "metadata": {},
   "outputs": [
    {
     "data": {
      "text/plain": [
       "[32.0, 50.0, 68.0, 86.0, 104.0, 122.0]"
      ]
     },
     "execution_count": 133,
     "metadata": {},
     "output_type": "execute_result"
    }
   ],
   "source": [
    "# convert a list temprature from celsius to fahrenheit\n",
    "celsius_temp = [0,10,20,30,40,50]\n",
    "\n",
    "[(9/5)*temp + 32 for temp in celsius_temp]"
   ]
  },
  {
   "cell_type": "code",
   "execution_count": 136,
   "id": "7a9451e1-3de7-485d-b834-7f3bb6cf839e",
   "metadata": {},
   "outputs": [
    {
     "data": {
      "text/plain": [
       "[1, 2, 3, 4, 5, 6, 7, 8, 9]"
      ]
     },
     "execution_count": 136,
     "metadata": {},
     "output_type": "execute_result"
    }
   ],
   "source": [
    "# Flatten a list of list into a single list\n",
    "lists = [ [1,2,3] , [4,5,6] , [7,8,9] ] \n",
    "[num for sublist in lists for num in sublist]"
   ]
  },
  {
   "cell_type": "code",
   "execution_count": 155,
   "id": "b241fe37-354e-4934-97f7-b8c031aca8d0",
   "metadata": {},
   "outputs": [
    {
     "name": "stdout",
     "output_type": "stream",
     "text": [
      "[3, 5, 7, 9]\n"
     ]
    }
   ],
   "source": [
    "# create a list of only the prime number for a given list\n",
    "numbers = [1,2,3,4,5,6,7,8,9,10]\n",
    "\n",
    "\n",
    "x = []\n",
    "for i in range (0, len(numbers)):\n",
    "    num = numbers[i]\n",
    "    for m in range (2,num):\n",
    "        if(num == 2):\n",
    "            x.insert(i, num)\n",
    "            \n",
    "        if (num % m)==0:\n",
    "            break\n",
    "        else:\n",
    "            \n",
    "            x.insert(i, num)\n",
    "            break\n",
    "            \n",
    "print(x)"
   ]
  },
  {
   "cell_type": "code",
   "execution_count": 156,
   "id": "e7e4ed09-9d9a-4ad9-8731-d24b2f57e19e",
   "metadata": {},
   "outputs": [],
   "source": [
    "# create alist of all possible combination of two elements from a list\n",
    "numbers = [1,2,3,4,5]"
   ]
  },
  {
   "cell_type": "code",
   "execution_count": null,
   "id": "8d541b62-a9d5-4b93-9686-03e28e7b5d55",
   "metadata": {},
   "outputs": [],
   "source": []
  }
 ],
 "metadata": {
  "kernelspec": {
   "display_name": "Python 3 (ipykernel)",
   "language": "python",
   "name": "python3"
  },
  "language_info": {
   "codemirror_mode": {
    "name": "ipython",
    "version": 3
   },
   "file_extension": ".py",
   "mimetype": "text/x-python",
   "name": "python",
   "nbconvert_exporter": "python",
   "pygments_lexer": "ipython3",
   "version": "3.10.8"
  }
 },
 "nbformat": 4,
 "nbformat_minor": 5
}
