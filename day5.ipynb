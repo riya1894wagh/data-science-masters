{
 "cells": [
  {
   "cell_type": "markdown",
   "id": "08c24e08-9497-49cf-9861-794edf41b793",
   "metadata": {},
   "source": [
    "# Tuples"
   ]
  },
  {
   "cell_type": "code",
   "execution_count": 54,
   "id": "47232817-1c09-4ec2-b266-ad691a03d185",
   "metadata": {},
   "outputs": [],
   "source": [
    "t=()\n"
   ]
  },
  {
   "cell_type": "code",
   "execution_count": 55,
   "id": "e84a31d8-4137-456f-898e-002fcdfbebd4",
   "metadata": {},
   "outputs": [
    {
     "data": {
      "text/plain": [
       "tuple"
      ]
     },
     "execution_count": 55,
     "metadata": {},
     "output_type": "execute_result"
    }
   ],
   "source": [
    "type(t)"
   ]
  },
  {
   "cell_type": "code",
   "execution_count": 88,
   "id": "56998e8d-258f-4448-8a38-7709a85f5ce7",
   "metadata": {},
   "outputs": [
    {
     "data": {
      "text/plain": [
       "(12, 34, 5, 6, 1, 7, 8, 9, 70, 'Riya', True)"
      ]
     },
     "execution_count": 88,
     "metadata": {},
     "output_type": "execute_result"
    }
   ],
   "source": [
    "t1=(12,34,5,6,1,7,8,9,70,\"Riya\",True)\n",
    "t1"
   ]
  },
  {
   "cell_type": "code",
   "execution_count": 57,
   "id": "686a6e3f-edca-4ec2-9c45-cbc22f61835b",
   "metadata": {},
   "outputs": [
    {
     "data": {
      "text/plain": [
       "tuple"
      ]
     },
     "execution_count": 57,
     "metadata": {},
     "output_type": "execute_result"
    }
   ],
   "source": [
    "type(t1)"
   ]
  },
  {
   "cell_type": "code",
   "execution_count": 58,
   "id": "bc84f308-e303-44f9-bce7-afb8ee8f5c74",
   "metadata": {},
   "outputs": [
    {
     "data": {
      "text/plain": [
       "[12, 34, 5, 6, 7, 8, 9, 70, 'Riya', 'True']"
      ]
     },
     "execution_count": 58,
     "metadata": {},
     "output_type": "execute_result"
    }
   ],
   "source": [
    "lst=[12,34,5,6,7,8,9,70,\"Riya\",\"True\"]\n",
    "lst"
   ]
  },
  {
   "cell_type": "code",
   "execution_count": 59,
   "id": "d666690a-b053-4a1c-97f9-58c83fae51d8",
   "metadata": {},
   "outputs": [
    {
     "data": {
      "text/plain": [
       "list"
      ]
     },
     "execution_count": 59,
     "metadata": {},
     "output_type": "execute_result"
    }
   ],
   "source": [
    "type(lst)"
   ]
  },
  {
   "cell_type": "code",
   "execution_count": 60,
   "id": "c83ccdb2-635b-400d-b287-ec2794a3cd6b",
   "metadata": {},
   "outputs": [
    {
     "data": {
      "text/plain": [
       "70"
      ]
     },
     "execution_count": 60,
     "metadata": {},
     "output_type": "execute_result"
    }
   ],
   "source": [
    "t1[8]"
   ]
  },
  {
   "cell_type": "code",
   "execution_count": 61,
   "id": "495db075-0ba1-45c7-b802-07576b8edaf9",
   "metadata": {},
   "outputs": [
    {
     "data": {
      "text/plain": [
       "(True, 'Riya', 70, 9, 8, 7, 1, 6, 5, 34, 12)"
      ]
     },
     "execution_count": 61,
     "metadata": {},
     "output_type": "execute_result"
    }
   ],
   "source": [
    "t1[::-1]"
   ]
  },
  {
   "cell_type": "code",
   "execution_count": 62,
   "id": "697babcd-568c-4ae5-9fa8-c2001ec952e7",
   "metadata": {},
   "outputs": [
    {
     "data": {
      "text/plain": [
       "(12, 34, 5)"
      ]
     },
     "execution_count": 62,
     "metadata": {},
     "output_type": "execute_result"
    }
   ],
   "source": [
    "t1[0:3]"
   ]
  },
  {
   "cell_type": "code",
   "execution_count": 63,
   "id": "d3d6f8e9-5a0e-4d4d-8198-a1a0c21b4036",
   "metadata": {},
   "outputs": [
    {
     "data": {
      "text/plain": [
       "1"
      ]
     },
     "execution_count": 63,
     "metadata": {},
     "output_type": "execute_result"
    }
   ],
   "source": [
    "t1.count(5)"
   ]
  },
  {
   "cell_type": "code",
   "execution_count": 64,
   "id": "6cbba440-4704-40a1-8b61-18670376d7d0",
   "metadata": {},
   "outputs": [
    {
     "data": {
      "text/plain": [
       "0"
      ]
     },
     "execution_count": 64,
     "metadata": {},
     "output_type": "execute_result"
    }
   ],
   "source": [
    "t1.count(2)"
   ]
  },
  {
   "cell_type": "code",
   "execution_count": 65,
   "id": "67461147-5f37-4edf-aa73-0179212c5fda",
   "metadata": {},
   "outputs": [
    {
     "data": {
      "text/plain": [
       "(12, 34, 5, 6, 1, 7, 8, 9, 70, 'Riya', True)"
      ]
     },
     "execution_count": 65,
     "metadata": {},
     "output_type": "execute_result"
    }
   ],
   "source": [
    "t1"
   ]
  },
  {
   "cell_type": "code",
   "execution_count": 66,
   "id": "0fb64c7b-d2fd-4a3c-9bfa-6ad7c4df56d0",
   "metadata": {},
   "outputs": [
    {
     "data": {
      "text/plain": [
       "0"
      ]
     },
     "execution_count": 66,
     "metadata": {},
     "output_type": "execute_result"
    }
   ],
   "source": [
    "t1.index(12)"
   ]
  },
  {
   "cell_type": "code",
   "execution_count": 67,
   "id": "bfed66a8-4f5e-4d8c-824f-7ea030a5ac13",
   "metadata": {},
   "outputs": [
    {
     "data": {
      "text/plain": [
       "8"
      ]
     },
     "execution_count": 67,
     "metadata": {},
     "output_type": "execute_result"
    }
   ],
   "source": [
    "t1.index(70)"
   ]
  },
  {
   "cell_type": "code",
   "execution_count": 68,
   "id": "3bff713b-6d0b-4002-be25-9f0190f3fc81",
   "metadata": {},
   "outputs": [
    {
     "data": {
      "text/plain": [
       "9"
      ]
     },
     "execution_count": 68,
     "metadata": {},
     "output_type": "execute_result"
    }
   ],
   "source": [
    "t1.index(\"Riya\")"
   ]
  },
  {
   "cell_type": "code",
   "execution_count": 69,
   "id": "50ccbb6b-c548-4ff1-a2a8-f81e19917ea0",
   "metadata": {},
   "outputs": [
    {
     "data": {
      "text/plain": [
       "4"
      ]
     },
     "execution_count": 69,
     "metadata": {},
     "output_type": "execute_result"
    }
   ],
   "source": [
    "t1.index(True)"
   ]
  },
  {
   "cell_type": "code",
   "execution_count": 70,
   "id": "7b796223-a22b-47fa-ba20-a33880355d36",
   "metadata": {},
   "outputs": [
    {
     "data": {
      "text/plain": [
       "(12, 34, 5, 6, 1, 7, 8, 9, 70, 'Riya', True)"
      ]
     },
     "execution_count": 70,
     "metadata": {},
     "output_type": "execute_result"
    }
   ],
   "source": [
    "t1\n"
   ]
  },
  {
   "cell_type": "code",
   "execution_count": 71,
   "id": "4e35563b-5cad-4b08-acf8-eaea04c4b137",
   "metadata": {},
   "outputs": [
    {
     "data": {
      "text/plain": [
       "1"
      ]
     },
     "execution_count": 71,
     "metadata": {},
     "output_type": "execute_result"
    }
   ],
   "source": [
    "t1.count(34)"
   ]
  },
  {
   "cell_type": "code",
   "execution_count": 72,
   "id": "487b1feb-11b6-4409-8ac3-a6c378369151",
   "metadata": {},
   "outputs": [
    {
     "data": {
      "text/plain": [
       "2"
      ]
     },
     "execution_count": 72,
     "metadata": {},
     "output_type": "execute_result"
    }
   ],
   "source": [
    "t1.count(True)"
   ]
  },
  {
   "cell_type": "code",
   "execution_count": 74,
   "id": "641b4eb1-7e7d-4ebd-a205-598870d63d92",
   "metadata": {},
   "outputs": [
    {
     "data": {
      "text/plain": [
       "(12, 34, 5, 6, 1, 7, 8, 9, 70, 'Riya', True)"
      ]
     },
     "execution_count": 74,
     "metadata": {},
     "output_type": "execute_result"
    }
   ],
   "source": [
    "t1"
   ]
  },
  {
   "cell_type": "code",
   "execution_count": 76,
   "id": "dbd64299-81e5-4bf5-aaa5-bfd42eb4cb10",
   "metadata": {},
   "outputs": [
    {
     "ename": "TypeError",
     "evalue": "'tuple' object does not support item assignment",
     "output_type": "error",
     "traceback": [
      "\u001b[0;31m---------------------------------------------------------------------------\u001b[0m",
      "\u001b[0;31mTypeError\u001b[0m                                 Traceback (most recent call last)",
      "Cell \u001b[0;32mIn[76], line 1\u001b[0m\n\u001b[0;32m----> 1\u001b[0m \u001b[43mt1\u001b[49m\u001b[43m[\u001b[49m\u001b[38;5;241;43m0\u001b[39;49m\u001b[43m]\u001b[49m\u001b[38;5;241m=\u001b[39m \u001b[38;5;241m548\u001b[39m\n",
      "\u001b[0;31mTypeError\u001b[0m: 'tuple' object does not support item assignment"
     ]
    }
   ],
   "source": [
    "t1[0]= 548 "
   ]
  },
  {
   "cell_type": "code",
   "execution_count": 77,
   "id": "a2c00ed9-6ebb-4a4e-9de5-362dee874973",
   "metadata": {},
   "outputs": [
    {
     "data": {
      "text/plain": [
       "[12, 34, 5, 6, 7, 8, 9, 70, 'Riya', 'True']"
      ]
     },
     "execution_count": 77,
     "metadata": {},
     "output_type": "execute_result"
    }
   ],
   "source": [
    "lst\n"
   ]
  },
  {
   "cell_type": "code",
   "execution_count": 78,
   "id": "5a7964e9-5c1f-4684-9b21-13349e786b17",
   "metadata": {},
   "outputs": [],
   "source": [
    "lst[0]  =  854"
   ]
  },
  {
   "cell_type": "code",
   "execution_count": 79,
   "id": "54879468-0b7e-40f4-9338-dc686c35519c",
   "metadata": {},
   "outputs": [
    {
     "data": {
      "text/plain": [
       "[854, 34, 5, 6, 7, 8, 9, 70, 'Riya', 'True']"
      ]
     },
     "execution_count": 79,
     "metadata": {},
     "output_type": "execute_result"
    }
   ],
   "source": [
    "lst"
   ]
  },
  {
   "cell_type": "code",
   "execution_count": 84,
   "id": "e36eaf10-9ca6-4c8d-9f93-9f72f2c42abd",
   "metadata": {},
   "outputs": [
    {
     "name": "stdout",
     "output_type": "stream",
     "text": [
      "12 <class 'int'>\n",
      "34 <class 'int'>\n",
      "5 <class 'int'>\n",
      "6 <class 'int'>\n",
      "1 <class 'int'>\n",
      "7 <class 'int'>\n",
      "8 <class 'int'>\n",
      "9 <class 'int'>\n",
      "70 <class 'int'>\n",
      "Riya <class 'str'>\n",
      "True <class 'bool'>\n"
     ]
    }
   ],
   "source": [
    "for i in t1:\n",
    "    print(i,type(i))"
   ]
  },
  {
   "cell_type": "code",
   "execution_count": 85,
   "id": "ce808c56-15c6-4a5b-acc8-0f62df117df6",
   "metadata": {},
   "outputs": [
    {
     "data": {
      "text/plain": [
       "(12,\n",
       " 34,\n",
       " 5,\n",
       " 6,\n",
       " 1,\n",
       " 7,\n",
       " 8,\n",
       " 9,\n",
       " 70,\n",
       " 'Riya',\n",
       " True,\n",
       " 12,\n",
       " 34,\n",
       " 5,\n",
       " 6,\n",
       " 1,\n",
       " 7,\n",
       " 8,\n",
       " 9,\n",
       " 70,\n",
       " 'Riya',\n",
       " True,\n",
       " 12,\n",
       " 34,\n",
       " 5,\n",
       " 6,\n",
       " 1,\n",
       " 7,\n",
       " 8,\n",
       " 9,\n",
       " 70,\n",
       " 'Riya',\n",
       " True,\n",
       " 12,\n",
       " 34,\n",
       " 5,\n",
       " 6,\n",
       " 1,\n",
       " 7,\n",
       " 8,\n",
       " 9,\n",
       " 70,\n",
       " 'Riya',\n",
       " True,\n",
       " 12,\n",
       " 34,\n",
       " 5,\n",
       " 6,\n",
       " 1,\n",
       " 7,\n",
       " 8,\n",
       " 9,\n",
       " 70,\n",
       " 'Riya',\n",
       " True)"
      ]
     },
     "execution_count": 85,
     "metadata": {},
     "output_type": "execute_result"
    }
   ],
   "source": [
    "t1*5"
   ]
  },
  {
   "cell_type": "code",
   "execution_count": 90,
   "id": "5329d2a1-0a9c-49ad-92e2-a0748c2d3fe0",
   "metadata": {},
   "outputs": [],
   "source": [
    "t2 = (5,8,9,6,70,50,2,0,1,64,-55,60)"
   ]
  },
  {
   "cell_type": "code",
   "execution_count": 91,
   "id": "2137a47e-7341-481e-a6dd-533e2472dfd1",
   "metadata": {},
   "outputs": [
    {
     "data": {
      "text/plain": [
       "(5, 8, 9, 6, 70, 50, 2, 0, 1, 64, -55, 60)"
      ]
     },
     "execution_count": 91,
     "metadata": {},
     "output_type": "execute_result"
    }
   ],
   "source": [
    "t2"
   ]
  },
  {
   "cell_type": "code",
   "execution_count": 93,
   "id": "2581ed3c-cc64-4854-92c3-7ebd31ca4140",
   "metadata": {},
   "outputs": [
    {
     "data": {
      "text/plain": [
       "70"
      ]
     },
     "execution_count": 93,
     "metadata": {},
     "output_type": "execute_result"
    }
   ],
   "source": [
    "max(t2)"
   ]
  },
  {
   "cell_type": "code",
   "execution_count": 94,
   "id": "abb05845-ef2a-48b6-b4c4-f6e231476a26",
   "metadata": {},
   "outputs": [
    {
     "data": {
      "text/plain": [
       "-55"
      ]
     },
     "execution_count": 94,
     "metadata": {},
     "output_type": "execute_result"
    }
   ],
   "source": [
    "min(t2)"
   ]
  },
  {
   "cell_type": "code",
   "execution_count": 97,
   "id": "3a0881b2-1f76-4738-b514-84d1a259da0c",
   "metadata": {},
   "outputs": [],
   "source": [
    "t3 = (t1+t2)"
   ]
  },
  {
   "cell_type": "code",
   "execution_count": 98,
   "id": "8815167f-b533-4ff7-a92a-a215f1bb24ca",
   "metadata": {},
   "outputs": [
    {
     "data": {
      "text/plain": [
       "(12,\n",
       " 34,\n",
       " 5,\n",
       " 6,\n",
       " 1,\n",
       " 7,\n",
       " 8,\n",
       " 9,\n",
       " 70,\n",
       " 'Riya',\n",
       " True,\n",
       " 5,\n",
       " 8,\n",
       " 9,\n",
       " 6,\n",
       " 70,\n",
       " 50,\n",
       " 2,\n",
       " 0,\n",
       " 1,\n",
       " 64,\n",
       " -55,\n",
       " 60)"
      ]
     },
     "execution_count": 98,
     "metadata": {},
     "output_type": "execute_result"
    }
   ],
   "source": [
    "t3"
   ]
  },
  {
   "cell_type": "code",
   "execution_count": 99,
   "id": "2aaefdda-23fd-4f59-83e7-1c7bfed7b9fc",
   "metadata": {},
   "outputs": [],
   "source": [
    "t4 = ((5,8,4,9,5,6) , [8,9,6,4,15,85])"
   ]
  },
  {
   "cell_type": "code",
   "execution_count": 100,
   "id": "ab96dfad-35c5-4f7a-9ad5-6bfb61b7504b",
   "metadata": {},
   "outputs": [
    {
     "data": {
      "text/plain": [
       "((5, 8, 4, 9, 5, 6), [8, 9, 6, 4, 15, 85])"
      ]
     },
     "execution_count": 100,
     "metadata": {},
     "output_type": "execute_result"
    }
   ],
   "source": [
    "t4"
   ]
  },
  {
   "cell_type": "code",
   "execution_count": 101,
   "id": "5aa28dec-8d4e-488e-9934-eb773f7adc0e",
   "metadata": {},
   "outputs": [],
   "source": [
    "del t4"
   ]
  },
  {
   "cell_type": "code",
   "execution_count": 102,
   "id": "9a5f0f90-9860-4c32-b7cc-f6319e3b06c2",
   "metadata": {},
   "outputs": [
    {
     "ename": "NameError",
     "evalue": "name 't4' is not defined",
     "output_type": "error",
     "traceback": [
      "\u001b[0;31m---------------------------------------------------------------------------\u001b[0m",
      "\u001b[0;31mNameError\u001b[0m                                 Traceback (most recent call last)",
      "Cell \u001b[0;32mIn[102], line 1\u001b[0m\n\u001b[0;32m----> 1\u001b[0m \u001b[43mt4\u001b[49m\n",
      "\u001b[0;31mNameError\u001b[0m: name 't4' is not defined"
     ]
    }
   ],
   "source": [
    "t4"
   ]
  },
  {
   "cell_type": "code",
   "execution_count": 103,
   "id": "d0b1514d-49b0-43bb-b1fb-ca29c5d8a1fb",
   "metadata": {},
   "outputs": [
    {
     "data": {
      "text/plain": [
       "(12, 34, 5, 6, 1, 7, 8, 9, 70, 'Riya', True)"
      ]
     },
     "execution_count": 103,
     "metadata": {},
     "output_type": "execute_result"
    }
   ],
   "source": [
    "t1\n"
   ]
  },
  {
   "cell_type": "code",
   "execution_count": 104,
   "id": "b68120c2-48e1-4de7-83d9-e64900aaf020",
   "metadata": {},
   "outputs": [
    {
     "data": {
      "text/plain": [
       "11"
      ]
     },
     "execution_count": 104,
     "metadata": {},
     "output_type": "execute_result"
    }
   ],
   "source": [
    "len(t1)"
   ]
  },
  {
   "cell_type": "code",
   "execution_count": 106,
   "id": "976b7a63-3dff-46e7-8367-19974951e645",
   "metadata": {},
   "outputs": [
    {
     "data": {
      "text/plain": [
       "True"
      ]
     },
     "execution_count": 106,
     "metadata": {},
     "output_type": "execute_result"
    }
   ],
   "source": [
    "\"Riya\" in t1"
   ]
  },
  {
   "cell_type": "code",
   "execution_count": 107,
   "id": "89f516aa-c608-47f2-a6dd-24a166646c22",
   "metadata": {},
   "outputs": [
    {
     "data": {
      "text/plain": [
       "False"
      ]
     },
     "execution_count": 107,
     "metadata": {},
     "output_type": "execute_result"
    }
   ],
   "source": [
    "54 in t1"
   ]
  },
  {
   "cell_type": "code",
   "execution_count": null,
   "id": "ce172211-6679-4e7c-9e82-591427ddaaa9",
   "metadata": {},
   "outputs": [],
   "source": []
  },
  {
   "cell_type": "code",
   "execution_count": null,
   "id": "8276df07-4ff8-4251-be3a-de9e68f7ba68",
   "metadata": {},
   "outputs": [],
   "source": []
  },
  {
   "cell_type": "code",
   "execution_count": null,
   "id": "e0f59391-3673-45dc-8218-a715cee2bde1",
   "metadata": {},
   "outputs": [],
   "source": []
  }
 ],
 "metadata": {
  "kernelspec": {
   "display_name": "Python 3 (ipykernel)",
   "language": "python",
   "name": "python3"
  },
  "language_info": {
   "codemirror_mode": {
    "name": "ipython",
    "version": 3
   },
   "file_extension": ".py",
   "mimetype": "text/x-python",
   "name": "python",
   "nbconvert_exporter": "python",
   "pygments_lexer": "ipython3",
   "version": "3.10.8"
  }
 },
 "nbformat": 4,
 "nbformat_minor": 5
}
