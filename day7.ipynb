{
 "cells": [
  {
   "cell_type": "markdown",
   "id": "596cb5fc-2edb-46a6-8124-da8c79639cc4",
   "metadata": {},
   "source": [
    "# dictionary"
   ]
  },
  {
   "cell_type": "code",
   "execution_count": 3,
   "id": "f9f6ea80-f6ee-4527-b1d2-82f874b3282e",
   "metadata": {},
   "outputs": [],
   "source": [
    "d={}"
   ]
  },
  {
   "cell_type": "code",
   "execution_count": 4,
   "id": "f08e5a0e-28e0-4691-9153-5f9f37b19a1e",
   "metadata": {},
   "outputs": [
    {
     "data": {
      "text/plain": [
       "dict"
      ]
     },
     "execution_count": 4,
     "metadata": {},
     "output_type": "execute_result"
    }
   ],
   "source": [
    "type(d)"
   ]
  },
  {
   "cell_type": "code",
   "execution_count": 5,
   "id": "5ff9bfe3-d066-4c39-8fc0-31abbbe93d6a",
   "metadata": {},
   "outputs": [],
   "source": [
    "d1 = {\"name\" : \"riya\" , \"email_id\" : \"riya@gmail.com\" , \"number\" : \"12356789\"\n",
    "}"
   ]
  },
  {
   "cell_type": "code",
   "execution_count": 6,
   "id": "288a6d28-b42f-498b-8348-7fd4d0a0c011",
   "metadata": {},
   "outputs": [
    {
     "data": {
      "text/plain": [
       "{'name': 'riya', 'email_id': 'riya@gmail.com', 'number': '12356789'}"
      ]
     },
     "execution_count": 6,
     "metadata": {},
     "output_type": "execute_result"
    }
   ],
   "source": [
    "d1"
   ]
  },
  {
   "cell_type": "code",
   "execution_count": 7,
   "id": "07022483-f47e-4890-b7ae-7735604b13ad",
   "metadata": {},
   "outputs": [],
   "source": [
    "d2 = {\"name\" : \"riya\" , \"name\" : \"riyu\"}"
   ]
  },
  {
   "cell_type": "code",
   "execution_count": 8,
   "id": "699540db-f5b5-4b25-a027-afd6cc239816",
   "metadata": {},
   "outputs": [
    {
     "data": {
      "text/plain": [
       "{'name': 'riyu'}"
      ]
     },
     "execution_count": 8,
     "metadata": {},
     "output_type": "execute_result"
    }
   ],
   "source": [
    "d2"
   ]
  },
  {
   "cell_type": "code",
   "execution_count": 9,
   "id": "adb8af0c-e986-4280-a17e-38ded239e2d4",
   "metadata": {},
   "outputs": [],
   "source": [
    "d2 = d2 = {\"name\" : \"riyu\" , \"name\" : \"riya\"}"
   ]
  },
  {
   "cell_type": "code",
   "execution_count": 10,
   "id": "fda40505-8d56-4574-ab54-21061c6239a8",
   "metadata": {},
   "outputs": [
    {
     "data": {
      "text/plain": [
       "{'name': 'riya'}"
      ]
     },
     "execution_count": 10,
     "metadata": {},
     "output_type": "execute_result"
    }
   ],
   "source": [
    "d2"
   ]
  },
  {
   "cell_type": "code",
   "execution_count": 11,
   "id": "7ac941fa-3ec3-4704-92ae-f09cc52a7d6c",
   "metadata": {},
   "outputs": [],
   "source": [
    "d3 = {1234:\"Roll_nu.\"}"
   ]
  },
  {
   "cell_type": "code",
   "execution_count": 12,
   "id": "14e739ac-a833-4b0f-8938-0f9ed32df36a",
   "metadata": {},
   "outputs": [
    {
     "data": {
      "text/plain": [
       "{1234: 'Roll_nu.'}"
      ]
     },
     "execution_count": 12,
     "metadata": {},
     "output_type": "execute_result"
    }
   ],
   "source": [
    "d3"
   ]
  },
  {
   "cell_type": "code",
   "execution_count": 13,
   "id": "6c9f2bb1-6c2d-4d7d-bbb6-c284f46479bd",
   "metadata": {},
   "outputs": [],
   "source": [
    "d4={54.6:\"saving\"}"
   ]
  },
  {
   "cell_type": "code",
   "execution_count": 14,
   "id": "e89099d0-ddf3-4935-b463-a64f4dc50a07",
   "metadata": {},
   "outputs": [
    {
     "data": {
      "text/plain": [
       "{54.6: 'saving'}"
      ]
     },
     "execution_count": 14,
     "metadata": {},
     "output_type": "execute_result"
    }
   ],
   "source": [
    "d4"
   ]
  },
  {
   "cell_type": "code",
   "execution_count": 15,
   "id": "7ed0c3d3-c6e1-4c65-8bec-edd9a6642d24",
   "metadata": {},
   "outputs": [],
   "source": [
    "d5={True:\"yes you are right\"}"
   ]
  },
  {
   "cell_type": "code",
   "execution_count": 16,
   "id": "03f4ebeb-5e3a-43d3-b682-6af1d1e70774",
   "metadata": {},
   "outputs": [
    {
     "data": {
      "text/plain": [
       "{True: 'yes you are right'}"
      ]
     },
     "execution_count": 16,
     "metadata": {},
     "output_type": "execute_result"
    }
   ],
   "source": [
    "d5"
   ]
  },
  {
   "cell_type": "code",
   "execution_count": 17,
   "id": "81ede2e5-b5d1-4aa3-8b6e-5ec4db63e96c",
   "metadata": {},
   "outputs": [
    {
     "ename": "SyntaxError",
     "evalue": "incomplete input (3976488230.py, line 1)",
     "output_type": "error",
     "traceback": [
      "\u001b[0;36m  Cell \u001b[0;32mIn[17], line 1\u001b[0;36m\u001b[0m\n\u001b[0;31m    d6 = {#:\"abc\"}\u001b[0m\n\u001b[0m                     ^\u001b[0m\n\u001b[0;31mSyntaxError\u001b[0m\u001b[0;31m:\u001b[0m incomplete input\n"
     ]
    }
   ],
   "source": [
    "d6 = {#:\"abc\"}   "
   ]
  },
  {
   "cell_type": "code",
   "execution_count": 18,
   "id": "2ddf7dee-23a0-4ab9-a395-f10882e28ef6",
   "metadata": {},
   "outputs": [],
   "source": [
    "d6 = {\"#\":\"abc\"}   "
   ]
  },
  {
   "cell_type": "code",
   "execution_count": 19,
   "id": "a7371e54-c831-4bc3-b805-7334169d1995",
   "metadata": {},
   "outputs": [
    {
     "data": {
      "text/plain": [
       "{'#': 'abc'}"
      ]
     },
     "execution_count": 19,
     "metadata": {},
     "output_type": "execute_result"
    }
   ],
   "source": [
    "d6"
   ]
  },
  {
   "cell_type": "code",
   "execution_count": 20,
   "id": "f48b97d8-b450-46c5-bcfb-fcbdc50ecf8a",
   "metadata": {},
   "outputs": [
    {
     "ename": "TypeError",
     "evalue": "unhashable type: 'list'",
     "output_type": "error",
     "traceback": [
      "\u001b[0;31m---------------------------------------------------------------------------\u001b[0m",
      "\u001b[0;31mTypeError\u001b[0m                                 Traceback (most recent call last)",
      "Cell \u001b[0;32mIn[20], line 1\u001b[0m\n\u001b[0;32m----> 1\u001b[0m d7 \u001b[38;5;241m=\u001b[39m {[\u001b[38;5;241m5\u001b[39m,\u001b[38;5;241m6\u001b[39m,\u001b[38;5;241m7\u001b[39m,\u001b[38;5;241m9\u001b[39m,\u001b[38;5;241m6\u001b[39m] : \u001b[38;5;124m\"\u001b[39m\u001b[38;5;124mlist elements\u001b[39m\u001b[38;5;124m\"\u001b[39m} \n",
      "\u001b[0;31mTypeError\u001b[0m: unhashable type: 'list'"
     ]
    }
   ],
   "source": [
    "d7 = {[5,6,7,9,6] : \"list elements\"} "
   ]
  },
  {
   "cell_type": "code",
   "execution_count": 21,
   "id": "cc3d037e-a0d4-4959-80ed-4f05154290d9",
   "metadata": {},
   "outputs": [],
   "source": [
    "d8 = d7 = {(5,6,7,9,6) : \"list elements\"} "
   ]
  },
  {
   "cell_type": "code",
   "execution_count": 22,
   "id": "cbce662f-3380-4076-b94d-5268c3d0aeaa",
   "metadata": {},
   "outputs": [
    {
     "data": {
      "text/plain": [
       "{(5, 6, 7, 9, 6): 'list elements'}"
      ]
     },
     "execution_count": 22,
     "metadata": {},
     "output_type": "execute_result"
    }
   ],
   "source": [
    "d8"
   ]
  },
  {
   "cell_type": "code",
   "execution_count": 23,
   "id": "07649e29-8707-437b-a6f0-346410433e9e",
   "metadata": {},
   "outputs": [
    {
     "ename": "TypeError",
     "evalue": "unhashable type: 'set'",
     "output_type": "error",
     "traceback": [
      "\u001b[0;31m---------------------------------------------------------------------------\u001b[0m",
      "\u001b[0;31mTypeError\u001b[0m                                 Traceback (most recent call last)",
      "Cell \u001b[0;32mIn[23], line 1\u001b[0m\n\u001b[0;32m----> 1\u001b[0m d9 \u001b[38;5;241m=\u001b[39m {{\u001b[38;5;241m1\u001b[39m,\u001b[38;5;241m2\u001b[39m,\u001b[38;5;241m3\u001b[39m},\u001b[38;5;124m\"\u001b[39m\u001b[38;5;124mabc\u001b[39m\u001b[38;5;124m\"\u001b[39m}\n",
      "\u001b[0;31mTypeError\u001b[0m: unhashable type: 'set'"
     ]
    }
   ],
   "source": [
    "d9 = {{1,2,3},\"abc\"}"
   ]
  },
  {
   "cell_type": "code",
   "execution_count": null,
   "id": "f419343a-57f4-45f6-b814-713998aaf986",
   "metadata": {},
   "outputs": [],
   "source": [
    "d10 = {{\"key\":5460},\"abc\"}"
   ]
  },
  {
   "cell_type": "code",
   "execution_count": 24,
   "id": "08dbb0a0-cb6c-495e-924b-d59976366571",
   "metadata": {},
   "outputs": [],
   "source": [
    "d11 = {\"course_name\" : [\"data science masters\" , \"web design\" , \"java\"]}"
   ]
  },
  {
   "cell_type": "code",
   "execution_count": 25,
   "id": "7de83266-0f14-42af-bd98-aff0d8e18e0d",
   "metadata": {},
   "outputs": [
    {
     "data": {
      "text/plain": [
       "{'course_name': ['data science masters', 'web design', 'java']}"
      ]
     },
     "execution_count": 25,
     "metadata": {},
     "output_type": "execute_result"
    }
   ],
   "source": [
    "d11"
   ]
  },
  {
   "cell_type": "code",
   "execution_count": 26,
   "id": "b067eb37-f537-466b-84b9-20a602b794eb",
   "metadata": {},
   "outputs": [],
   "source": [
    "d12 = {\"key\" : (1,2,3,4,5)}"
   ]
  },
  {
   "cell_type": "code",
   "execution_count": 27,
   "id": "e8d1c159-099a-400d-a932-5980a4d5fa3d",
   "metadata": {},
   "outputs": [],
   "source": [
    "d13 = {\"key\" : (1,2,3,4)}"
   ]
  },
  {
   "cell_type": "code",
   "execution_count": 28,
   "id": "27679867-182d-467b-99d0-a65eca2d2155",
   "metadata": {},
   "outputs": [],
   "source": [
    "d14 = {\"key\" : {\"name\" : \"riya\" , \"class\" : \"Data science masters\"}}"
   ]
  },
  {
   "cell_type": "code",
   "execution_count": 29,
   "id": "fd5652ff-f644-443a-94e9-5a48af6d40e8",
   "metadata": {},
   "outputs": [],
   "source": [
    "d15 = {\"name\" : \"Riya\" , \"batch\" : [\"data science master's\" , \" web design\" , \"java\"] , \"Starting date\" : \"28-january-2023\" , \"Mentor\" : {\"krish naik\", \"sudhanshu\" , \"hitesh\", \"anurag\" , \"navin\",\"hayder\"}}"
   ]
  },
  {
   "cell_type": "code",
   "execution_count": 30,
   "id": "9910668f-bcc9-4d47-b083-bdcd478e4866",
   "metadata": {},
   "outputs": [
    {
     "data": {
      "text/plain": [
       "{'name': 'Riya',\n",
       " 'batch': [\"data science master's\", ' web design', 'java'],\n",
       " 'Starting date': '28-january-2023',\n",
       " 'Mentor': {'anurag', 'hayder', 'hitesh', 'krish naik', 'navin', 'sudhanshu'}}"
      ]
     },
     "execution_count": 30,
     "metadata": {},
     "output_type": "execute_result"
    }
   ],
   "source": [
    "d15\n"
   ]
  },
  {
   "cell_type": "code",
   "execution_count": 31,
   "id": "7b01120c-32a6-4e46-8b86-44769ad569c4",
   "metadata": {},
   "outputs": [],
   "source": [
    "d15[\"timing\"] = (8,8,8)"
   ]
  },
  {
   "cell_type": "code",
   "execution_count": 32,
   "id": "b768cbf9-b38d-451d-9c88-07d8045d4cae",
   "metadata": {},
   "outputs": [
    {
     "data": {
      "text/plain": [
       "{'name': 'Riya',\n",
       " 'batch': [\"data science master's\", ' web design', 'java'],\n",
       " 'Starting date': '28-january-2023',\n",
       " 'Mentor': {'anurag', 'hayder', 'hitesh', 'krish naik', 'navin', 'sudhanshu'},\n",
       " 'timing': (8, 8, 8)}"
      ]
     },
     "execution_count": 32,
     "metadata": {},
     "output_type": "execute_result"
    }
   ],
   "source": [
    "d15"
   ]
  },
  {
   "cell_type": "code",
   "execution_count": 33,
   "id": "ba120e28-23f8-4386-a139-d45ad848711f",
   "metadata": {},
   "outputs": [
    {
     "data": {
      "text/plain": [
       "'Riya'"
      ]
     },
     "execution_count": 33,
     "metadata": {},
     "output_type": "execute_result"
    }
   ],
   "source": [
    "d15[\"name\"]"
   ]
  },
  {
   "cell_type": "code",
   "execution_count": 34,
   "id": "384b13df-b55a-48aa-86f8-0aea6b60a65d",
   "metadata": {},
   "outputs": [
    {
     "data": {
      "text/plain": [
       "{'anurag', 'hayder', 'hitesh', 'krish naik', 'navin', 'sudhanshu'}"
      ]
     },
     "execution_count": 34,
     "metadata": {},
     "output_type": "execute_result"
    }
   ],
   "source": [
    "d15[\"Mentor\"]"
   ]
  },
  {
   "cell_type": "code",
   "execution_count": 35,
   "id": "c29ee537-125f-4f23-9b76-58b68c38e9f1",
   "metadata": {},
   "outputs": [
    {
     "data": {
      "text/plain": [
       "'RIYA'"
      ]
     },
     "execution_count": 35,
     "metadata": {},
     "output_type": "execute_result"
    }
   ],
   "source": [
    "d15[\"name\"].upper()"
   ]
  },
  {
   "cell_type": "code",
   "execution_count": 36,
   "id": "9f075bd8-3e87-4098-8b0a-eb92e63ccea8",
   "metadata": {},
   "outputs": [
    {
     "data": {
      "text/plain": [
       "'riya'"
      ]
     },
     "execution_count": 36,
     "metadata": {},
     "output_type": "execute_result"
    }
   ],
   "source": [
    "d15[\"name\"].lower()"
   ]
  },
  {
   "cell_type": "code",
   "execution_count": 37,
   "id": "8abbee18-b632-4316-aecc-793fe940b1b9",
   "metadata": {},
   "outputs": [
    {
     "data": {
      "text/plain": [
       "{'name': 'riya', 'class': 'Data science masters'}"
      ]
     },
     "execution_count": 37,
     "metadata": {},
     "output_type": "execute_result"
    }
   ],
   "source": [
    "d14[\"key\"]"
   ]
  },
  {
   "cell_type": "code",
   "execution_count": 38,
   "id": "4c9df025-9def-4823-8ec0-6eb18dd1c428",
   "metadata": {},
   "outputs": [],
   "source": [
    "del d15[\"timing\"]"
   ]
  },
  {
   "cell_type": "code",
   "execution_count": 39,
   "id": "f1bdd655-2a17-47ce-90f5-96db15daa113",
   "metadata": {},
   "outputs": [
    {
     "data": {
      "text/plain": [
       "{'name': 'Riya',\n",
       " 'batch': [\"data science master's\", ' web design', 'java'],\n",
       " 'Starting date': '28-january-2023',\n",
       " 'Mentor': {'anurag', 'hayder', 'hitesh', 'krish naik', 'navin', 'sudhanshu'}}"
      ]
     },
     "execution_count": 39,
     "metadata": {},
     "output_type": "execute_result"
    }
   ],
   "source": [
    "d15"
   ]
  },
  {
   "cell_type": "code",
   "execution_count": 40,
   "id": "4dfb574f-278c-46b4-abc1-ba62dc6ac5a4",
   "metadata": {},
   "outputs": [
    {
     "data": {
      "text/plain": [
       "4"
      ]
     },
     "execution_count": 40,
     "metadata": {},
     "output_type": "execute_result"
    }
   ],
   "source": [
    "len(d15)"
   ]
  },
  {
   "cell_type": "code",
   "execution_count": 41,
   "id": "70a67414-7720-4cdb-9ea3-21a21000a4c6",
   "metadata": {},
   "outputs": [
    {
     "data": {
      "text/plain": [
       "dict_keys(['name', 'batch', 'Starting date', 'Mentor'])"
      ]
     },
     "execution_count": 41,
     "metadata": {},
     "output_type": "execute_result"
    }
   ],
   "source": [
    "d15.keys()"
   ]
  },
  {
   "cell_type": "code",
   "execution_count": 42,
   "id": "02a1f2b6-c04b-4f0d-8c67-9e19cf9bf16c",
   "metadata": {},
   "outputs": [
    {
     "data": {
      "text/plain": [
       "dict_values(['Riya', [\"data science master's\", ' web design', 'java'], '28-january-2023', {'hayder', 'hitesh', 'krish naik', 'navin', 'anurag', 'sudhanshu'}])"
      ]
     },
     "execution_count": 42,
     "metadata": {},
     "output_type": "execute_result"
    }
   ],
   "source": [
    "d15.values()"
   ]
  },
  {
   "cell_type": "code",
   "execution_count": 43,
   "id": "290cf080-451a-4f77-8cac-38e4fc7ee573",
   "metadata": {},
   "outputs": [
    {
     "data": {
      "text/plain": [
       "['Riya',\n",
       " [\"data science master's\", ' web design', 'java'],\n",
       " '28-january-2023',\n",
       " {'anurag', 'hayder', 'hitesh', 'krish naik', 'navin', 'sudhanshu'}]"
      ]
     },
     "execution_count": 43,
     "metadata": {},
     "output_type": "execute_result"
    }
   ],
   "source": [
    "list(d15.values())"
   ]
  },
  {
   "cell_type": "code",
   "execution_count": 44,
   "id": "29e91f9c-a5eb-4ca5-8817-2c3908e6f34c",
   "metadata": {},
   "outputs": [],
   "source": [
    "d16 = d15.copy()"
   ]
  },
  {
   "cell_type": "code",
   "execution_count": 45,
   "id": "acb4323b-12a1-4047-9460-8c0b2d419bbc",
   "metadata": {},
   "outputs": [
    {
     "data": {
      "text/plain": [
       "{'name': 'Riya',\n",
       " 'batch': [\"data science master's\", ' web design', 'java'],\n",
       " 'Starting date': '28-january-2023',\n",
       " 'Mentor': {'anurag', 'hayder', 'hitesh', 'krish naik', 'navin', 'sudhanshu'}}"
      ]
     },
     "execution_count": 45,
     "metadata": {},
     "output_type": "execute_result"
    }
   ],
   "source": [
    "d16"
   ]
  },
  {
   "cell_type": "code",
   "execution_count": 47,
   "id": "b286c6e4-b1d6-4734-a1f2-98bdaa4ab80d",
   "metadata": {},
   "outputs": [],
   "source": [
    "d17 = d16"
   ]
  },
  {
   "cell_type": "code",
   "execution_count": 48,
   "id": "6dafe932-e97c-4dd9-bd26-8f658535de70",
   "metadata": {},
   "outputs": [
    {
     "data": {
      "text/plain": [
       "{'name': 'Riya',\n",
       " 'batch': [\"data science master's\", ' web design', 'java'],\n",
       " 'Starting date': '28-january-2023',\n",
       " 'Mentor': {'anurag', 'hayder', 'hitesh', 'krish naik', 'navin', 'sudhanshu'}}"
      ]
     },
     "execution_count": 48,
     "metadata": {},
     "output_type": "execute_result"
    }
   ],
   "source": [
    "d17"
   ]
  },
  {
   "cell_type": "code",
   "execution_count": 50,
   "id": "060bde1b-4c2b-4480-bcd5-8a5430fe5350",
   "metadata": {},
   "outputs": [
    {
     "data": {
      "text/plain": [
       "'28-january-2023'"
      ]
     },
     "execution_count": 50,
     "metadata": {},
     "output_type": "execute_result"
    }
   ],
   "source": [
    "d16.pop(\"Starting date\")"
   ]
  },
  {
   "cell_type": "code",
   "execution_count": 51,
   "id": "22fb8920-19e2-424c-9e5b-7c256e2a07bc",
   "metadata": {},
   "outputs": [
    {
     "data": {
      "text/plain": [
       "{'name': 'Riya',\n",
       " 'batch': [\"data science master's\", ' web design', 'java'],\n",
       " 'Mentor': {'anurag', 'hayder', 'hitesh', 'krish naik', 'navin', 'sudhanshu'}}"
      ]
     },
     "execution_count": 51,
     "metadata": {},
     "output_type": "execute_result"
    }
   ],
   "source": [
    "d16"
   ]
  },
  {
   "cell_type": "code",
   "execution_count": 53,
   "id": "7736b366-b63e-41eb-9046-01a4febae568",
   "metadata": {},
   "outputs": [
    {
     "data": {
      "text/plain": [
       "{1: ('a', 'b', 'c'), 2: ('a', 'b', 'c'), 3: ('a', 'b', 'c')}"
      ]
     },
     "execution_count": 53,
     "metadata": {},
     "output_type": "execute_result"
    }
   ],
   "source": [
    "d.fromkeys((1,2,3),('a','b','c'))"
   ]
  },
  {
   "cell_type": "code",
   "execution_count": 54,
   "id": "1d7c3bf8-c9dc-4b57-a603-98a9b9330fd1",
   "metadata": {},
   "outputs": [],
   "source": [
    "d17={\"key1\" : \"value1\" , \"key2\" : \"value2\"}\n",
    "d18={\"key3\" : \"value3\" , \"key4\" : \"value4\"}"
   ]
  },
  {
   "cell_type": "code",
   "execution_count": 55,
   "id": "751c4fc9-e9ab-4256-b5e1-52d07f001114",
   "metadata": {},
   "outputs": [
    {
     "data": {
      "text/plain": [
       "({'key1': 'value1', 'key2': 'value2'}, {'key3': 'value3', 'key4': 'value4'})"
      ]
     },
     "execution_count": 55,
     "metadata": {},
     "output_type": "execute_result"
    }
   ],
   "source": [
    "(d17,d18)"
   ]
  },
  {
   "cell_type": "code",
   "execution_count": 57,
   "id": "510af24c-7f69-483f-997e-69a93bebaf4e",
   "metadata": {},
   "outputs": [],
   "source": [
    "d17.update(d18)"
   ]
  },
  {
   "cell_type": "code",
   "execution_count": 58,
   "id": "9cdf3c68-ab35-4021-a3fa-89534ec69bfd",
   "metadata": {},
   "outputs": [
    {
     "data": {
      "text/plain": [
       "{'key1': 'value1', 'key2': 'value2', 'key3': 'value3', 'key4': 'value4'}"
      ]
     },
     "execution_count": 58,
     "metadata": {},
     "output_type": "execute_result"
    }
   ],
   "source": [
    "d17"
   ]
  },
  {
   "cell_type": "code",
   "execution_count": 59,
   "id": "3c6e13ad-5e6b-495e-948f-6557aab7e404",
   "metadata": {},
   "outputs": [
    {
     "data": {
      "text/plain": [
       "{'key3': 'value3', 'key4': 'value4'}"
      ]
     },
     "execution_count": 59,
     "metadata": {},
     "output_type": "execute_result"
    }
   ],
   "source": [
    "d18"
   ]
  },
  {
   "cell_type": "code",
   "execution_count": 62,
   "id": "45f97254-5860-42a4-9f95-b05f0796fd2b",
   "metadata": {},
   "outputs": [],
   "source": [
    "d18.update(d17)"
   ]
  },
  {
   "cell_type": "code",
   "execution_count": 63,
   "id": "29296ca3-1199-4736-88eb-231822690192",
   "metadata": {},
   "outputs": [
    {
     "data": {
      "text/plain": [
       "{'key3': 'value3', 'key4': 'value4', 'key1': 'value1', 'key2': 'value2'}"
      ]
     },
     "execution_count": 63,
     "metadata": {},
     "output_type": "execute_result"
    }
   ],
   "source": [
    "d18"
   ]
  },
  {
   "cell_type": "code",
   "execution_count": 69,
   "id": "7cbba1fa-f98e-4303-b24c-1038df2057cc",
   "metadata": {},
   "outputs": [],
   "source": [
    "d18.get(\"riya\")"
   ]
  },
  {
   "cell_type": "code",
   "execution_count": 67,
   "id": "75e65ed3-f675-4933-b9ef-140ccfd7c4b5",
   "metadata": {},
   "outputs": [
    {
     "data": {
      "text/plain": [
       "'value1'"
      ]
     },
     "execution_count": 67,
     "metadata": {},
     "output_type": "execute_result"
    }
   ],
   "source": [
    "d18.get(\"key1\")"
   ]
  },
  {
   "cell_type": "markdown",
   "id": "e14aa041-2790-45ce-ba73-5786c3a9979d",
   "metadata": {},
   "source": [
    "#### Dictionary Comprehension"
   ]
  },
  {
   "cell_type": "code",
   "execution_count": 71,
   "id": "e5c16982-241d-4166-a1d9-a7f3e1b3a07d",
   "metadata": {},
   "outputs": [
    {
     "data": {
      "text/plain": [
       "{1, 2, 3, 4, 5, 6, 7, 8, 9, 10}"
      ]
     },
     "execution_count": 71,
     "metadata": {},
     "output_type": "execute_result"
    }
   ],
   "source": [
    "{i for i in range(1,11)}"
   ]
  },
  {
   "cell_type": "code",
   "execution_count": 73,
   "id": "4b3858c4-69dd-4d8d-90e8-0edb0bad1563",
   "metadata": {},
   "outputs": [
    {
     "data": {
      "text/plain": [
       "{1: 1, 2: 4, 3: 9, 4: 16, 5: 25, 6: 36, 7: 49, 8: 64, 9: 81, 10: 100}"
      ]
     },
     "execution_count": 73,
     "metadata": {},
     "output_type": "execute_result"
    }
   ],
   "source": [
    "{i : i**2 for i in range(1,11)}"
   ]
  },
  {
   "cell_type": "code",
   "execution_count": 72,
   "id": "9908375a-d18a-403b-b2f0-fc3a8ffb7603",
   "metadata": {},
   "outputs": [
    {
     "data": {
      "text/plain": [
       "[1, 2, 3, 4, 5, 6, 7, 8, 9, 10]"
      ]
     },
     "execution_count": 72,
     "metadata": {},
     "output_type": "execute_result"
    }
   ],
   "source": [
    "list(range(1,11))"
   ]
  },
  {
   "cell_type": "code",
   "execution_count": 74,
   "id": "745ca1f8-9c15-444d-9ff6-562475fb72c4",
   "metadata": {},
   "outputs": [
    {
     "data": {
      "text/plain": [
       "{1: 3, 2: 4, 3: 5, 4: 6, 5: 7, 6: 8, 7: 9, 8: 10, 9: 11, 10: 12}"
      ]
     },
     "execution_count": 74,
     "metadata": {},
     "output_type": "execute_result"
    }
   ],
   "source": [
    "{i : i+2 for i in range(1,11)}"
   ]
  },
  {
   "cell_type": "code",
   "execution_count": 80,
   "id": "0ece19bf-299d-4f22-b9ae-733ef7212699",
   "metadata": {},
   "outputs": [
    {
     "data": {
      "text/plain": [
       "{1: 0.0,\n",
       " 2: 0.3010299956639812,\n",
       " 3: 0.47712125471966244,\n",
       " 4: 0.6020599913279624,\n",
       " 5: 0.6989700043360189,\n",
       " 6: 0.7781512503836436,\n",
       " 7: 0.8450980400142568,\n",
       " 8: 0.9030899869919435,\n",
       " 9: 0.9542425094393249,\n",
       " 10: 1.0}"
      ]
     },
     "execution_count": 80,
     "metadata": {},
     "output_type": "execute_result"
    }
   ],
   "source": [
    "import math\n",
    "d19={i : math.log10(i) for i in range(1,11)}\n",
    "d19"
   ]
  },
  {
   "cell_type": "code",
   "execution_count": 81,
   "id": "c587928a-8d9a-49e3-882c-19b4b87c4c6d",
   "metadata": {},
   "outputs": [
    {
     "data": {
      "text/plain": [
       "dict_keys([1, 2, 3, 4, 5, 6, 7, 8, 9, 10])"
      ]
     },
     "execution_count": 81,
     "metadata": {},
     "output_type": "execute_result"
    }
   ],
   "source": [
    "d19.keys()"
   ]
  },
  {
   "cell_type": "code",
   "execution_count": null,
   "id": "a6806c83-74ae-48ff-8df9-f9311a963d78",
   "metadata": {},
   "outputs": [],
   "source": [
    "i for i d19.keys():\n",
    "    if i%2 == 0:\n",
    "        print()"
   ]
  }
 ],
 "metadata": {
  "kernelspec": {
   "display_name": "Python 3 (ipykernel)",
   "language": "python",
   "name": "python3"
  },
  "language_info": {
   "codemirror_mode": {
    "name": "ipython",
    "version": 3
   },
   "file_extension": ".py",
   "mimetype": "text/x-python",
   "name": "python",
   "nbconvert_exporter": "python",
   "pygments_lexer": "ipython3",
   "version": "3.10.8"
  }
 },
 "nbformat": 4,
 "nbformat_minor": 5
}
