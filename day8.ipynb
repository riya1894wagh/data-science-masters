{
 "cells": [
  {
   "cell_type": "markdown",
   "id": "01557b21-3e71-4388-ab10-b44ceaba70b5",
   "metadata": {},
   "source": [
    "# Functions\n"
   ]
  },
  {
   "cell_type": "code",
   "execution_count": 5,
   "id": "80c91566-8902-4d57-b8f2-cd60f35661fb",
   "metadata": {},
   "outputs": [
    {
     "name": "stdout",
     "output_type": "stream",
     "text": [
      "this is my 8th day data science master's program\n"
     ]
    }
   ],
   "source": [
    "print(\"this is my 8th day data science master's program\")"
   ]
  },
  {
   "cell_type": "code",
   "execution_count": 6,
   "id": "ead99983-8cd4-4fd6-b8d7-1cfeaa9d8805",
   "metadata": {},
   "outputs": [],
   "source": [
    "l=[1,2,3,4,5,6,7,8,9]"
   ]
  },
  {
   "cell_type": "code",
   "execution_count": 7,
   "id": "686b1232-1c89-4b45-afa8-7bff47b5baa8",
   "metadata": {},
   "outputs": [
    {
     "data": {
      "text/plain": [
       "9"
      ]
     },
     "execution_count": 7,
     "metadata": {},
     "output_type": "execute_result"
    }
   ],
   "source": [
    "len(l)"
   ]
  },
  {
   "cell_type": "code",
   "execution_count": 8,
   "id": "afd41e10-a3b4-4565-9240-db516a92894b",
   "metadata": {},
   "outputs": [],
   "source": [
    "def test():\n",
    "    pass\n"
   ]
  },
  {
   "cell_type": "code",
   "execution_count": 9,
   "id": "d0004130-ac03-4f8d-9258-7f7db548156d",
   "metadata": {},
   "outputs": [],
   "source": [
    "def test1():\n",
    "    print(\"this is my first function\")"
   ]
  },
  {
   "cell_type": "code",
   "execution_count": 10,
   "id": "e91f5543-ee11-48f4-9088-4e0da04e39ec",
   "metadata": {},
   "outputs": [
    {
     "name": "stdout",
     "output_type": "stream",
     "text": [
      "this is my first function\n"
     ]
    }
   ],
   "source": [
    "test1()"
   ]
  },
  {
   "cell_type": "code",
   "execution_count": 11,
   "id": "b02c152c-be09-4abe-a591-b92fbbe9c8de",
   "metadata": {},
   "outputs": [
    {
     "name": "stdout",
     "output_type": "stream",
     "text": [
      "this is my first function\n"
     ]
    },
    {
     "ename": "TypeError",
     "evalue": "unsupported operand type(s) for +: 'NoneType' and 'str'",
     "output_type": "error",
     "traceback": [
      "\u001b[0;31m---------------------------------------------------------------------------\u001b[0m",
      "\u001b[0;31mTypeError\u001b[0m                                 Traceback (most recent call last)",
      "Cell \u001b[0;32mIn[11], line 1\u001b[0m\n\u001b[0;32m----> 1\u001b[0m \u001b[43mtest1\u001b[49m\u001b[43m(\u001b[49m\u001b[43m)\u001b[49m\u001b[43m \u001b[49m\u001b[38;5;241;43m+\u001b[39;49m\u001b[43m \u001b[49m\u001b[38;5;124;43m\"\u001b[39;49m\u001b[38;5;124;43mRiya\u001b[39;49m\u001b[38;5;124;43m\"\u001b[39;49m\n",
      "\u001b[0;31mTypeError\u001b[0m: unsupported operand type(s) for +: 'NoneType' and 'str'"
     ]
    }
   ],
   "source": [
    "test1() + \"Riya\""
   ]
  },
  {
   "cell_type": "code",
   "execution_count": null,
   "id": "e0262aaa-4b04-4c97-a35a-29b451853b21",
   "metadata": {},
   "outputs": [],
   "source": [
    "def test2():\n",
    "    return \"this is my function with return\""
   ]
  },
  {
   "cell_type": "code",
   "execution_count": null,
   "id": "3526fa75-9a78-4d98-a7ab-8bfbc7781c03",
   "metadata": {},
   "outputs": [],
   "source": [
    "test2()"
   ]
  },
  {
   "cell_type": "code",
   "execution_count": null,
   "id": "2ce2d9cd-bb10-4673-93a6-1454e29e54fc",
   "metadata": {},
   "outputs": [],
   "source": [
    "test2() + \"Riya\""
   ]
  },
  {
   "cell_type": "code",
   "execution_count": null,
   "id": "2c6ecb1f-41dc-4286-a324-0f6d7e3e9758",
   "metadata": {},
   "outputs": [],
   "source": [
    "def test3():\n",
    "    return 1,2,5,\"pwskills\",6.56"
   ]
  },
  {
   "cell_type": "code",
   "execution_count": null,
   "id": "acaa4735-57fc-4418-a7e3-fb410ac49b8f",
   "metadata": {},
   "outputs": [],
   "source": [
    "test3()"
   ]
  },
  {
   "cell_type": "code",
   "execution_count": null,
   "id": "c5f0ae65-d44e-4296-a96d-8bec5bec5e80",
   "metadata": {},
   "outputs": [],
   "source": [
    "type(test3())"
   ]
  },
  {
   "cell_type": "code",
   "execution_count": null,
   "id": "bc4f6813-4c39-41c8-ac22-e013bbb33332",
   "metadata": {},
   "outputs": [],
   "source": [
    "a = 1,2,3,4,5\n",
    "a"
   ]
  },
  {
   "cell_type": "code",
   "execution_count": null,
   "id": "fc4ef86b-7c2b-462c-865e-023319ce9b61",
   "metadata": {},
   "outputs": [],
   "source": [
    "a,b,c,d = 1,2,34.56,True"
   ]
  },
  {
   "cell_type": "code",
   "execution_count": null,
   "id": "fd80b2d7-3db8-4ff0-be9b-ce8cde13e88a",
   "metadata": {},
   "outputs": [],
   "source": [
    "a"
   ]
  },
  {
   "cell_type": "code",
   "execution_count": null,
   "id": "9b88aa81-6f2d-47d9-8ae3-94fc9ce17c9e",
   "metadata": {},
   "outputs": [],
   "source": [
    "b"
   ]
  },
  {
   "cell_type": "code",
   "execution_count": null,
   "id": "aebd4baa-e562-4b89-a917-c95869d2ac55",
   "metadata": {},
   "outputs": [],
   "source": [
    "c"
   ]
  },
  {
   "cell_type": "code",
   "execution_count": null,
   "id": "6ad3c0d9-238e-4d7a-9880-5625835ea133",
   "metadata": {},
   "outputs": [],
   "source": [
    "d"
   ]
  },
  {
   "cell_type": "code",
   "execution_count": null,
   "id": "9a22a174-952d-47da-8747-c201c63ed4cd",
   "metadata": {},
   "outputs": [],
   "source": [
    "test3()"
   ]
  },
  {
   "cell_type": "code",
   "execution_count": null,
   "id": "4e0ee7c0-31af-49ec-9a88-8c09680b8605",
   "metadata": {},
   "outputs": [],
   "source": [
    "test3()[0]"
   ]
  },
  {
   "cell_type": "code",
   "execution_count": null,
   "id": "0accbecb-b563-4abd-a6b4-f831c8e4bccd",
   "metadata": {},
   "outputs": [],
   "source": [
    "test3()[1]"
   ]
  },
  {
   "cell_type": "code",
   "execution_count": null,
   "id": "68b69175-4599-4dd7-9450-b0c72fe9f293",
   "metadata": {},
   "outputs": [],
   "source": [
    "test3()[2]"
   ]
  },
  {
   "cell_type": "code",
   "execution_count": null,
   "id": "fff831f3-455c-4a15-b3c5-3c74cdb4f75d",
   "metadata": {},
   "outputs": [],
   "source": [
    "test3()[3]"
   ]
  },
  {
   "cell_type": "code",
   "execution_count": null,
   "id": "90f551e9-2c7b-438b-be9e-c7f865c6ae35",
   "metadata": {},
   "outputs": [],
   "source": [
    "test3()[4]"
   ]
  },
  {
   "cell_type": "code",
   "execution_count": null,
   "id": "d90298be-d4af-44d8-b86b-98e3438f612e",
   "metadata": {},
   "outputs": [],
   "source": [
    "A,B,C,D,E = test3()"
   ]
  },
  {
   "cell_type": "code",
   "execution_count": null,
   "id": "76d57253-a47c-421f-8fdf-3611a0a680cb",
   "metadata": {},
   "outputs": [],
   "source": [
    "A\n"
   ]
  },
  {
   "cell_type": "code",
   "execution_count": null,
   "id": "3b2e7419-7dfb-49b8-a22f-c14bdb118e90",
   "metadata": {},
   "outputs": [],
   "source": [
    "B"
   ]
  },
  {
   "cell_type": "code",
   "execution_count": null,
   "id": "7e9b1f31-b166-4c3b-9d62-632862bea643",
   "metadata": {},
   "outputs": [],
   "source": [
    "C"
   ]
  },
  {
   "cell_type": "code",
   "execution_count": null,
   "id": "a2b08485-b2f0-427d-adb8-326a860a57d5",
   "metadata": {},
   "outputs": [],
   "source": [
    "D"
   ]
  },
  {
   "cell_type": "code",
   "execution_count": 12,
   "id": "4b32d9d6-12a4-4dfb-9df1-ec1504bbe5ea",
   "metadata": {},
   "outputs": [
    {
     "ename": "NameError",
     "evalue": "name 'E' is not defined",
     "output_type": "error",
     "traceback": [
      "\u001b[0;31m---------------------------------------------------------------------------\u001b[0m",
      "\u001b[0;31mNameError\u001b[0m                                 Traceback (most recent call last)",
      "Cell \u001b[0;32mIn[12], line 1\u001b[0m\n\u001b[0;32m----> 1\u001b[0m \u001b[43mE\u001b[49m\n",
      "\u001b[0;31mNameError\u001b[0m: name 'E' is not defined"
     ]
    }
   ],
   "source": [
    "E"
   ]
  },
  {
   "cell_type": "code",
   "execution_count": null,
   "id": "3d3da6f1-caa9-4587-b3fd-e9db57ab0468",
   "metadata": {},
   "outputs": [],
   "source": [
    "def test4():\n",
    "    a=3*4+5\n",
    "    return a"
   ]
  },
  {
   "cell_type": "code",
   "execution_count": null,
   "id": "16c50e14-49d0-4357-b16e-4ed6c17c22c2",
   "metadata": {},
   "outputs": [],
   "source": [
    "test4()"
   ]
  },
  {
   "cell_type": "code",
   "execution_count": null,
   "id": "142e6c52-b729-4c3e-a73f-495a1fdfb2b5",
   "metadata": {},
   "outputs": [],
   "source": [
    "type(test4())"
   ]
  },
  {
   "cell_type": "code",
   "execution_count": null,
   "id": "5864dc74-de19-4c71-95fb-10d69fb45bca",
   "metadata": {},
   "outputs": [],
   "source": [
    "def test5(a,b):\n",
    "    c=a+b\n",
    "    return c"
   ]
  },
  {
   "cell_type": "code",
   "execution_count": null,
   "id": "b83c4fec-96aa-4d0d-bce2-b6586f53cde4",
   "metadata": {},
   "outputs": [],
   "source": [
    "test5(8,9)"
   ]
  },
  {
   "cell_type": "code",
   "execution_count": null,
   "id": "34695245-e613-4c46-8d0b-1ba11f958a3d",
   "metadata": {},
   "outputs": [],
   "source": [
    "test5(\"Riya \",\"Wagh\")"
   ]
  },
  {
   "cell_type": "code",
   "execution_count": null,
   "id": "e89999c8-27ae-4210-b309-56a29e290d60",
   "metadata": {},
   "outputs": [],
   "source": [
    "test5([1,2,3,4],[5,6,7,8])"
   ]
  },
  {
   "cell_type": "code",
   "execution_count": null,
   "id": "f6bd9840-dbcb-4bb1-9981-d48916153807",
   "metadata": {},
   "outputs": [],
   "source": [
    "test5((1,2,3,4),(5,6,7,8))"
   ]
  },
  {
   "cell_type": "code",
   "execution_count": null,
   "id": "33eab920-b059-48c3-bfa9-ed7b46635cad",
   "metadata": {},
   "outputs": [],
   "source": [
    "test5(b=\"skills \",a=\"pw\")"
   ]
  },
  {
   "cell_type": "code",
   "execution_count": null,
   "id": "5c0a125d-1823-4985-a110-95988a945b65",
   "metadata": {},
   "outputs": [],
   "source": [
    "test5(\"skills \",\"pw\")"
   ]
  },
  {
   "cell_type": "code",
   "execution_count": null,
   "id": "f1421409-cab5-4b0a-8217-934287a23584",
   "metadata": {},
   "outputs": [],
   "source": [
    "l=[1,2,3,4,5,\"Riya\",\"pwskills\",[5,87,65,20,87]]"
   ]
  },
  {
   "cell_type": "markdown",
   "id": "63047fbb-2f1d-4ffc-80c0-031d0e24b9d7",
   "metadata": {},
   "source": [
    "##### create a function which will take list as an input and give me final list with all numaric values\n"
   ]
  },
  {
   "cell_type": "code",
   "execution_count": null,
   "id": "7dacaa75-095e-4815-ba4e-6acb66f01d68",
   "metadata": {},
   "outputs": [],
   "source": [
    "def test6(a):\n",
    "    n=[]\n",
    "    for i in a:\n",
    "        if type(i) == int or type(i) == float:\n",
    "            n.append(i)\n",
    "    return n"
   ]
  },
  {
   "cell_type": "code",
   "execution_count": null,
   "id": "e2c7a66c-472f-4ab3-833f-ff1211c63513",
   "metadata": {},
   "outputs": [],
   "source": [
    "test6(l)"
   ]
  },
  {
   "cell_type": "code",
   "execution_count": null,
   "id": "00960ce7-5a43-4abf-86f2-8a31c1d6aee8",
   "metadata": {},
   "outputs": [],
   "source": [
    "def test7(a):\n",
    "    n=[]\n",
    "    for i in a:\n",
    "        if type(i) == list:\n",
    "            for j in a:\n",
    "                if type(i) == int or type(i) == float:\n",
    "                    n.append(i)\n",
    "        else:\n",
    "            if type(i) == int or type(i) == float:\n",
    "                    n.append(i)\n",
    "    return n"
   ]
  },
  {
   "cell_type": "code",
   "execution_count": 13,
   "id": "ab54268b-cb08-424f-84cb-e4ecaf5b450f",
   "metadata": {},
   "outputs": [
    {
     "data": {
      "text/plain": [
       "[1, 2, 3, 4, 5, 6, 7, 8, 9]"
      ]
     },
     "execution_count": 13,
     "metadata": {},
     "output_type": "execute_result"
    }
   ],
   "source": [
    "test7(l)"
   ]
  },
  {
   "cell_type": "code",
   "execution_count": null,
   "id": "38fb8622-0e73-4871-adbc-8f4e1e2a656a",
   "metadata": {},
   "outputs": [],
   "source": []
  },
  {
   "cell_type": "code",
   "execution_count": null,
   "id": "65311f64-ddd6-4d6e-9d31-fec6ca1ed311",
   "metadata": {},
   "outputs": [],
   "source": []
  }
 ],
 "metadata": {
  "kernelspec": {
   "display_name": "Python 3 (ipykernel)",
   "language": "python",
   "name": "python3"
  },
  "language_info": {
   "codemirror_mode": {
    "name": "ipython",
    "version": 3
   },
   "file_extension": ".py",
   "mimetype": "text/x-python",
   "name": "python",
   "nbconvert_exporter": "python",
   "pygments_lexer": "ipython3",
   "version": "3.10.8"
  }
 },
 "nbformat": 4,
 "nbformat_minor": 5
}
