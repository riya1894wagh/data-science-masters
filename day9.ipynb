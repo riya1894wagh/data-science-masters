{
 "cells": [
  {
   "cell_type": "code",
   "execution_count": 13,
   "id": "3b66caed-b452-44ae-a511-94033af57a2e",
   "metadata": {},
   "outputs": [],
   "source": [
    "def test(a,b,c,d,e):\n",
    "    pass"
   ]
  },
  {
   "cell_type": "code",
   "execution_count": 14,
   "id": "860376c1-eeae-4dbd-b738-748716996b9a",
   "metadata": {},
   "outputs": [],
   "source": [
    "test(1,2,3,4,5)"
   ]
  },
  {
   "cell_type": "code",
   "execution_count": 15,
   "id": "a32bf0a4-d935-4c99-87f3-17cbf05fb23a",
   "metadata": {},
   "outputs": [
    {
     "ename": "TypeError",
     "evalue": "test() takes 5 positional arguments but 10 were given",
     "output_type": "error",
     "traceback": [
      "\u001b[0;31m---------------------------------------------------------------------------\u001b[0m",
      "\u001b[0;31mTypeError\u001b[0m                                 Traceback (most recent call last)",
      "Cell \u001b[0;32mIn[15], line 1\u001b[0m\n\u001b[0;32m----> 1\u001b[0m \u001b[43mtest\u001b[49m\u001b[43m(\u001b[49m\u001b[38;5;241;43m1\u001b[39;49m\u001b[43m,\u001b[49m\u001b[38;5;241;43m2\u001b[39;49m\u001b[43m,\u001b[49m\u001b[38;5;241;43m3\u001b[39;49m\u001b[43m,\u001b[49m\u001b[38;5;241;43m5\u001b[39;49m\u001b[43m,\u001b[49m\u001b[38;5;241;43m5\u001b[39;49m\u001b[43m,\u001b[49m\u001b[38;5;241;43m7\u001b[39;49m\u001b[43m,\u001b[49m\u001b[38;5;241;43m8\u001b[39;49m\u001b[43m,\u001b[49m\u001b[38;5;241;43m9\u001b[39;49m\u001b[43m,\u001b[49m\u001b[38;5;241;43m5\u001b[39;49m\u001b[43m,\u001b[49m\u001b[38;5;241;43m5\u001b[39;49m\u001b[43m)\u001b[49m\n",
      "\u001b[0;31mTypeError\u001b[0m: test() takes 5 positional arguments but 10 were given"
     ]
    }
   ],
   "source": [
    "test(1,2,3,5,5,7,8,9,5,5)"
   ]
  },
  {
   "cell_type": "code",
   "execution_count": 16,
   "id": "c446daf7-102b-4ad9-96f7-0ea21ead1a52",
   "metadata": {},
   "outputs": [],
   "source": [
    "def test1(*args):\n",
    "    return args"
   ]
  },
  {
   "cell_type": "code",
   "execution_count": 17,
   "id": "380d9910-19e0-4ea5-afb4-22fee5c2e4ea",
   "metadata": {},
   "outputs": [
    {
     "data": {
      "text/plain": [
       "(2,)"
      ]
     },
     "execution_count": 17,
     "metadata": {},
     "output_type": "execute_result"
    }
   ],
   "source": [
    "test1(2)"
   ]
  },
  {
   "cell_type": "code",
   "execution_count": 18,
   "id": "cf1af048-47ea-4517-9630-52fbfad7d561",
   "metadata": {},
   "outputs": [
    {
     "data": {
      "text/plain": [
       "(1, 2, 3, 4, 5, 6)"
      ]
     },
     "execution_count": 18,
     "metadata": {},
     "output_type": "execute_result"
    }
   ],
   "source": [
    "test1(1,2,3,4,5,6)"
   ]
  },
  {
   "cell_type": "code",
   "execution_count": 19,
   "id": "e3393ed9-1526-4dc9-98c0-477dabdef395",
   "metadata": {},
   "outputs": [
    {
     "data": {
      "text/plain": [
       "(2, 'Riya', 'pwskills', [1, 8, 5, 7], {2, 4, 7, 8}, (5, 8, 6, 6))"
      ]
     },
     "execution_count": 19,
     "metadata": {},
     "output_type": "execute_result"
    }
   ],
   "source": [
    "test1(2,\"Riya\",\"pwskills\",[1,8,5,7],{4,8,2,7},(5,8,6,6))"
   ]
  },
  {
   "cell_type": "code",
   "execution_count": 20,
   "id": "9137487c-5610-46e7-8e10-8babbb9bbf21",
   "metadata": {},
   "outputs": [
    {
     "data": {
      "text/plain": [
       "(2, 'Riya', 'pwskills', [1, 8, 5, 7], {1, 2, 4, 7, 8}, (5, 8, 6, 6))"
      ]
     },
     "execution_count": 20,
     "metadata": {},
     "output_type": "execute_result"
    }
   ],
   "source": [
    "test1(2,\"Riya\",\"pwskills\",[1,8,5,7],{4,7,1,4,8,8,2,7},(5,8,6,6))"
   ]
  },
  {
   "cell_type": "code",
   "execution_count": 24,
   "id": "dfe78c52-21c0-495c-8081-24b260267d3e",
   "metadata": {},
   "outputs": [],
   "source": [
    "def test(*arg,a):\n",
    "    return arg,a"
   ]
  },
  {
   "cell_type": "code",
   "execution_count": 25,
   "id": "02c4b856-2f68-4fc1-996b-edd41841f8b3",
   "metadata": {},
   "outputs": [
    {
     "ename": "NameError",
     "evalue": "name 'test3' is not defined",
     "output_type": "error",
     "traceback": [
      "\u001b[0;31m---------------------------------------------------------------------------\u001b[0m",
      "\u001b[0;31mNameError\u001b[0m                                 Traceback (most recent call last)",
      "Cell \u001b[0;32mIn[25], line 1\u001b[0m\n\u001b[0;32m----> 1\u001b[0m \u001b[43mtest3\u001b[49m(\u001b[38;5;241m3\u001b[39m)\n",
      "\u001b[0;31mNameError\u001b[0m: name 'test3' is not defined"
     ]
    }
   ],
   "source": [
    "test3(3)"
   ]
  },
  {
   "cell_type": "code",
   "execution_count": 26,
   "id": "ca82ce18-b43d-4a3c-bf47-9c60616e9ef6",
   "metadata": {},
   "outputs": [
    {
     "data": {
      "text/plain": [
       "((1, 2, 8, 9, 'riya', 'wagh', 'pwskills', [8, 6, 8]), 5)"
      ]
     },
     "execution_count": 26,
     "metadata": {},
     "output_type": "execute_result"
    }
   ],
   "source": [
    "test(1,2,8,9,\"riya\",\"wagh\",\"pwskills\",[8,6,8], a=5)"
   ]
  },
  {
   "cell_type": "code",
   "execution_count": 28,
   "id": "746fd033-0d2b-4717-ad35-eadb736ffbe6",
   "metadata": {},
   "outputs": [],
   "source": [
    "def test4(*arg):\n",
    "    l=[]\n",
    "    for i in arg:\n",
    "        if type(i)==list:\n",
    "            l.append(i)\n",
    "    return l"
   ]
  },
  {
   "cell_type": "code",
   "execution_count": 30,
   "id": "91f8dbe2-4a93-4088-ac6a-930e54e92b9f",
   "metadata": {},
   "outputs": [
    {
     "data": {
      "text/plain": [
       "[[8, 6, 4, 2, 1, 7, 'list_data']]"
      ]
     },
     "execution_count": 30,
     "metadata": {},
     "output_type": "execute_result"
    }
   ],
   "source": [
    "test4(1,2,3,4,\"riya\",\"pwskills\",[8,6,4,2,1,7,\"list_data\"],(1,5,7,8,\"Tuple_data\"),{1,5,8,6,\"set_data\"})"
   ]
  },
  {
   "cell_type": "code",
   "execution_count": 31,
   "id": "9da4a72f-c6d0-4535-af3f-57378b9ad1cd",
   "metadata": {},
   "outputs": [],
   "source": [
    "def test5(**kwargs):\n",
    "    return kwargs"
   ]
  },
  {
   "cell_type": "code",
   "execution_count": 32,
   "id": "b0c84c7f-8964-4b5e-9055-3b76b9e3fc90",
   "metadata": {},
   "outputs": [
    {
     "data": {
      "text/plain": [
       "{}"
      ]
     },
     "execution_count": 32,
     "metadata": {},
     "output_type": "execute_result"
    }
   ],
   "source": [
    "test5()"
   ]
  },
  {
   "cell_type": "code",
   "execution_count": 33,
   "id": "fbf1b5cc-cc53-42a6-93ec-43ee8eef3712",
   "metadata": {},
   "outputs": [
    {
     "data": {
      "text/plain": [
       "{'a': 34, 'b': 23, 'c': [1, 2, 3, 4], 'd': ('riya', 'aadhya')}"
      ]
     },
     "execution_count": 33,
     "metadata": {},
     "output_type": "execute_result"
    }
   ],
   "source": [
    "test5(a=34,b=23,c=[1,2,3,4,],d=(\"riya\",\"aadhya\"))"
   ]
  },
  {
   "cell_type": "code",
   "execution_count": 39,
   "id": "9d7481b9-dd97-47fd-9c3c-808c23867cf4",
   "metadata": {},
   "outputs": [],
   "source": [
    "def test6(**kwargs):\n",
    "    for i in kwargs.keys():\n",
    "        if type( kwargs[i] ) == list:\n",
    "            return i , kwargs[i]"
   ]
  },
  {
   "cell_type": "code",
   "execution_count": 40,
   "id": "33ae6697-7c61-40c2-9abe-89412d7b3712",
   "metadata": {},
   "outputs": [
    {
     "data": {
      "text/plain": [
       "('c', [5, 8, 56, 5])"
      ]
     },
     "execution_count": 40,
     "metadata": {},
     "output_type": "execute_result"
    }
   ],
   "source": [
    "test6(a=34,b=23,c=[5,8,56,5],d=(\"riya\",\"aadhya\",\"yash\",\"piyush\"))"
   ]
  },
  {
   "cell_type": "code",
   "execution_count": null,
   "id": "4ce20787-f307-4bd4-95cf-b3a66deef302",
   "metadata": {},
   "outputs": [],
   "source": []
  }
 ],
 "metadata": {
  "kernelspec": {
   "display_name": "Python 3 (ipykernel)",
   "language": "python",
   "name": "python3"
  },
  "language_info": {
   "codemirror_mode": {
    "name": "ipython",
    "version": 3
   },
   "file_extension": ".py",
   "mimetype": "text/x-python",
   "name": "python",
   "nbconvert_exporter": "python",
   "pygments_lexer": "ipython3",
   "version": "3.10.8"
  }
 },
 "nbformat": 4,
 "nbformat_minor": 5
}
