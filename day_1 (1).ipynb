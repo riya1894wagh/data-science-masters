{
 "cells": [
  {
   "cell_type": "markdown",
   "id": "38ddf1a7-3c71-433c-9a71-3b9522bba5ee",
   "metadata": {},
   "source": [
    "\\# A Recent Study About Programming\n",
    "\n",
    "### Programming 'language': Brain scans reveal coding uses same regions as speech - [Article Link](https://medicalxpress.com/news/2020-06-language-brain-scans-reveal-coding.html)\n",
    "\n",
    "This proves that Programming is nothing but a language that you learn to speak to communicate with the computer. And Python serves best here because of its easy to learn and read syntax. "
   ]
  },
  {
   "cell_type": "markdown",
   "id": "0607e39b-ceb1-4ab1-a6a4-beb0bb8f288a",
   "metadata": {},
   "source": [
    "## 1.1 Introduction\n",
    "\n"
   ]
  },
  {
   "cell_type": "markdown",
   "id": "6c436e67-f6db-4ffa-9fc2-749c92e2bbd2",
   "metadata": {},
   "source": [
    "* Python is an-  \n",
    "> * interpreted, \n",
    "> * object-oriented, \n",
    "> * high-level programming language with dynamic semantics. \n",
    "\n",
    "* It was created by **[Guido van Rossum](https://en.wikipedia.org/wiki/Guido_van_Rossum)** and first released in the year **1991**.\n",
    "\n",
    "* It has the following features that makes it very attractive for Rapid Application Development, as well as for use as a scripting or glue language to connect existing components together - \n",
    "> * high-level built in data structures, \n",
    "> * dynamic typing\n",
    "> * dynamic binding\n",
    "\n",
    "* Python's simple, easy to learn syntax emphasizes on code readability with the use of whitespaces and therefore reduces the cost of program maintenance.\n",
    "\n",
    "* Python supports modules and packages, which encourages program modularity and code reuse. \n",
    "\n",
    "* The Python interpreter and the extensive standard library are available in source or binary form without charge for all major platforms, and can be freely distributed.\n",
    "\n",
    "* Python is a great general-purpose programming language on its own, but with the help of a few popular libraries (numpy, scipy, matplotlib) it becomes a powerful environment for scientific computing.\n",
    "\n",
    "---"
   ]
  },
  {
   "cell_type": "markdown",
   "id": "34807b03-06a3-44a9-acf3-baf506c45caf",
   "metadata": {},
   "source": [
    "## 1.2 Python Version\n",
    "\n"
   ]
  },
  {
   "cell_type": "markdown",
   "id": "81468b94-c5ab-4771-96cd-2a443c83f11f",
   "metadata": {},
   "source": [
    "### 1.2.1 Python 2\n",
    "* Published in late 2000, Python 2 signalled a more transparent and inclusive language development process than earlier versions of Python with the implementation of PEP (Python Enhancement Proposal), a technical specification that either provides information to Python community members or describes a new feature of the language.\n",
    "* Additionally, Python 2 included many more programmatic features including a cycle-detecting garbage collector to automate memory management, increased Unicode support to standardize characters, and list comprehensions to create a list based on existing lists. As Python 2 continued to develop, more features were added, including unifying Python’s types and classes into one hierarchy in Python version 2.2.\n",
    "\n"
   ]
  },
  {
   "cell_type": "markdown",
   "id": "02b2b4be-e09f-4193-8a0a-89577c38b8af",
   "metadata": {},
   "source": [
    "\n",
    "### 1.2.2 Python 3\n",
    "* Python 3 is regarded as the future of Python and is the version of the language that is currently in development. A major overhaul, Python 3 was released in late 2008 to address and amend intrinsic design flaws of previous versions of the language. The focus of Python 3 development was to clean up the codebase and remove redundancy, making it clear that there was only one way to perform a given task.\n",
    "* Major modifications to Python 3.0 included changing the print statement into a built-in function, improve the way integers are divided, and providing more Unicode support.\n",
    "* At first, Python 3 was slowly adopted due to the language not being backwards compatible with Python 2, requiring people to make a decision as to which version of the language to use. Additionally, many package libraries were only available for Python 2, but as the development team behind Python 3 has reiterated that there is an end of life for Python 2 support, more libraries have been ported to Python 3. The increased adoption of Python 3 can be shown by the number of Python packages that now provide Python 3 support, which at the time of writing includes 339 of the 360 most popular Python packages.\n",
    "\n"
   ]
  },
  {
   "cell_type": "markdown",
   "id": "02a1cc70-f82c-4373-b185-7c36d18ba30b",
   "metadata": {},
   "source": [
    "### 1.2.3 Python 2.7\n",
    "* Following the 2008 release of Python 3.0, Python 2.7 was published on July 3, 2010 and planned as the last of the 2.x releases. The intention behind Python 2.7 was to make it easier for Python 2.x users to port features over to Python 3 by providing some measure of compatibility between the two. This compatibility support included enhanced modules for version 2.7 like unittest to support test automation, argparse for parsing command-line options, and more convenient classes in collections.\n",
    "* Because of Python 2.7’s unique position as a version in between the earlier iterations of Python 2 and Python 3.0, it has persisted as a very popular choice for programmers due to its compatibility with many robust libraries. When we talk about Python 2 today, we are typically referring to the Python 2.7 release as that is the most frequently used version.\n",
    "* Python 2.7, however, is considered to be a legacy language and its continued development, which today mostly consists of bug fixes, will cease completely in 2020.\n",
    "\n"
   ]
  },
  {
   "cell_type": "markdown",
   "id": "614279fa-448e-42b1-9d37-31633b10f587",
   "metadata": {},
   "source": [
    "### 1.2.4 Key Differences\n",
    "* While Python 2.7 and Python 3 share many similar capabilities, they should not be thought of as entirely interchangeable. Though you can write good code and useful programs in either version, it is worth understanding that there will be some considerable differences in code syntax and handling.\n",
    "\n"
   ]
  },
  {
   "cell_type": "markdown",
   "id": "37e4184a-bced-4fd2-96b2-5cf63fe8e7b2",
   "metadata": {},
   "source": [
    "## 1.3 Why to use Python? \n",
    "\n",
    "Among numerous languages available in the market why should you choose python? This is the first question that arises in the mind of new users. \n",
    "\n",
    "Following are the som of the reasons why people select python-\n",
    "\n",
    "\n",
    "* **Quality of software**:\n",
    "Python was meant for readability. Its reusable and maintainable as compared to other languages. Its easier to understand. It supports all the modern features like OOPs and functional programming. \n",
    "\n",
    "* **Productivity of Developers**:\n",
    "The same program which is written in other high-level languages like c++ or java can be written in one-third or one-fifth line of codes. That means debugging can be easy and it will be less prone to error which in turn increases the productivity of the developers.\n",
    "\n",
    "* **Portability**:\n",
    "Mostly it’s platform-independent. It can run on any platform or OS with minor or no change at all which makes it a highly portable language. Now you can use MircoPython to interact with hardware as well. It can be used on most of the edge devices.\n",
    "\n",
    "* **Supporting Libraries**:\n",
    "Python already has a lot of inbuilt libraries that come with the standard python package which you download from its <a href=\"https://www.python.org/\"  target=\"_blank\">official site</a>. With these libraries, you can build lots of basic applications or day to day automation tasks like copying data in bulk from one place to another. Apart from this, there’s a huge list of third-party libraries like Numpy, Matplotlib, Scikit Learn, etc. \n",
    "\n",
    "* **Fun to use**:\n",
    "Its simplicity and availability of lots of supporting libraries plus huge open source community support make development in python a breeze. That’s why its widely preferred by hobbyists as well.\n",
    "\n",
    "\n",
    "\n",
    "\n"
   ]
  },
  {
   "cell_type": "markdown",
   "id": "aa8c9692-e997-46c5-b6e0-f9a05f544f7f",
   "metadata": {},
   "source": [
    "## 1.4 What can be done with Python?\n",
    "* **System Programming**\n",
    "* **Graphical User Interface**\n",
    "* **Web Scrapping**\n",
    "* **Managing Database**\n",
    "* **Fast Prototyping**\n",
    "* **Numeric / Scientific Programming**\n",
    "* **Game development**\n",
    "* **Image Processing**\n",
    "* **Robotics**\n",
    "* **Automation**\n",
    "* **Data science**\n",
    "* **Data Mining**\n"
   ]
  },
  {
   "cell_type": "markdown",
   "id": "ca78004b-454f-4316-94c8-6e65d04e7565",
   "metadata": {},
   "source": [
    "## 1.5 Zen of Python -\n",
    "By importing this it displays the basic design philosophies of python"
   ]
  },
  {
   "cell_type": "code",
   "execution_count": 3,
   "id": "ddb8eb1b-5c2a-4c52-840e-3cdc3ceef17e",
   "metadata": {},
   "outputs": [
    {
     "name": "stdout",
     "output_type": "stream",
     "text": [
      "The Zen of Python, by Tim Peters\n",
      "\n",
      "Beautiful is better than ugly.\n",
      "Explicit is better than implicit.\n",
      "Simple is better than complex.\n",
      "Complex is better than complicated.\n",
      "Flat is better than nested.\n",
      "Sparse is better than dense.\n",
      "Readability counts.\n",
      "Special cases aren't special enough to break the rules.\n",
      "Although practicality beats purity.\n",
      "Errors should never pass silently.\n",
      "Unless explicitly silenced.\n",
      "In the face of ambiguity, refuse the temptation to guess.\n",
      "There should be one-- and preferably only one --obvious way to do it.\n",
      "Although that way may not be obvious at first unless you're Dutch.\n",
      "Now is better than never.\n",
      "Although never is often better than *right* now.\n",
      "If the implementation is hard to explain, it's a bad idea.\n",
      "If the implementation is easy to explain, it may be a good idea.\n",
      "Namespaces are one honking great idea -- let's do more of those!\n"
     ]
    }
   ],
   "source": [
    "import this"
   ]
  },
  {
   "cell_type": "code",
   "execution_count": 4,
   "id": "e4e29ce0-b3d4-457c-8898-a8cf7f0562ef",
   "metadata": {},
   "outputs": [],
   "source": [
    "a = 10"
   ]
  },
  {
   "cell_type": "code",
   "execution_count": 5,
   "id": "823a5d3b-7903-4b43-8d7b-44beacfd0aba",
   "metadata": {},
   "outputs": [
    {
     "data": {
      "text/plain": [
       "10"
      ]
     },
     "execution_count": 5,
     "metadata": {},
     "output_type": "execute_result"
    }
   ],
   "source": [
    "a"
   ]
  },
  {
   "cell_type": "code",
   "execution_count": 6,
   "id": "3a5fdc95-2288-4a22-9dff-5f1f63b55e8b",
   "metadata": {},
   "outputs": [
    {
     "data": {
      "text/plain": [
       "20"
      ]
     },
     "execution_count": 6,
     "metadata": {},
     "output_type": "execute_result"
    }
   ],
   "source": [
    "## compents\n",
    "## comments ##\n",
    "# comment\n",
    "a=20\n",
    "a"
   ]
  },
  {
   "cell_type": "code",
   "execution_count": 11,
   "id": "ba91f990-161d-4ec6-a1e9-9147c7610a55",
   "metadata": {},
   "outputs": [
    {
     "data": {
      "text/plain": [
       "20"
      ]
     },
     "execution_count": 11,
     "metadata": {},
     "output_type": "execute_result"
    }
   ],
   "source": [
    "\"\"\"\n",
    "Example of multiline comments\n",
    "hello this is a example of python\n",
    "dsfsdfdfdsf\n",
    "dfsdfsdfsdfdsf\n",
    "dfdsfdsfsdf\n",
    "\"\"\"\n",
    "a=20\n",
    "a"
   ]
  },
  {
   "cell_type": "markdown",
   "id": "9344aded-db29-4490-9adb-4573998bceaf",
   "metadata": {},
   "source": [
    "# HELLO\n",
    "## HELLO\n",
    "### HELLO\n",
    "#### HELLO\n",
    "##### HELLO\n",
    "\n",
    "1. hello guys how are u?\n",
    "\n",
    "* hello guya how are u?"
   ]
  },
  {
   "cell_type": "markdown",
   "id": "a2623067-9568-4c06-9866-4c2fabce5477",
   "metadata": {},
   "source": [
    "### Numbers"
   ]
  },
  {
   "cell_type": "code",
   "execution_count": 13,
   "id": "72df3867-c4ae-4f67-91af-251ee2038985",
   "metadata": {},
   "outputs": [
    {
     "data": {
      "text/plain": [
       "7"
      ]
     },
     "execution_count": 13,
     "metadata": {},
     "output_type": "execute_result"
    }
   ],
   "source": [
    "1+6\n"
   ]
  },
  {
   "cell_type": "code",
   "execution_count": 14,
   "id": "fe744a06-6667-4bf3-aa46-e9ed0f5abf78",
   "metadata": {},
   "outputs": [
    {
     "name": "stdout",
     "output_type": "stream",
     "text": [
      "137\n"
     ]
    }
   ],
   "source": [
    "print(50+87)"
   ]
  },
  {
   "cell_type": "code",
   "execution_count": 15,
   "id": "8b35e189-82b1-4934-bdec-b45e82379c57",
   "metadata": {},
   "outputs": [
    {
     "name": "stdout",
     "output_type": "stream",
     "text": [
      "Hello friends, My name is Riya Wagh. \n",
      " This is my first python program\n"
     ]
    }
   ],
   "source": [
    "print(\"Hello friends, My name is Riya Wagh. \\n This is my first python program\")"
   ]
  },
  {
   "cell_type": "markdown",
   "id": "8c9a8e4b-01c4-4c59-b548-97bd57126219",
   "metadata": {},
   "source": [
    "### Variables Assignment"
   ]
  },
  {
   "cell_type": "code",
   "execution_count": 17,
   "id": "7e7e206a-8d0a-45e7-b336-fcfbbdfde901",
   "metadata": {},
   "outputs": [],
   "source": [
    "name = \"Riya Wagh\"\n",
    "collage = \"SGSITS\"\n"
   ]
  },
  {
   "cell_type": "code",
   "execution_count": 18,
   "id": "1349aa73-e8cb-4e40-9f54-b47f6c10e3da",
   "metadata": {},
   "outputs": [
    {
     "data": {
      "text/plain": [
       "str"
      ]
     },
     "execution_count": 18,
     "metadata": {},
     "output_type": "execute_result"
    }
   ],
   "source": [
    "type(\",jbiudjkb ljmnkn\")"
   ]
  },
  {
   "cell_type": "code",
   "execution_count": 20,
   "id": "feb942b1-38d7-4fe8-aa74-0c5107744efb",
   "metadata": {},
   "outputs": [
    {
     "data": {
      "text/plain": [
       "str"
      ]
     },
     "execution_count": 20,
     "metadata": {},
     "output_type": "execute_result"
    }
   ],
   "source": [
    "type(name)"
   ]
  },
  {
   "cell_type": "code",
   "execution_count": 21,
   "id": "881c1522-0c8c-441a-99f8-c2ebe83cefb0",
   "metadata": {},
   "outputs": [
    {
     "data": {
      "text/plain": [
       "'Riya Wagh'"
      ]
     },
     "execution_count": 21,
     "metadata": {},
     "output_type": "execute_result"
    }
   ],
   "source": [
    "name"
   ]
  },
  {
   "cell_type": "code",
   "execution_count": 22,
   "id": "e8233cc0-97fb-47a5-a1f4-5bcbaa86c679",
   "metadata": {},
   "outputs": [
    {
     "name": "stdout",
     "output_type": "stream",
     "text": [
      "Riya Wagh SGSITS\n"
     ]
    }
   ],
   "source": [
    "print(name,collage)"
   ]
  },
  {
   "cell_type": "code",
   "execution_count": 24,
   "id": "9b84f054-d62d-4c79-a3f0-6f16ae1d9b0f",
   "metadata": {},
   "outputs": [],
   "source": [
    "number = 100"
   ]
  },
  {
   "cell_type": "code",
   "execution_count": 25,
   "id": "87a8b24f-ebcc-4583-9a52-75f2f0279a74",
   "metadata": {},
   "outputs": [
    {
     "data": {
      "text/plain": [
       "int"
      ]
     },
     "execution_count": 25,
     "metadata": {},
     "output_type": "execute_result"
    }
   ],
   "source": [
    "type(number)"
   ]
  },
  {
   "cell_type": "code",
   "execution_count": 26,
   "id": "cb431410-a7ba-4746-99ad-92767b1dc250",
   "metadata": {},
   "outputs": [],
   "source": [
    "dec_number = 655.1521"
   ]
  },
  {
   "cell_type": "code",
   "execution_count": 27,
   "id": "3b620eab-4361-4f23-92f5-cb4ce5802dad",
   "metadata": {},
   "outputs": [
    {
     "data": {
      "text/plain": [
       "float"
      ]
     },
     "execution_count": 27,
     "metadata": {},
     "output_type": "execute_result"
    }
   ],
   "source": [
    "type(dec_number)"
   ]
  },
  {
   "cell_type": "code",
   "execution_count": 30,
   "id": "117ebc19-8b10-45b9-8be0-b6b5e87b215b",
   "metadata": {},
   "outputs": [
    {
     "data": {
      "text/plain": [
       "complex"
      ]
     },
     "execution_count": 30,
     "metadata": {},
     "output_type": "execute_result"
    }
   ],
   "source": [
    "type(4+5j)"
   ]
  },
  {
   "cell_type": "markdown",
   "id": "fc44174c-3302-4cd1-b48a-b1c91034b61d",
   "metadata": {},
   "source": [
    "#### Dont start variable name with number\n",
    "\n",
    "* 5a\n",
    "* 5and"
   ]
  },
  {
   "cell_type": "markdown",
   "id": "2cf468f4-acbf-433f-8bec-17eca5e263f4",
   "metadata": {},
   "source": [
    "#### Variable are case senssitive."
   ]
  },
  {
   "cell_type": "code",
   "execution_count": 32,
   "id": "25380cc5-e8fc-4ad5-8f4e-7fc35c1806ab",
   "metadata": {},
   "outputs": [],
   "source": [
    "Company = \"Google\"\n",
    "company = \"Microsoft\""
   ]
  },
  {
   "cell_type": "code",
   "execution_count": 33,
   "id": "26be6c3f-d954-46f8-9b39-ab4f1981b429",
   "metadata": {},
   "outputs": [
    {
     "name": "stdout",
     "output_type": "stream",
     "text": [
      "Microsoft Google\n"
     ]
    }
   ],
   "source": [
    "print(company,Company)"
   ]
  },
  {
   "cell_type": "markdown",
   "id": "23fb0cef-11d8-4083-a49c-8875b1ea563a",
   "metadata": {},
   "source": [
    "#### Reserved keyword\n",
    "* int\n",
    "* float\n",
    "* len\n",
    "* complex\n",
    "* bool\n",
    "* str\n",
    "* return \n",
    "* yield"
   ]
  },
  {
   "cell_type": "code",
   "execution_count": 37,
   "id": "5d50aa75-89bd-480f-9cf3-f32c4828b608",
   "metadata": {},
   "outputs": [
    {
     "name": "stdout",
     "output_type": "stream",
     "text": [
      "True\n",
      "False\n",
      "False\n",
      "False\n"
     ]
    }
   ],
   "source": [
    "print(True and True)\n",
    "print(True and False)\n",
    "print(False and True)\n",
    "print(False and False)"
   ]
  },
  {
   "cell_type": "code",
   "execution_count": 38,
   "id": "75bb423f-efd2-4bcb-aa56-4abe6be98e42",
   "metadata": {},
   "outputs": [
    {
     "name": "stdout",
     "output_type": "stream",
     "text": [
      "True\n",
      "True\n",
      "True\n",
      "False\n"
     ]
    }
   ],
   "source": [
    "print(True or True)\n",
    "print(True or False)\n",
    "print(False or True)\n",
    "print(False or False)"
   ]
  },
  {
   "cell_type": "code",
   "execution_count": 39,
   "id": "1844c47c-9612-4c61-8793-1d7857ba2549",
   "metadata": {},
   "outputs": [
    {
     "name": "stdout",
     "output_type": "stream",
     "text": [
      "False\n",
      "True\n"
     ]
    }
   ],
   "source": [
    "print(not True)\n",
    "print(not False)"
   ]
  },
  {
   "cell_type": "code",
   "execution_count": 40,
   "id": "f095d971-16db-40a5-bf44-35f291f4a4fa",
   "metadata": {},
   "outputs": [
    {
     "data": {
      "text/plain": [
       "'25'"
      ]
     },
     "execution_count": 40,
     "metadata": {},
     "output_type": "execute_result"
    }
   ],
   "source": [
    "str(25)"
   ]
  },
  {
   "cell_type": "code",
   "execution_count": 41,
   "id": "ce8fd4a1-09ed-48fb-a549-5891b9e375cd",
   "metadata": {},
   "outputs": [
    {
     "data": {
      "text/plain": [
       "54"
      ]
     },
     "execution_count": 41,
     "metadata": {},
     "output_type": "execute_result"
    }
   ],
   "source": [
    "int(\"54\")"
   ]
  },
  {
   "cell_type": "code",
   "execution_count": 42,
   "id": "1d9cfbb1-cd8a-47f2-a019-1fd802e95b85",
   "metadata": {},
   "outputs": [
    {
     "data": {
      "text/plain": [
       "True"
      ]
     },
     "execution_count": 42,
     "metadata": {},
     "output_type": "execute_result"
    }
   ],
   "source": [
    "bool(1)"
   ]
  },
  {
   "cell_type": "code",
   "execution_count": 43,
   "id": "a6440395-0871-4474-b76a-a825f0340fc9",
   "metadata": {},
   "outputs": [
    {
     "data": {
      "text/plain": [
       "False"
      ]
     },
     "execution_count": 43,
     "metadata": {},
     "output_type": "execute_result"
    }
   ],
   "source": [
    "bool(0)"
   ]
  },
  {
   "cell_type": "markdown",
   "id": "20fb2a07-2a37-400f-84b1-b2f1dc01d3d5",
   "metadata": {},
   "source": [
    "#### Dynamic Typing"
   ]
  },
  {
   "cell_type": "code",
   "execution_count": 48,
   "id": "f32a62d7-a98e-41e6-af60-0bfef9edfe8a",
   "metadata": {},
   "outputs": [
    {
     "name": "stdout",
     "output_type": "stream",
     "text": [
      "12\n"
     ]
    },
    {
     "data": {
      "text/plain": [
       "int"
      ]
     },
     "execution_count": 48,
     "metadata": {},
     "output_type": "execute_result"
    }
   ],
   "source": [
    "a=12\n",
    "print(a)\n",
    "type(a)"
   ]
  },
  {
   "cell_type": "markdown",
   "id": "af5fd365-ef82-4294-bade-08476b9f5d31",
   "metadata": {},
   "source": [
    "a=\"Riya Wagh\"\n",
    "print(a)\n",
    "type(a)"
   ]
  },
  {
   "cell_type": "code",
   "execution_count": 50,
   "id": "7b7b775f-184d-47fa-b07f-16c9e5384944",
   "metadata": {},
   "outputs": [
    {
     "name": "stdout",
     "output_type": "stream",
     "text": [
      "True\n"
     ]
    },
    {
     "data": {
      "text/plain": [
       "bool"
      ]
     },
     "execution_count": 50,
     "metadata": {},
     "output_type": "execute_result"
    }
   ],
   "source": [
    "a= True\n",
    "print(a)\n",
    "type(a)"
   ]
  },
  {
   "cell_type": "code",
   "execution_count": 51,
   "id": "c1888674-94ec-40e0-a97d-0b53daf4612b",
   "metadata": {},
   "outputs": [
    {
     "name": "stdout",
     "output_type": "stream",
     "text": [
      "568.15\n"
     ]
    },
    {
     "data": {
      "text/plain": [
       "float"
      ]
     },
     "execution_count": 51,
     "metadata": {},
     "output_type": "execute_result"
    }
   ],
   "source": [
    "a = 568.15\n",
    "print(a)\n",
    "type(a)"
   ]
  },
  {
   "cell_type": "code",
   "execution_count": 52,
   "id": "9b7574bd-a621-4ea4-bec3-7eb89fc4a665",
   "metadata": {},
   "outputs": [
    {
     "data": {
      "text/plain": [
       "5248"
      ]
     },
     "execution_count": 52,
     "metadata": {},
     "output_type": "execute_result"
    }
   ],
   "source": [
    "int(5248.548)"
   ]
  },
  {
   "cell_type": "markdown",
   "id": "a8f3374b-b46e-42c3-be24-0c59ba9276ec",
   "metadata": {},
   "source": [
    "##### Concatination of two strings"
   ]
  },
  {
   "cell_type": "code",
   "execution_count": 54,
   "id": "f1777aa1-919f-4a5a-a54e-9b760c2c5c83",
   "metadata": {},
   "outputs": [
    {
     "data": {
      "text/plain": [
       "'11'"
      ]
     },
     "execution_count": 54,
     "metadata": {},
     "output_type": "execute_result"
    }
   ],
   "source": [
    "\"1\" + \"1\""
   ]
  },
  {
   "cell_type": "code",
   "execution_count": 55,
   "id": "47dcea29-b870-4151-86ee-69bb279a26b5",
   "metadata": {},
   "outputs": [
    {
     "data": {
      "text/plain": [
       "2"
      ]
     },
     "execution_count": 55,
     "metadata": {},
     "output_type": "execute_result"
    }
   ],
   "source": [
    "1+1"
   ]
  },
  {
   "cell_type": "code",
   "execution_count": 56,
   "id": "380b463a-c600-49bf-bce2-fd59ae735a52",
   "metadata": {},
   "outputs": [
    {
     "data": {
      "text/plain": [
       "2"
      ]
     },
     "execution_count": 56,
     "metadata": {},
     "output_type": "execute_result"
    }
   ],
   "source": [
    "int(1) + 1"
   ]
  },
  {
   "cell_type": "code",
   "execution_count": 57,
   "id": "840d8f8a-3f17-4e29-a2db-7baaa3bc1f5e",
   "metadata": {},
   "outputs": [
    {
     "data": {
      "text/plain": [
       "2"
      ]
     },
     "execution_count": 57,
     "metadata": {},
     "output_type": "execute_result"
    }
   ],
   "source": [
    "int(\"1\") + 1"
   ]
  },
  {
   "cell_type": "code",
   "execution_count": 58,
   "id": "7b7703d1-bc31-4026-bd4f-34cec0aa1892",
   "metadata": {},
   "outputs": [
    {
     "ename": "TypeError",
     "evalue": "unsupported operand type(s) for +: 'int' and 'str'",
     "output_type": "error",
     "traceback": [
      "\u001b[0;31m---------------------------------------------------------------------------\u001b[0m",
      "\u001b[0;31mTypeError\u001b[0m                                 Traceback (most recent call last)",
      "Cell \u001b[0;32mIn[58], line 1\u001b[0m\n\u001b[0;32m----> 1\u001b[0m \u001b[38;5;28;43mint\u001b[39;49m\u001b[43m(\u001b[49m\u001b[38;5;124;43m\"\u001b[39;49m\u001b[38;5;124;43m1\u001b[39;49m\u001b[38;5;124;43m\"\u001b[39;49m\u001b[43m)\u001b[49m\u001b[43m \u001b[49m\u001b[38;5;241;43m+\u001b[39;49m\u001b[43m \u001b[49m\u001b[38;5;124;43m\"\u001b[39;49m\u001b[38;5;124;43m 1\u001b[39;49m\u001b[38;5;124;43m\"\u001b[39;49m\n",
      "\u001b[0;31mTypeError\u001b[0m: unsupported operand type(s) for +: 'int' and 'str'"
     ]
    }
   ],
   "source": [
    "int(\"1\") + \" 1\""
   ]
  },
  {
   "cell_type": "code",
   "execution_count": 59,
   "id": "cde90c78-8369-4ab0-ae36-2cbbefc642a6",
   "metadata": {},
   "outputs": [
    {
     "data": {
      "text/plain": [
       "'11'"
      ]
     },
     "execution_count": 59,
     "metadata": {},
     "output_type": "execute_result"
    }
   ],
   "source": [
    "str(1) + \"1\""
   ]
  },
  {
   "cell_type": "code",
   "execution_count": 61,
   "id": "4cb6aec1-e695-428d-8a92-6e9cbe5b1ecd",
   "metadata": {},
   "outputs": [
    {
     "data": {
      "text/plain": [
       "'101010101010'"
      ]
     },
     "execution_count": 61,
     "metadata": {},
     "output_type": "execute_result"
    }
   ],
   "source": [
    "\"10\"*6"
   ]
  },
  {
   "cell_type": "markdown",
   "id": "93bc7d38-9d32-44eb-a915-b7ffbe56abd8",
   "metadata": {},
   "source": [
    "#### Thank you so much follow for more"
   ]
  }
 ],
 "metadata": {
  "kernelspec": {
   "display_name": "Python 3 (ipykernel)",
   "language": "python",
   "name": "python3"
  },
  "language_info": {
   "codemirror_mode": {
    "name": "ipython",
    "version": 3
   },
   "file_extension": ".py",
   "mimetype": "text/x-python",
   "name": "python",
   "nbconvert_exporter": "python",
   "pygments_lexer": "ipython3",
   "version": "3.10.8"
  }
 },
 "nbformat": 4,
 "nbformat_minor": 5
}
